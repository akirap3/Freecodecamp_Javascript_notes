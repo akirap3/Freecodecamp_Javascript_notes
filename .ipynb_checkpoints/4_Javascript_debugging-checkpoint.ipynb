{
 "cells": [
  {
   "cell_type": "markdown",
   "metadata": {},
   "source": [
    "## Introduction to the Debugging Challenges"
   ]
  },
  {
   "cell_type": "markdown",
   "metadata": {},
   "source": [
    "- Debugging is the process of finding exactly what isn't working and fixing it\n",
    "- These issues generally come in three forms:\n",
    "    1. syntax errors that prevent a program from running\n",
    "    2. runtime errors when code fails to execute or has unexpected behavior\n",
    "    3. semantic (or logical) errors when code doesn't do what it's meant to."
   ]
  },
  {
   "cell_type": "markdown",
   "metadata": {},
   "source": [
    "- Example of a syntax error - often detected by the code editor:"
   ]
  },
  {
   "cell_type": "code",
   "execution_count": null,
   "metadata": {},
   "outputs": [],
   "source": [
    "funtcion willNotWork( \n",
    "  console.log(\"Yuck\");\n",
    "}\n",
    "// \"function\" keyword is misspelled and there's a missing parenthesis"
   ]
  },
  {
   "cell_type": "markdown",
   "metadata": {},
   "source": [
    "- Here's an example of a runtime error - often detected while the program executes:"
   ]
  },
  {
   "cell_type": "code",
   "execution_count": null,
   "metadata": {},
   "outputs": [],
   "source": [
    "function loopy() {\n",
    "  while(true) {\n",
    "    console.log(\"Hello, world!\");\n",
    "  }\n",
    "}\n",
    "// Calling loopy starts an infinite loop, which may crash your browser"
   ]
  },
  {
   "cell_type": "markdown",
   "metadata": {},
   "source": [
    "- Example of a semantic error - often detected after testing code output:"
   ]
  },
  {
   "cell_type": "code",
   "execution_count": null,
   "metadata": {},
   "outputs": [],
   "source": [
    "function calcAreaOfRect(w, h) {\n",
    "  return w + h; // This should be w * h\n",
    "}\n",
    "let myRectArea = calcAreaOfRect(2, 3);\n",
    "// Correct syntax and the program executes, but this gives the wrong answer"
   ]
  },
  {
   "cell_type": "markdown",
   "metadata": {},
   "source": [
    "### Debugging: Use the JavaScript Console to Check the Value of a Variable"
   ]
  },
  {
   "cell_type": "markdown",
   "metadata": {},
   "source": [
    "- The `console.log()` method, which \"prints\" the output of what's within its parentheses to the console, will likely be the most helpful debugging tool. "
   ]
  },
  {
   "cell_type": "markdown",
   "metadata": {},
   "source": [
    "### Debugging: Understanding the Differences between the freeCodeCamp and Browser Console"
   ]
  },
  {
   "cell_type": "markdown",
   "metadata": {},
   "source": [
    "- `console.clear()` to clear the browser console"
   ]
  },
  {
   "cell_type": "markdown",
   "metadata": {},
   "source": [
    "### Debugging: Use typeof to Check the Type of a Variable"
   ]
  },
  {
   "cell_type": "markdown",
   "metadata": {},
   "source": [
    "- You can use `typeof` to check the data structure, or type, of a variable. This is useful in debugging when working with multiple data types. \n",
    "- Type errors can lurk in calculations or function calls. Be careful especially when you're accessing and working with external data in the form of a JavaScript Object Notation (JSON) object.\n",
    "- JavaScript recognizes six primitive (immutable) data types: `Boolean`, `Null`, `Undefined`, `Number`, `String`, and `Symbol` (new with ES6) and one type for mutable items: `Object`. Note that in JavaScript, arrays are technically a type of object."
   ]
  },
  {
   "cell_type": "markdown",
   "metadata": {},
   "source": [
    "### Debugging: Catch Misspelled Variable and Function Names"
   ]
  },
  {
   "cell_type": "markdown",
   "metadata": {},
   "source": [
    "- One syntax-level issue that fast typers can commiserate with is the humble spelling error.\n",
    "- Transposed, missing, or mis-capitalized characters in a variable or function name will have the browser looking for an object that doesn't exist - and complain in the form of a reference error. \n",
    "- JavaScript variable and function names are case-sensitive."
   ]
  },
  {
   "cell_type": "markdown",
   "metadata": {},
   "source": [
    "### Debugging: Catch Unclosed Parentheses, Brackets, Braces and Quotes"
   ]
  },
  {
   "cell_type": "markdown",
   "metadata": {},
   "source": [
    "- Another syntax error to be aware of is that all opening parentheses, brackets, curly braces, and quotes have a closing pair.\n",
    "- Forgetting a piece tends to happen when you're editing existing code and inserting items with one of the pair types.\n",
    "- Also, take care when nesting code blocks into others, such as adding a callback function as an argument to a method.\n",
    "- One way to avoid this mistake is as soon as the opening character is typed, immediately include the closing match, then move the cursor back between them and continue coding. Fortunately, most modern code editors generate the second half of the pair automatically.\n",
    "- Example:"
   ]
  },
  {
   "cell_type": "code",
   "execution_count": null,
   "metadata": {},
   "outputs": [],
   "source": [
    "let myArray = [1, 2, 3];\n",
    "let arraySum = myArray.reduce((previous, current) =>  previous + current);\n",
    "console.log(`Sum of array values is: ${arraySum}`);"
   ]
  },
  {
   "cell_type": "markdown",
   "metadata": {},
   "source": [
    "### Debugging: Catch Mixed Usage of Single and Double Quotes"
   ]
  },
  {
   "cell_type": "markdown",
   "metadata": {},
   "source": [
    "- JavaScript allows the use of both single (`'`) and double (`\"`) quotes to declare a string. Deciding which one to use generally comes down to personal preference, with some exceptions.\n",
    "- Having two choices is great when a string has contractions or another piece of text that's in quotes. Just be careful that you don't close the string too early, which causes a syntax error.\n",
    "- Example: "
   ]
  },
  {
   "cell_type": "code",
   "execution_count": null,
   "metadata": {},
   "outputs": [],
   "source": [
    "// These are correct:\n",
    "const grouchoContraction = \"I've had a perfectly wonderful evening, but this wasn't it.\";\n",
    "const quoteInString = \"Groucho Marx once said 'Quote me as saying I was mis-quoted.'\";\n",
    "// This is incorrect:\n",
    "const uhOhGroucho = 'I've had a perfectly wonderful evening, but this wasn't it.';"
   ]
  },
  {
   "cell_type": "markdown",
   "metadata": {},
   "source": [
    "- You can escape the quotes inside the string by using the backslash (\\) escape character:"
   ]
  },
  {
   "cell_type": "code",
   "execution_count": null,
   "metadata": {},
   "outputs": [],
   "source": [
    "// Correct use of same quotes:\n",
    "const allSameQuotes = 'I\\'ve had a perfectly wonderful evening, but this wasn\\'t it.';"
   ]
  },
  {
   "cell_type": "markdown",
   "metadata": {},
   "source": [
    "### Debugging: Catch Use of Assignment Operator Instead of Equality Operator"
   ]
  },
  {
   "cell_type": "markdown",
   "metadata": {},
   "source": [
    "- The assignment operator (`=`) in JavaScript assigns a value to a variable name.\n",
    "- And the `==` and `===` operators check for equality (the triple `===` tests for strict equality, meaning both value and type are the same)."
   ]
  },
  {
   "cell_type": "markdown",
   "metadata": {},
   "source": [
    "### Debugging: Catch Missing Open and Closing Parenthesis After a Function Call"
   ]
  },
  {
   "cell_type": "markdown",
   "metadata": {},
   "source": [
    "- When a function or method doesn't take any arguments, you may forget to include the (empty) opening and closing parentheses when calling it.\n",
    "- Example:"
   ]
  },
  {
   "cell_type": "code",
   "execution_count": null,
   "metadata": {},
   "outputs": [],
   "source": [
    "function myFunction() {\n",
    "  return \"You rock!\";\n",
    "}\n",
    "let varOne = myFunction; // set to equal a function\n",
    "let varTwo = myFunction(); // set to equal the string \"You rock!\""
   ]
  },
  {
   "cell_type": "markdown",
   "metadata": {},
   "source": [
    "### Debugging: Catch Arguments Passed in the Wrong Order When Calling a Function"
   ]
  },
  {
   "cell_type": "markdown",
   "metadata": {},
   "source": [
    "- The next bug to watch out for is when a function's arguments are supplied in the incorrect order. \n",
    "- If the arguments are different types, such as a function expecting an array and an integer, this will likely throw a runtime error.\n",
    "- If the arguments are the same type (all integers, for example), then the logic of the code won't make sense.\n",
    "- Make sure to supply all required arguments, in the proper order to avoid these issues."
   ]
  },
  {
   "cell_type": "markdown",
   "metadata": {},
   "source": [
    "### Debugging: Catch Off By One Errors When Using Indexing"
   ]
  },
  {
   "cell_type": "markdown",
   "metadata": {},
   "source": [
    "- Off by one errors (sometimes called OBOE) crop up when you're trying to target a specific index of a string or array (to slice or access a segment), or when looping over the indices of them.\n",
    "- JavaScript indexing starts at zero, not one, which means the last index is always one less than the length of the item.\n",
    "- If you try to access an index equal to the length, the program may throw an \"index out of range\" reference error or print `undefined`.\n",
    "- When you use string or array methods that take index ranges as arguments, it helps to read the documentation and understand if they are inclusive (the item at the given index is part of what's returned) or not.\n",
    "- Here are some examples of off by one errors:"
   ]
  },
  {
   "cell_type": "code",
   "execution_count": null,
   "metadata": {},
   "outputs": [],
   "source": [
    "let alphabet = \"abcdefghijklmnopqrstuvwxyz\";\n",
    "let len = alphabet.length;\n",
    "for (let i = 0; i <= len; i++) {\n",
    "  // loops one too many times at the end\n",
    "  console.log(alphabet[i]);\n",
    "}\n",
    "for (let j = 1; j < len; j++) {\n",
    "  // loops one too few times and misses the first character at index 0\n",
    "  console.log(alphabet[j]);\n",
    "}\n",
    "for (let k = 0; k < len; k++) {\n",
    "  // Goldilocks approves - this is just right\n",
    "  console.log(alphabet[k]);\n",
    "}"
   ]
  },
  {
   "cell_type": "markdown",
   "metadata": {},
   "source": [
    "### Debugging: Use Caution When Reinitializing Variables Inside a Loop"
   ]
  },
  {
   "cell_type": "markdown",
   "metadata": {},
   "source": [
    "- Sometimes it's necessary to save information, increment counters, or re-set variables within a loop.\n",
    "- A potential issue is when variables either should be reinitialized, and aren't, or vice versa.\n",
    "- Printing variable values with each cycle of your loop by using console.log() can uncover buggy behavior related to resetting, or failing to reset a variable.\n",
    "- Example : "
   ]
  },
  {
   "cell_type": "code",
   "execution_count": null,
   "metadata": {},
   "outputs": [],
   "source": [
    "function zeroArray(m, n) {\n",
    "  // Creates a 2-D array with m rows and n columns of zeroes\n",
    "  let newArray = [];\n",
    "  for (let i = 0; i < m; i++) {\n",
    "    // Adds the m-th row into newArray\n",
    "     let row = [];\n",
    "    for (let j = 0; j < n; j++) {\n",
    "      // Pushes n zeroes into the current row to create the columns\n",
    "      row.push(0);\n",
    "    }\n",
    "    // Pushes the current row, which now has n zeroes in it, to the array\n",
    "    newArray.push(row);\n",
    "  }\n",
    "  return newArray;\n",
    "}\n",
    "\n",
    "let matrix = zeroArray(3, 2);\n",
    "console.log(matrix);"
   ]
  },
  {
   "cell_type": "markdown",
   "metadata": {},
   "source": [
    "### Debugging: Prevent Infinite Loops with a Valid Terminal Condition"
   ]
  },
  {
   "cell_type": "markdown",
   "metadata": {},
   "source": [
    "- Loops are great tools when you need your program to run a code block a certain number of times or until a condition is met, but they need a terminal condition that ends the looping. \n",
    "- Infinite loops are likely to freeze or crash the browser, and cause general program execution mayhem, which no one wants.\n",
    "- It's the programmer's job to ensure that the terminal condition, which tells the program when to break out of the loop code, is eventually reached. \n",
    "- One error is incrementing or decrementing a counter variable in the wrong direction from the terminal condition.\n",
    "- Another one is accidentally resetting a counter or index variable within the loop code, instead of incrementing or decrementing it."
   ]
  }
 ],
 "metadata": {
  "kernelspec": {
   "display_name": "Python 3",
   "language": "python",
   "name": "python3"
  },
  "language_info": {
   "codemirror_mode": {
    "name": "ipython",
    "version": 3
   },
   "file_extension": ".py",
   "mimetype": "text/x-python",
   "name": "python",
   "nbconvert_exporter": "python",
   "pygments_lexer": "ipython3",
   "version": "3.7.4"
  }
 },
 "nbformat": 4,
 "nbformat_minor": 2
}
