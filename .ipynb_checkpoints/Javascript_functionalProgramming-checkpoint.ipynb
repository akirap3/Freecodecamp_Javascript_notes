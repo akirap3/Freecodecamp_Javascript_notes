{
 "cells": [
  {
   "cell_type": "markdown",
   "metadata": {},
   "source": [
    "### Introduction to the Functional Programming Challenges"
   ]
  },
  {
   "cell_type": "markdown",
   "metadata": {},
   "source": [
    "- Functional programming is an approach to software development based around the evaluation of functions. Like mathematics, functions in programming map input to output to produce a result. You can combine basic functions in many ways to build more and more complex programs.\n",
    "- Functional programming follows a few core principles:\n",
    "    - Functions are independent from the state of the program or global variables. They only depend on the arguments passed into them to make a calculation\n",
    "    - Functions try to limit any changes to the state of the program and avoid changes to the global objects holding data\n",
    "    - Functions have minimal side effects in the program\n",
    "- The functional programming software development approach breaks a program into small, testable parts."
   ]
  },
  {
   "cell_type": "markdown",
   "metadata": {},
   "source": [
    "### Functional Programming: Learn About Functional Programming"
   ]
  },
  {
   "cell_type": "markdown",
   "metadata": {},
   "source": [
    "- Functional programming is a style of programming where solutions are simple, isolated functions, without any side effects outside of the function scope.\n",
    "\n",
    "    `INPUT -> PROCESS -> OUTPUT`\n",
    "\n",
    "- Functional programming is about:\n",
    "\n",
    "    1. Isolated functions - there is no dependence on the state of the program, which includes global variables that are subject to change\n",
    "\n",
    "    2. Pure functions - the same input always gives the same output\n",
    "\n",
    "    3. Functions with limited side effects - any changes, or mutations, to the state of the program outside the function are carefully controlled"
   ]
  },
  {
   "cell_type": "markdown",
   "metadata": {},
   "source": [
    "- the prepareTea and getTea functions are already defined for you. Call the getTea function to get 40 cups of tea for the team, and store them in the tea4TeamFCC variable."
   ]
  },
  {
   "cell_type": "code",
   "execution_count": null,
   "metadata": {},
   "outputs": [],
   "source": [
    "// Function that returns a string representing a cup of green tea\n",
    "const prepareTea = () => 'greenTea';\n",
    "\n",
    "/*\n",
    "Given a function (representing the tea type) and number of cups needed, the\n",
    "following function returns an array of strings (each representing a cup of\n",
    "a specific type of tea).\n",
    "*/\n",
    "const getTea = (numOfCups) => {\n",
    "  const teaCups = [];\n",
    "\n",
    "  for(let cups = 1; cups <= numOfCups; cups += 1) {\n",
    "    const teaCup = prepareTea();\n",
    "    teaCups.push(teaCup);\n",
    "  }\n",
    "  return teaCups;\n",
    "};\n",
    "\n",
    "\n",
    "const tea4TeamFCC = getTea(40);"
   ]
  },
  {
   "cell_type": "markdown",
   "metadata": {},
   "source": [
    "### Functional Programming: Understand Functional Programming Terminology"
   ]
  },
  {
   "cell_type": "markdown",
   "metadata": {},
   "source": [
    "- Callbacks are the functions that are slipped or passed into another function to decide the invocation of that function. You may have seen them passed to other methods, for example in `filter`, the callback function tells JavaScript the criteria for how to filter an array.\n",
    "\n",
    "- Functions that can be assigned to a variable, passed into another function, or returned from another function just like any other normal value, are called <i>__first class functions__</i>. In JavaScript, all functions are first class functions.\n",
    "\n",
    "- The functions that take a function as an argument, or return a function as a return value are called <i>__higher order functions__</i>.\n",
    "\n",
    "- When the functions are passed in to another function or returned from another function, then those functions which gets passed in or returned can be called a <i><b>lambda</b></i>."
   ]
  },
  {
   "cell_type": "code",
   "execution_count": null,
   "metadata": {},
   "outputs": [],
   "source": [
    "// Function that returns a string representing a cup of green tea\n",
    "const prepareGreenTea = () => 'greenTea';\n",
    "\n",
    "// Function that returns a string representing a cup of black tea\n",
    "const prepareBlackTea = () => 'blackTea';\n",
    "\n",
    "/*\n",
    "Given a function (representing the tea type) and number of cups needed, the\n",
    "following function returns an array of strings (each representing a cup of\n",
    "a specific type of tea).\n",
    "*/\n",
    "const getTea = (prepareTea, numOfCups) => {\n",
    "  const teaCups = [];\n",
    "\n",
    "  for(let cups = 1; cups <= numOfCups; cups += 1) {\n",
    "    const teaCup = prepareTea();\n",
    "    teaCups.push(teaCup);\n",
    "  }\n",
    "  return teaCups;\n",
    "};\n",
    "\n",
    "// Only change code below this line\n",
    "const tea4GreenTeamFCC = getTea(prepareGreenTea,27);\n",
    "const tea4BlackTeamFCC = getTea(prepareBlackTea,13);\n",
    "// Only change code above this line\n",
    "\n",
    "console.log(\n",
    "  tea4GreenTeamFCC,\n",
    "  tea4BlackTeamFCC\n",
    ");\n"
   ]
  },
  {
   "cell_type": "code",
   "execution_count": null,
   "metadata": {},
   "outputs": [],
   "source": []
  },
  {
   "cell_type": "code",
   "execution_count": null,
   "metadata": {},
   "outputs": [],
   "source": []
  },
  {
   "cell_type": "code",
   "execution_count": null,
   "metadata": {},
   "outputs": [],
   "source": []
  },
  {
   "cell_type": "code",
   "execution_count": null,
   "metadata": {},
   "outputs": [],
   "source": []
  },
  {
   "cell_type": "code",
   "execution_count": null,
   "metadata": {},
   "outputs": [],
   "source": []
  },
  {
   "cell_type": "code",
   "execution_count": null,
   "metadata": {},
   "outputs": [],
   "source": []
  },
  {
   "cell_type": "code",
   "execution_count": null,
   "metadata": {},
   "outputs": [],
   "source": []
  },
  {
   "cell_type": "code",
   "execution_count": null,
   "metadata": {},
   "outputs": [],
   "source": []
  },
  {
   "cell_type": "code",
   "execution_count": null,
   "metadata": {},
   "outputs": [],
   "source": []
  },
  {
   "cell_type": "code",
   "execution_count": null,
   "metadata": {},
   "outputs": [],
   "source": []
  },
  {
   "cell_type": "code",
   "execution_count": null,
   "metadata": {},
   "outputs": [],
   "source": []
  },
  {
   "cell_type": "code",
   "execution_count": null,
   "metadata": {},
   "outputs": [],
   "source": []
  },
  {
   "cell_type": "code",
   "execution_count": null,
   "metadata": {},
   "outputs": [],
   "source": []
  },
  {
   "cell_type": "code",
   "execution_count": null,
   "metadata": {},
   "outputs": [],
   "source": []
  },
  {
   "cell_type": "code",
   "execution_count": null,
   "metadata": {},
   "outputs": [],
   "source": []
  },
  {
   "cell_type": "code",
   "execution_count": null,
   "metadata": {},
   "outputs": [],
   "source": []
  },
  {
   "cell_type": "code",
   "execution_count": null,
   "metadata": {},
   "outputs": [],
   "source": []
  },
  {
   "cell_type": "code",
   "execution_count": null,
   "metadata": {},
   "outputs": [],
   "source": []
  },
  {
   "cell_type": "code",
   "execution_count": null,
   "metadata": {},
   "outputs": [],
   "source": []
  },
  {
   "cell_type": "code",
   "execution_count": null,
   "metadata": {},
   "outputs": [],
   "source": []
  },
  {
   "cell_type": "code",
   "execution_count": null,
   "metadata": {},
   "outputs": [],
   "source": []
  },
  {
   "cell_type": "code",
   "execution_count": null,
   "metadata": {},
   "outputs": [],
   "source": []
  },
  {
   "cell_type": "code",
   "execution_count": null,
   "metadata": {},
   "outputs": [],
   "source": []
  },
  {
   "cell_type": "code",
   "execution_count": null,
   "metadata": {},
   "outputs": [],
   "source": []
  },
  {
   "cell_type": "code",
   "execution_count": null,
   "metadata": {},
   "outputs": [],
   "source": []
  },
  {
   "cell_type": "code",
   "execution_count": null,
   "metadata": {},
   "outputs": [],
   "source": []
  },
  {
   "cell_type": "code",
   "execution_count": null,
   "metadata": {},
   "outputs": [],
   "source": []
  },
  {
   "cell_type": "code",
   "execution_count": null,
   "metadata": {},
   "outputs": [],
   "source": []
  },
  {
   "cell_type": "code",
   "execution_count": null,
   "metadata": {},
   "outputs": [],
   "source": []
  },
  {
   "cell_type": "code",
   "execution_count": null,
   "metadata": {},
   "outputs": [],
   "source": []
  },
  {
   "cell_type": "code",
   "execution_count": null,
   "metadata": {},
   "outputs": [],
   "source": []
  }
 ],
 "metadata": {
  "kernelspec": {
   "display_name": "Python 3",
   "language": "python",
   "name": "python3"
  },
  "language_info": {
   "codemirror_mode": {
    "name": "ipython",
    "version": 3
   },
   "file_extension": ".py",
   "mimetype": "text/x-python",
   "name": "python",
   "nbconvert_exporter": "python",
   "pygments_lexer": "ipython3",
   "version": "3.7.4"
  }
 },
 "nbformat": 4,
 "nbformat_minor": 2
}
