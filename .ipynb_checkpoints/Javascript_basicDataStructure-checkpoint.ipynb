{
 "cells": [
  {
   "cell_type": "markdown",
   "metadata": {},
   "source": [
    "### Basic Data Structures: Use an Array to Store a Collection of Data"
   ]
  },
  {
   "cell_type": "markdown",
   "metadata": {},
   "source": [
    "- The below is an example of the simplest implementation of an array data structure. This is known as a one-dimensional array, meaning it only has one level, or that it does not have any other arrays nested within it. "
   ]
  },
  {
   "cell_type": "code",
   "execution_count": null,
   "metadata": {},
   "outputs": [],
   "source": [
    "let simpleArray = ['one', 2, 'three', true, false, undefined, null];\n",
    "console.log(simpleArray.length);\n",
    "// logs 7"
   ]
  },
  {
   "cell_type": "markdown",
   "metadata": {},
   "source": [
    "- A more complex implementation of an array can be seen below. This is known as a multi-dimensional array, or an array that contains other arrays. "
   ]
  },
  {
   "cell_type": "code",
   "execution_count": null,
   "metadata": {},
   "outputs": [],
   "source": [
    "let complexArray = [\n",
    "  [\n",
    "    {\n",
    "      one: 1,\n",
    "      two: 2\n",
    "    },\n",
    "    {\n",
    "      three: 3,\n",
    "      four: 4\n",
    "    }\n",
    "  ],\n",
    "  [\n",
    "    {\n",
    "      a: \"a\",\n",
    "      b: \"b\"\n",
    "    },\n",
    "    {\n",
    "      c: \"c\",\n",
    "      d: \"d\"\n",
    "    }\n",
    "  ]\n",
    "];"
   ]
  },
  {
   "cell_type": "markdown",
   "metadata": {},
   "source": [
    "### Basic Data Structures: Access an Array's Contents Using Bracket Notation"
   ]
  },
  {
   "cell_type": "markdown",
   "metadata": {},
   "source": [
    "- JavaScript arrays are zero-indexed, meaning that the first element of an array is actually at the zeroth position.\n",
    "- In order to retrieve an element from an array we can enclose an index in brackets and append it to the end of an array, or more commonly, to a variable which references an array object. This is known as bracket notation."
   ]
  },
  {
   "cell_type": "markdown",
   "metadata": {},
   "source": [
    "### Basic Data Structures: Add Items to an Array with push() and unshift()"
   ]
  },
  {
   "cell_type": "markdown",
   "metadata": {},
   "source": [
    "- Arrays are mutable\n",
    "- The `push()` method adds elements to the end of an array, and `unshift()` adds elements to the beginning."
   ]
  },
  {
   "cell_type": "code",
   "execution_count": null,
   "metadata": {},
   "outputs": [],
   "source": [
    "let twentyThree = 'XXIII';\n",
    "let romanNumerals = ['XXI', 'XXII'];\n",
    "\n",
    "romanNumerals.unshift('XIX', 'XX');\n",
    "// now equals ['XIX', 'XX', 'XXI', 'XXII']\n",
    "\n",
    "romanNumerals.push(twentyThree);\n",
    "// now equals ['XIX', 'XX', 'XXI', 'XXII', 'XXIII']\n",
    "//Notice that we can also pass variables,\n",
    "//which allows us even greater flexibility in dynamically modifying our array's data."
   ]
  },
  {
   "cell_type": "markdown",
   "metadata": {},
   "source": [
    "### Basic Data Structures: Remove Items from an Array with pop() and shift()"
   ]
  },
  {
   "cell_type": "markdown",
   "metadata": {},
   "source": [
    "- `pop()` removes an element from the end of an array, while `shift()` removes an element from the beginning. \n",
    "- Example:"
   ]
  },
  {
   "cell_type": "code",
   "execution_count": null,
   "metadata": {},
   "outputs": [],
   "source": [
    "let greetings = ['whats up?', 'hello', 'see ya!'];\n",
    "\n",
    "greetings.pop();\n",
    "// now equals ['whats up?', 'hello']\n",
    "\n",
    "greetings.shift();\n",
    "// now equals ['hello']\n",
    "\n",
    "let popped = greetings.pop();\n",
    "// returns 'hello'\n",
    "// greetings now equals []"
   ]
  },
  {
   "cell_type": "markdown",
   "metadata": {},
   "source": [
    "### Basic Data Structures: Remove Items Using splice()"
   ]
  },
  {
   "cell_type": "markdown",
   "metadata": {},
   "source": [
    "-  `splice()` allows us to do just that: remove any number of consecutive elements from anywhere in an array.\n",
    "- `splice()` can take up to 3 parameters, but for now, we'll focus on just the first 2.\n",
    "- `splice()`'s first parameter represents the index on the array from which to begin removing elements, while the second parameter indicates the number of elements to delete.\n",
    "- Example:"
   ]
  },
  {
   "cell_type": "code",
   "execution_count": null,
   "metadata": {},
   "outputs": [],
   "source": [
    "let array = ['today', 'was', 'not', 'so', 'great'];\n",
    "\n",
    "array.splice(2, 2);\n",
    "// remove 2 elements beginning with the 3rd element\n",
    "// array now equals ['today', 'was', 'great']\n",
    "\n",
    "let newArray = array.splice(3, 2);\n",
    "// newArray equals ['not', 'so']"
   ]
  },
  {
   "cell_type": "markdown",
   "metadata": {},
   "source": [
    "### Basic Data Structures: Add Items Using splice()"
   ]
  },
  {
   "cell_type": "markdown",
   "metadata": {},
   "source": [
    "- you can use the third parameter, comprised of one or more element(s), to add to the array. This can be incredibly useful for quickly switching out an element, or a set of elements, for another.\n",
    "- Example: \n",
    "- Note that there can be any number of elements (separated by commas) following `amountToDelete`, each of which gets inserted."
   ]
  },
  {
   "cell_type": "code",
   "execution_count": null,
   "metadata": {},
   "outputs": [],
   "source": [
    "const numbers = [10, 11, 12, 12, 15];\n",
    "const startIndex = 3;\n",
    "const amountToDelete = 1;\n",
    "\n",
    "numbers.splice(startIndex, amountToDelete, 13, 14);\n",
    "// the second entry of 12 is removed, and we add 13 and 14 at the same index\n",
    "console.log(numbers);\n",
    "// returns [ 10, 11, 12, 13, 14, 15 ]"
   ]
  },
  {
   "cell_type": "markdown",
   "metadata": {},
   "source": [
    "### Basic Data Structures: Copy Array Items Using slice()"
   ]
  },
  {
   "cell_type": "markdown",
   "metadata": {},
   "source": [
    "- `slice()`, rather than modifying an array, copies, or extracts, a given number of elements to a new array, leaving the array it is called upon untouched.\n",
    "- `slice()` takes only 2 parameters — the first is the index at which to begin extraction, and the second is the index at which to stop extraction (extraction will occur up to, but not including the element at this index).\n",
    "- Example:"
   ]
  },
  {
   "cell_type": "code",
   "execution_count": null,
   "metadata": {},
   "outputs": [],
   "source": [
    "let weatherConditions = ['rain', 'snow', 'sleet', 'hail', 'clear'];\n",
    "\n",
    "let todaysWeather = weatherConditions.slice(1, 3);\n",
    "// todaysWeather equals ['snow', 'sleet'];\n",
    "// weatherConditions still equals ['rain', 'snow', 'sleet', 'hail', 'clear']"
   ]
  },
  {
   "cell_type": "markdown",
   "metadata": {},
   "source": [
    "### Basic Data Structures: Copy an Array with the Spread Operator"
   ]
  },
  {
   "cell_type": "markdown",
   "metadata": {},
   "source": [
    "- ES6's new spread operator allows us to easily copy all of an array's elements, in order, with a simple and highly readable syntax. The spread syntax simply looks like this: `...`"
   ]
  },
  {
   "cell_type": "markdown",
   "metadata": {},
   "source": [
    "- Example 1:"
   ]
  },
  {
   "cell_type": "code",
   "execution_count": null,
   "metadata": {},
   "outputs": [],
   "source": [
    "let thisArray = [true, true, undefined, false, null];\n",
    "let thatArray = [...thisArray];\n",
    "// thatArray equals [true, true, undefined, false, null]\n",
    "// thisArray remains unchanged, and is identical to thatArray"
   ]
  },
  {
   "cell_type": "markdown",
   "metadata": {},
   "source": [
    "- Eaxmple 2:"
   ]
  },
  {
   "cell_type": "code",
   "execution_count": null,
   "metadata": {},
   "outputs": [],
   "source": [
    "function copyMachine(arr, num) {\n",
    "  let newArr = [];\n",
    "  while (num >= 1) {\n",
    "    // Only change code below this line\n",
    "    newArr.push([...arr]);\n",
    "    // Only change code above this line\n",
    "    num--;\n",
    "  }\n",
    "  return newArr;\n",
    "}\n",
    "\n",
    "console.log(copyMachine([true, false, true], 2));"
   ]
  },
  {
   "cell_type": "markdown",
   "metadata": {},
   "source": [
    "### Basic Data Structures: Combine Arrays with the Spread Operator"
   ]
  },
  {
   "cell_type": "markdown",
   "metadata": {},
   "source": [
    "- Another huge advantage of the spread operator, is the ability to combine arrays, or to insert all the elements of one array into another, at any index. \n",
    "- With more traditional syntaxes, we can concatenate arrays, but this only allows us to combine arrays at the end of one, and at the start of another. \n",
    "- Example:"
   ]
  },
  {
   "cell_type": "code",
   "execution_count": null,
   "metadata": {},
   "outputs": [],
   "source": [
    "let thisArray = ['sage', 'rosemary', 'parsley', 'thyme'];\n",
    "\n",
    "let thatArray = ['basil', 'cilantro', ...thisArray, 'coriander'];\n",
    "// thatArray now equals ['basil', 'cilantro', 'sage', 'rosemary', 'parsley', 'thyme', 'coriander']"
   ]
  },
  {
   "cell_type": "markdown",
   "metadata": {},
   "source": [
    "### Basic Data Structures: Check For The Presence of an Element With indexOf()"
   ]
  },
  {
   "cell_type": "markdown",
   "metadata": {},
   "source": [
    "- Since arrays can be changed, or mutated, at any time, there's no guarantee about where a particular piece of data will be on a given array, or if that element even still exists. \n",
    "- `indexOf()`, that allows us to quickly and easily check for the presence of an element on an array.\n",
    "- `indexOf()` takes an element as a parameter, and when called, it returns the position, or index, of that element, or `-1` if the element does not exist on the array.\n",
    "- Example 1:"
   ]
  },
  {
   "cell_type": "code",
   "execution_count": null,
   "metadata": {},
   "outputs": [],
   "source": [
    "let fruits = ['apples', 'pears', 'oranges', 'peaches', 'pears'];\n",
    "\n",
    "fruits.indexOf('dates'); // returns -1\n",
    "fruits.indexOf('oranges'); // returns 2\n",
    "fruits.indexOf('pears'); // returns 1, the first index at which the element exists"
   ]
  },
  {
   "cell_type": "markdown",
   "metadata": {},
   "source": [
    "- Example 2: `indexOf()` can be incredibly useful for quickly checking for the presence of an element on an array. We have defined a function, `quickCheck`, that takes an array and an element as arguments. Modify the function using `indexOf()` so that it returns `true` if the passed element exists on the array, and `false` if it does not."
   ]
  },
  {
   "cell_type": "markdown",
   "metadata": {},
   "source": [
    "#### Solution 1:"
   ]
  },
  {
   "cell_type": "code",
   "execution_count": null,
   "metadata": {},
   "outputs": [],
   "source": [
    "function quickCheck(arr, elem) {\n",
    "  if (arr.indexOf(elem) >= 0) {\n",
    "    return true;\n",
    "  }\n",
    "  return false;\n",
    "}\n",
    "console.log(quickCheck([\"squash\", \"onions\", \"shallots\"], \"mushrooms\"));"
   ]
  },
  {
   "cell_type": "markdown",
   "metadata": {},
   "source": [
    "#### Solution 2:"
   ]
  },
  {
   "cell_type": "code",
   "execution_count": null,
   "metadata": {},
   "outputs": [],
   "source": [
    "function quickCheck(arr, elem) {\n",
    "  return arr.indexOf(elem) >= 0 ? true : false;\n",
    "}\n",
    "console.log(quickCheck([\"squash\", \"onions\", \"shallots\"], \"mushrooms\"));"
   ]
  },
  {
   "cell_type": "markdown",
   "metadata": {},
   "source": [
    "#### Solution 3:"
   ]
  },
  {
   "cell_type": "code",
   "execution_count": null,
   "metadata": {},
   "outputs": [],
   "source": [
    "function quickCheck(arr, elem) {\n",
    "  return arr.indexOf(elem) != -1;\n",
    "}\n",
    "console.log(quickCheck([\"squash\", \"onions\", \"shallots\"], \"mushrooms\"));"
   ]
  },
  {
   "cell_type": "code",
   "execution_count": null,
   "metadata": {},
   "outputs": [],
   "source": []
  }
 ],
 "metadata": {
  "kernelspec": {
   "display_name": "Python 3",
   "language": "python",
   "name": "python3"
  },
  "language_info": {
   "codemirror_mode": {
    "name": "ipython",
    "version": 3
   },
   "file_extension": ".py",
   "mimetype": "text/x-python",
   "name": "python",
   "nbconvert_exporter": "python",
   "pygments_lexer": "ipython3",
   "version": "3.7.4"
  }
 },
 "nbformat": 4,
 "nbformat_minor": 2
}
