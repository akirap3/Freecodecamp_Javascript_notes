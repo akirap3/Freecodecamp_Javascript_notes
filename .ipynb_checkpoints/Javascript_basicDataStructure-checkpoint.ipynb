{
 "cells": [
  {
   "cell_type": "markdown",
   "metadata": {},
   "source": [
    "### Basic Data Structures: Use an Array to Store a Collection of Data"
   ]
  },
  {
   "cell_type": "markdown",
   "metadata": {},
   "source": [
    "- The below is an example of the simplest implementation of an array data structure. This is known as a one-dimensional array, meaning it only has one level, or that it does not have any other arrays nested within it. "
   ]
  },
  {
   "cell_type": "code",
   "execution_count": null,
   "metadata": {},
   "outputs": [],
   "source": [
    "let simpleArray = ['one', 2, 'three', true, false, undefined, null];\n",
    "console.log(simpleArray.length);\n",
    "// logs 7"
   ]
  },
  {
   "cell_type": "markdown",
   "metadata": {},
   "source": [
    "- A more complex implementation of an array can be seen below. This is known as a multi-dimensional array, or an array that contains other arrays. "
   ]
  },
  {
   "cell_type": "code",
   "execution_count": null,
   "metadata": {},
   "outputs": [],
   "source": [
    "let complexArray = [\n",
    "  [\n",
    "    {\n",
    "      one: 1,\n",
    "      two: 2\n",
    "    },\n",
    "    {\n",
    "      three: 3,\n",
    "      four: 4\n",
    "    }\n",
    "  ],\n",
    "  [\n",
    "    {\n",
    "      a: \"a\",\n",
    "      b: \"b\"\n",
    "    },\n",
    "    {\n",
    "      c: \"c\",\n",
    "      d: \"d\"\n",
    "    }\n",
    "  ]\n",
    "];"
   ]
  },
  {
   "cell_type": "markdown",
   "metadata": {},
   "source": [
    "### Basic Data Structures: Access an Array's Contents Using Bracket Notation"
   ]
  },
  {
   "cell_type": "markdown",
   "metadata": {},
   "source": [
    "- JavaScript arrays are zero-indexed, meaning that the first element of an array is actually at the zeroth position.\n",
    "- In order to retrieve an element from an array we can enclose an index in brackets and append it to the end of an array, or more commonly, to a variable which references an array object. This is known as bracket notation."
   ]
  },
  {
   "cell_type": "markdown",
   "metadata": {},
   "source": [
    "### Basic Data Structures: Add Items to an Array with push() and unshift()"
   ]
  },
  {
   "cell_type": "markdown",
   "metadata": {},
   "source": [
    "- Arrays are mutable\n",
    "- The `push()` method adds elements to the end of an array, and `unshift()` adds elements to the beginning."
   ]
  },
  {
   "cell_type": "code",
   "execution_count": null,
   "metadata": {},
   "outputs": [],
   "source": [
    "let twentyThree = 'XXIII';\n",
    "let romanNumerals = ['XXI', 'XXII'];\n",
    "\n",
    "romanNumerals.unshift('XIX', 'XX');\n",
    "// now equals ['XIX', 'XX', 'XXI', 'XXII']\n",
    "\n",
    "romanNumerals.push(twentyThree);\n",
    "// now equals ['XIX', 'XX', 'XXI', 'XXII', 'XXIII']\n",
    "//Notice that we can also pass variables,\n",
    "//which allows us even greater flexibility in dynamically modifying our array's data."
   ]
  },
  {
   "cell_type": "markdown",
   "metadata": {},
   "source": [
    "### Basic Data Structures: Remove Items from an Array with pop() and shift()"
   ]
  },
  {
   "cell_type": "markdown",
   "metadata": {},
   "source": [
    "- `pop()` removes an element from the end of an array, while `shift()` removes an element from the beginning. \n",
    "- Example:"
   ]
  },
  {
   "cell_type": "code",
   "execution_count": null,
   "metadata": {},
   "outputs": [],
   "source": [
    "let greetings = ['whats up?', 'hello', 'see ya!'];\n",
    "\n",
    "greetings.pop();\n",
    "// now equals ['whats up?', 'hello']\n",
    "\n",
    "greetings.shift();\n",
    "// now equals ['hello']\n",
    "\n",
    "let popped = greetings.pop();\n",
    "// returns 'hello'\n",
    "// greetings now equals []"
   ]
  },
  {
   "cell_type": "markdown",
   "metadata": {},
   "source": [
    "### Basic Data Structures: Remove Items Using splice()"
   ]
  },
  {
   "cell_type": "markdown",
   "metadata": {},
   "source": [
    "-  `splice()` allows us to do just that: remove any number of consecutive elements from anywhere in an array.\n",
    "- `splice()` can take up to 3 parameters, but for now, we'll focus on just the first 2.\n",
    "- `splice()`'s first parameter represents the index on the array from which to begin removing elements, while the second parameter indicates the number of elements to delete.\n",
    "- Example:"
   ]
  },
  {
   "cell_type": "code",
   "execution_count": null,
   "metadata": {},
   "outputs": [],
   "source": [
    "let array = ['today', 'was', 'not', 'so', 'great'];\n",
    "\n",
    "array.splice(2, 2);\n",
    "// remove 2 elements beginning with the 3rd element\n",
    "// array now equals ['today', 'was', 'great']\n",
    "\n",
    "let newArray = array.splice(3, 2);\n",
    "// newArray equals ['not', 'so']"
   ]
  },
  {
   "cell_type": "markdown",
   "metadata": {},
   "source": [
    "### Basic Data Structures: Add Items Using splice()"
   ]
  },
  {
   "cell_type": "markdown",
   "metadata": {},
   "source": [
    "- you can use the third parameter, comprised of one or more element(s), to add to the array. This can be incredibly useful for quickly switching out an element, or a set of elements, for another.\n",
    "- Example: \n",
    "- Note that there can be any number of elements (separated by commas) following `amountToDelete`, each of which gets inserted."
   ]
  },
  {
   "cell_type": "code",
   "execution_count": null,
   "metadata": {},
   "outputs": [],
   "source": [
    "const numbers = [10, 11, 12, 12, 15];\n",
    "const startIndex = 3;\n",
    "const amountToDelete = 1;\n",
    "\n",
    "numbers.splice(startIndex, amountToDelete, 13, 14);\n",
    "// the second entry of 12 is removed, and we add 13 and 14 at the same index\n",
    "console.log(numbers);\n",
    "// returns [ 10, 11, 12, 13, 14, 15 ]"
   ]
  },
  {
   "cell_type": "markdown",
   "metadata": {},
   "source": [
    "### Basic Data Structures: Copy Array Items Using slice()"
   ]
  },
  {
   "cell_type": "markdown",
   "metadata": {},
   "source": [
    "- `slice()`, rather than modifying an array, copies, or extracts, a given number of elements to a new array, leaving the array it is called upon untouched.\n",
    "- `slice()` takes only 2 parameters — the first is the index at which to begin extraction, and the second is the index at which to stop extraction (extraction will occur up to, but not including the element at this index).\n",
    "- Example:"
   ]
  },
  {
   "cell_type": "code",
   "execution_count": null,
   "metadata": {},
   "outputs": [],
   "source": [
    "let weatherConditions = ['rain', 'snow', 'sleet', 'hail', 'clear'];\n",
    "\n",
    "let todaysWeather = weatherConditions.slice(1, 3);\n",
    "// todaysWeather equals ['snow', 'sleet'];\n",
    "// weatherConditions still equals ['rain', 'snow', 'sleet', 'hail', 'clear']"
   ]
  },
  {
   "cell_type": "markdown",
   "metadata": {},
   "source": [
    "### Basic Data Structures: Copy an Array with the Spread Operator"
   ]
  },
  {
   "cell_type": "markdown",
   "metadata": {},
   "source": [
    "- ES6's new spread operator allows us to easily copy all of an array's elements, in order, with a simple and highly readable syntax. The spread syntax simply looks like this: `...`"
   ]
  },
  {
   "cell_type": "markdown",
   "metadata": {},
   "source": [
    "- Example 1:"
   ]
  },
  {
   "cell_type": "code",
   "execution_count": null,
   "metadata": {},
   "outputs": [],
   "source": [
    "let thisArray = [true, true, undefined, false, null];\n",
    "let thatArray = [...thisArray];\n",
    "// thatArray equals [true, true, undefined, false, null]\n",
    "// thisArray remains unchanged, and is identical to thatArray"
   ]
  },
  {
   "cell_type": "markdown",
   "metadata": {},
   "source": [
    "- Eaxmple 2:"
   ]
  },
  {
   "cell_type": "code",
   "execution_count": null,
   "metadata": {},
   "outputs": [],
   "source": [
    "function copyMachine(arr, num) {\n",
    "  let newArr = [];\n",
    "  while (num >= 1) {\n",
    "    // Only change code below this line\n",
    "    newArr.push([...arr]);\n",
    "    // Only change code above this line\n",
    "    num--;\n",
    "  }\n",
    "  return newArr;\n",
    "}\n",
    "\n",
    "console.log(copyMachine([true, false, true], 2));"
   ]
  },
  {
   "cell_type": "markdown",
   "metadata": {},
   "source": [
    "### Basic Data Structures: Combine Arrays with the Spread Operator"
   ]
  },
  {
   "cell_type": "markdown",
   "metadata": {},
   "source": [
    "- Another huge advantage of the spread operator, is the ability to combine arrays, or to insert all the elements of one array into another, at any index. \n",
    "- With more traditional syntaxes, we can concatenate arrays, but this only allows us to combine arrays at the end of one, and at the start of another. \n",
    "- Example:"
   ]
  },
  {
   "cell_type": "code",
   "execution_count": null,
   "metadata": {},
   "outputs": [],
   "source": [
    "let thisArray = ['sage', 'rosemary', 'parsley', 'thyme'];\n",
    "\n",
    "let thatArray = ['basil', 'cilantro', ...thisArray, 'coriander'];\n",
    "// thatArray now equals ['basil', 'cilantro', 'sage', 'rosemary', 'parsley', 'thyme', 'coriander']"
   ]
  },
  {
   "cell_type": "markdown",
   "metadata": {},
   "source": [
    "### Basic Data Structures: Check For The Presence of an Element With indexOf()"
   ]
  },
  {
   "cell_type": "markdown",
   "metadata": {},
   "source": [
    "- Since arrays can be changed, or mutated, at any time, there's no guarantee about where a particular piece of data will be on a given array, or if that element even still exists. \n",
    "- `indexOf()`, that allows us to quickly and easily check for the presence of an element on an array.\n",
    "- `indexOf()` takes an element as a parameter, and when called, it returns the position, or index, of that element, or `-1` if the element does not exist on the array.\n",
    "- Example 1:"
   ]
  },
  {
   "cell_type": "code",
   "execution_count": null,
   "metadata": {},
   "outputs": [],
   "source": [
    "let fruits = ['apples', 'pears', 'oranges', 'peaches', 'pears'];\n",
    "\n",
    "fruits.indexOf('dates'); // returns -1\n",
    "fruits.indexOf('oranges'); // returns 2\n",
    "fruits.indexOf('pears'); // returns 1, the first index at which the element exists"
   ]
  },
  {
   "cell_type": "markdown",
   "metadata": {},
   "source": [
    "- Example 2: `indexOf()` can be incredibly useful for quickly checking for the presence of an element on an array. We have defined a function, `quickCheck`, that takes an array and an element as arguments. Modify the function using `indexOf()` so that it returns `true` if the passed element exists on the array, and `false` if it does not."
   ]
  },
  {
   "cell_type": "markdown",
   "metadata": {},
   "source": [
    "#### Solution 1:"
   ]
  },
  {
   "cell_type": "code",
   "execution_count": null,
   "metadata": {},
   "outputs": [],
   "source": [
    "function quickCheck(arr, elem) {\n",
    "  if (arr.indexOf(elem) >= 0) {\n",
    "    return true;\n",
    "  }\n",
    "  return false;\n",
    "}\n",
    "console.log(quickCheck([\"squash\", \"onions\", \"shallots\"], \"mushrooms\"));"
   ]
  },
  {
   "cell_type": "markdown",
   "metadata": {},
   "source": [
    "#### Solution 2:"
   ]
  },
  {
   "cell_type": "code",
   "execution_count": null,
   "metadata": {},
   "outputs": [],
   "source": [
    "function quickCheck(arr, elem) {\n",
    "  return arr.indexOf(elem) >= 0 ? true : false;\n",
    "}\n",
    "console.log(quickCheck([\"squash\", \"onions\", \"shallots\"], \"mushrooms\"));"
   ]
  },
  {
   "cell_type": "markdown",
   "metadata": {},
   "source": [
    "#### Solution 3:"
   ]
  },
  {
   "cell_type": "code",
   "execution_count": null,
   "metadata": {},
   "outputs": [],
   "source": [
    "function quickCheck(arr, elem) {\n",
    "  return arr.indexOf(elem) != -1;\n",
    "}\n",
    "console.log(quickCheck([\"squash\", \"onions\", \"shallots\"], \"mushrooms\"));"
   ]
  },
  {
   "cell_type": "markdown",
   "metadata": {},
   "source": [
    "### Basic Data Structures: Iterate Through All an Array's Items Using For Loops"
   ]
  },
  {
   "cell_type": "markdown",
   "metadata": {},
   "source": [
    "- JavaScript offers several built in methods that each iterate over arrays in slightly different ways to achieve different results (such as `every()`, `forEach()`, `map()`, etc.), however the technique which is most flexible and offers us the greatest amount of control is a simple `for` loop.\n",
    "- Example 1:"
   ]
  },
  {
   "cell_type": "code",
   "execution_count": null,
   "metadata": {},
   "outputs": [],
   "source": [
    "function greaterThanTen(arr) {\n",
    "  let newArr = [];\n",
    "  for (let i = 0; i < arr.length; i++) {\n",
    "    if (arr[i] > 10) {\n",
    "      newArr.push(arr[i]);\n",
    "    }\n",
    "  }\n",
    "  return newArr;\n",
    "}\n",
    "\n",
    "greaterThanTen([2, 12, 8, 14, 80, 0, 1]);\n",
    "// returns [12, 14, 80]"
   ]
  },
  {
   "cell_type": "markdown",
   "metadata": {},
   "source": [
    "- Example 2: \n",
    "    - filteredArray([ [\"trumpets\", 2], [\"flutes\", 4], [\"saxophones\", 2] ], 2) should return [ [\"flutes\", 4] ]\n",
    "    - filteredArray([[3, 2, 3], [1, 6, 3], [3, 13, 26], [19, 3, 9]], 3) should return [ ]"
   ]
  },
  {
   "cell_type": "code",
   "execution_count": null,
   "metadata": {},
   "outputs": [],
   "source": [
    "function filteredArray(arr, elem) {\n",
    "  let newArr = [];\n",
    "  // change code below this line\n",
    "\n",
    "  for (let i = 0; i < arr.length; i++) {\n",
    "    if (arr[i].indexOf(elem) == -1) {\n",
    "      //Checks every parameter for the element and if is NOT there continues the code\n",
    "      newArr.push(arr[i]); //Inserts the element of the array in the new filtered array\n",
    "    }\n",
    "  }\n",
    "\n",
    "  // change code above this line\n",
    "  return newArr;\n",
    "}\n",
    "// change code here to test different cases:\n",
    "console.log(filteredArray([[3, 2, 3], [1, 6, 3], [3, 13, 26], [19, 3, 9]], 3));"
   ]
  },
  {
   "cell_type": "markdown",
   "metadata": {},
   "source": [
    "### Basic Data Structures: Create complex multi-dimensional arrays"
   ]
  },
  {
   "cell_type": "markdown",
   "metadata": {},
   "source": [
    "- arrays can contain an infinite depth of arrays that can contain other arrays, each with their own arbitrary levels of depth, and so on. In this way, an array can very quickly become very complex data structure, known as a multi-dimensional, or nested array. "
   ]
  },
  {
   "cell_type": "markdown",
   "metadata": {},
   "source": [
    "### Basic Data Structures: Add Key-Value Pairs to JavaScript Objects"
   ]
  },
  {
   "cell_type": "markdown",
   "metadata": {},
   "source": [
    "- objects are just collections of key-value pairs, or in other words, pieces of data mapped to unique identifiers that we call properties or keys.\n",
    "- Example 1:"
   ]
  },
  {
   "cell_type": "code",
   "execution_count": null,
   "metadata": {},
   "outputs": [],
   "source": [
    "let FCC_User = {\n",
    "  username: 'awesome_coder',\n",
    "  followers: 572,\n",
    "  points: 1741,\n",
    "  completedProjects: 15\n",
    "};\n",
    "\n",
    "// **This is called dot notation\n",
    "let userData = FCC_User.followers;\n",
    "// userData equals 572\n",
    "\n",
    "// ** with bracket notation\n",
    "let userData = FCC_User['followers'];\n",
    "// userData equals 572"
   ]
  },
  {
   "cell_type": "markdown",
   "metadata": {},
   "source": [
    "- Example 2:"
   ]
  },
  {
   "cell_type": "code",
   "execution_count": null,
   "metadata": {},
   "outputs": [],
   "source": [
    "let foods = {\n",
    "  apples: 25,\n",
    "  oranges: 32,\n",
    "  plums: 28\n",
    "};\n",
    "\n",
    "foods.bananas = 13;\n",
    "foods.grapes = 35;\n",
    "foods['strawberries'] = 27;\n",
    "\n",
    "console.log(foods);"
   ]
  },
  {
   "cell_type": "markdown",
   "metadata": {},
   "source": [
    "### Basic Data Structures: Modify an Object Nested Within an Object"
   ]
  },
  {
   "cell_type": "markdown",
   "metadata": {},
   "source": [
    "- Example:"
   ]
  },
  {
   "cell_type": "code",
   "execution_count": null,
   "metadata": {},
   "outputs": [],
   "source": [
    "let nestedObject = {\n",
    "  id: 28802695164,\n",
    "  date: 'December 31, 2016',\n",
    "  data: {\n",
    "    totalUsers: 99,\n",
    "    online: 80,\n",
    "    onlineStatus: {\n",
    "      active: 67,\n",
    "      away: 13\n",
    "    }\n",
    "  }\n",
    "};"
   ]
  },
  {
   "cell_type": "markdown",
   "metadata": {},
   "source": [
    "### Basic Data Structures: Access Property Names with Bracket Notation"
   ]
  },
  {
   "cell_type": "markdown",
   "metadata": {},
   "source": [
    "- Example 1:\n",
    "- This code will evaluate the value stored in the `selectedFood` variable and return the value of that key in the `foods` object, or `undefined` if it is not present. Bracket notation is very useful because sometimes object properties are not known before runtime or we need to access them in a more dynamic way."
   ]
  },
  {
   "cell_type": "code",
   "execution_count": null,
   "metadata": {},
   "outputs": [],
   "source": [
    "let selectedFood = getCurrentFood(scannedItem);\n",
    "let inventory = foods[selectedFood];"
   ]
  },
  {
   "cell_type": "markdown",
   "metadata": {},
   "source": [
    "### Basic Data Structures: Use the delete Keyword to Remove Object Properties"
   ]
  },
  {
   "cell_type": "markdown",
   "metadata": {},
   "source": [
    "- Example:"
   ]
  },
  {
   "cell_type": "code",
   "execution_count": null,
   "metadata": {},
   "outputs": [],
   "source": [
    "let foods = {\n",
    "  apples: 25,\n",
    "  oranges: 32,\n",
    "  plums: 28,\n",
    "  bananas: 13,\n",
    "  grapes: 35,\n",
    "  strawberries: 27\n",
    "};\n",
    "\n",
    "delete foods.oranges;\n",
    "delete foods.plums;\n",
    "delete foods.strawberries;\n",
    "\n",
    "console.log(foods);"
   ]
  },
  {
   "cell_type": "markdown",
   "metadata": {},
   "source": [
    "### Basic Data Structures: Check if an Object has a Property"
   ]
  },
  {
   "cell_type": "markdown",
   "metadata": {},
   "source": [
    "One uses the hasOwnProperty() method and the other uses the in keyword. If we have an object users with a property of Alan, we could check for its presence in either of the following ways:"
   ]
  },
  {
   "cell_type": "code",
   "execution_count": null,
   "metadata": {},
   "outputs": [],
   "source": [
    "users.hasOwnProperty('Alan');\n",
    "'Alan' in users;\n",
    "// both return true"
   ]
  },
  {
   "cell_type": "markdown",
   "metadata": {},
   "source": [
    "- Example:\n",
    "    - We've created an object, `users`, with some users in it and a function `isEveryoneHere`, which we pass the `users` object to as an argument. Finish writing this function so that it returns `true` only if the `users` object contains all four names, `Alan`, `Jeff`, `Sarah`, and `Ryan`, as keys, and `false` otherwise."
   ]
  },
  {
   "cell_type": "markdown",
   "metadata": {},
   "source": [
    "#### Solution 1"
   ]
  },
  {
   "cell_type": "code",
   "execution_count": null,
   "metadata": {},
   "outputs": [],
   "source": [
    "let users = {\n",
    "  Alan: {\n",
    "    age: 27,\n",
    "    online: true\n",
    "  },\n",
    "  Jeff: {\n",
    "    age: 32,\n",
    "    online: true\n",
    "  },\n",
    "  Sarah: {\n",
    "    age: 48,\n",
    "    online: true\n",
    "  },\n",
    "  Ryan: {\n",
    "    age: 19,\n",
    "    online: true\n",
    "  }\n",
    "};\n",
    "\n",
    "function isEveryoneHere(obj) {\n",
    "  if (\n",
    "    obj.hasOwnProperty(\"Alan\") &&\n",
    "    obj.hasOwnProperty(\"Jeff\") &&\n",
    "    obj.hasOwnProperty(\"Sarah\") &&\n",
    "    obj.hasOwnProperty(\"Ryan\")\n",
    "  ) {\n",
    "    return true;\n",
    "  }\n",
    "  return false;\n",
    "}"
   ]
  },
  {
   "cell_type": "markdown",
   "metadata": {},
   "source": [
    "#### Solution 2"
   ]
  },
  {
   "cell_type": "code",
   "execution_count": null,
   "metadata": {},
   "outputs": [],
   "source": [
    "let users = {\n",
    "  Alan: {\n",
    "    age: 27,\n",
    "    online: true\n",
    "  },\n",
    "  Jeff: {\n",
    "    age: 32,\n",
    "    online: true\n",
    "  },\n",
    "  Sarah: {\n",
    "    age: 48,\n",
    "    online: true\n",
    "  },\n",
    "  Ryan: {\n",
    "    age: 19,\n",
    "    online: true\n",
    "  }\n",
    "};\n",
    "\n",
    "function isEveryoneHere(obj) {\n",
    "  return [\"Alan\", \"Jeff\", \"Sarah\", \"Ryan\"].every(name =>\n",
    "    obj.hasOwnProperty(name)\n",
    "  );\n",
    "}"
   ]
  },
  {
   "cell_type": "markdown",
   "metadata": {},
   "source": [
    "### Basic Data Structures: Iterate Through the Keys of an Object with a for...in Statement"
   ]
  },
  {
   "cell_type": "markdown",
   "metadata": {},
   "source": [
    "- Example 1:\n",
    "    -  we defined a variable `user`, and as you can see, this variable was reset during each iteration to each of the object's keys as the statement looped through the object, resulting in each user's name being printed to the console.\n",
    "- NOTE: Objects do not maintain an ordering to stored keys like arrays do; thus a key's position on an object, or the relative order in which it appears, is irrelevant when referencing or accessing that key."
   ]
  },
  {
   "cell_type": "code",
   "execution_count": null,
   "metadata": {},
   "outputs": [],
   "source": [
    "for (let user in users) {\n",
    "  console.log(user);\n",
    "}\n",
    "\n",
    "// logs:\n",
    "Alan\n",
    "Jeff\n",
    "Sarah\n",
    "Ryan"
   ]
  },
  {
   "cell_type": "markdown",
   "metadata": {},
   "source": [
    "- Example 2:\n",
    "    - We've defined a function `countOnline` which accepts one argument (a users object). Use a for...in statement within this function to loop through the users object passed into the function and return the number of users whose `online` property is set to `true`. An example of a users object which could be passed to `countOnline` is shown below. Each user will have an `online` property with either a `true` or `false` value."
   ]
  },
  {
   "cell_type": "code",
   "execution_count": null,
   "metadata": {},
   "outputs": [],
   "source": [
    "let users = {\n",
    "  Alan: {\n",
    "    age: 27,\n",
    "    online: false\n",
    "  },\n",
    "  Jeff: {\n",
    "    age: 32,\n",
    "    online: true\n",
    "  },\n",
    "  Sarah: {\n",
    "    age: 48,\n",
    "    online: false\n",
    "  },\n",
    "  Ryan: {\n",
    "    age: 19,\n",
    "    online: true\n",
    "  }\n",
    "};\n",
    "function countOnline(obj) {\n",
    "  // change code below this line\n",
    "  let result = 0;\n",
    "  for (let user in obj) {\n",
    "    if (obj[user].online === true) {\n",
    "      result++;\n",
    "    }\n",
    "  }\n",
    "  return result;\n",
    "  // change code above this line\n",
    "}\n",
    "console.log(countOnline(users));"
   ]
  },
  {
   "cell_type": "markdown",
   "metadata": {},
   "source": [
    "### Basic Data Structures: Generate an Array of All Object Keys with Object.keys()"
   ]
  },
  {
   "cell_type": "markdown",
   "metadata": {},
   "source": [
    "- We can also generate an array which contains all the keys stored in an object using the Object.keys() method and passing in an object as the argument. \n",
    "- This will return an array with strings representing each property in the object.\n",
    "-  there will be no specific order to the entries in the array."
   ]
  },
  {
   "cell_type": "markdown",
   "metadata": {},
   "source": [
    "Example :"
   ]
  },
  {
   "cell_type": "code",
   "execution_count": null,
   "metadata": {},
   "outputs": [],
   "source": [
    "let users = {\n",
    "  Alan: {\n",
    "    age: 27,\n",
    "    online: false\n",
    "  },\n",
    "  Jeff: {\n",
    "    age: 32,\n",
    "    online: true\n",
    "  },\n",
    "  Sarah: {\n",
    "    age: 48,\n",
    "    online: false\n",
    "  },\n",
    "  Ryan: {\n",
    "    age: 19,\n",
    "    online: true\n",
    "  }\n",
    "};\n",
    "\n",
    "function getArrayOfUsers(obj) {\n",
    "  return Object.keys(obj);\n",
    "}\n",
    "\n",
    "console.log(getArrayOfUsers(users));\n",
    "// return [ 'Alan', 'Jeff', 'Sarah', 'Ryan' ]"
   ]
  },
  {
   "cell_type": "markdown",
   "metadata": {},
   "source": [
    "### Basic Data Structures: Modify an Array Stored in an Object"
   ]
  },
  {
   "cell_type": "markdown",
   "metadata": {},
   "source": [
    "- Example:\n",
    "    - The `user` object contains three keys. The `data` key contains five keys, one of which contains an array of `friends`. From this, you can see how flexible objects are as data structures. We've started writing a function `addFriend`. Finish writing it so that it takes a `user` object and adds the name of the `friend` argument to the array stored in `user.data.friends` and returns that array."
   ]
  },
  {
   "cell_type": "code",
   "execution_count": null,
   "metadata": {},
   "outputs": [],
   "source": [
    "let user = {\n",
    "  name: \"Kenneth\",\n",
    "  age: 28,\n",
    "  data: {\n",
    "    username: \"kennethCodesAllDay\",\n",
    "    joinDate: \"March 26, 2016\",\n",
    "    organization: \"freeCodeCamp\",\n",
    "    friends: [\"Sam\", \"Kira\", \"Tomo\"],\n",
    "    location: {\n",
    "      city: \"San Francisco\",\n",
    "      state: \"CA\",\n",
    "      country: \"USA\"\n",
    "    }\n",
    "  }\n",
    "};\n",
    "\n",
    "function addFriend(userObj, friend) {\n",
    "  userObj.data.friends.push(friend);\n",
    "  return userObj.data.friends;\n",
    "}\n",
    "\n",
    "console.log(addFriend(user, \"Pete\"));"
   ]
  }
 ],
 "metadata": {
  "kernelspec": {
   "display_name": "Python 3",
   "language": "python",
   "name": "python3"
  },
  "language_info": {
   "codemirror_mode": {
    "name": "ipython",
    "version": 3
   },
   "file_extension": ".py",
   "mimetype": "text/x-python",
   "name": "python",
   "nbconvert_exporter": "python",
   "pygments_lexer": "ipython3",
   "version": "3.7.4"
  }
 },
 "nbformat": 4,
 "nbformat_minor": 2
}
