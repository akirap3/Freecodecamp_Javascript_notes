{
 "cells": [
  {
   "cell_type": "markdown",
   "metadata": {},
   "source": [
    "### Intermediate Algorithm Scripting: Sum All Numbers in a Range"
   ]
  },
  {
   "cell_type": "markdown",
   "metadata": {},
   "source": [
    "#### Practice: \n",
    "- You need to create a program that will take an array of two numbers who are not necessarily in order, and then add not just those numbers but any numbers in between. For example, [3,1] will be the same as `1+2+3` and not just `3+1`"
   ]
  },
  {
   "cell_type": "markdown",
   "metadata": {},
   "source": [
    "#### My Solution:"
   ]
  },
  {
   "cell_type": "code",
   "execution_count": null,
   "metadata": {},
   "outputs": [],
   "source": [
    "function sumAll(arr) {\n",
    "  var newArray = [];\n",
    "  newArray = arr.sort(function(a,b) {\n",
    "    return a-b;\n",
    "  })\n",
    "  \n",
    "  for (var sum = 0,i = newArray[0]; i <= newArray[1]; i++) {\n",
    "    sum +=i;\n",
    "  }\n",
    "  return sum;\n",
    "}\n",
    "\n",
    "sumAll([1, 4]);\n"
   ]
  },
  {
   "cell_type": "markdown",
   "metadata": {},
   "source": [
    "#### Solution 1:"
   ]
  },
  {
   "cell_type": "code",
   "execution_count": null,
   "metadata": {},
   "outputs": [],
   "source": [
    "function sumAll(arr) {\n",
    "  var max = Math.max(arr[0], arr[1]);\n",
    "  var min = Math.min(arr[0], arr[1]);\n",
    "  var temp = 0;\n",
    "  for (var i = min; i <= max; i++) {\n",
    "    temp += i;\n",
    "  }\n",
    "  return temp;\n",
    "}\n",
    "\n",
    "sumAll([1, 4]);"
   ]
  },
  {
   "cell_type": "markdown",
   "metadata": {},
   "source": [
    "#### Solution 2:"
   ]
  },
  {
   "cell_type": "code",
   "execution_count": null,
   "metadata": {},
   "outputs": [],
   "source": [
    "const sumAll = arr => {\n",
    "  // Buckle up everything to one!\n",
    "  const startNum = arr[0];\n",
    "  const endNum = arr[1];\n",
    "\n",
    "  // Get the count of numbers between the two numbers by subtracting them and add 1 to the absolute value.\n",
    "  // ex. There are |1-4| + 1 = 4, (1, 2, 3, 4), 4 numbers between 1 and 4.\n",
    "  const numCount = Math.abs(startNum - endNum) + 1;\n",
    "\n",
    "  // Using Arithmetic Progression summing formula\n",
    "  const sum = ((startNum + endNum) * numCount) / 2;\n",
    "  return sum;\n",
    "};"
   ]
  },
  {
   "cell_type": "markdown",
   "metadata": {},
   "source": [
    "#### Solution 2, Code Explanation"
   ]
  },
  {
   "cell_type": "markdown",
   "metadata": {},
   "source": [
    "- Code Explanation\n",
    "    - The formula for calculating the sum of a continuous range is “`(startNum + endNum) * numCount / 2`”.\n",
    "    - `arr[0]` and `arr[1]` can either be `startNum` or `endNum`, order doesn’t matter.\n",
    "    - We can get the count of numbers in range by “`Math.abs(arr[0] - arr[1]) + 1`”.\n",
    "    - Applying the formula by plugging in the numbers."
   ]
  },
  {
   "cell_type": "markdown",
   "metadata": {},
   "source": [
    "#### Solution 3:"
   ]
  },
  {
   "cell_type": "code",
   "execution_count": null,
   "metadata": {},
   "outputs": [],
   "source": [
    "function sumAll(arr) {\n",
    "  var sum = 0;\n",
    "  for (var i = Math.min(...arr); i <= Math.max(...arr); i++) {\n",
    "    sum += i;\n",
    "  }\n",
    "  return sum;\n",
    "}\n",
    "\n",
    "sumAll([1, 4]);"
   ]
  },
  {
   "cell_type": "markdown",
   "metadata": {},
   "source": [
    "#### Solution 3, Code Explanation"
   ]
  },
  {
   "cell_type": "markdown",
   "metadata": {},
   "source": [
    "- Creating a variable sum to store the sum of the elements.\n",
    "- Starting iteration of the loop from min element of given array and stopping when it reaches the max element.\n",
    "- Using a spread operator `(…arr)` allows passing the actual array to the function instead of one-by-one elements."
   ]
  },
  {
   "cell_type": "markdown",
   "metadata": {},
   "source": [
    "#### Solution 4:"
   ]
  },
  {
   "cell_type": "code",
   "execution_count": null,
   "metadata": {},
   "outputs": [],
   "source": [
    "function sumAll([ first, last ] ) {\n",
    " const step = first - last < 0 ? 1 : -1;\n",
    " return first !== last\n",
    "   ? first + sumAll([ first + step, last ])\n",
    "   : first;\n",
    "}"
   ]
  },
  {
   "cell_type": "markdown",
   "metadata": {},
   "source": [
    "### Intermediate Algorithm Scripting: Diff Two Arrays"
   ]
  },
  {
   "cell_type": "markdown",
   "metadata": {},
   "source": [
    "#### Practice: Check two arrays and return a new array that contains only the items that are not in either of the original arrays."
   ]
  },
  {
   "cell_type": "markdown",
   "metadata": {},
   "source": [
    "#### Solution 1:"
   ]
  },
  {
   "cell_type": "code",
   "execution_count": null,
   "metadata": {},
   "outputs": [],
   "source": [
    "function diffArray(arr1, arr2) {\n",
    "  var newArr = [];\n",
    "\n",
    "  function onlyInFirst(first, second) {\n",
    "    // Looping through an array to find elements that don't exist in another array\n",
    "    for (var i = 0; i < first.length; i++) {\n",
    "      if (second.indexOf(first[i]) === -1) {\n",
    "        // Pushing the elements unique to first to newArr\n",
    "        newArr.push(first[i]);\n",
    "      }\n",
    "    }\n",
    "  }\n",
    "\n",
    "  onlyInFirst(arr1, arr2);\n",
    "  onlyInFirst(arr2, arr1);\n",
    "\n",
    "  return newArr;\n",
    "}\n",
    "\n",
    "diffArray([1, 2, 3, 5], [1, 2, 3, 4, 5]);"
   ]
  },
  {
   "cell_type": "markdown",
   "metadata": {},
   "source": [
    "#### Solution 2:"
   ]
  },
  {
   "cell_type": "code",
   "execution_count": null,
   "metadata": {},
   "outputs": [],
   "source": [
    "function diffArray(arr1, arr2) {\n",
    "  return arr1\n",
    "    .concat(arr2)\n",
    "    .filter(item => !arr1.includes(item) || !arr2.includes(item));\n",
    "}\n",
    "\n",
    "diffArray([1, 2, 3, 5], [1, 2, 3, 4, 5]);"
   ]
  },
  {
   "cell_type": "markdown",
   "metadata": {},
   "source": [
    "#### Solution 3:"
   ]
  },
  {
   "cell_type": "code",
   "execution_count": null,
   "metadata": {},
   "outputs": [],
   "source": [
    "function diffArray(arr1, arr2) {\n",
    "  return [...diff(arr1, arr2), ...diff(arr2, arr1)];\n",
    "\n",
    "  function diff(a, b) {\n",
    "    return a.filter(item => b.indexOf(item) === -1);\n",
    "  }\n",
    "}"
   ]
  },
  {
   "cell_type": "markdown",
   "metadata": {},
   "source": [
    "### Intermediate Algorithm Scripting: Seek and Destroy"
   ]
  },
  {
   "cell_type": "markdown",
   "metadata": {},
   "source": [
    "- You will be provided with an initial array (the first argument in the destroyer function), followed by one or more arguments. Remove all elements from the initial array that are of the same value as these arguments.\n",
    "- Note: You have to use the [arguments object](https://www.freecodecamp.org/forum/t/how-arguments-work-in-javascript-javascript-arguments-guide/14283)."
   ]
  },
  {
   "cell_type": "markdown",
   "metadata": {},
   "source": [
    "#### Solution 1:"
   ]
  },
  {
   "cell_type": "code",
   "execution_count": null,
   "metadata": {},
   "outputs": [],
   "source": [
    "function destroyer(arr) {\n",
    "  var args = Array.prototype.slice.call(arguments);\n",
    "\n",
    "  for (var i = 0; i < arr.length; i++) {\n",
    "    for (var j = 0; j < args.length; j++) {\n",
    "      if (arr[i] === args[j]) {\n",
    "        delete arr[i];\n",
    "      }\n",
    "    }\n",
    "  }\n",
    "  return arr.filter(Boolean);\n",
    "}"
   ]
  },
  {
   "cell_type": "markdown",
   "metadata": {},
   "source": [
    "#### Solution 1, Code Explanatin:"
   ]
  },
  {
   "cell_type": "markdown",
   "metadata": {},
   "source": [
    "1. Create an array of `arguments` using `Array.prototype.slice.call()` and store it in the variable `args`. We’ll use this to check against `arr`.\n",
    "\n",
    "2. Start a basic `for` loop to iterate through `arr`. Nest another `for` loop inside the first, changing the integer variable `j` and arr to args. This second loop will iterate through `args` .\n",
    "\n",
    "    - Within the second loop create an `if` statement, checking strictly `===` that the current val of `arr[i]` is equal to `args[j]`.\n",
    "\n",
    "    - If the value at the current index is equal in both arrays, use `delete` to remove it from `arr`.\n",
    "\n",
    "3. Outside of the nested loops: return the modified array using the `Boolean` object as a filter for any `null`'s created by the `delete` operator."
   ]
  },
  {
   "cell_type": "markdown",
   "metadata": {},
   "source": [
    "#### Solution 2:"
   ]
  },
  {
   "cell_type": "code",
   "execution_count": null,
   "metadata": {},
   "outputs": [],
   "source": [
    "function destroyer(arr) {\n",
    "  var args = Array.from(arguments).slice(1);\n",
    "  return arr.filter(function(val) {\n",
    "    return !args.includes(val);\n",
    "  });\n",
    "}"
   ]
  },
  {
   "cell_type": "markdown",
   "metadata": {},
   "source": [
    "#### Solution 2, Code Explanation:"
   ]
  },
  {
   "cell_type": "markdown",
   "metadata": {},
   "source": [
    "1. Declare a variable named `args` and set it equal to a new `Array` object `from()` the `arguments` passed into the function. On the same or next line, use the `slice()` method on `args` starting from the second index, 1. This separates the arguments used for filtering into their own array of `args`.\n",
    "\n",
    "2. Return the filtered array, using `includes()` in the callback function to check if `val` is not in `args`; returning `true` to keep the value in the original array or `false` to remove it."
   ]
  },
  {
   "cell_type": "markdown",
   "metadata": {},
   "source": [
    "#### Solution 3:"
   ]
  },
  {
   "cell_type": "code",
   "execution_count": null,
   "metadata": {},
   "outputs": [],
   "source": [
    "const destroyer = (arr, ...valsToRemove) => arr.filter(elem => !valsToRemove.includes(elem));"
   ]
  },
  {
   "cell_type": "markdown",
   "metadata": {},
   "source": [
    "### Intermediate Algorithm Scripting: Wherefore art thou"
   ]
  },
  {
   "cell_type": "code",
   "execution_count": 1,
   "metadata": {},
   "outputs": [],
   "source": [
    "#### Practice:"
   ]
  },
  {
   "cell_type": "markdown",
   "metadata": {},
   "source": [
    "- Write an algorithm that will take an array for the first argument and return an array with all the objects that matches all the properties and values in the Object passed as second parameter.\n",
    "- `whatIsInAName([{ \"apple\": 1, \"bat\": 2 }, { \"apple\": 1 }, { \"apple\": 1, \"bat\": 2, \"cookie\": 2 }], { \"apple\": 1, \"cookie\": 2 })` should return `[{ \"apple\": 1, \"bat\": 2, \"cookie\": 2 }]`.\n",
    "- `whatIsInAName([{\"a\": 1, \"b\": 2, \"c\": 3}], {\"a\": 1, \"b\": 9999, \"c\": 3})` should return `[]`"
   ]
  },
  {
   "cell_type": "markdown",
   "metadata": {},
   "source": [
    "Solution 1:"
   ]
  },
  {
   "cell_type": "code",
   "execution_count": null,
   "metadata": {},
   "outputs": [],
   "source": [
    "function whatIsInAName(collection, source) {\n",
    "  var srcKeys = Object.keys(source);\n",
    "\n",
    "  // filter the collection\n",
    "  return collection.filter(function(obj) {\n",
    "    for (var i = 0; i < srcKeys.length; i++) {\n",
    "      if (\n",
    "        !obj.hasOwnProperty(srcKeys[i]) ||\n",
    "        obj[srcKeys[i]] !== source[srcKeys[i]]\n",
    "      ) {\n",
    "        return false;\n",
    "      }\n",
    "    }\n",
    "    return true;\n",
    "  });\n",
    "}\n",
    "\n",
    "// test here\n",
    "whatIsInAName(\n",
    "  [\n",
    "    { first: \"Romeo\", last: \"Montague\" },\n",
    "    { first: \"Mercutio\", last: null },\n",
    "    { first: \"Tybalt\", last: \"Capulet\" }\n",
    "  ],\n",
    "  { last: \"Capulet\" }\n",
    ");"
   ]
  },
  {
   "cell_type": "markdown",
   "metadata": {},
   "source": [
    "Solution 1, Code Explanation:"
   ]
  },
  {
   "cell_type": "markdown",
   "metadata": {},
   "source": [
    "- We filter through the array using `.filter()`.\n",
    "- Using a `for loop` we loop through each item in the object.\n",
    "- We use a `if statement` to check if the object in the collection doesn’t have the key and the property value doesn’t match the value in source.\n",
    "- We return `false` if the above `if statement` is correct. Otherwise, we return true;"
   ]
  },
  {
   "cell_type": "markdown",
   "metadata": {},
   "source": [
    "#### Solution 2:"
   ]
  },
  {
   "cell_type": "code",
   "execution_count": null,
   "metadata": {},
   "outputs": [],
   "source": [
    "function whatIsInAName(collection, source) {\n",
    "  var srcKeys = Object.keys(source);\n",
    "\n",
    "  return collection.filter(function(obj) {\n",
    "    return srcKeys.every(function(key) {\n",
    "      return obj.hasOwnProperty(key) && obj[key] === source[key];\n",
    "    });\n",
    "  });\n",
    "}\n",
    "\n",
    "// test here\n",
    "whatIsInAName(\n",
    "  [\n",
    "    { first: \"Romeo\", last: \"Montague\" },\n",
    "    { first: \"Mercutio\", last: null },\n",
    "    { first: \"Tybalt\", last: \"Capulet\" }\n",
    "  ],\n",
    "  { last: \"Capulet\" }\n",
    ");"
   ]
  },
  {
   "cell_type": "markdown",
   "metadata": {},
   "source": [
    "#### Solution 3"
   ]
  },
  {
   "cell_type": "code",
   "execution_count": null,
   "metadata": {},
   "outputs": [],
   "source": [
    "function whatIsInAName(collection, source) {\n",
    "\n",
    "  var srcKeys = Object.keys(source);\n",
    "\n",
    "  // filter the collection\n",
    "  return collection.filter(function(obj) {\n",
    "    return srcKeys\n",
    "      .map(function(key) {\n",
    "        return obj.hasOwnProperty(key) && obj[key] === source[key];\n",
    "      })\n",
    "      .reduce(function(a, b) {\n",
    "        return a && b;\n",
    "      });\n",
    "  });\n",
    "}\n",
    "\n",
    "// test here\n",
    "whatIsInAName(\n",
    "  [\n",
    "    { first: \"Romeo\", last: \"Montague\" },\n",
    "    { first: \"Mercutio\", last: null },\n",
    "    { first: \"Tybalt\", last: \"Capulet\" }\n",
    "  ],\n",
    "  { last: \"Capulet\" }\n",
    ");"
   ]
  },
  {
   "cell_type": "markdown",
   "metadata": {},
   "source": [
    "#### Solution 3, Code Explanation"
   ]
  },
  {
   "cell_type": "markdown",
   "metadata": {},
   "source": [
    "- We start by filtering through `collection` using `Array.filter()`.\n",
    "- Next, we map through all keys and return Boolean values based on the check conditions: both the key and its corresponding value must exist within the object we are filtering through.\n",
    "- Then we reduce the mapped Boolean values to a single Boolean that indicates whether all srcKeys pass the conditions checked above.\n",
    "- This single Boolean will be used to filter through the collection."
   ]
  },
  {
   "cell_type": "markdown",
   "metadata": {},
   "source": [
    "### Intermediate Algorithm Scripting: Spinal Tap Case"
   ]
  },
  {
   "cell_type": "markdown",
   "metadata": {},
   "source": [
    "- Convert the given string to a lowercase sentence with words joined by dashes.\n",
    "- `spinalCase(\"thisIsSpinalTap\")` should return `\"this-is-spinal-tap\"`.\n",
    "- `spinalCase(\"AllThe-small Things\")` should return `\"all-the-small-things\"`.\n",
    "- `spinalCase(\"The_Andy_Griffith_Show\")` should return `\"the-andy-griffith-show\"`."
   ]
  },
  {
   "cell_type": "markdown",
   "metadata": {},
   "source": [
    "#### Solution 1:"
   ]
  },
  {
   "cell_type": "code",
   "execution_count": null,
   "metadata": {},
   "outputs": [],
   "source": [
    "function spinalCase(str) {\n",
    "  // Create a variable for the white space and underscores.\n",
    "  var regex = /\\s+|_+/g;\n",
    "\n",
    "  // Replace low-upper case to low-space-uppercase\n",
    "  str = str.replace(/([a-z])([A-Z])/g, \"$1 $2\");\n",
    "\n",
    "  // Replace space and underscore with -\n",
    "  return str.replace(regex, \"-\").toLowerCase();\n",
    "}\n",
    "\n",
    "// test here\n",
    "spinalCase(\"This Is Spinal Tap\");"
   ]
  },
  {
   "cell_type": "markdown",
   "metadata": {},
   "source": [
    "#### Solution 1, Code Explanation:"
   ]
  },
  {
   "cell_type": "markdown",
   "metadata": {},
   "source": [
    "- regex contains the regular expression `/\\s+|_+/g`, which will select all white spaces and underscores.\n",
    "- The first `replace()` puts a space before any encountered uppercase characters in the string str so that the spaces can be replaced by dashes later on.\n",
    "- While returning the string, another `replace()` replaces spaces and underscores with dashes using regex."
   ]
  },
  {
   "cell_type": "markdown",
   "metadata": {},
   "source": [
    "#### Solution 2:"
   ]
  },
  {
   "cell_type": "code",
   "execution_count": null,
   "metadata": {},
   "outputs": [],
   "source": [
    "function spinalCase(str) {\n",
    "  // Replace low-upper case to low-space-uppercase\n",
    "  str = str.replace(/([a-z])([A-Z])/g, \"$1 $2\");\n",
    "  // Split on whitespace and underscores and join with dash\n",
    "  return str\n",
    "    .toLowerCase()\n",
    "    .split(/(?:_| )+/)\n",
    "    .join(\"-\");\n",
    "}\n",
    "\n",
    "// test here\n",
    "spinalCase(\"This Is Spinal Tap\");"
   ]
  },
  {
   "cell_type": "markdown",
   "metadata": {},
   "source": [
    "#### Solution 2, Code Explanation:"
   ]
  },
  {
   "cell_type": "markdown",
   "metadata": {},
   "source": [
    "- Similar to the first solution, the first `replace()` puts a space before any encountered uppercase characters in the string str so that the spaces can be replaced by dashes later on.\n",
    "- Instead of using `replace()` here to replace whitespace and underscores with dashes, the string is `split()` on the regular expression `/(?:_| )+/` and `join()`-ed on `-`."
   ]
  },
  {
   "cell_type": "markdown",
   "metadata": {},
   "source": [
    "#### Solution 3:"
   ]
  },
  {
   "cell_type": "code",
   "execution_count": null,
   "metadata": {},
   "outputs": [],
   "source": [
    "function spinalCase(str) {\n",
    "  return str\n",
    "    .split(/\\s|_|(?=[A-Z])/)\n",
    "    .join(\"-\")\n",
    "    .toLowerCase();\n",
    "}"
   ]
  },
  {
   "cell_type": "markdown",
   "metadata": {},
   "source": [
    "#### Solution 3, Code Explanation:"
   ]
  },
  {
   "cell_type": "markdown",
   "metadata": {},
   "source": [
    "- Split the string at one of the following conditions (converted to an array)\n",
    "    - a whitespace character `[\\s]` is encountered\n",
    "    - underscore character `[_]` is encountered\n",
    "    - or is followed by an uppercase letter `[(?=[A-Z])]`\n",
    "- Join the array using a hyphen (`-`)\n",
    "- Lowercase the whole resulting string"
   ]
  },
  {
   "cell_type": "markdown",
   "metadata": {},
   "source": [
    "### Intermediate Algorithm Scripting: Pig Latin"
   ]
  },
  {
   "cell_type": "markdown",
   "metadata": {},
   "source": [
    "- Pig Latin is a way of altering English Words. The rules are as follows:\n",
    "    - If a word begins with a consonant, take the first consonant or consonant cluster, move it to the end of the word, and add \"ay\" to it.\n",
    "    - If a word begins with a vowel, just add \"way\" at the end.\n",
    "    - `translatePigLatin(\"california\")` should return \"aliforniacay\".\n",
    "    - `translatePigLatin(\"glove\")` should return \"oveglay\".\n",
    "    - `translatePigLatin(\"eight\")` should return \"eightway\".\n",
    "    - Should handle words without vowels. `translatePigLatin(\"rhythm\")` should return \"rhythmay\"."
   ]
  },
  {
   "cell_type": "markdown",
   "metadata": {},
   "source": [
    "#### Solution 1:"
   ]
  },
  {
   "cell_type": "code",
   "execution_count": null,
   "metadata": {},
   "outputs": [],
   "source": [
    "function translatePigLatin(str) {\n",
    "  let consonantRegex = /^[^aeiou]+/;\n",
    "  let myConsonants = str.match(consonantRegex);\n",
    "  return myConsonants !== null\n",
    "    ? str\n",
    "        .replace(consonantRegex, \"\")\n",
    "        .concat(myConsonants)\n",
    "        .concat(\"ay\")\n",
    "    : str.concat(\"way\");\n",
    "}\n",
    "\n",
    "translatePigLatin(\"consonant\");"
   ]
  },
  {
   "cell_type": "markdown",
   "metadata": {},
   "source": [
    "#### Solution 1, Code EXplanation:"
   ]
  },
  {
   "cell_type": "markdown",
   "metadata": {},
   "source": [
    "- start at beginning and get longest match of everything not a vowel (consonants)\n",
    "\n",
    "- if regex pattern found, it saves the match; else, it returns null\n",
    "\n",
    "- if regex pattern found (starts with consonants), it deletes match, adds the match to the end, and adds “ay” to the end\n",
    "\n",
    "- if regex pattern not found (starts with vowels), it just adds “way” to the ending"
   ]
  },
  {
   "cell_type": "markdown",
   "metadata": {},
   "source": [
    "#### Solution 2:"
   ]
  },
  {
   "cell_type": "code",
   "execution_count": null,
   "metadata": {},
   "outputs": [],
   "source": [
    "function translatePigLatin(str) {\n",
    "  // Create variables to be used\n",
    "  var pigLatin = \"\";\n",
    "  var regex = /[aeiou]/gi;\n",
    "\n",
    "  // Check if the first character is a vowel\n",
    "  if (str[0].match(regex)) {\n",
    "    pigLatin = str + \"way\";\n",
    "  } else if (str.match(regex) === null) {\n",
    "    // Check if the string contains only consonants\n",
    "    pigLatin = str + \"ay\";\n",
    "  } else {\n",
    "    // Find how many consonants before the first vowel.\n",
    "    var vowelIndice = str.indexOf(str.match(regex)[0]);\n",
    "\n",
    "    // Take the string from the first vowel to the last char\n",
    "    // then add the consonants that were previously omitted and add the ending.\n",
    "    pigLatin = str.substr(vowelIndice) + str.substr(0, vowelIndice) + \"ay\";\n",
    "  }\n",
    "\n",
    "  return pigLatin;\n",
    "}\n",
    "\n",
    "// test here\n",
    "translatePigLatin(\"consonant\");"
   ]
  },
  {
   "cell_type": "markdown",
   "metadata": {},
   "source": [
    "#### Solotion 2, Code Explanation:"
   ]
  },
  {
   "cell_type": "markdown",
   "metadata": {},
   "source": [
    "- Make an empty string to hold your Pig Latin word.\n",
    "- Assign your appropriate regular expression to a variable.\n",
    "- If the first character is a vowel, just add way to end of string and return it.\n",
    "- If the first character is not a vowel:\n",
    "    - Find number of consonants before first vowel with help of `indexOf()`, `match()` and regex.\n",
    "    - Start Pig Latin string with first vowel till the end.\n",
    "    - Add letters before first vowel to end of string.\n",
    "    - `substr()` is used for string manipulation here.\n",
    "    - Add ay to end of string and return it."
   ]
  },
  {
   "cell_type": "markdown",
   "metadata": {},
   "source": [
    "#### Solution 3:"
   ]
  },
  {
   "cell_type": "code",
   "execution_count": null,
   "metadata": {},
   "outputs": [],
   "source": [
    "function translatePigLatin(str) {\n",
    "  if (str.match(/^[aeiou]/)) return str + \"way\";\n",
    "\n",
    "  const consonantCluster = str.match(/^[^aeiou]+/)[0];\n",
    "  return str.substring(consonantCluster.length) + consonantCluster + \"ay\";\n",
    "}\n",
    "\n",
    "// test here\n",
    "translatePigLatin(\"consonant\");"
   ]
  },
  {
   "cell_type": "markdown",
   "metadata": {},
   "source": [
    "#### Solution 3, Code Explanation:"
   ]
  },
  {
   "cell_type": "markdown",
   "metadata": {},
   "source": [
    "- First, check to see if the string begins with a vowel.\n",
    "    - The regex looks at the beginning of the string ^ for one of the specified characters `[aeiou]`\n",
    "    - If it does, you only need to return the original string with “way” appended on the end.\n",
    "- If the string does not start with a vowel, we want to build a string which contains every consonant before the first vowel in the provided string.\n",
    "    - To do this, look at the beginning of a string ^ for one or more characters + NOT specified `[^aeiou]`.\n",
    "    - If there is a match (and in this case, there always will be), `match()` returns an Array with the matched string as the first element, which is all we want. Grab it with `[0]`.\n",
    "- Now, we can start building our Pig Latin string to return. This can be built in three parts:\n",
    "    - The first part contains all of the characters in the original string, starting from the first vowel. We can easily get these characters by creating a substring of the original string, with its starting index being the first vowel.\n",
    "    - The second part contains the consonant string we just built. (If you add the second and first parts of this string together, you will get the original string.)\n",
    "    - The final part contains “ay”."
   ]
  },
  {
   "cell_type": "markdown",
   "metadata": {},
   "source": [
    "#### Solution 4:"
   ]
  },
  {
   "cell_type": "code",
   "execution_count": null,
   "metadata": {},
   "outputs": [],
   "source": [
    "function translatePigLatin(str) {\n",
    "  return str\n",
    "    .replace(/^[aeiou]\\w*/, \"$&way\")\n",
    "    .replace(/(^[^aeiou]+)(\\w*)/, \"$2$1ay\");\n",
    "}\n",
    "\n",
    "// test here\n",
    "translatePigLatin(\"consonant\");"
   ]
  },
  {
   "cell_type": "markdown",
   "metadata": {},
   "source": [
    "#### Solution 5:"
   ]
  },
  {
   "cell_type": "code",
   "execution_count": null,
   "metadata": {},
   "outputs": [],
   "source": [
    "function translatePigLatin(str, charPos = 0) {\n",
    "  return ['a', 'e', 'i', 'o', 'u'].includes(str[0])\n",
    "    ? str + (charPos === 0 ? 'way' : 'ay')\n",
    "    : charPos === str.length\n",
    "      ? str + 'ay'\n",
    "      : translatePigLatin(str.slice(1) + str[0], charPos + 1);\n",
    "}"
   ]
  },
  {
   "cell_type": "code",
   "execution_count": null,
   "metadata": {},
   "outputs": [],
   "source": []
  },
  {
   "cell_type": "code",
   "execution_count": null,
   "metadata": {},
   "outputs": [],
   "source": []
  },
  {
   "cell_type": "code",
   "execution_count": null,
   "metadata": {},
   "outputs": [],
   "source": []
  },
  {
   "cell_type": "code",
   "execution_count": null,
   "metadata": {},
   "outputs": [],
   "source": []
  },
  {
   "cell_type": "code",
   "execution_count": null,
   "metadata": {},
   "outputs": [],
   "source": []
  }
 ],
 "metadata": {
  "kernelspec": {
   "display_name": "Python 3",
   "language": "python",
   "name": "python3"
  },
  "language_info": {
   "codemirror_mode": {
    "name": "ipython",
    "version": 3
   },
   "file_extension": ".py",
   "mimetype": "text/x-python",
   "name": "python",
   "nbconvert_exporter": "python",
   "pygments_lexer": "ipython3",
   "version": "3.7.4"
  }
 },
 "nbformat": 4,
 "nbformat_minor": 2
}
