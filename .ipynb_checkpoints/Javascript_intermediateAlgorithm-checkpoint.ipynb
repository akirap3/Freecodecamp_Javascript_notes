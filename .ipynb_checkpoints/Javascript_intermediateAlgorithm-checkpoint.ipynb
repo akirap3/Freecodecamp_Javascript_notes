{
 "cells": [
  {
   "cell_type": "markdown",
   "metadata": {},
   "source": [
    "### Intermediate Algorithm Scripting: Sum All Numbers in a Range"
   ]
  },
  {
   "cell_type": "markdown",
   "metadata": {},
   "source": [
    "#### Practice: \n",
    "- You need to create a program that will take an array of two numbers who are not necessarily in order, and then add not just those numbers but any numbers in between. For example, [3,1] will be the same as `1+2+3` and not just `3+1`"
   ]
  },
  {
   "cell_type": "markdown",
   "metadata": {},
   "source": [
    "#### My Solution:"
   ]
  },
  {
   "cell_type": "code",
   "execution_count": null,
   "metadata": {},
   "outputs": [],
   "source": [
    "function sumAll(arr) {\n",
    "  var newArray = [];\n",
    "  newArray = arr.sort(function(a,b) {\n",
    "    return a-b;\n",
    "  })\n",
    "  \n",
    "  for (var sum = 0,i = newArray[0]; i <= newArray[1]; i++) {\n",
    "    sum +=i;\n",
    "  }\n",
    "  return sum;\n",
    "}\n",
    "\n",
    "sumAll([1, 4]);\n"
   ]
  },
  {
   "cell_type": "markdown",
   "metadata": {},
   "source": [
    "#### Solution 1:"
   ]
  },
  {
   "cell_type": "code",
   "execution_count": null,
   "metadata": {},
   "outputs": [],
   "source": [
    "function sumAll(arr) {\n",
    "  var max = Math.max(arr[0], arr[1]);\n",
    "  var min = Math.min(arr[0], arr[1]);\n",
    "  var temp = 0;\n",
    "  for (var i = min; i <= max; i++) {\n",
    "    temp += i;\n",
    "  }\n",
    "  return temp;\n",
    "}\n",
    "\n",
    "sumAll([1, 4]);"
   ]
  },
  {
   "cell_type": "markdown",
   "metadata": {},
   "source": [
    "#### Solution 2:"
   ]
  },
  {
   "cell_type": "code",
   "execution_count": null,
   "metadata": {},
   "outputs": [],
   "source": [
    "const sumAll = arr => {\n",
    "  // Buckle up everything to one!\n",
    "  const startNum = arr[0];\n",
    "  const endNum = arr[1];\n",
    "\n",
    "  // Get the count of numbers between the two numbers by subtracting them and add 1 to the absolute value.\n",
    "  // ex. There are |1-4| + 1 = 4, (1, 2, 3, 4), 4 numbers between 1 and 4.\n",
    "  const numCount = Math.abs(startNum - endNum) + 1;\n",
    "\n",
    "  // Using Arithmetic Progression summing formula\n",
    "  const sum = ((startNum + endNum) * numCount) / 2;\n",
    "  return sum;\n",
    "};"
   ]
  },
  {
   "cell_type": "markdown",
   "metadata": {},
   "source": [
    "#### Solution 2, Code Explanation"
   ]
  },
  {
   "cell_type": "markdown",
   "metadata": {},
   "source": [
    "- Code Explanation\n",
    "    - The formula for calculating the sum of a continuous range is “`(startNum + endNum) * numCount / 2`”.\n",
    "    - `arr[0]` and `arr[1]` can either be `startNum` or `endNum`, order doesn’t matter.\n",
    "    - We can get the count of numbers in range by “`Math.abs(arr[0] - arr[1]) + 1`”.\n",
    "    - Applying the formula by plugging in the numbers."
   ]
  },
  {
   "cell_type": "markdown",
   "metadata": {},
   "source": [
    "#### Solution 3:"
   ]
  },
  {
   "cell_type": "code",
   "execution_count": null,
   "metadata": {},
   "outputs": [],
   "source": [
    "function sumAll(arr) {\n",
    "  var sum = 0;\n",
    "  for (var i = Math.min(...arr); i <= Math.max(...arr); i++) {\n",
    "    sum += i;\n",
    "  }\n",
    "  return sum;\n",
    "}\n",
    "\n",
    "sumAll([1, 4]);"
   ]
  },
  {
   "cell_type": "markdown",
   "metadata": {},
   "source": [
    "#### Solution 3, Code Explanation"
   ]
  },
  {
   "cell_type": "markdown",
   "metadata": {},
   "source": [
    "- Creating a variable sum to store the sum of the elements.\n",
    "- Starting iteration of the loop from min element of given array and stopping when it reaches the max element.\n",
    "- Using a spread operator `(…arr)` allows passing the actual array to the function instead of one-by-one elements."
   ]
  },
  {
   "cell_type": "markdown",
   "metadata": {},
   "source": [
    "#### Solution 4:"
   ]
  },
  {
   "cell_type": "code",
   "execution_count": null,
   "metadata": {},
   "outputs": [],
   "source": [
    "function sumAll([ first, last ] ) {\n",
    " const step = first - last < 0 ? 1 : -1;\n",
    " return first !== last\n",
    "   ? first + sumAll([ first + step, last ])\n",
    "   : first;\n",
    "}"
   ]
  },
  {
   "cell_type": "markdown",
   "metadata": {},
   "source": [
    "### Intermediate Algorithm Scripting: Diff Two Arrays"
   ]
  },
  {
   "cell_type": "markdown",
   "metadata": {},
   "source": [
    "#### Practice: Check two arrays and return a new array that contains only the items that are not in either of the original arrays."
   ]
  },
  {
   "cell_type": "markdown",
   "metadata": {},
   "source": [
    "#### Solution 1:"
   ]
  },
  {
   "cell_type": "code",
   "execution_count": null,
   "metadata": {},
   "outputs": [],
   "source": [
    "function diffArray(arr1, arr2) {\n",
    "  var newArr = [];\n",
    "\n",
    "  function onlyInFirst(first, second) {\n",
    "    // Looping through an array to find elements that don't exist in another array\n",
    "    for (var i = 0; i < first.length; i++) {\n",
    "      if (second.indexOf(first[i]) === -1) {\n",
    "        // Pushing the elements unique to first to newArr\n",
    "        newArr.push(first[i]);\n",
    "      }\n",
    "    }\n",
    "  }\n",
    "\n",
    "  onlyInFirst(arr1, arr2);\n",
    "  onlyInFirst(arr2, arr1);\n",
    "\n",
    "  return newArr;\n",
    "}\n",
    "\n",
    "diffArray([1, 2, 3, 5], [1, 2, 3, 4, 5]);"
   ]
  },
  {
   "cell_type": "markdown",
   "metadata": {},
   "source": [
    "#### Solution 2:"
   ]
  },
  {
   "cell_type": "code",
   "execution_count": null,
   "metadata": {},
   "outputs": [],
   "source": [
    "function diffArray(arr1, arr2) {\n",
    "  return arr1\n",
    "    .concat(arr2)\n",
    "    .filter(item => !arr1.includes(item) || !arr2.includes(item));\n",
    "}\n",
    "\n",
    "diffArray([1, 2, 3, 5], [1, 2, 3, 4, 5]);"
   ]
  },
  {
   "cell_type": "markdown",
   "metadata": {},
   "source": [
    "#### Solution 3:"
   ]
  },
  {
   "cell_type": "code",
   "execution_count": null,
   "metadata": {},
   "outputs": [],
   "source": [
    "function diffArray(arr1, arr2) {\n",
    "  return [...diff(arr1, arr2), ...diff(arr2, arr1)];\n",
    "\n",
    "  function diff(a, b) {\n",
    "    return a.filter(item => b.indexOf(item) === -1);\n",
    "  }\n",
    "}"
   ]
  },
  {
   "cell_type": "markdown",
   "metadata": {},
   "source": [
    "### Intermediate Algorithm Scripting: Seek and Destroy"
   ]
  },
  {
   "cell_type": "markdown",
   "metadata": {},
   "source": [
    "- You will be provided with an initial array (the first argument in the destroyer function), followed by one or more arguments. Remove all elements from the initial array that are of the same value as these arguments.\n",
    "- Note: You have to use the [arguments object](https://www.freecodecamp.org/forum/t/how-arguments-work-in-javascript-javascript-arguments-guide/14283)."
   ]
  },
  {
   "cell_type": "markdown",
   "metadata": {},
   "source": [
    "#### Solution 1:"
   ]
  },
  {
   "cell_type": "code",
   "execution_count": null,
   "metadata": {},
   "outputs": [],
   "source": [
    "function destroyer(arr) {\n",
    "  var args = Array.prototype.slice.call(arguments);\n",
    "\n",
    "  for (var i = 0; i < arr.length; i++) {\n",
    "    for (var j = 0; j < args.length; j++) {\n",
    "      if (arr[i] === args[j]) {\n",
    "        delete arr[i];\n",
    "      }\n",
    "    }\n",
    "  }\n",
    "  return arr.filter(Boolean);\n",
    "}"
   ]
  },
  {
   "cell_type": "markdown",
   "metadata": {},
   "source": [
    "#### Solution 1, Code Explanatin:"
   ]
  },
  {
   "cell_type": "markdown",
   "metadata": {},
   "source": [
    "1. Create an array of `arguments` using `Array.prototype.slice.call()` and store it in the variable `args`. We’ll use this to check against `arr`.\n",
    "\n",
    "2. Start a basic `for` loop to iterate through `arr`. Nest another `for` loop inside the first, changing the integer variable `j` and arr to args. This second loop will iterate through `args` .\n",
    "\n",
    "    - Within the second loop create an `if` statement, checking strictly `===` that the current val of `arr[i]` is equal to `args[j]`.\n",
    "\n",
    "    - If the value at the current index is equal in both arrays, use `delete` to remove it from `arr`.\n",
    "\n",
    "3. Outside of the nested loops: return the modified array using the `Boolean` object as a filter for any `null`'s created by the `delete` operator."
   ]
  },
  {
   "cell_type": "markdown",
   "metadata": {},
   "source": [
    "#### Solution 2:"
   ]
  },
  {
   "cell_type": "code",
   "execution_count": null,
   "metadata": {},
   "outputs": [],
   "source": [
    "function destroyer(arr) {\n",
    "  var args = Array.from(arguments).slice(1);\n",
    "  return arr.filter(function(val) {\n",
    "    return !args.includes(val);\n",
    "  });\n",
    "}"
   ]
  },
  {
   "cell_type": "markdown",
   "metadata": {},
   "source": [
    "#### Solution 2, Code Explanation:"
   ]
  },
  {
   "cell_type": "markdown",
   "metadata": {},
   "source": [
    "1. Declare a variable named `args` and set it equal to a new `Array` object `from()` the `arguments` passed into the function. On the same or next line, use the `slice()` method on `args` starting from the second index, 1. This separates the arguments used for filtering into their own array of `args`.\n",
    "\n",
    "2. Return the filtered array, using `includes()` in the callback function to check if `val` is not in `args`; returning `true` to keep the value in the original array or `false` to remove it."
   ]
  },
  {
   "cell_type": "markdown",
   "metadata": {},
   "source": [
    "#### Solution 3:"
   ]
  },
  {
   "cell_type": "code",
   "execution_count": null,
   "metadata": {},
   "outputs": [],
   "source": [
    "const destroyer = (arr, ...valsToRemove) => arr.filter(elem => !valsToRemove.includes(elem));"
   ]
  },
  {
   "cell_type": "code",
   "execution_count": null,
   "metadata": {},
   "outputs": [],
   "source": []
  },
  {
   "cell_type": "code",
   "execution_count": null,
   "metadata": {},
   "outputs": [],
   "source": []
  },
  {
   "cell_type": "code",
   "execution_count": null,
   "metadata": {},
   "outputs": [],
   "source": []
  },
  {
   "cell_type": "code",
   "execution_count": null,
   "metadata": {},
   "outputs": [],
   "source": []
  },
  {
   "cell_type": "code",
   "execution_count": null,
   "metadata": {},
   "outputs": [],
   "source": []
  }
 ],
 "metadata": {
  "kernelspec": {
   "display_name": "Python 3",
   "language": "python",
   "name": "python3"
  },
  "language_info": {
   "codemirror_mode": {
    "name": "ipython",
    "version": 3
   },
   "file_extension": ".py",
   "mimetype": "text/x-python",
   "name": "python",
   "nbconvert_exporter": "python",
   "pygments_lexer": "ipython3",
   "version": "3.7.4"
  }
 },
 "nbformat": 4,
 "nbformat_minor": 2
}
