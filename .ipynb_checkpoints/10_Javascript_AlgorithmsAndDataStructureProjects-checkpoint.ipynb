{
 "cells": [
  {
   "cell_type": "markdown",
   "metadata": {},
   "source": [
    "### JavaScript Algorithms and Data Structures Projects: Palindrome Checker"
   ]
  },
  {
   "cell_type": "markdown",
   "metadata": {},
   "source": [
    "- A palindrome is a word or sentence that's spelled the same way both forward and backward, ignoring punctuation, case, and spacing.\n",
    "- Note: You'll need to remove all non-alphanumeric characters (punctuation, spaces and symbols) and turn everything into the same case (lower or upper case) in order to check for palindromes.\n",
    "    - palindrome(\"eye\") should return true.\n",
    "    - palindrome(\"race car\") should return true.\n",
    "    - palindrome(\"My age is 0, 0 si ega ym.\") should return true.\n",
    "    - palindrome(\"0_0 (: /-\\ :) 0-0\") should return true.\n",
    "    - palindrome(\"five|\\_/|four\") should return false."
   ]
  },
  {
   "cell_type": "markdown",
   "metadata": {},
   "source": [
    "#### Thought\n",
    "1. return only word and digit, \n",
    "2. lowercase the string\n",
    "3. reverse the string and compare the its original one, if they match, return true, or return false"
   ]
  },
  {
   "cell_type": "markdown",
   "metadata": {},
   "source": [
    "#### My Solution:"
   ]
  },
  {
   "cell_type": "code",
   "execution_count": null,
   "metadata": {},
   "outputs": [],
   "source": [
    "function palindrome(str) {\n",
    "  // to define regular ecpression and only extract words and digits\n",
    "  let myRegex = /[a-z0-9]/ig;\n",
    "  // transform array to string and lowercase the string\n",
    "  let StrArr = str.match(myRegex).join(\"\").toLowerCase();\n",
    "  let newArr = [];\n",
    "  // to get reversed string\n",
    "  for (let i = StrArr.length - 1; i >= 0; i--) {\n",
    "    newArr.push(StrArr[i]);\n",
    "  }\n",
    "  let reversedStr = newArr.join(\"\");\n",
    "  // compare the two strings\n",
    "  return StrArr === reversedStr;\n",
    "\n",
    "}\n",
    "\n",
    "palindrome(\"five|\\_/|four\");"
   ]
  },
  {
   "cell_type": "markdown",
   "metadata": {},
   "source": [
    "#### Solution 1:"
   ]
  },
  {
   "cell_type": "code",
   "execution_count": null,
   "metadata": {},
   "outputs": [],
   "source": [
    "function palindrome(str) {\n",
    "  return (\n",
    "    str.replace(/[\\W_]/g, \"\").toLowerCase() ===\n",
    "    str\n",
    "      .replace(/[\\W_]/g, \"\")\n",
    "      .toLowerCase()\n",
    "      .split(\"\")\n",
    "      .reverse()\n",
    "      .join(\"\")\n",
    "  );\n",
    "}"
   ]
  },
  {
   "cell_type": "markdown",
   "metadata": {},
   "source": [
    "#### Solution 1, Code Explanation:"
   ]
  },
  {
   "cell_type": "markdown",
   "metadata": {},
   "source": [
    "- We start by using regular expressions to replace any white space or non-alphanumeric characters with nothing (or `null`), which essentially removes them from the string.\n",
    "\n",
    "- Next we chain `.toLowerCase()` to remove any capital letters because `A` is `a` different character than a. The problem did not ask us to worry about making sure the case of the characters was identical, just the spelling.\n",
    "\n",
    "- Our next step is to take our string and `.split()` it, `.reverse()` it, and finally `.join()` it back together.\n",
    "\n",
    "- Last step is to check that the string is the same forwards and backwards and return our result!"
   ]
  },
  {
   "cell_type": "markdown",
   "metadata": {},
   "source": [
    "#### Solution 2:"
   ]
  },
  {
   "cell_type": "code",
   "execution_count": null,
   "metadata": {},
   "outputs": [],
   "source": [
    "function palindrome(str) {\n",
    "  str = str.toLowerCase().replace(/[\\W_]/g, \"\");\n",
    "  for (var i = 0, len = str.length - 1; i < len / 2; i++) {\n",
    "    if (str[i] !== str[len - i]) {\n",
    "      return false;\n",
    "    }\n",
    "  }\n",
    "  return true;\n",
    "}"
   ]
  },
  {
   "cell_type": "markdown",
   "metadata": {},
   "source": [
    "#### Solution 2, Code Explanation:"
   ]
  },
  {
   "cell_type": "markdown",
   "metadata": {},
   "source": [
    "- We start by using the same methods of replacing characters we don’t want in the string using `RegEx`'s, regular expressions, and then make our string lowercase.\n",
    "\n",
    "- Next we set up our `for` loop and declare an index `i` to keep track of the loop. We set our escape sequence to when `i` is greater than the length of the string divided by two, which tells the loop to stop after the halfway point of the string. And finally we set `i` to increment after every loop.\n",
    "\n",
    "- Inside of each loop we want to check that the letter in element `[i]` is equal to the letter in the length of the string minus i, `[str.length - i]`. Each loop, the element that is checked on both sides of the string moves closer to the center until we have checked all of the letters. If at any point the letters do not match, we return `false`. If the loop completes successfully, it means we have a palindrome and therefore we return `true`!\n"
   ]
  },
  {
   "cell_type": "markdown",
   "metadata": {},
   "source": [
    "#### Solution 3:"
   ]
  },
  {
   "cell_type": "code",
   "execution_count": null,
   "metadata": {},
   "outputs": [],
   "source": [
    "//this solution performs at minimum 7x better, at maximum infinitely better.\n",
    "//read the explanation for the reason why.\n",
    "function palindrome(str) {\n",
    "  //assign a front and a back pointer\n",
    "  let front = 0;\n",
    "  let back = str.length - 1;\n",
    "\n",
    "  //back and front pointers won't always meet in the middle, so use (back > front)\n",
    "  while (back > front) {\n",
    "    //increments front pointer if current character doesn't meet criteria\n",
    "    if (str[front].match(/[\\W_]/)) {\n",
    "      front++;\n",
    "      continue;\n",
    "    }\n",
    "    //decrements back pointer if current character doesn't meet criteria\n",
    "    if (str[back].match(/[\\W_]/)) {\n",
    "      back--;\n",
    "      continue;\n",
    "    }\n",
    "    //finally does the comparison on the current character\n",
    "    if (str[front].toLowerCase() !== str[back].toLowerCase()) return false;\n",
    "    front++;\n",
    "    back--;\n",
    "  }\n",
    "\n",
    "  //if the whole string has been compared without returning false, it's a palindrome!\n",
    "  return true;\n",
    "}"
   ]
  },
  {
   "cell_type": "markdown",
   "metadata": {},
   "source": [
    "#### Solution 3, Code Explanation:"
   ]
  },
  {
   "cell_type": "markdown",
   "metadata": {},
   "source": [
    "- I was given this problem in an interview. I quickly arrived at the basic solution, and the interviewer told me to make it better. The algorithm would take way too long if he passed the Bible as the string. He wanted it to be instant.\n",
    "\n",
    "- The simpler solutions perform very poorly on long strings because they operate on the whole string multiple times (toLowerCase(), replace(), split(), reverse(), join()) before comparing the whole string twice.\n",
    "\n",
    "- The beauty of this solution is it never needs to read through the whole string, even once, to know that it’s not a palindrome. Why read through the whole string if you can tell that it’s not a palindrome just by looking at two letters?\n",
    "\n",
    "- Uses a while loop instead of a for loop as a best practice - because we are using two variables, one is the index starting from the beginning of the string, and the other starts at the end of the string.\n",
    "\n",
    "- Relevant Links: [Cyclomatic Complexity](https://en.wikipedia.org/wiki/Cyclomatic_complexity)"
   ]
  },
  {
   "cell_type": "markdown",
   "metadata": {},
   "source": [
    "### JavaScript Algorithms and Data Structures Projects: Roman Numeral Converter"
   ]
  },
  {
   "cell_type": "markdown",
   "metadata": {},
   "source": [
    "- Convert the given number into a roman numeral.\n",
    "\n",
    "- All [roman numerals](https://www.mathsisfun.com/roman-numerals.html) answers should be provided in upper-case."
   ]
  },
  {
   "cell_type": "markdown",
   "metadata": {},
   "source": [
    "#### Observation and Thought"
   ]
  },
  {
   "cell_type": "markdown",
   "metadata": {},
   "source": [
    "1=> I\n",
    "\t2=> II\n",
    "\t3=> III\n",
    "\n",
    "\t4=> VI\n",
    "5 => V\n",
    "\t6=> VI\n",
    "\t7=> VII\n",
    "\t8=> VII\n",
    "\n",
    "\t9=>IX\n",
    "10=> X\n",
    "\t20=> XX\n",
    "\t30=> XXX\n",
    "\n",
    "\t40=> XL\n",
    "50=> L\n",
    "\t60=> LX\n",
    "\t70=> LXX\n",
    "\t80=> LXXX\n",
    "\t\n",
    "\t90=>XC\n",
    "100=> C\n",
    "\t200=> CC\n",
    "\t300=> CCC\n",
    "\n",
    "\t400=> CD\n",
    "500=> D\n",
    "\t600=>DC\n",
    "\t700=>DCC\n",
    "\t800=>DCCC\n",
    "\n",
    "\t900=>CM\n",
    "1000=> M\n"
   ]
  },
  {
   "cell_type": "markdown",
   "metadata": {},
   "source": [
    "#### My Solution:"
   ]
  },
  {
   "cell_type": "code",
   "execution_count": null,
   "metadata": {},
   "outputs": [],
   "source": [
    "function convertToRoman(num) {\n",
    "  let str = num.toString();\n",
    "  let newStr = \"\";\n",
    "\n",
    "  for (let i = 0; i < str.length; i++) {\n",
    "      \n",
    "      // to seperate 1000, 100, 10, 1 and multiply its number\n",
    "      let newNum = str[i]*10**(str.length-(i+1));\n",
    "      if (newNum >= 1000) {\n",
    "        for(let j = 0; j < newNum/1000; j++) {\n",
    "          newStr += \"M\";\n",
    "        }\n",
    "      }\n",
    "        switch (newNum) {\n",
    "        // from 500 to 900\n",
    "          case 500:\n",
    "            newStr += 'D';\n",
    "            break;\n",
    "          case 600:\n",
    "            newStr += 'DC';\n",
    "            break;\n",
    "          case 700:\n",
    "            newStr += 'DCC';\n",
    "            break;\n",
    "          case 800:\n",
    "            newStr += 'DCCC';\n",
    "            break;\n",
    "          case 900:\n",
    "            newStr += 'CM';\n",
    "            break;\n",
    "        // from 100 to 400\n",
    "          case 100:\n",
    "            newStr += 'C';\n",
    "            break;\n",
    "          case 200:\n",
    "            newStr += 'CC';\n",
    "            break;\n",
    "          case 300:\n",
    "            newStr += 'CCC';\n",
    "            break;\n",
    "          case 400:\n",
    "            newStr += 'CD';\n",
    "            break;\n",
    "        // from 50 to 90\n",
    "          case 50:\n",
    "            newStr += 'L';\n",
    "            break;\n",
    "          case 60:\n",
    "            newStr += 'LX';\n",
    "            break;\n",
    "          case 70:\n",
    "            newStr += 'LXX';\n",
    "            break;\n",
    "          case 80:\n",
    "            newStr += 'LXXX';\n",
    "            break;\n",
    "          case 90:\n",
    "            newStr += 'XC';\n",
    "            break;\n",
    "        // from 10 to 40\n",
    "          case 10:\n",
    "            newStr += 'X';\n",
    "            break;\n",
    "          case 20:\n",
    "            newStr += 'XX';\n",
    "            break;\n",
    "          case 30:\n",
    "            newStr += 'XXX';\n",
    "            break;\n",
    "          case 40:\n",
    "            newStr += 'XL';\n",
    "            break;\n",
    "        // from 5 to 9\n",
    "          case 5:\n",
    "            newStr += 'V';\n",
    "            break;\n",
    "          case 6:\n",
    "            newStr += 'VI';\n",
    "            break;\n",
    "          case 7:\n",
    "            newStr += 'VII';\n",
    "            break;\n",
    "          case 8:\n",
    "            newStr += 'VIII';\n",
    "            break;\n",
    "          case 9:\n",
    "            newStr += 'IX';\n",
    "            break;\n",
    "        // from 0 to 4\n",
    "          case 0:\n",
    "            break;\n",
    "          case 1:\n",
    "            newStr += 'I';\n",
    "            break;\n",
    "          case 2:\n",
    "            newStr += 'II';\n",
    "            break;\n",
    "          case 3:\n",
    "            newStr += 'III';\n",
    "            break;\n",
    "          case 4:\n",
    "            newStr += 'IV';\n",
    "            break;\n",
    "      }\n",
    "  }\n",
    "return newStr;\n",
    "}\n",
    "\n",
    "console.log(convertToRoman(1235));\n"
   ]
  },
  {
   "cell_type": "markdown",
   "metadata": {},
   "source": [
    "#### Solution 1:"
   ]
  },
  {
   "cell_type": "code",
   "execution_count": null,
   "metadata": {},
   "outputs": [],
   "source": [
    "var convertToRoman = function(num) {\n",
    "  var decimalValue = [1000, 900, 500, 400, 100, 90, 50, 40, 10, 9, 5, 4, 1];\n",
    "  var romanNumeral = [\n",
    "    \"M\",\n",
    "    \"CM\",\n",
    "    \"D\",\n",
    "    \"CD\",\n",
    "    \"C\",\n",
    "    \"XC\",\n",
    "    \"L\",\n",
    "    \"XL\",\n",
    "    \"X\",\n",
    "    \"IX\",\n",
    "    \"V\",\n",
    "    \"IV\",\n",
    "    \"I\"\n",
    "  ];\n",
    "\n",
    "  var romanized = \"\";\n",
    "\n",
    "  for (var index = 0; index < decimalValue.length; index++) {\n",
    "    while (decimalValue[index] <= num) {\n",
    "      romanized += romanNumeral[index];\n",
    "      num -= decimalValue[index];\n",
    "    }\n",
    "  }\n",
    "\n",
    "  return romanized;\n",
    "};\n",
    "\n",
    "// test here\n",
    "convertToRoman(36);"
   ]
  },
  {
   "cell_type": "markdown",
   "metadata": {},
   "source": [
    "#### Solution 1, Code Explanation:"
   ]
  },
  {
   "cell_type": "markdown",
   "metadata": {},
   "source": [
    "- We start off by creating two arrays with default conversion with matching indices. These are called decimalValue and romanNumeral. We also create an empty string variable, romanized, which will house the final roman number.\n",
    "- Using a for loop, we loop through the indicies of the decimalValue array. We continue to loop until while the value at the current index will fit into num.\n",
    "- Next, we add the roman numeral and decrease num by the decimal equivalent.\n",
    "- Finally, we return the value of romanized."
   ]
  },
  {
   "cell_type": "markdown",
   "metadata": {},
   "source": [
    "#### Solution 2:"
   ]
  },
  {
   "cell_type": "code",
   "execution_count": null,
   "metadata": {},
   "outputs": [],
   "source": [
    "function convertToRoman(num) {\n",
    "  var romans = [\"I\", \"V\", \"X\", \"L\", \"C\", \"D\", \"M\"],\n",
    "    ints = [],\n",
    "    romanNumber = [],\n",
    "    numeral = \"\",\n",
    "    i;\n",
    "  while (num) {\n",
    "    ints.push(num % 10);\n",
    "    num = Math.floor(num / 10);\n",
    "  }\n",
    "  for (i = 0; i < ints.length; i++) {\n",
    "    units(ints[i]);\n",
    "  }\n",
    "  function units() {\n",
    "    numeral = romans[i * 2];\n",
    "    switch (ints[i]) {\n",
    "      case 1:\n",
    "        romanNumber.push(numeral);\n",
    "        break;\n",
    "      case 2:\n",
    "        romanNumber.push(numeral.concat(numeral));\n",
    "        break;\n",
    "      case 3:\n",
    "        romanNumber.push(numeral.concat(numeral).concat(numeral));\n",
    "        break;\n",
    "      case 4:\n",
    "        romanNumber.push(numeral.concat(romans[i * 2 + 1]));\n",
    "        break;\n",
    "      case 5:\n",
    "        romanNumber.push(romans[i * 2 + 1]);\n",
    "        break;\n",
    "      case 6:\n",
    "        romanNumber.push(romans[i * 2 + 1].concat(numeral));\n",
    "        break;\n",
    "      case 7:\n",
    "        romanNumber.push(romans[i * 2 + 1].concat(numeral).concat(numeral));\n",
    "        break;\n",
    "      case 8:\n",
    "        romanNumber.push(\n",
    "          romans[i * 2 + 1]\n",
    "            .concat(numeral)\n",
    "            .concat(numeral)\n",
    "            .concat(numeral)\n",
    "        );\n",
    "        break;\n",
    "      case 9:\n",
    "        romanNumber.push(romans[i * 2].concat(romans[i * 2 + 2]));\n",
    "    }\n",
    "  }\n",
    "  return romanNumber\n",
    "    .reverse()\n",
    "    .join(\"\")\n",
    "    .toString();\n",
    "}\n",
    "\n",
    "// test here\n",
    "convertToRoman(97);"
   ]
  },
  {
   "cell_type": "markdown",
   "metadata": {},
   "source": [
    "#### Solution 2, Code Explanation:"
   ]
  },
  {
   "cell_type": "markdown",
   "metadata": {},
   "source": [
    "- Create an array of Roman Numerals (`romans`).\n",
    "- Use a for loop to create an array of the digits (`ints`) in the number.\n",
    "- Loop through the array of digits (base 10) and as you do, increment the Roman Numeral (base 5) index by 2 (`numeral = romans[i*2]`).\n",
    "- Within the loop, use Switch Case to push the proper Roman Numerals (backwards) onto that array.\n",
    "- Reverse the Roman Numerals array and turn it into a string."
   ]
  },
  {
   "cell_type": "markdown",
   "metadata": {},
   "source": [
    "#### Solution 3:"
   ]
  },
  {
   "cell_type": "code",
   "execution_count": null,
   "metadata": {},
   "outputs": [],
   "source": [
    "function convertToRoman(num) {\n",
    "  var romans = [\n",
    "      // 10^i 10^i*5\n",
    "      [\"I\", \"V\"], // 10^0\n",
    "      [\"X\", \"L\"], // 10^1\n",
    "      [\"C\", \"D\"], // 10^2\n",
    "      [\"M\"] // 10^3\n",
    "    ],\n",
    "    digits = num\n",
    "      .toString()\n",
    "      .split(\"\")\n",
    "      .reverse()\n",
    "      .map(function(item, index) {\n",
    "        return parseInt(item);\n",
    "      }),\n",
    "    numeral = \"\";\n",
    "\n",
    "  // Loop through each digit, starting with the ones place\n",
    "  for (var i = 0; i < digits.length; i++) {\n",
    "    // Make a Roman numeral that ignores 5-multiples and shortening rules\n",
    "    numeral = romans[i][0].repeat(digits[i]) + numeral;\n",
    "    // Check for a Roman numeral 5-multiple version\n",
    "    if (romans[i][1]) {\n",
    "      numeral = numeral\n",
    "        // Change occurrences of 5 * 10^i to the corresponding 5-multiple Roman numeral\n",
    "        .replace(romans[i][0].repeat(5), romans[i][1])\n",
    "        // Shorten occurrences of 9 * 10^i\n",
    "        .replace(\n",
    "          romans[i][1] + romans[i][0].repeat(4),\n",
    "          romans[i][0] + romans[i + 1][0]\n",
    "        )\n",
    "        // Shorten occurrences of 4 * 10^i\n",
    "        .replace(romans[i][0].repeat(4), romans[i][0] + romans[i][1]);\n",
    "    }\n",
    "  }\n",
    "\n",
    "  return numeral;\n",
    "}\n",
    "\n",
    "// test here\n",
    "convertToRoman(36);"
   ]
  },
  {
   "cell_type": "markdown",
   "metadata": {},
   "source": [
    "#### Solution 3, Code Explanation:"
   ]
  },
  {
   "cell_type": "markdown",
   "metadata": {},
   "source": [
    "- Use an array (`romans`) to create a matrix containing the Roman numeral for a given power of 10 and, if available, the Roman numeral for that power of 10 times 5.\n",
    "- Convert the input number (`num`) to a reversed array of digits (`digits`) so that we can loop through those digits starting with the ones position and going up.\n",
    "- Loop through each digit, starting with the ones place, and create a Roman numeral string by adding each higher-power Roman numeral to the start of the `numeral` string a number of times equal to `digit`. This initial string ignores the Roman numerals that are a power of 10 times 5 and also ignores shortening rules.\n",
    "- If the relevant power of 10 has a 5-multiple Roman numeral, in `numeral`, replace 5-in-a-row occurrences with the relevant 5-multiple Roman numeral (i.e., V, L, or D) and shorten occurrences of 9 * 10^i (e.g., VIIII to VIX) and 4 * 10^i (e.g., XXXX to XL). Order is important here!\n",
    "- Finally, return `numeral`."
   ]
  },
  {
   "cell_type": "markdown",
   "metadata": {},
   "source": [
    "### JavaScript Algorithms and Data Structures Projects: Caesars Cipher"
   ]
  },
  {
   "cell_type": "markdown",
   "metadata": {},
   "source": [
    "- One of the simplest and most widely known ciphers is a Caesar cipher, also known as a shift cipher. In a shift cipher the meanings of the letters are shifted by some set amount.\n",
    "\n",
    "- A common modern use is the ROT13 cipher, where the values of the letters are shifted by 13 places. Thus 'A' ↔ 'N', 'B' ↔ 'O' and so on.\n",
    "\n",
    "- Write a function which takes a ROT13 encoded string as input and returns a decoded string.\n",
    "\n",
    "- All letters will be uppercase. Do not transform any non-alphabetic character (i.e. spaces, punctuation), but do pass them on."
   ]
  },
  {
   "cell_type": "markdown",
   "metadata": {},
   "source": [
    "#### My Solution:"
   ]
  },
  {
   "cell_type": "code",
   "execution_count": null,
   "metadata": {},
   "outputs": [],
   "source": [
    "function rot13(str) {\n",
    "  // to define regular expression that only inclue A to Z\n",
    "  let myRegex = /[A-Z]/;\n",
    "    \n",
    "  // create a new array to house the transformed characters and the ones that are not A to Z  \n",
    "  let newArr = [];\n",
    "    \n",
    "  for (let index = 0; index < str.length; index++) {\n",
    "    // to check every character whether they meet the Regex\n",
    "    let isAtoZ = myRegex.test(str[index]);\n",
    "\n",
    "    // if it is A to Z, then its charcode puls 13\n",
    "    // if the sum exceeed 90, which is the charcode of Z, then recalculate its value\n",
    "    if (isAtoZ) {\n",
    "      let newCharCode = str.charCodeAt(index) + 13;\n",
    "      if (newCharCode > 90) {\n",
    "        newCharCode = 65 + (newCharCode % 90) -1;\n",
    "      }\n",
    "      // transform charcode to character\n",
    "      let newChar = String.fromCharCode(newCharCode);\n",
    "      newArr.push(newChar);\n",
    "    }\n",
    "    else {\n",
    "      // to house characters which are not A to Z\n",
    "      newArr.push(str[index]);\n",
    "    }\n",
    "  }\n",
    "  \n",
    "  // join all elements of newArr into a string  \n",
    "  return newArr.join(\"\");\n",
    "}\n",
    "rot13(\"SERR PBQR PNZC\");\n",
    "\n",
    "// charcode \n",
    "// A => 65\n",
    "// Z => 92"
   ]
  },
  {
   "cell_type": "markdown",
   "metadata": {},
   "source": [
    "#### Solution 1:"
   ]
  },
  {
   "cell_type": "code",
   "execution_count": null,
   "metadata": {},
   "outputs": [],
   "source": [
    "function rot13(str) {\n",
    "  // Split str into a character array\n",
    "  return (\n",
    "    str\n",
    "      .split(\"\")\n",
    "      // Iterate over each character in the array\n",
    "      .map.call(str, function(char) {\n",
    "        // Convert char to a character code\n",
    "        var x = char.charCodeAt(0);\n",
    "        // Checks if character lies between A-Z\n",
    "        if (x < 65 || x > 90) {\n",
    "          return String.fromCharCode(x); // Return un-converted character\n",
    "        }\n",
    "        //N = ASCII 78, if the character code is less than 78, shift forward 13 places\n",
    "        else if (x < 78) {\n",
    "          return String.fromCharCode(x + 13);\n",
    "        }\n",
    "        // Otherwise shift the character 13 places backward\n",
    "        return String.fromCharCode(x - 13);\n",
    "      })\n",
    "      .join(\"\")\n",
    "  ); // Rejoin the array into a string\n",
    "}"
   ]
  },
  {
   "cell_type": "markdown",
   "metadata": {},
   "source": [
    "#### Solution 1, CodeExplanation:"
   ]
  },
  {
   "cell_type": "markdown",
   "metadata": {},
   "source": [
    "- A string variable `nstr` is declared and initialized to store the decoded string.\n",
    "- The for loop is used to loop through each character of the input string.\n",
    "- If the character is not uppercase English alphabets(i.e. its ascii doesn’t lie between 65 and 91 ), we’ll leave it as it is and continue 74 with next iteration.\n",
    "- If it’s the uppercase English alphabet, we’ll subtract 13 from its ascii code.\n",
    "- If the ascii code is less than 78, it’ll get out of range when subtracted by 13 so we’ll add 26 (number of letters in English alphabets) to it so that after A it’ll go back to Z. e.g. M(77) <==> 77-13 = 64(Not an English alphabet) +26 = 90 <==> Z(90)."
   ]
  },
  {
   "cell_type": "markdown",
   "metadata": {},
   "source": [
    "#### Solution 2:"
   ]
  },
  {
   "cell_type": "code",
   "execution_count": null,
   "metadata": {},
   "outputs": [],
   "source": [
    "// Solution with Regular expression and Array of ASCII character codes\n",
    "function rot13(str) {\n",
    "  var rotCharArray = [];\n",
    "  var regEx = /[A-Z]/;\n",
    "  str = str.split(\"\");\n",
    "  for (var x in str) {\n",
    "    if (regEx.test(str[x])) {\n",
    "      // A more general approach\n",
    "      // possible because of modular arithmetic\n",
    "      // and cyclic nature of rot13 transform\n",
    "      rotCharArray.push(((str[x].charCodeAt() - 65 + 13) % 26) + 65);\n",
    "    } else {\n",
    "      rotCharArray.push(str[x].charCodeAt());\n",
    "    }\n",
    "  }\n",
    "  str = String.fromCharCode.apply(String, rotCharArray);\n",
    "  return str;\n",
    "}\n",
    "\n",
    "// Change the inputs below to test\n",
    "rot13(\"LBH QVQ VG!\");"
   ]
  },
  {
   "cell_type": "markdown",
   "metadata": {},
   "source": [
    "#### Solution 2, Code Explanation:"
   ]
  },
  {
   "cell_type": "markdown",
   "metadata": {},
   "source": [
    "- An empty array is created in a variable called `rotCharArray` to store the character codes.\n",
    "- The `regEx` variable stores a regular expression for all uppercase letters from A to Z.\n",
    "- We split `str` into a character array and then use a for loop to loop through each character in the array.\n",
    "- Using an if statement, we test to see if the string only contains uppercase letters from A to Z.\n",
    "- If it returns true, we use the `charCodeAt()` function and rot13 transformation to return the correct value, otherwise we return the initial value.\n",
    "- We then return the string with the character codes from the `rotCharArray` variable."
   ]
  },
  {
   "cell_type": "markdown",
   "metadata": {},
   "source": [
    "#### Solution 2, Algorithm Explanation:"
   ]
  },
  {
   "cell_type": "code",
   "execution_count": null,
   "metadata": {},
   "outputs": [],
   "source": [
    "    ALPHA\tKEY\tBASE \t \t \t ROTATED\tROT13\n",
    "    -------------------------------------------------------------\n",
    "    [A]     65  <=>   0 + 13  =>  13 % 26  <=>  13 + 65 = 78 [N]\n",
    "    [B]     66  <=>   1 + 13  =>  14 % 26  <=>  14 + 65 = 79 [O]\n",
    "    [C]     67  <=>   2 + 13  =>  15 % 26  <=>  15 + 65 = 80 [P]\n",
    "    [D]     68  <=>   3 + 13  =>  16 % 26  <=>  16 + 65 = 81 [Q]\n",
    "    [E]     69  <=>   4 + 13  =>  17 % 26  <=>  17 + 65 = 82 [R]\n",
    "    [F]     70  <=>   5 + 13  =>  18 % 26  <=>  18 + 65 = 83 [S]\n",
    "    [G]     71  <=>   6 + 13  =>  19 % 26  <=>  19 + 65 = 84 [T]\n",
    "    [H]     72  <=>   7 + 13  =>  20 % 26  <=>  20 + 65 = 85 [U]\n",
    "    [I]     73  <=>   8 + 13  =>  21 % 26  <=>  21 + 65 = 86 [V]\n",
    "    [J]     74  <=>   9 + 13  =>  22 % 26  <=>  22 + 65 = 87 [W]\n",
    "    [K]     75  <=>  10 + 13  =>  23 % 26  <=>  23 + 65 = 88 [X]\n",
    "    [L]     76  <=>  11 + 13  =>  24 % 26  <=>  24 + 65 = 89 [Y]\n",
    "    [M]     77  <=>  12 + 13  =>  25 % 26  <=>  25 + 65 = 90 [Z]\n",
    "    [N]     78  <=>  13 + 13  =>  26 % 26  <=>   0 + 65 = 65 [A]\n",
    "    [O]     79  <=>  14 + 13  =>  27 % 26  <=>   1 + 65 = 66 [B]\n",
    "    [P]     80  <=>  15 + 13  =>  28 % 26  <=>   2 + 65 = 67 [C]\n",
    "    [Q]     81  <=>  16 + 13  =>  29 % 26  <=>   3 + 65 = 68 [D]\n",
    "    [R]     82  <=>  17 + 13  =>  30 % 26  <=>   4 + 65 = 69 [E]\n",
    "    [S]     83  <=>  18 + 13  =>  31 % 26  <=>   5 + 65 = 70 [F]\n",
    "    [T]     84  <=>  19 + 13  =>  32 % 26  <=>   6 + 65 = 71 [G]\n",
    "    [U]     85  <=>  20 + 13  =>  33 % 26  <=>   7 + 65 = 72 [H]\n",
    "    [V]     86  <=>  21 + 13  =>  34 % 26  <=>   8 + 65 = 73 [I]\n",
    "    [W]     87  <=>  22 + 13  =>  35 % 26  <=>   9 + 65 = 74 [J]\n",
    "    [X]     88  <=>  23 + 13  =>  36 % 26  <=>  10 + 65 = 75 [K]\n",
    "    [Y]     89  <=>  24 + 13  =>  37 % 26  <=>  11 + 65 = 76 [L]\n",
    "    [Z]     90  <=>  25 + 13  =>  38 % 26  <=>  12 + 65 = 77 [M]"
   ]
  },
  {
   "cell_type": "markdown",
   "metadata": {},
   "source": [
    "#### Solution 3:"
   ]
  },
  {
   "cell_type": "code",
   "execution_count": null,
   "metadata": {},
   "outputs": [],
   "source": [
    "function rot13(str) {\n",
    "  // LBH QVQ VG!\n",
    "  return str.replace(/[A-Z]/g, L =>\n",
    "    String.fromCharCode((L.charCodeAt(0) % 26) + 65)\n",
    "  );\n",
    "}"
   ]
  },
  {
   "cell_type": "markdown",
   "metadata": {},
   "source": [
    "#### Solution 3, Code Explanation:"
   ]
  },
  {
   "cell_type": "markdown",
   "metadata": {},
   "source": [
    "Understanding modulo operator (sometimes called modulus operator) symbolically represented as % in JavaScript is key to understanding the algorithm.\n",
    "This is an interesting operator which shows up in various places of Engineering e.g. in cryptography.\n",
    "\n",
    "Basically, operated on a number, it divides the number by the given divisor and gives the remainder of the division.\n",
    "For Example,\n",
    "\n",
    "`0 % 5 = 0`because `0 / 5 = 0` and the remainder is `0`\n",
    "\n",
    "`2 % 5 = 2`because `2 / 5 = 0` and the remainder is `2`\n",
    "\n",
    "`4 % 5 = 4`because `4 / 5 = 0` and the remainder is `4`\n",
    "\n",
    "`5 % 5 = 0`because `5 / 5 = 1` and the remainder is `0`\n",
    "\n",
    "`7 % 5 = 2`because `7 / 5 = 1` and the remainder is `2`\n",
    "\n",
    "`9 % 5 = 4`because `9 / 5 = 1` and the remainder is `4`\n",
    "\n",
    "`10 % 5 = 0` because `10 / 5 = 2` and the remainder is `0`\n",
    "\n",
    "But you must have noticed a pattern here.\n",
    "As you might have noticed, the amazing modulo operator wraps over the LHS value when it just reaches multiples of the RHS value.\n",
    "e.g. in our case, when `LHS = 5`, it wrapped over to 0\n",
    "OR\n",
    "when `LHS = 10`, it wrapped over to 0 again."
   ]
  },
  {
   "cell_type": "markdown",
   "metadata": {},
   "source": [
    "#### Hence, we see the following pattern emerging"
   ]
  },
  {
   "cell_type": "code",
   "execution_count": null,
   "metadata": {},
   "outputs": [],
   "source": [
    "     0 ⇔ 0\n",
    "     1 ⇔ 1\n",
    "     2 ⇔ 2\n",
    "     3 ⇔ 3\n",
    "     4 ⇔ 4\n",
    "     5 ⇔ 0\n",
    "     6 ⇔ 1\n",
    "     7 ⇔ 2\n",
    "     8 ⇔ 3\n",
    "     9 ⇔ 4\n",
    "    10 ⇔ 0"
   ]
  },
  {
   "cell_type": "markdown",
   "metadata": {},
   "source": [
    "Hence, we conclude that using modulo operator, one can map a range of values to a range between `[0 to DIVISOR - 1]`. In our case, we mapped `[5 - 9]` between `[0 - 4]` or mapped `[6 - 10]` between `[0 - 4]`.\n",
    "\n",
    "Did you understand till this?\n",
    "\n",
    "Now let us consider mapping a range of `26` numbers i.e. between `[65 - 90]` which represents uppercase `[English alphabets]` in Unicode character set to a range of numbers between `[0 - 25]`."
   ]
  },
  {
   "cell_type": "code",
   "execution_count": null,
   "metadata": {},
   "outputs": [],
   "source": [
    "    [A]  65 % 26 ⇔ 13\n",
    "    [B]  66 % 26 ⇔ 14\n",
    "    [C]  67 % 26 ⇔ 15\n",
    "    [D]  68 % 26 ⇔ 16\n",
    "    [E]  69 % 26 ⇔ 17\n",
    "    [F]  70 % 26 ⇔ 18\n",
    "    [G]  71 % 26 ⇔ 19\n",
    "    [H]  72 % 26 ⇔ 20\n",
    "    [I]  73 % 26 ⇔ 21\n",
    "    [J]  74 % 26 ⇔ 22\n",
    "    [K]  75 % 26 ⇔ 23\n",
    "    [L]  76 % 26 ⇔ 24\n",
    "    [M]  77 % 26 ⇔ 25\n",
    "    [N]  78 % 26 ⇔  0\n",
    "    [O]  79 % 26 ⇔  1\n",
    "    [P]  80 % 26 ⇔  2\n",
    "    [Q]  81 % 26 ⇔  3\n",
    "    [R]  82 % 26 ⇔  4\n",
    "    [S]  83 % 26 ⇔  5\n",
    "    [T]  84 % 26 ⇔  6\n",
    "    [U]  85 % 26 ⇔  7\n",
    "    [V]  86 % 26 ⇔  8\n",
    "    [W]  87 % 26 ⇔  9\n",
    "    [X]  88 % 26 ⇔ 10\n",
    "    [Y]  89 % 26 ⇔ 11\n",
    "    [Z]  90 % 26 ⇔ 12"
   ]
  },
  {
   "cell_type": "markdown",
   "metadata": {},
   "source": [
    "As you can notice, each number in the range of `[65 - 90]` maps to a unique number between `[0 - 25]`.\n",
    "You might have also noticed that each given number (e.g. `65`) maps to another number (e.g. `13`) which can be used as an offset value (i.e. `65 + OFFSET`) to get the ROT13 of the given number.\n",
    "\n",
    "E.g. `65` maps to `13` which can be taken as an offset value and added to `65` to give `78`."
   ]
  },
  {
   "cell_type": "code",
   "execution_count": null,
   "metadata": {},
   "outputs": [],
   "source": [
    "    [A]  65 % 26 ⇔ 13 + 65 =  78 [N]\n",
    "    [B]  66 % 26 ⇔ 14 + 65 =  79 [O]\n",
    "    [C]  67 % 26 ⇔ 15 + 65 =  80 [P]\n",
    "    [D]  68 % 26 ⇔ 16 + 65 =  81 [Q]\n",
    "    [E]  69 % 26 ⇔ 17 + 65 =  82 [R]\n",
    "    [F]  70 % 26 ⇔ 18 + 65 =  83 [S]\n",
    "    [G]  71 % 26 ⇔ 19 + 65 =  84 [T]\n",
    "    [H]  72 % 26 ⇔ 20 + 65 =  85 [U]\n",
    "    [I]  73 % 26 ⇔ 21 + 65 =  86 [V]\n",
    "    [J]  74 % 26 ⇔ 22 + 65 =  87 [W]\n",
    "    [K]  75 % 26 ⇔ 23 + 65 =  88 [X]\n",
    "    [L]  76 % 26 ⇔ 24 + 65 =  89 [Y]\n",
    "    [M]  77 % 26 ⇔ 25 + 65 =  90 [Z]\n",
    "    [N]  78 % 26 ⇔  0 + 65 =  65 [A]\n",
    "    [O]  79 % 26 ⇔  1 + 65 =  66 [B]\n",
    "    [P]  80 % 26 ⇔  2 + 65 =  67 [C]\n",
    "    [Q]  81 % 26 ⇔  3 + 65 =  68 [D]\n",
    "    [R]  82 % 26 ⇔  4 + 65 =  69 [E]\n",
    "    [S]  83 % 26 ⇔  5 + 65 =  70 [F]\n",
    "    [T]  84 % 26 ⇔  6 + 65 =  71 [G]\n",
    "    [U]  85 % 26 ⇔  7 + 65 =  72 [H]\n",
    "    [V]  86 % 26 ⇔  8 + 65 =  73 [I]\n",
    "    [W]  87 % 26 ⇔  9 + 65 =  74 [J]\n",
    "    [X]  88 % 26 ⇔ 10 + 65 =  75 [K]\n",
    "    [Y]  89 % 26 ⇔ 11 + 65 =  76 [L]\n",
    "    [Z]  90 % 26 ⇔ 12 + 65 =  77 [M]"
   ]
  },
  {
   "cell_type": "markdown",
   "metadata": {},
   "source": [
    "#### Solution 3, Code Explanation 2:"
   ]
  },
  {
   "cell_type": "markdown",
   "metadata": {},
   "source": [
    "- `String.prototype.replace` function lets you transform a `String` based on some pattern match (defined by a regular expression), and the transformation function (which is applied to each of the pattern matches).\n",
    "- Arrow function syntax is used to write the function parameter to `replace()`.\n",
    "- `L` represents a single unit, from every pattern match with `/[A-Z]/g` - which is every uppercase letter in the alphabet, from `A` to `Z`, present in the string.\n",
    "- The arrow function applies the `rot13` transform on every uppercase letter from English alphabet present in the given string."
   ]
  },
  {
   "cell_type": "markdown",
   "metadata": {},
   "source": [
    "#### Solution 4:"
   ]
  },
  {
   "cell_type": "code",
   "execution_count": null,
   "metadata": {},
   "outputs": [],
   "source": [
    "function rot13(str) {\n",
    "    const alphabet = 'ABCDEFGHIJKLMNOPQRSTUVWXYZ';\n",
    "    return str\n",
    "      .split('')\n",
    "      .map(char => {  \n",
    "        const pos = alphabet.indexOf(char);      \n",
    "        return pos >= 0 ? alphabet[(pos + 13) % 26] : char;\n",
    "      })\n",
    "      .join('');\n",
    "}"
   ]
  },
  {
   "cell_type": "markdown",
   "metadata": {},
   "source": [
    "### JavaScript Algorithms and Data Structures Projects: Telephone Number Validator"
   ]
  },
  {
   "cell_type": "code",
   "execution_count": null,
   "metadata": {},
   "outputs": [],
   "source": []
  },
  {
   "cell_type": "code",
   "execution_count": null,
   "metadata": {},
   "outputs": [],
   "source": []
  },
  {
   "cell_type": "code",
   "execution_count": null,
   "metadata": {},
   "outputs": [],
   "source": []
  },
  {
   "cell_type": "code",
   "execution_count": null,
   "metadata": {},
   "outputs": [],
   "source": []
  },
  {
   "cell_type": "markdown",
   "metadata": {},
   "source": [
    "#### Thought:"
   ]
  },
  {
   "cell_type": "markdown",
   "metadata": {},
   "source": [
    "1. if there is country code, then it must be the first digit and 1\n",
    "2. the string can be digits, \"space\", \"-\", \"(\", \")\"\n",
    "3. \"(\" and \")\" \n",
    "    (1) if there is country code \"1\", then \"(\" is at the second place, \")\" is in the sixth place\n",
    "    (2) if no counrtry code, the \"(\" is at the first place, \")\" is in the fifth place\n",
    "    (3) only one pair of \"(\" and \")\"\n",
    "4. if there is country code \"1\" at the begining, there must be 10 digits."
   ]
  },
  {
   "cell_type": "markdown",
   "metadata": {},
   "source": [
    "#### My Solution:"
   ]
  },
  {
   "cell_type": "code",
   "execution_count": null,
   "metadata": {},
   "outputs": [],
   "source": [
    "function telephoneCheck(str) {\n",
    "  // country code \"1\"\n",
    "  let myRegex1 = /^1.*/g;\n",
    "  // only select number\n",
    "  let myRegex2 = /[\\d]/g;\n",
    "  let myRegex3 = /\\(/g;\n",
    "  let myRegex4 = /\\)/g;\n",
    "  let splitStr = str.split(\"\");\n",
    "  let hasCountryCode = myRegex1.test(str);\n",
    "  let newStr = str.match(myRegex2);\n",
    "  let onlyOneLeft = str.match(myRegex3);\n",
    "  let onlyOneRight = str.match(myRegex4);\n",
    "\n",
    "  if (hasCountryCode && newStr.length === 11) {\n",
    "    if (((onlyOneLeft === null) && (onlyOneRight === null))) {\n",
    "      return true;\n",
    "    }\n",
    "    else if (((onlyOneLeft === null) || (onlyOneRight === null))) {\n",
    "      return false;\n",
    "    }\n",
    "    else if ((onlyOneLeft.length === 1) && (onlyOneRight.length === 1)) {\n",
    "      if ((splitStr.indexOf(\"(\") >= 1) &&　(splitStr.indexOf(\")\") >= 5) && !(splitStr.indexOf(\")\") === splitStr.length -1)) {\n",
    "        return true;\n",
    "      }\n",
    "    }\n",
    "  }\n",
    "  else if (newStr.length === 10) {\n",
    "    if (((onlyOneLeft === null) && (onlyOneRight === null))) {\n",
    "      return true;\n",
    "    }\n",
    "    else if (((onlyOneLeft === null) || (onlyOneRight === null))) {\n",
    "      return false;\n",
    "    }\n",
    "    else if ((onlyOneLeft.length === 1) && (onlyOneRight.length === 1)) {\n",
    "      if ((splitStr.indexOf(\"(\") >= 0) &&　(splitStr.indexOf(\")\") >= 4) && !(splitStr.indexOf(\")\") === splitStr.length -1)) {\n",
    "        return true;\n",
    "      }\n",
    "    }\n",
    "  }\n",
    "  return false;\n",
    "}\n",
    "\n",
    "console.log(telephoneCheck(\"(6054756961)\"));"
   ]
  },
  {
   "cell_type": "code",
   "execution_count": null,
   "metadata": {},
   "outputs": [],
   "source": []
  },
  {
   "cell_type": "code",
   "execution_count": null,
   "metadata": {},
   "outputs": [],
   "source": []
  },
  {
   "cell_type": "code",
   "execution_count": null,
   "metadata": {},
   "outputs": [],
   "source": []
  },
  {
   "cell_type": "code",
   "execution_count": null,
   "metadata": {},
   "outputs": [],
   "source": []
  },
  {
   "cell_type": "code",
   "execution_count": null,
   "metadata": {},
   "outputs": [],
   "source": []
  },
  {
   "cell_type": "code",
   "execution_count": null,
   "metadata": {},
   "outputs": [],
   "source": []
  },
  {
   "cell_type": "code",
   "execution_count": null,
   "metadata": {},
   "outputs": [],
   "source": []
  },
  {
   "cell_type": "code",
   "execution_count": null,
   "metadata": {},
   "outputs": [],
   "source": []
  },
  {
   "cell_type": "code",
   "execution_count": null,
   "metadata": {},
   "outputs": [],
   "source": []
  },
  {
   "cell_type": "code",
   "execution_count": null,
   "metadata": {},
   "outputs": [],
   "source": []
  },
  {
   "cell_type": "code",
   "execution_count": null,
   "metadata": {},
   "outputs": [],
   "source": []
  },
  {
   "cell_type": "code",
   "execution_count": null,
   "metadata": {},
   "outputs": [],
   "source": []
  },
  {
   "cell_type": "code",
   "execution_count": null,
   "metadata": {},
   "outputs": [],
   "source": []
  },
  {
   "cell_type": "code",
   "execution_count": null,
   "metadata": {},
   "outputs": [],
   "source": []
  },
  {
   "cell_type": "code",
   "execution_count": null,
   "metadata": {},
   "outputs": [],
   "source": []
  },
  {
   "cell_type": "code",
   "execution_count": null,
   "metadata": {},
   "outputs": [],
   "source": []
  },
  {
   "cell_type": "code",
   "execution_count": null,
   "metadata": {},
   "outputs": [],
   "source": []
  },
  {
   "cell_type": "code",
   "execution_count": null,
   "metadata": {},
   "outputs": [],
   "source": []
  },
  {
   "cell_type": "code",
   "execution_count": null,
   "metadata": {},
   "outputs": [],
   "source": []
  },
  {
   "cell_type": "code",
   "execution_count": null,
   "metadata": {},
   "outputs": [],
   "source": []
  }
 ],
 "metadata": {
  "kernelspec": {
   "display_name": "Python 3",
   "language": "python",
   "name": "python3"
  },
  "language_info": {
   "codemirror_mode": {
    "name": "ipython",
    "version": 3
   },
   "file_extension": ".py",
   "mimetype": "text/x-python",
   "name": "python",
   "nbconvert_exporter": "python",
   "pygments_lexer": "ipython3",
   "version": "3.7.4"
  }
 },
 "nbformat": 4,
 "nbformat_minor": 2
}
