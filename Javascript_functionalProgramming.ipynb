{
 "cells": [
  {
   "cell_type": "markdown",
   "metadata": {},
   "source": [
    "### Introduction to the Functional Programming Challenges"
   ]
  },
  {
   "cell_type": "markdown",
   "metadata": {},
   "source": [
    "- Functional programming is an approach to software development based around the evaluation of functions. Like mathematics, functions in programming map input to output to produce a result. You can combine basic functions in many ways to build more and more complex programs.\n",
    "- Functional programming follows a few core principles:\n",
    "    - Functions are independent from the state of the program or global variables. They only depend on the arguments passed into them to make a calculation\n",
    "    - Functions try to limit any changes to the state of the program and avoid changes to the global objects holding data\n",
    "    - Functions have minimal side effects in the program\n",
    "- The functional programming software development approach breaks a program into small, testable parts."
   ]
  },
  {
   "cell_type": "markdown",
   "metadata": {},
   "source": [
    "### Functional Programming: Learn About Functional Programming"
   ]
  },
  {
   "cell_type": "markdown",
   "metadata": {},
   "source": [
    "- Functional programming is a style of programming where solutions are simple, isolated functions, without any side effects outside of the function scope.\n",
    "\n",
    "    `INPUT -> PROCESS -> OUTPUT`\n",
    "\n",
    "- Functional programming is about:\n",
    "\n",
    "    1. Isolated functions - there is no dependence on the state of the program, which includes global variables that are subject to change\n",
    "\n",
    "    2. Pure functions - the same input always gives the same output\n",
    "\n",
    "    3. Functions with limited side effects - any changes, or mutations, to the state of the program outside the function are carefully controlled"
   ]
  },
  {
   "cell_type": "markdown",
   "metadata": {},
   "source": [
    "- the prepareTea and getTea functions are already defined for you. Call the getTea function to get 40 cups of tea for the team, and store them in the tea4TeamFCC variable."
   ]
  },
  {
   "cell_type": "code",
   "execution_count": null,
   "metadata": {},
   "outputs": [],
   "source": [
    "// Function that returns a string representing a cup of green tea\n",
    "const prepareTea = () => 'greenTea';\n",
    "\n",
    "/*\n",
    "Given a function (representing the tea type) and number of cups needed, the\n",
    "following function returns an array of strings (each representing a cup of\n",
    "a specific type of tea).\n",
    "*/\n",
    "const getTea = (numOfCups) => {\n",
    "  const teaCups = [];\n",
    "\n",
    "  for(let cups = 1; cups <= numOfCups; cups += 1) {\n",
    "    const teaCup = prepareTea();\n",
    "    teaCups.push(teaCup);\n",
    "  }\n",
    "  return teaCups;\n",
    "};\n",
    "\n",
    "\n",
    "const tea4TeamFCC = getTea(40);"
   ]
  },
  {
   "cell_type": "markdown",
   "metadata": {},
   "source": [
    "### Functional Programming: Understand Functional Programming Terminology"
   ]
  },
  {
   "cell_type": "markdown",
   "metadata": {},
   "source": [
    "- Callbacks are the functions that are slipped or passed into another function to decide the invocation of that function. You may have seen them passed to other methods, for example in `filter`, the callback function tells JavaScript the criteria for how to filter an array.\n",
    "\n",
    "- Functions that can be assigned to a variable, passed into another function, or returned from another function just like any other normal value, are called <i>__first class functions__</i>. In JavaScript, all functions are first class functions.\n",
    "\n",
    "- The functions that take a function as an argument, or return a function as a return value are called <i>__higher order functions__</i>.\n",
    "\n",
    "- When the functions are passed in to another function or returned from another function, then those functions which gets passed in or returned can be called a <i><b>lambda</b></i>."
   ]
  },
  {
   "cell_type": "code",
   "execution_count": null,
   "metadata": {},
   "outputs": [],
   "source": [
    "// Function that returns a string representing a cup of green tea\n",
    "const prepareGreenTea = () => 'greenTea';\n",
    "\n",
    "// Function that returns a string representing a cup of black tea\n",
    "const prepareBlackTea = () => 'blackTea';\n",
    "\n",
    "/*\n",
    "Given a function (representing the tea type) and number of cups needed, the\n",
    "following function returns an array of strings (each representing a cup of\n",
    "a specific type of tea).\n",
    "*/\n",
    "const getTea = (prepareTea, numOfCups) => {\n",
    "  const teaCups = [];\n",
    "\n",
    "  for(let cups = 1; cups <= numOfCups; cups += 1) {\n",
    "    const teaCup = prepareTea();\n",
    "    teaCups.push(teaCup);\n",
    "  }\n",
    "  return teaCups;\n",
    "};\n",
    "\n",
    "// Only change code below this line\n",
    "const tea4GreenTeamFCC = getTea(prepareGreenTea,27);\n",
    "const tea4BlackTeamFCC = getTea(prepareBlackTea,13);\n",
    "// Only change code above this line\n",
    "\n",
    "console.log(\n",
    "  tea4GreenTeamFCC,\n",
    "  tea4BlackTeamFCC\n",
    ");\n"
   ]
  },
  {
   "cell_type": "markdown",
   "metadata": {},
   "source": [
    "### Functional Programming: Understand the Hazards of Using Imperative Code"
   ]
  },
  {
   "cell_type": "markdown",
   "metadata": {},
   "source": [
    "- In English (and many other languages), the imperative tense is used to give commands. Similarly, an imperative style in programming is one that gives the computer a set of statements to perform a task.\n",
    "\n",
    "- Often the statements change the state of the program, like updating global variables. A classic example is writing a `for` loop that gives exact directions to iterate over the indices of an array.\n",
    "\n",
    "- In contrast, functional programming is a form of declarative programming. You tell the computer what you want done by calling a method or function."
   ]
  },
  {
   "cell_type": "markdown",
   "metadata": {},
   "source": [
    "### Functional Programming: Avoid Mutations and Side Effects Using Functional Programming"
   ]
  },
  {
   "cell_type": "markdown",
   "metadata": {},
   "source": [
    "- One of the core principles of functional programming is to not change things. Changes lead to bugs. It's easier to prevent bugs knowing that your functions don't change anything, including the function arguments or any global variable.\n",
    "\n",
    "- Recall that in functional programming, changing or altering things is called ___mutation___, and the outcome is called a ___side effect___. A function, ideally, should be a ___pure function___, meaning that it does not cause any side effects."
   ]
  },
  {
   "cell_type": "markdown",
   "metadata": {},
   "source": [
    "### Functional Programming: Pass Arguments to Avoid External Dependence in a Function"
   ]
  },
  {
   "cell_type": "markdown",
   "metadata": {},
   "source": [
    "- Another principle of functional programming is to always declare your dependencies explicitly. This means if a function depends on a variable or object being present, then pass that variable or object directly into the function as an argument.\n",
    "\n",
    "- There are several good consequences from this principle. The function is easier to test, you know exactly what input it takes, and it won't depend on anything else in your program.\n",
    "\n",
    "- This can give you more confidence when you alter, remove, or add new code. You would know what you can or cannot change and you can see where the potential traps are.\n",
    "\n",
    "- Finally, the function would always produce the same output for the same set of inputs, no matter what part of the code executes it."
   ]
  },
  {
   "cell_type": "code",
   "execution_count": null,
   "metadata": {},
   "outputs": [],
   "source": [
    "// the global variable\n",
    "var fixedValue = 4;\n",
    "\n",
    "function incrementer(value) {\n",
    "  return value + 1;\n",
    "\n",
    "}\n",
    "\n",
    "var newValue = incrementer(fixedValue); // Should equal 5\n",
    "console.log(fixedValue); // Should print 4"
   ]
  },
  {
   "cell_type": "markdown",
   "metadata": {},
   "source": [
    "### Functional Programming: Refactor Global Variables Out of Functions"
   ]
  },
  {
   "cell_type": "markdown",
   "metadata": {},
   "source": [
    "- So far, we have seen two distinct - principles for functional programming:\n",
    "\n",
    "     1. Don't alter a variable or object - create new variables and objects and return them if need be from a function.\n",
    "\n",
    "     2. Declare function arguments - any computation inside a function depends only on the arguments, and not on any global object or variable."
   ]
  },
  {
   "cell_type": "markdown",
   "metadata": {},
   "source": [
    "- Example:\n",
    "- Solution 1:"
   ]
  },
  {
   "cell_type": "code",
   "execution_count": null,
   "metadata": {},
   "outputs": [],
   "source": [
    "// the global variable\n",
    "var bookList = [\"The Hound of the Baskervilles\", \"On The Electrodynamics of Moving Bodies\", \"Philosophiæ Naturalis Principia Mathematica\", \"Disquisitiones Arithmeticae\"];\n",
    "\n",
    "/* This function should add a book to the list and return the list */\n",
    "// New parameters should come before bookName\n",
    "\n",
    "function add(arr, bookName) {\n",
    "  let newArr = [...arr]; // Copy the bookList array to a new array.\n",
    "  newArr.push(bookName); // Add bookName parameter to the end of the new array.\n",
    "  return newArr; // Return the new array.\n",
    "}\n",
    "\n",
    "/* This function should remove a book from the list and return the list */\n",
    "// New parameters should come before the bookName one\n",
    "\n",
    "function remove(arr, bookName) {\n",
    "  let newArr = [...arr]; // Copy the bookList array to a new array.\n",
    "  if (newArr.indexOf(bookName) >= 0) {\n",
    "    // Check whether the bookName parameter is in new array.\n",
    "    newArr.splice(newArr.indexOf(bookName), 1); // Remove the given paramater from the new array.\n",
    "    return newArr; // Return the new array.\n",
    "  }\n",
    "}\n",
    "\n",
    "var newBookList = add(bookList, 'A Brief History of Time');\n",
    "var newerBookList = remove(bookList, 'On The Electrodynamics of Moving Bodies');\n",
    "var newestBookList = remove(add(bookList, 'A Brief History of Time'), 'On The Electrodynamics of Moving Bodies');\n",
    "\n",
    "console.log(bookList);"
   ]
  },
  {
   "cell_type": "markdown",
   "metadata": {},
   "source": [
    "- Solution 2:"
   ]
  },
  {
   "cell_type": "code",
   "execution_count": null,
   "metadata": {},
   "outputs": [],
   "source": [
    "// the global variable\n",
    "var bookList = [\"The Hound of the Baskervilles\", \"On The Electrodynamics of Moving Bodies\", \"Philosophiæ Naturalis Principia Mathematica\", \"Disquisitiones Arithmeticae\"];\n",
    "\n",
    "/* This function should add a book to the list and return the list */\n",
    "// New parameters should come before bookName\n",
    "\n",
    "function add(list, bookName) {\n",
    "  return [...list, bookName];\n",
    "}\n",
    "\n",
    "/* This function should remove a book from the list and return the list */\n",
    "// New parameters should come before the bookName one\n",
    "\n",
    "function remove(list, bookName) {\n",
    "  return list.filter(book => book !== bookName);\n",
    "}\n",
    "\n",
    "var newBookList = add(bookList, 'A Brief History of Time');\n",
    "var newerBookList = remove(bookList, 'On The Electrodynamics of Moving Bodies');\n",
    "var newestBookList = remove(add(bookList, 'A Brief History of Time'), 'On The Electrodynamics of Moving Bodies');\n",
    "\n",
    "console.log(bookList);"
   ]
  },
  {
   "cell_type": "markdown",
   "metadata": {},
   "source": [
    "### Functional Programming: Use the map Method to Extract Data from an Array"
   ]
  },
  {
   "cell_type": "markdown",
   "metadata": {},
   "source": [
    "- It would make sense to be able to pass them as arguments to other functions, and return a function from another function. Functions are considered first class objects in JavaScript, which means they can be used like any other object. They can be saved in variables, stored in an object, or passed as function arguments.\n",
    "\n",
    "- Let's start with some simple array functions, which are methods on the array object prototype. In this exercise we are looking at `Array.prototype.map()`, or more simply `map`.\n",
    "\n",
    "- The `map` method iterates over each item in an array and returns a new array containing the results of calling the callback function on each element. It does this without mutating the original array.\n",
    "\n",
    "- When the callback is used, it is passed three arguments. The first argument is the current element being processed. The second is the index of that element and the third is the array upon which the map method was called.\n",
    "\n",
    "- See below for an example using the map method on the users array to return a new array containing only the names of the users as elements. For simplicity, the example only uses the first argument of the callback."
   ]
  },
  {
   "cell_type": "code",
   "execution_count": null,
   "metadata": {},
   "outputs": [],
   "source": [
    "const users = [\n",
    "  { name: 'John', age: 34 },\n",
    "  { name: 'Amy', age: 20 },\n",
    "  { name: 'camperCat', age: 10 }\n",
    "];\n",
    "\n",
    "const names = users.map(user => user.name);\n",
    "console.log(names); // [ 'John', 'Amy', 'camperCat' ]"
   ]
  },
  {
   "cell_type": "markdown",
   "metadata": {},
   "source": [
    "- Example\n",
    "    - Solution 1:"
   ]
  },
  {
   "cell_type": "code",
   "execution_count": null,
   "metadata": {},
   "outputs": [],
   "source": [
    "// The global variable\n",
    "var watchList = [\n",
    "  {\n",
    "    \"Title\": \"Inception\",\n",
    "    \"Year\": \"2010\",\n",
    "    \"Rated\": \"PG-13\",\n",
    "    \"Released\": \"16 Jul 2010\",\n",
    "    \"Runtime\": \"148 min\",\n",
    "    \"Genre\": \"Action, Adventure, Crime\",\n",
    "    \"Director\": \"Christopher Nolan\",\n",
    "    \"Writer\": \"Christopher Nolan\",\n",
    "    \"Actors\": \"Leonardo DiCaprio, Joseph Gordon-Levitt, Ellen Page, Tom Hardy\",\n",
    "    \"Plot\": \"A thief, who steals corporate secrets through use of dream-sharing technology, is given the inverse task of planting an idea into the mind of a CEO.\",\n",
    "    \"Language\": \"English, Japanese, French\",\n",
    "    \"Country\": \"USA, UK\",\n",
    "    \"Awards\": \"Won 4 Oscars. Another 143 wins & 198 nominations.\",\n",
    "    \"Poster\": \"http://ia.media-imdb.com/images/M/MV5BMjAxMzY3NjcxNF5BMl5BanBnXkFtZTcwNTI5OTM0Mw@@._V1_SX300.jpg\",\n",
    "    \"Metascore\": \"74\",\n",
    "    \"imdbRating\": \"8.8\",\n",
    "    \"imdbVotes\": \"1,446,708\",\n",
    "    \"imdbID\": \"tt1375666\",\n",
    "    \"Type\": \"movie\",\n",
    "    \"Response\": \"True\"\n",
    "  },\n",
    "  {\n",
    "    \"Title\": \"Interstellar\",\n",
    "    \"Year\": \"2014\",\n",
    "    \"Rated\": \"PG-13\",\n",
    "    \"Released\": \"07 Nov 2014\",\n",
    "    \"Runtime\": \"169 min\",\n",
    "    \"Genre\": \"Adventure, Drama, Sci-Fi\",\n",
    "    \"Director\": \"Christopher Nolan\",\n",
    "    \"Writer\": \"Jonathan Nolan, Christopher Nolan\",\n",
    "    \"Actors\": \"Ellen Burstyn, Matthew McConaughey, Mackenzie Foy, John Lithgow\",\n",
    "    \"Plot\": \"A team of explorers travel through a wormhole in space in an attempt to ensure humanity's survival.\",\n",
    "    \"Language\": \"English\",\n",
    "    \"Country\": \"USA, UK\",\n",
    "    \"Awards\": \"Won 1 Oscar. Another 39 wins & 132 nominations.\",\n",
    "    \"Poster\": \"http://ia.media-imdb.com/images/M/MV5BMjIxNTU4MzY4MF5BMl5BanBnXkFtZTgwMzM4ODI3MjE@._V1_SX300.jpg\",\n",
    "    \"Metascore\": \"74\",\n",
    "    \"imdbRating\": \"8.6\",\n",
    "    \"imdbVotes\": \"910,366\",\n",
    "    \"imdbID\": \"tt0816692\",\n",
    "    \"Type\": \"movie\",\n",
    "    \"Response\": \"True\"\n",
    "  },\n",
    "  {\n",
    "    \"Title\": \"The Dark Knight\",\n",
    "    \"Year\": \"2008\",\n",
    "    \"Rated\": \"PG-13\",\n",
    "    \"Released\": \"18 Jul 2008\",\n",
    "    \"Runtime\": \"152 min\",\n",
    "    \"Genre\": \"Action, Adventure, Crime\",\n",
    "    \"Director\": \"Christopher Nolan\",\n",
    "    \"Writer\": \"Jonathan Nolan (screenplay), Christopher Nolan (screenplay), Christopher Nolan (story), David S. Goyer (story), Bob Kane (characters)\",\n",
    "    \"Actors\": \"Christian Bale, Heath Ledger, Aaron Eckhart, Michael Caine\",\n",
    "    \"Plot\": \"When the menace known as the Joker wreaks havoc and chaos on the people of Gotham, the caped crusader must come to terms with one of the greatest psychological tests of his ability to fight injustice.\",\n",
    "    \"Language\": \"English, Mandarin\",\n",
    "    \"Country\": \"USA, UK\",\n",
    "    \"Awards\": \"Won 2 Oscars. Another 146 wins & 142 nominations.\",\n",
    "    \"Poster\": \"http://ia.media-imdb.com/images/M/MV5BMTMxNTMwODM0NF5BMl5BanBnXkFtZTcwODAyMTk2Mw@@._V1_SX300.jpg\",\n",
    "    \"Metascore\": \"82\",\n",
    "    \"imdbRating\": \"9.0\",\n",
    "    \"imdbVotes\": \"1,652,832\",\n",
    "    \"imdbID\": \"tt0468569\",\n",
    "    \"Type\": \"movie\",\n",
    "    \"Response\": \"True\"\n",
    "  },\n",
    "  {\n",
    "    \"Title\": \"Batman Begins\",\n",
    "    \"Year\": \"2005\",\n",
    "    \"Rated\": \"PG-13\",\n",
    "    \"Released\": \"15 Jun 2005\",\n",
    "    \"Runtime\": \"140 min\",\n",
    "    \"Genre\": \"Action, Adventure\",\n",
    "    \"Director\": \"Christopher Nolan\",\n",
    "    \"Writer\": \"Bob Kane (characters), David S. Goyer (story), Christopher Nolan (screenplay), David S. Goyer (screenplay)\",\n",
    "    \"Actors\": \"Christian Bale, Michael Caine, Liam Neeson, Katie Holmes\",\n",
    "    \"Plot\": \"After training with his mentor, Batman begins his fight to free crime-ridden Gotham City from the corruption that Scarecrow and the League of Shadows have cast upon it.\",\n",
    "    \"Language\": \"English, Urdu, Mandarin\",\n",
    "    \"Country\": \"USA, UK\",\n",
    "    \"Awards\": \"Nominated for 1 Oscar. Another 15 wins & 66 nominations.\",\n",
    "    \"Poster\": \"http://ia.media-imdb.com/images/M/MV5BNTM3OTc0MzM2OV5BMl5BanBnXkFtZTYwNzUwMTI3._V1_SX300.jpg\",\n",
    "    \"Metascore\": \"70\",\n",
    "    \"imdbRating\": \"8.3\",\n",
    "    \"imdbVotes\": \"972,584\",\n",
    "    \"imdbID\": \"tt0372784\",\n",
    "    \"Type\": \"movie\",\n",
    "    \"Response\": \"True\"\n",
    "  },\n",
    "  {\n",
    "    \"Title\": \"Avatar\",\n",
    "    \"Year\": \"2009\",\n",
    "    \"Rated\": \"PG-13\",\n",
    "    \"Released\": \"18 Dec 2009\",\n",
    "    \"Runtime\": \"162 min\",\n",
    "    \"Genre\": \"Action, Adventure, Fantasy\",\n",
    "    \"Director\": \"James Cameron\",\n",
    "    \"Writer\": \"James Cameron\",\n",
    "    \"Actors\": \"Sam Worthington, Zoe Saldana, Sigourney Weaver, Stephen Lang\",\n",
    "    \"Plot\": \"A paraplegic marine dispatched to the moon Pandora on a unique mission becomes torn between following his orders and protecting the world he feels is his home.\",\n",
    "    \"Language\": \"English, Spanish\",\n",
    "    \"Country\": \"USA, UK\",\n",
    "    \"Awards\": \"Won 3 Oscars. Another 80 wins & 121 nominations.\",\n",
    "    \"Poster\": \"http://ia.media-imdb.com/images/M/MV5BMTYwOTEwNjAzMl5BMl5BanBnXkFtZTcwODc5MTUwMw@@._V1_SX300.jpg\",\n",
    "    \"Metascore\": \"83\",\n",
    "    \"imdbRating\": \"7.9\",\n",
    "    \"imdbVotes\": \"876,575\",\n",
    "    \"imdbID\": \"tt0499549\",\n",
    "    \"Type\": \"movie\",\n",
    "    \"Response\": \"True\"\n",
    "  }\n",
    "];\n",
    "\n",
    "\n",
    "const ratings = watchList.map( item =>({ title: item[\"Title\"], rating: item[\"imdbRating\"] }));\n",
    "\n",
    "console.log(JSON.stringify(ratings));\n"
   ]
  },
  {
   "cell_type": "markdown",
   "metadata": {},
   "source": [
    "- Solution 2: Using ES6 notation, each item in array is processed to extract title and rating. Parantheses are needed to return an object."
   ]
  },
  {
   "cell_type": "code",
   "execution_count": null,
   "metadata": {},
   "outputs": [],
   "source": [
    "const ratings = watchList.map(({ Title: title, imdbRating: rating }) => ({title, rating}));"
   ]
  },
  {
   "cell_type": "markdown",
   "metadata": {},
   "source": [
    "### Functional Programming: Implement map on a Prototype"
   ]
  },
  {
   "cell_type": "markdown",
   "metadata": {},
   "source": [
    "- the `map` method returns an array of the same length as the one it was called on. It also doesn't alter the original array, as long as its callback function doesn't.\n",
    "- In other words, `map` is a pure function, and its output depends solely on its inputs. Plus, it takes another function as its argument.\n",
    "- It would teach us a lot about `map` to try to implement a version of it that behaves exactly like the `Array.prototype.map()` with a `for` loop or `Array.prototype.forEach()`.\n",
    "- Note: A pure function is allowed to alter local variables defined within its scope, although, it's preferable to avoid that as well."
   ]
  },
  {
   "cell_type": "markdown",
   "metadata": {},
   "source": [
    "- Example: Write your own `Array.prototype.myMap()`, which should behave exactly like `Array.prototype.map()`. You may use a `for` loop or the `forEach` method."
   ]
  },
  {
   "cell_type": "markdown",
   "metadata": {},
   "source": [
    "#### Solution 1:"
   ]
  },
  {
   "cell_type": "code",
   "execution_count": null,
   "metadata": {},
   "outputs": [],
   "source": [
    "// the global Array\n",
    "var s = [23, 65, 98, 5];\n",
    "\n",
    "Array.prototype.myMap = function(callback) {\n",
    "  var newArray = [];\n",
    "  this.forEach(a => newArray.push(callback(a)));\n",
    "  return newArray;\n",
    "};\n",
    "\n",
    "var new_s = s.myMap(function(item) {\n",
    "  return item * 2;\n",
    "});"
   ]
  },
  {
   "cell_type": "markdown",
   "metadata": {},
   "source": [
    "#### Solution 1, Code Explanation:"
   ]
  },
  {
   "cell_type": "markdown",
   "metadata": {},
   "source": [
    "- Solve this challenge using this and the forEach method\n",
    "\n",
    "- The this keyword gives us access to the object we are calling myMap on.\n",
    "\n",
    "- From there we can use the forEach method to add elements to already declared empty array as we modify each element with the given callback method."
   ]
  },
  {
   "cell_type": "markdown",
   "metadata": {},
   "source": [
    "#### Solution 2:"
   ]
  },
  {
   "cell_type": "code",
   "execution_count": null,
   "metadata": {},
   "outputs": [],
   "source": [
    "// The global Array\n",
    "var s = [23, 65, 98, 5];\n",
    "\n",
    "Array.prototype.myMap = function(callback) {\n",
    "  var newArray = [];\n",
    "  for (let i = 0; i < this.length; i++) {\n",
    "    newArray.push(callback(this[i]));\n",
    "  }\n",
    "  return newArray;\n",
    "};\n",
    "\n",
    "var new_s = s.myMap(function(item) {\n",
    "  return item * 2;\n",
    "});"
   ]
  },
  {
   "cell_type": "markdown",
   "metadata": {},
   "source": [
    "#### Solution 2, Code Explanation"
   ]
  },
  {
   "cell_type": "markdown",
   "metadata": {},
   "source": [
    "- Solve this challenge using a “for” loop and this\n",
    "\n",
    "- The use of a “for” loop allows us to apply the callback function to every item in the Global array and then push the modified items to the empty new array that is returned in the end."
   ]
  },
  {
   "cell_type": "markdown",
   "metadata": {},
   "source": [
    "#### Solution 3:"
   ]
  },
  {
   "cell_type": "code",
   "execution_count": null,
   "metadata": {},
   "outputs": [],
   "source": [
    "// The global Array\n",
    "var s = [23, 65, 98, 5];\n",
    "\n",
    "Array.prototype.myMap = function(callback, arr = [], i = 0) {\n",
    "  return i < this.length\n",
    "    ? this.myMap(callback, arr.concat(callback(this[i])), i + 1)\n",
    "    : arr;\n",
    "};\n",
    "\n",
    "var new_s = s.myMap(function(item) {\n",
    "  return item * 2;\n",
    "});"
   ]
  },
  {
   "cell_type": "markdown",
   "metadata": {},
   "source": [
    "### Functional Programming: Use the filter Method to Extract Data from an Array"
   ]
  },
  {
   "cell_type": "markdown",
   "metadata": {},
   "source": [
    "- Another useful array function is `Array.prototype.filter()`, or simply `filter()`.\n",
    "\n",
    "- `filter` calls a function on each element of an array and returns a new array containing only the elements for which that function returns `true`. In other words, it filters the array, based on the function passed to it. Like `map`, it does this without needing to modify the original array.\n",
    "\n",
    "- The callback function accepts three arguments. The first argument is the current element being processed. The second is the index of that element and the third is the array upon which the `filter` method was called.\n",
    "\n",
    "- See below for an example using the `filter` method on the users array to return a new array containing only the `users` under the age of 30. For simplicity, the example only uses the first argument of the callback."
   ]
  },
  {
   "cell_type": "code",
   "execution_count": null,
   "metadata": {},
   "outputs": [],
   "source": [
    "const users = [\n",
    "  { name: 'John', age: 34 },\n",
    "  { name: 'Amy', age: 20 },\n",
    "  { name: 'camperCat', age: 10 }\n",
    "];\n",
    "\n",
    "const usersUnder30 = users.filter(user => user.age < 30);\n",
    "console.log(usersUnder30); // [ { name: 'Amy', age: 20 }, { name: 'camperCat', age: 10 } ]"
   ]
  },
  {
   "cell_type": "markdown",
   "metadata": {},
   "source": [
    "- Example: The variable `watchList` holds an array of objects with information on several movies. Use a combination of `filter` and `map` on `watchList` to assign a new array of objects with only `title` and `rating` keys. The new array should only include objects where `imdbRating` is greater than or equal to 8.0. Note that the rating values are saved as strings in the object and you may need to convert them into numbers to perform mathematical operations on them."
   ]
  },
  {
   "cell_type": "markdown",
   "metadata": {},
   "source": [
    "- Solution 1:"
   ]
  },
  {
   "cell_type": "code",
   "execution_count": null,
   "metadata": {},
   "outputs": [],
   "source": [
    "// The global variable\n",
    "var watchList = [\n",
    "  {\n",
    "    \"Title\": \"Inception\",\n",
    "    \"Year\": \"2010\",\n",
    "    \"Rated\": \"PG-13\",\n",
    "    \"Released\": \"16 Jul 2010\",\n",
    "    \"Runtime\": \"148 min\",\n",
    "    \"Genre\": \"Action, Adventure, Crime\",\n",
    "    \"Director\": \"Christopher Nolan\",\n",
    "    \"Writer\": \"Christopher Nolan\",\n",
    "    \"Actors\": \"Leonardo DiCaprio, Joseph Gordon-Levitt, Ellen Page, Tom Hardy\",\n",
    "    \"Plot\": \"A thief, who steals corporate secrets through use of dream-sharing technology, is given the inverse task of planting an idea into the mind of a CEO.\",\n",
    "    \"Language\": \"English, Japanese, French\",\n",
    "    \"Country\": \"USA, UK\",\n",
    "    \"Awards\": \"Won 4 Oscars. Another 143 wins & 198 nominations.\",\n",
    "    \"Poster\": \"http://ia.media-imdb.com/images/M/MV5BMjAxMzY3NjcxNF5BMl5BanBnXkFtZTcwNTI5OTM0Mw@@._V1_SX300.jpg\",\n",
    "    \"Metascore\": \"74\",\n",
    "    \"imdbRating\": \"8.8\",\n",
    "    \"imdbVotes\": \"1,446,708\",\n",
    "    \"imdbID\": \"tt1375666\",\n",
    "    \"Type\": \"movie\",\n",
    "    \"Response\": \"True\"\n",
    "  },\n",
    "  {\n",
    "    \"Title\": \"Interstellar\",\n",
    "    \"Year\": \"2014\",\n",
    "    \"Rated\": \"PG-13\",\n",
    "    \"Released\": \"07 Nov 2014\",\n",
    "    \"Runtime\": \"169 min\",\n",
    "    \"Genre\": \"Adventure, Drama, Sci-Fi\",\n",
    "    \"Director\": \"Christopher Nolan\",\n",
    "    \"Writer\": \"Jonathan Nolan, Christopher Nolan\",\n",
    "    \"Actors\": \"Ellen Burstyn, Matthew McConaughey, Mackenzie Foy, John Lithgow\",\n",
    "    \"Plot\": \"A team of explorers travel through a wormhole in space in an attempt to ensure humanity's survival.\",\n",
    "    \"Language\": \"English\",\n",
    "    \"Country\": \"USA, UK\",\n",
    "    \"Awards\": \"Won 1 Oscar. Another 39 wins & 132 nominations.\",\n",
    "    \"Poster\": \"http://ia.media-imdb.com/images/M/MV5BMjIxNTU4MzY4MF5BMl5BanBnXkFtZTgwMzM4ODI3MjE@._V1_SX300.jpg\",\n",
    "    \"Metascore\": \"74\",\n",
    "    \"imdbRating\": \"8.6\",\n",
    "    \"imdbVotes\": \"910,366\",\n",
    "    \"imdbID\": \"tt0816692\",\n",
    "    \"Type\": \"movie\",\n",
    "    \"Response\": \"True\"\n",
    "  },\n",
    "  {\n",
    "    \"Title\": \"The Dark Knight\",\n",
    "    \"Year\": \"2008\",\n",
    "    \"Rated\": \"PG-13\",\n",
    "    \"Released\": \"18 Jul 2008\",\n",
    "    \"Runtime\": \"152 min\",\n",
    "    \"Genre\": \"Action, Adventure, Crime\",\n",
    "    \"Director\": \"Christopher Nolan\",\n",
    "    \"Writer\": \"Jonathan Nolan (screenplay), Christopher Nolan (screenplay), Christopher Nolan (story), David S. Goyer (story), Bob Kane (characters)\",\n",
    "    \"Actors\": \"Christian Bale, Heath Ledger, Aaron Eckhart, Michael Caine\",\n",
    "    \"Plot\": \"When the menace known as the Joker wreaks havoc and chaos on the people of Gotham, the caped crusader must come to terms with one of the greatest psychological tests of his ability to fight injustice.\",\n",
    "    \"Language\": \"English, Mandarin\",\n",
    "    \"Country\": \"USA, UK\",\n",
    "    \"Awards\": \"Won 2 Oscars. Another 146 wins & 142 nominations.\",\n",
    "    \"Poster\": \"http://ia.media-imdb.com/images/M/MV5BMTMxNTMwODM0NF5BMl5BanBnXkFtZTcwODAyMTk2Mw@@._V1_SX300.jpg\",\n",
    "    \"Metascore\": \"82\",\n",
    "    \"imdbRating\": \"9.0\",\n",
    "    \"imdbVotes\": \"1,652,832\",\n",
    "    \"imdbID\": \"tt0468569\",\n",
    "    \"Type\": \"movie\",\n",
    "    \"Response\": \"True\"\n",
    "  },\n",
    "  {\n",
    "    \"Title\": \"Batman Begins\",\n",
    "    \"Year\": \"2005\",\n",
    "    \"Rated\": \"PG-13\",\n",
    "    \"Released\": \"15 Jun 2005\",\n",
    "    \"Runtime\": \"140 min\",\n",
    "    \"Genre\": \"Action, Adventure\",\n",
    "    \"Director\": \"Christopher Nolan\",\n",
    "    \"Writer\": \"Bob Kane (characters), David S. Goyer (story), Christopher Nolan (screenplay), David S. Goyer (screenplay)\",\n",
    "    \"Actors\": \"Christian Bale, Michael Caine, Liam Neeson, Katie Holmes\",\n",
    "    \"Plot\": \"After training with his mentor, Batman begins his fight to free crime-ridden Gotham City from the corruption that Scarecrow and the League of Shadows have cast upon it.\",\n",
    "    \"Language\": \"English, Urdu, Mandarin\",\n",
    "    \"Country\": \"USA, UK\",\n",
    "    \"Awards\": \"Nominated for 1 Oscar. Another 15 wins & 66 nominations.\",\n",
    "    \"Poster\": \"http://ia.media-imdb.com/images/M/MV5BNTM3OTc0MzM2OV5BMl5BanBnXkFtZTYwNzUwMTI3._V1_SX300.jpg\",\n",
    "    \"Metascore\": \"70\",\n",
    "    \"imdbRating\": \"8.3\",\n",
    "    \"imdbVotes\": \"972,584\",\n",
    "    \"imdbID\": \"tt0372784\",\n",
    "    \"Type\": \"movie\",\n",
    "    \"Response\": \"True\"\n",
    "  },\n",
    "  {\n",
    "    \"Title\": \"Avatar\",\n",
    "    \"Year\": \"2009\",\n",
    "    \"Rated\": \"PG-13\",\n",
    "    \"Released\": \"18 Dec 2009\",\n",
    "    \"Runtime\": \"162 min\",\n",
    "    \"Genre\": \"Action, Adventure, Fantasy\",\n",
    "    \"Director\": \"James Cameron\",\n",
    "    \"Writer\": \"James Cameron\",\n",
    "    \"Actors\": \"Sam Worthington, Zoe Saldana, Sigourney Weaver, Stephen Lang\",\n",
    "    \"Plot\": \"A paraplegic marine dispatched to the moon Pandora on a unique mission becomes torn between following his orders and protecting the world he feels is his home.\",\n",
    "    \"Language\": \"English, Spanish\",\n",
    "    \"Country\": \"USA, UK\",\n",
    "    \"Awards\": \"Won 3 Oscars. Another 80 wins & 121 nominations.\",\n",
    "    \"Poster\": \"http://ia.media-imdb.com/images/M/MV5BMTYwOTEwNjAzMl5BMl5BanBnXkFtZTcwODc5MTUwMw@@._V1_SX300.jpg\",\n",
    "    \"Metascore\": \"83\",\n",
    "    \"imdbRating\": \"7.9\",\n",
    "    \"imdbVotes\": \"876,575\",\n",
    "    \"imdbID\": \"tt0499549\",\n",
    "    \"Type\": \"movie\",\n",
    "    \"Response\": \"True\"\n",
    "  }\n",
    "];\n",
    "\n",
    "var filteredList = watchList\n",
    "  .map(movie => {\n",
    "    return {\n",
    "      title: movie.Title,\n",
    "      rating: movie.imdbRating\n",
    "    };\n",
    "  })\n",
    "  .filter(movie => {\n",
    "    // return true it will keep the item\n",
    "    // return false it will reject the item\n",
    "    return parseFloat(movie.rating) >= 8.0;\n",
    "  });\n",
    "\n",
    "console.log(filteredList);"
   ]
  },
  {
   "cell_type": "markdown",
   "metadata": {},
   "source": [
    "#### Solution 2:"
   ]
  },
  {
   "cell_type": "code",
   "execution_count": null,
   "metadata": {},
   "outputs": [],
   "source": [
    "var filteredList = watchList\n",
    "  .map(function(e) {\n",
    "    return { title: e[\"Title\"], rating: e[\"imdbRating\"] };\n",
    "  })\n",
    "  .filter(e => e.rating >= 8);\n",
    "\n",
    "console.log(filteredList);"
   ]
  },
  {
   "cell_type": "markdown",
   "metadata": {},
   "source": [
    "### Functional Programming: Implement the filter Method on a Prototype"
   ]
  },
  {
   "cell_type": "markdown",
   "metadata": {},
   "source": [
    "- It would teach us a lot about the `filter` method if we try to implement a version of it that behaves exactly like `Array.prototype.filter()`. It can use either a `for` loop or `Array.prototype.forEach()`.\n",
    "\n",
    "- Note: A pure function is allowed to alter local variables defined within its scope, although, it's preferable to avoid that as well."
   ]
  },
  {
   "cell_type": "markdown",
   "metadata": {},
   "source": [
    "- Example: Write your own `Array.prototype.myFilter()`, which should behave exactly like `Array.prototype.filter()`. You may use a `for` loop or the `Array.prototype.forEach()` method."
   ]
  },
  {
   "cell_type": "markdown",
   "metadata": {},
   "source": [
    "#### Solution 1:"
   ]
  },
  {
   "cell_type": "code",
   "execution_count": null,
   "metadata": {},
   "outputs": [],
   "source": [
    "// The global variable\n",
    "let s = [23, 65, 98, 5];\n",
    "\n",
    "Array.prototype.myFilter = function(callback){\n",
    "  let newArray = [];\n",
    "  this.forEach(function(x) {\n",
    "    if (callback(x) == true) {\n",
    "      newArray.push(x);\n",
    "    }\n",
    "  });\n",
    "  return newArray;\n",
    "};\n",
    "\n",
    "let new_s = s.myFilter(function(item){\n",
    "  return item % 2 === 1;\n",
    "});"
   ]
  },
  {
   "cell_type": "markdown",
   "metadata": {},
   "source": [
    "#### Solution 2:"
   ]
  },
  {
   "cell_type": "code",
   "execution_count": null,
   "metadata": {},
   "outputs": [],
   "source": [
    "let s = [23,65,98,5];\n",
    "\n",
    "Array.prototype.myFilter = function(callback) {\n",
    "  var newArray = [];\n",
    "  for (let i = 0; i < this.length; i++) {\n",
    "    if (callback(this[i]) === true) {\n",
    "      newArray.push(this[i]);\n",
    "    }\n",
    "  }\n",
    "  return newArray;\n",
    "};\n",
    "\n",
    "var new_s = s.myFilter(function(item) {\n",
    "  return item % 2 === 1;\n",
    "});"
   ]
  },
  {
   "cell_type": "markdown",
   "metadata": {},
   "source": [
    "### Functional Programming: Return Part of an Array Using the slice Method"
   ]
  },
  {
   "cell_type": "markdown",
   "metadata": {},
   "source": [
    "- The `slice` method returns a copy of certain elements of an array. \n",
    "- It can take two arguments, the first gives the index of where to begin the slice, the second is the index for where to end the slice (and it's non-inclusive). \n",
    "- If the arguments are not provided, the default is to start at the beginning of the array through the end, which is an easy way to make a copy of the entire array. \n",
    "- The `slice` method does not mutate the original array, but returns a new one."
   ]
  },
  {
   "cell_type": "code",
   "execution_count": null,
   "metadata": {},
   "outputs": [],
   "source": [
    "var arr = [\"Cat\", \"Dog\", \"Tiger\", \"Zebra\"];\n",
    "var newArray = arr.slice(1, 3);\n",
    "// Sets newArray to [\"Dog\", \"Tiger\"]"
   ]
  },
  {
   "cell_type": "markdown",
   "metadata": {},
   "source": [
    "- Example: Use the slice method in the sliceArray function to return part of the anim array given the provided beginSlice and endSlice indices. The function should return an array."
   ]
  },
  {
   "cell_type": "code",
   "execution_count": null,
   "metadata": {},
   "outputs": [],
   "source": [
    "function sliceArray(anim, beginSlice, endSlice) {\n",
    "    return anim.slice(beginSlice,endSlice);\n",
    "}\n",
    "\n",
    "var inputAnim = [\"Cat\", \"Dog\", \"Tiger\", \"Zebra\", \"Ant\"];\n",
    "sliceArray(inputAnim, 1, 3);"
   ]
  },
  {
   "cell_type": "markdown",
   "metadata": {},
   "source": [
    "### Functional Programming: Remove Elements from an Array Using slice Instead of splice"
   ]
  },
  {
   "cell_type": "markdown",
   "metadata": {},
   "source": [
    "- A common pattern while working with arrays is when you want to remove items and keep the rest of the array. JavaScript offers the `splice` method for this, which takes arguments for the index of where to start removing items, then the number of items to remove. If the second argument is not provided, the default is to remove items through the end. However, the `splice` method mutates the original array it is called on."
   ]
  },
  {
   "cell_type": "code",
   "execution_count": null,
   "metadata": {},
   "outputs": [],
   "source": [
    "var cities = [\"Chicago\", \"Delhi\", \"Islamabad\", \"London\", \"Berlin\"];\n",
    "cities.splice(3, 1); // Returns \"London\" and deletes it from the cities array\n",
    "// cities is now [\"Chicago\", \"Delhi\", \"Islamabad\", \"Berlin\"]"
   ]
  },
  {
   "cell_type": "markdown",
   "metadata": {},
   "source": [
    "- the `slice` method does not mutate the original array, but returns a new one which can be saved into a variable. Recall that the `slice` method takes two arguments for the indices to begin and end the slice (the end is non-inclusive), and returns those items in a new array. Using the `slice` method instead of `splice` helps to avoid any array-mutating side effects."
   ]
  },
  {
   "cell_type": "markdown",
   "metadata": {},
   "source": [
    "### Functional Programming: Combine Two Arrays Using the concat Method"
   ]
  },
  {
   "cell_type": "markdown",
   "metadata": {},
   "source": [
    "- ___Concatenation___ means to join items end to end. JavaScript offers the `concat` method for both strings and arrays that work in the same way. For arrays, the method is called on one, then another array is provided as the argument to `concat`, which is added to the end of the first array. It returns a new array and does not mutate either of the original arrays. "
   ]
  },
  {
   "cell_type": "code",
   "execution_count": null,
   "metadata": {},
   "outputs": [],
   "source": [
    "[1, 2, 3].concat([4, 5, 6]);\n",
    "// Returns a new array [1, 2, 3, 4, 5, 6]"
   ]
  },
  {
   "cell_type": "markdown",
   "metadata": {},
   "source": [
    "### Functional Programming: Add Elements to the End of an Array Using concat Instead of push"
   ]
  },
  {
   "cell_type": "markdown",
   "metadata": {},
   "source": [
    "- `Concat` offers a way to add new items to the end of an array without any mutating side effects.\n",
    "- Compare `concat` to the `push` method. `Push` adds an item to the end of the same array it is called on, which mutates that array. Here's an example:"
   ]
  },
  {
   "cell_type": "code",
   "execution_count": null,
   "metadata": {},
   "outputs": [],
   "source": [
    "var arr = [1, 2, 3];\n",
    "arr.push([4, 5, 6]);\n",
    "// arr is changed to [1, 2, 3, [4, 5, 6]]\n",
    "// Not the functional programming way"
   ]
  },
  {
   "cell_type": "markdown",
   "metadata": {},
   "source": [
    "### Functional Programming: Use the reduce Method to Analyze Data"
   ]
  },
  {
   "cell_type": "markdown",
   "metadata": {},
   "source": [
    "- `Array.prototype.reduce()`, or simply `reduce()`, is the most general of all array operations in JavaScript. You can solve almost any array processing problem using the reduce method.\n",
    "\n",
    "- The `reduce` method allows for more general forms of array processing, and it's possible to show that both `filter` and `map` can be derived as special applications of `reduce`. The `reduce` method iterates over each item in an array and returns a single value (i.e. string, number, object, array). This is achieved via a callback function that is called on each iteration.\n",
    "\n",
    "- The callback function accepts four arguments. The first argument is known as the accumulator, which gets assigned the return value of the callback function from the previous iteration, the second is the current element being processed, the third is the index of that element and the fourth is the array upon which `reduce` is called.\n",
    "\n",
    "- In addition to the callback function, `reduce` has an additional parameter which takes an initial value for the accumulator. If this second parameter is not used, then the first iteration is skipped and the second iteration gets passed the first element of the array as the accumulator.\n",
    "\n",
    "- See below for an example using `reduce` on the `users` array to return the sum of all the users' ages. For simplicity, the example only uses the first and second arguments."
   ]
  },
  {
   "cell_type": "code",
   "execution_count": null,
   "metadata": {},
   "outputs": [],
   "source": [
    "const users = [\n",
    "  { name: 'John', age: 34 },\n",
    "  { name: 'Amy', age: 20 },\n",
    "  { name: 'camperCat', age: 10 }\n",
    "];\n",
    "\n",
    "const sumOfAges = users.reduce((sum, user) => sum + user.age, 0);\n",
    "console.log(sumOfAges); // 64"
   ]
  },
  {
   "cell_type": "markdown",
   "metadata": {},
   "source": [
    "- In another example, see how an object can be returned containing the names of the users as properties with their ages as values."
   ]
  },
  {
   "cell_type": "code",
   "execution_count": null,
   "metadata": {},
   "outputs": [],
   "source": [
    "const users = [\n",
    "  { name: 'John', age: 34 },\n",
    "  { name: 'Amy', age: 20 },\n",
    "  { name: 'camperCat', age: 10 }\n",
    "];\n",
    "\n",
    "const usersObj = users.reduce((obj, user) => {\n",
    "  obj[user.name] = user.age;\n",
    "  return obj;\n",
    "}, {});\n",
    "console.log(usersObj); // { John: 34, Amy: 20, camperCat: 10 }"
   ]
  },
  {
   "cell_type": "markdown",
   "metadata": {},
   "source": [
    "- Example: The variable `watchList` holds an array of objects with information on several movies. Use `reduce` to find the average IMDB rating of the movies directed by Christopher Nolan. Recall from prior challenges how to `filter` data and `map` over it to pull what you need. You may need to create other variables, and return the average rating from `getRating` function. Note that the rating values are saved as strings in the object and need to be converted into numbers before they are used in any mathematical operations."
   ]
  },
  {
   "cell_type": "markdown",
   "metadata": {},
   "source": [
    "#### My Solution:"
   ]
  },
  {
   "cell_type": "code",
   "execution_count": null,
   "metadata": {},
   "outputs": [],
   "source": [
    "// The global variable\n",
    "var watchList = [\n",
    "  {\n",
    "    \"Title\": \"Inception\",\n",
    "    \"Year\": \"2010\",\n",
    "    \"Rated\": \"PG-13\",\n",
    "    \"Released\": \"16 Jul 2010\",\n",
    "    \"Runtime\": \"148 min\",\n",
    "    \"Genre\": \"Action, Adventure, Crime\",\n",
    "    \"Director\": \"Christopher Nolan\",\n",
    "    \"Writer\": \"Christopher Nolan\",\n",
    "    \"Actors\": \"Leonardo DiCaprio, Joseph Gordon-Levitt, Ellen Page, Tom Hardy\",\n",
    "    \"Plot\": \"A thief, who steals corporate secrets through use of dream-sharing technology, is given the inverse task of planting an idea into the mind of a CEO.\",\n",
    "    \"Language\": \"English, Japanese, French\",\n",
    "    \"Country\": \"USA, UK\",\n",
    "    \"Awards\": \"Won 4 Oscars. Another 143 wins & 198 nominations.\",\n",
    "    \"Poster\": \"http://ia.media-imdb.com/images/M/MV5BMjAxMzY3NjcxNF5BMl5BanBnXkFtZTcwNTI5OTM0Mw@@._V1_SX300.jpg\",\n",
    "    \"Metascore\": \"74\",\n",
    "    \"imdbRating\": \"8.8\",\n",
    "    \"imdbVotes\": \"1,446,708\",\n",
    "    \"imdbID\": \"tt1375666\",\n",
    "    \"Type\": \"movie\",\n",
    "    \"Response\": \"True\"\n",
    "  },\n",
    "  {\n",
    "    \"Title\": \"Interstellar\",\n",
    "    \"Year\": \"2014\",\n",
    "    \"Rated\": \"PG-13\",\n",
    "    \"Released\": \"07 Nov 2014\",\n",
    "    \"Runtime\": \"169 min\",\n",
    "    \"Genre\": \"Adventure, Drama, Sci-Fi\",\n",
    "    \"Director\": \"Christopher Nolan\",\n",
    "    \"Writer\": \"Jonathan Nolan, Christopher Nolan\",\n",
    "    \"Actors\": \"Ellen Burstyn, Matthew McConaughey, Mackenzie Foy, John Lithgow\",\n",
    "    \"Plot\": \"A team of explorers travel through a wormhole in space in an attempt to ensure humanity's survival.\",\n",
    "    \"Language\": \"English\",\n",
    "    \"Country\": \"USA, UK\",\n",
    "    \"Awards\": \"Won 1 Oscar. Another 39 wins & 132 nominations.\",\n",
    "    \"Poster\": \"http://ia.media-imdb.com/images/M/MV5BMjIxNTU4MzY4MF5BMl5BanBnXkFtZTgwMzM4ODI3MjE@._V1_SX300.jpg\",\n",
    "    \"Metascore\": \"74\",\n",
    "    \"imdbRating\": \"8.6\",\n",
    "    \"imdbVotes\": \"910,366\",\n",
    "    \"imdbID\": \"tt0816692\",\n",
    "    \"Type\": \"movie\",\n",
    "    \"Response\": \"True\"\n",
    "  },\n",
    "  {\n",
    "    \"Title\": \"The Dark Knight\",\n",
    "    \"Year\": \"2008\",\n",
    "    \"Rated\": \"PG-13\",\n",
    "    \"Released\": \"18 Jul 2008\",\n",
    "    \"Runtime\": \"152 min\",\n",
    "    \"Genre\": \"Action, Adventure, Crime\",\n",
    "    \"Director\": \"Christopher Nolan\",\n",
    "    \"Writer\": \"Jonathan Nolan (screenplay), Christopher Nolan (screenplay), Christopher Nolan (story), David S. Goyer (story), Bob Kane (characters)\",\n",
    "    \"Actors\": \"Christian Bale, Heath Ledger, Aaron Eckhart, Michael Caine\",\n",
    "    \"Plot\": \"When the menace known as the Joker wreaks havoc and chaos on the people of Gotham, the caped crusader must come to terms with one of the greatest psychological tests of his ability to fight injustice.\",\n",
    "    \"Language\": \"English, Mandarin\",\n",
    "    \"Country\": \"USA, UK\",\n",
    "    \"Awards\": \"Won 2 Oscars. Another 146 wins & 142 nominations.\",\n",
    "    \"Poster\": \"http://ia.media-imdb.com/images/M/MV5BMTMxNTMwODM0NF5BMl5BanBnXkFtZTcwODAyMTk2Mw@@._V1_SX300.jpg\",\n",
    "    \"Metascore\": \"82\",\n",
    "    \"imdbRating\": \"9.0\",\n",
    "    \"imdbVotes\": \"1,652,832\",\n",
    "    \"imdbID\": \"tt0468569\",\n",
    "    \"Type\": \"movie\",\n",
    "    \"Response\": \"True\"\n",
    "  },\n",
    "  {\n",
    "    \"Title\": \"Batman Begins\",\n",
    "    \"Year\": \"2005\",\n",
    "    \"Rated\": \"PG-13\",\n",
    "    \"Released\": \"15 Jun 2005\",\n",
    "    \"Runtime\": \"140 min\",\n",
    "    \"Genre\": \"Action, Adventure\",\n",
    "    \"Director\": \"Christopher Nolan\",\n",
    "    \"Writer\": \"Bob Kane (characters), David S. Goyer (story), Christopher Nolan (screenplay), David S. Goyer (screenplay)\",\n",
    "    \"Actors\": \"Christian Bale, Michael Caine, Liam Neeson, Katie Holmes\",\n",
    "    \"Plot\": \"After training with his mentor, Batman begins his fight to free crime-ridden Gotham City from the corruption that Scarecrow and the League of Shadows have cast upon it.\",\n",
    "    \"Language\": \"English, Urdu, Mandarin\",\n",
    "    \"Country\": \"USA, UK\",\n",
    "    \"Awards\": \"Nominated for 1 Oscar. Another 15 wins & 66 nominations.\",\n",
    "    \"Poster\": \"http://ia.media-imdb.com/images/M/MV5BNTM3OTc0MzM2OV5BMl5BanBnXkFtZTYwNzUwMTI3._V1_SX300.jpg\",\n",
    "    \"Metascore\": \"70\",\n",
    "    \"imdbRating\": \"8.3\",\n",
    "    \"imdbVotes\": \"972,584\",\n",
    "    \"imdbID\": \"tt0372784\",\n",
    "    \"Type\": \"movie\",\n",
    "    \"Response\": \"True\"\n",
    "  },\n",
    "  {\n",
    "    \"Title\": \"Avatar\",\n",
    "    \"Year\": \"2009\",\n",
    "    \"Rated\": \"PG-13\",\n",
    "    \"Released\": \"18 Dec 2009\",\n",
    "    \"Runtime\": \"162 min\",\n",
    "    \"Genre\": \"Action, Adventure, Fantasy\",\n",
    "    \"Director\": \"James Cameron\",\n",
    "    \"Writer\": \"James Cameron\",\n",
    "    \"Actors\": \"Sam Worthington, Zoe Saldana, Sigourney Weaver, Stephen Lang\",\n",
    "    \"Plot\": \"A paraplegic marine dispatched to the moon Pandora on a unique mission becomes torn between following his orders and protecting the world he feels is his home.\",\n",
    "    \"Language\": \"English, Spanish\",\n",
    "    \"Country\": \"USA, UK\",\n",
    "    \"Awards\": \"Won 3 Oscars. Another 80 wins & 121 nominations.\",\n",
    "    \"Poster\": \"http://ia.media-imdb.com/images/M/MV5BMTYwOTEwNjAzMl5BMl5BanBnXkFtZTcwODc5MTUwMw@@._V1_SX300.jpg\",\n",
    "    \"Metascore\": \"83\",\n",
    "    \"imdbRating\": \"7.9\",\n",
    "    \"imdbVotes\": \"876,575\",\n",
    "    \"imdbID\": \"tt0499549\",\n",
    "    \"Type\": \"movie\",\n",
    "    \"Response\": \"True\"\n",
    "  }\n",
    "];\n",
    "\n",
    "function getRating(watchList){\n",
    "  var averageRating;\n",
    "  averageRating = watchList\n",
    "  .map(function(item){\n",
    "    return {director: item.Director, rating: item.imdbRating};\n",
    "  })\n",
    "  .filter(function(item){\n",
    "    return item.director === \"Christopher Nolan\";\n",
    "  })\n",
    "  .reduce((sum,item)=> sum + parseFloat(item.rating), 0)\n",
    "  return averageRating/watchList.filter(movie => movie.Director === \"Christopher Nolan\").length;\n",
    "}\n",
    "console.log(getRating(watchList));\n"
   ]
  },
  {
   "cell_type": "markdown",
   "metadata": {},
   "source": [
    "#### Solution 1"
   ]
  },
  {
   "cell_type": "code",
   "execution_count": null,
   "metadata": {},
   "outputs": [],
   "source": [
    "function getRating(watchList){\n",
    "  var averageRating =\n",
    "  watchList\n",
    "    // Use filter to find films directed by Christopher Nolan\n",
    "    .filter(film => film.Director === \"Christopher Nolan\")\n",
    "    // Use map to convert their ratings from strings to numbers\n",
    "    .map(film => Number(film.imdbRating))\n",
    "    // Use reduce to add together their ratings\n",
    "    .reduce((sumOfRatings, rating) => sumOfRatings + rating) /\n",
    "  // Divide by the number of Nolan films to get the average rating\n",
    "  watchList.filter(film => film.Director === \"Christopher Nolan\").length;\n",
    "  return averageRating;\n",
    "}\n",
    "console.log(getRating(watchList));"
   ]
  },
  {
   "cell_type": "markdown",
   "metadata": {},
   "source": [
    "#### Solution 2"
   ]
  },
  {
   "cell_type": "code",
   "execution_count": null,
   "metadata": {},
   "outputs": [],
   "source": [
    "function getRating(watchList){\n",
    "  var count = 0;\n",
    "  var averageRating = watchList.reduce((sum,movie) =>  {\n",
    "    if (movie.Director == \"Christopher Nolan\") {\n",
    "      count+=1;\n",
    "      return sum + parseFloat(movie.imdbRating);\n",
    "    }\n",
    "    return sum;\n",
    "  }, 0) / count;\n",
    "  return averageRating;\n",
    "}\n",
    "console.log(getRating(watchList));"
   ]
  },
  {
   "cell_type": "markdown",
   "metadata": {},
   "source": [
    "#### Solution 3"
   ]
  },
  {
   "cell_type": "code",
   "execution_count": null,
   "metadata": {},
   "outputs": [],
   "source": [
    "function getRating(watchList) {\n",
    "  // Add your code below this line\n",
    "  const averageRating = watchList.reduce(({ sum, count }, { Director: dir, imdbRating: rating },  idx, arr) => {\n",
    "    if (dir === 'Christopher Nolan') {\n",
    "      count++;\n",
    "      sum += Number(rating);\n",
    "    }\n",
    "    return idx === arr.length - 1\n",
    "      ? sum / count\n",
    "      : { sum, count };\n",
    "  }, { sum: 0, count: 0 });\n",
    "  // Add your code above this line\n",
    "  return averageRating;\n",
    "}\n",
    "console.log(getRating(watchList));"
   ]
  },
  {
   "cell_type": "markdown",
   "metadata": {},
   "source": [
    "### Functional Programming: Use Higher-Order Functions map, filter, or reduce to Solve a Complex Problem"
   ]
  },
  {
   "cell_type": "markdown",
   "metadata": {},
   "source": [
    "- We have defined a function named `squareList`. You need to complete the code for the `squareList` function using any combination of `map()`, `filter()`, and `reduce()` so that it returns a new array containing only the square of only the positive integers (decimal numbers are not integers) when an array of real numbers is passed to it. An example of an array containing only real numbers is `[-3, 4.8, 5, 3, -3.2]`."
   ]
  },
  {
   "cell_type": "markdown",
   "metadata": {},
   "source": [
    "#### My Solution:"
   ]
  },
  {
   "cell_type": "code",
   "execution_count": null,
   "metadata": {},
   "outputs": [],
   "source": [
    "const squareList = (arr) => {\n",
    "  var newArray = [];\n",
    "  newArray = arr.filter(function(item) {\n",
    "    return item >= 0 && item % parseInt(item) == 0;\n",
    "  })\n",
    "  .map(number => number*number);\n",
    "  return newArray;\n",
    "};\n",
    "\n",
    "const squaredIntegers = squareList([-3, 4.8, 5, 3, -3.2]);\n",
    "console.log(squaredIntegers);"
   ]
  },
  {
   "cell_type": "markdown",
   "metadata": {},
   "source": [
    "#### Solution 1:"
   ]
  },
  {
   "cell_type": "code",
   "execution_count": null,
   "metadata": {},
   "outputs": [],
   "source": [
    "const squareList = arr =>\n",
    "  arr\n",
    "    .filter(num => num > 0 && num % parseInt(num) === 0)\n",
    "    .map(num => Math.pow(num, 2));"
   ]
  },
  {
   "cell_type": "markdown",
   "metadata": {},
   "source": [
    "#### Solution 2:"
   ]
  },
  {
   "cell_type": "code",
   "execution_count": null,
   "metadata": {},
   "outputs": [],
   "source": [
    "const squareList = arr => {\n",
    "  return arr.reduce((sqrIntegers, num) => {\n",
    "    return Number.isInteger(num) && num > 0\n",
    "      ? sqrIntegers.concat(num * num)\n",
    "      : sqrIntegers;\n",
    "  }, []);\n",
    "};"
   ]
  },
  {
   "cell_type": "markdown",
   "metadata": {},
   "source": [
    "### Functional Programming: Sort an Array Alphabetically using the sort Method"
   ]
  },
  {
   "cell_type": "markdown",
   "metadata": {},
   "source": [
    "- The sort method sorts the elements of an array according to the callback function.\n",
    "- For example:"
   ]
  },
  {
   "cell_type": "code",
   "execution_count": null,
   "metadata": {},
   "outputs": [],
   "source": [
    "function ascendingOrder(arr) {\n",
    "  return arr.sort(function(a, b) {\n",
    "    return a - b;\n",
    "  });\n",
    "}\n",
    "ascendingOrder([1, 5, 2, 3, 4]);\n",
    "// Returns [1, 2, 3, 4, 5]\n",
    "\n",
    "function reverseAlpha(arr) {\n",
    "  return arr.sort(function(a, b) {\n",
    "    return a === b ? 0 : a < b ? 1 : -1;\n",
    "  });\n",
    "}\n",
    "reverseAlpha(['l', 'h', 'z', 'b', 's']);\n",
    "// Returns ['z', 's', 'l', 'h', 'b']"
   ]
  },
  {
   "cell_type": "markdown",
   "metadata": {},
   "source": [
    "- JavaScript's default sorting method is by string Unicode point value, which may return unexpected results. Therefore, it is encouraged to provide a callback function to specify how to sort the array items. \n",
    "- When such a callback function, normally called `compareFunction`, is supplied, the array elements are sorted according to the return value of the `compareFunction`: \n",
    "    - If `compareFunction(a,b)` returns a value less than 0 for two elements `a` and `b`, then `a` will come before `b`. \n",
    "    - If `compareFunction(a,b)` returns a value greater than 0 for two elements `a` and `b`, then `b` will come before `a`. \n",
    "    - If `compareFunction(a,b)` returns a value equal to 0 for two elements `a` and `b`, then `a` and `b` will remain unchanged."
   ]
  },
  {
   "cell_type": "markdown",
   "metadata": {},
   "source": [
    "- Example: Use the `sort` method in the `alphabeticalOrder` function to sort the elements of `arr` in alphabetical order."
   ]
  },
  {
   "cell_type": "code",
   "execution_count": null,
   "metadata": {},
   "outputs": [],
   "source": [
    "function alphabeticalOrder(arr) {\n",
    "  return arr.sort(function(a, b) {\n",
    "    return a === b ? 0 : a < b ? -1 : 1;\n",
    "  });\n",
    "}\n",
    "alphabeticalOrder([\"a\", \"d\", \"c\", \"a\", \"z\", \"g\"]);"
   ]
  },
  {
   "cell_type": "markdown",
   "metadata": {},
   "source": [
    "### Functional Programming: Return a Sorted Array Without Changing the Original Array"
   ]
  },
  {
   "cell_type": "markdown",
   "metadata": {},
   "source": [
    "- A side effect of the `sort` method is that it changes the order of the elements in the original array. In other words, it mutates the array in place. One way to avoid this is to first concatenate an empty array to the one being sorted (remember that `slice` and `concat` return a new array), then run the `sort` method."
   ]
  },
  {
   "cell_type": "markdown",
   "metadata": {},
   "source": [
    "- Example: Use the `sort` method in the `nonMutatingSort` function to sort the elements of an array in ascending order. The function should return a new array, and not mutate the `globalArray` variable."
   ]
  },
  {
   "cell_type": "markdown",
   "metadata": {},
   "source": [
    "#### My Solution:"
   ]
  },
  {
   "cell_type": "code",
   "execution_count": null,
   "metadata": {},
   "outputs": [],
   "source": [
    "var globalArray = [5, 6, 3, 2, 9];\n",
    "function nonMutatingSort(arr) {\n",
    "  var newArray = arr.slice();\n",
    "  newArray.sort(function(a,b) {\n",
    "    return a-b;\n",
    "  });\n",
    "  return newArray;\n",
    "}\n",
    "nonMutatingSort(globalArray);"
   ]
  },
  {
   "cell_type": "markdown",
   "metadata": {},
   "source": [
    "#### Solution"
   ]
  },
  {
   "cell_type": "code",
   "execution_count": null,
   "metadata": {},
   "outputs": [],
   "source": [
    "var globalArray = [5, 6, 3, 2, 9];\n",
    "function nonMutatingSort(arr) {\n",
    "  return [].concat(arr).sort(function(a, b) {\n",
    "    return a - b;\n",
    "  });\n",
    "}\n",
    "nonMutatingSort(globalArray);"
   ]
  },
  {
   "cell_type": "markdown",
   "metadata": {},
   "source": [
    "### Functional Programming: Split a String into an Array Using the split Method"
   ]
  },
  {
   "cell_type": "markdown",
   "metadata": {},
   "source": [
    "- The `split` method splits a string into an array of strings. It takes an argument for the delimiter, which can be a character to use to break up the string or a regular expression. \n",
    "- Since strings are immutable, the split method makes it easier to work with them.\n",
    "- For example: \n",
    "    - if the delimiter is a space, you get an array of words.\n",
    "    - if the delimiter is an empty string, you get an array of each character in the string.\n",
    "\n",
    "- Here are two examples that split one string by spaces, then another by digits using a regular expression:"
   ]
  },
  {
   "cell_type": "code",
   "execution_count": null,
   "metadata": {},
   "outputs": [],
   "source": [
    "var str = \"Hello World\";\n",
    "var bySpace = str.split(\" \");\n",
    "// Sets bySpace to [\"Hello\", \"World\"]\n",
    "\n",
    "var otherString = \"How9are7you2today\";\n",
    "var byDigits = otherString.split(/\\d/);\n",
    "// Sets byDigits to [\"How\", \"are\", \"you\", \"today\"]"
   ]
  },
  {
   "cell_type": "markdown",
   "metadata": {},
   "source": [
    "- Example: Use the `split` method inside the `splitify` function to split `str` into an array of words. The function should return the array. Note that the words are not always separated by spaces, and the array should not contain punctuation."
   ]
  },
  {
   "cell_type": "markdown",
   "metadata": {},
   "source": [
    "#### Solution: "
   ]
  },
  {
   "cell_type": "code",
   "execution_count": null,
   "metadata": {},
   "outputs": [],
   "source": [
    "function splitify(str) {\n",
    "  return str.split(/\\W/);\n",
    "}\n",
    "splitify(\"Hello World,I-am code\");"
   ]
  },
  {
   "cell_type": "markdown",
   "metadata": {},
   "source": [
    "#### Code Explanation:"
   ]
  },
  {
   "cell_type": "markdown",
   "metadata": {},
   "source": [
    "`/\\W/` Matches any non-word character. This includes spaces and punctuation, but not underscores. It’s equivalent to `/[^A-Za-z0-9_]/`."
   ]
  },
  {
   "cell_type": "markdown",
   "metadata": {},
   "source": [
    "### Functional Programming: Combine an Array into a String Using the join Method"
   ]
  },
  {
   "cell_type": "markdown",
   "metadata": {},
   "source": [
    "- The `join` method is used to join the elements of an array together to create a string. It takes an argument for the delimiter that is used to separate the array elements in the string.\n",
    "\n",
    "- Here's an example:"
   ]
  },
  {
   "cell_type": "code",
   "execution_count": null,
   "metadata": {},
   "outputs": [],
   "source": [
    "var arr = [\"Hello\", \"World\"];\n",
    "var str = arr.join(\" \");\n",
    "// Sets str to \"Hello World\""
   ]
  },
  {
   "cell_type": "markdown",
   "metadata": {},
   "source": [
    "- Example: Use the `join` method (among others) inside the `sentensify` function to make a sentence from the words in the string `str`. The function should return a string. For example, \"I-like-Star-Wars\" would be converted to \"I like Star Wars\". For this challenge, do not use the `replace` method."
   ]
  },
  {
   "cell_type": "code",
   "execution_count": null,
   "metadata": {},
   "outputs": [],
   "source": [
    "function sentensify(str) {\n",
    "  return str.split(/\\W/).join(\" \");\n",
    "}\n",
    "sentensify(\"May-the-force-be-with-you\");"
   ]
  },
  {
   "cell_type": "markdown",
   "metadata": {},
   "source": [
    "### Functional Programming: Apply Functional Programming to Convert Strings to URL Slugs"
   ]
  },
  {
   "cell_type": "markdown",
   "metadata": {},
   "source": [
    "- Many content management sites (CMS) have the titles of a post added to part of the URL for simple bookmarking purposes. For example, if you write a Medium post titled \"Stop Using Reduce\", it's likely the URL would have some form of the title string in it (\".../stop-using-reduce\"). You may have already noticed this on the freeCodeCamp site."
   ]
  },
  {
   "cell_type": "markdown",
   "metadata": {},
   "source": [
    "- Practice:\n",
    "    - Fill in the `urlSlug` function so it converts a string `title` and returns the hyphenated version for the URL. You can use any of the methods covered in this section, and don't use `replace`. Here are the requirements:\n",
    "\n",
    "    - The input is a string with spaces and title-cased words\n",
    "\n",
    "    - The output is a string with the spaces between words replaced by a hyphen (`-`)\n",
    "\n",
    "    - The output should be all lower-cased letters\n",
    "\n",
    "    - The output should not have any spaces"
   ]
  },
  {
   "cell_type": "markdown",
   "metadata": {},
   "source": [
    "#### Solution 1:"
   ]
  },
  {
   "cell_type": "code",
   "execution_count": null,
   "metadata": {},
   "outputs": [],
   "source": [
    "// the global variable\n",
    "var globalTitle = \"Winter Is Coming\";\n",
    "\n",
    "function urlSlug(title) {\n",
    "  return title\n",
    "    .split(/\\W/)\n",
    "    .filter(obj => {\n",
    "      return obj !== \"\";\n",
    "    })\n",
    "    .join(\"-\")\n",
    "    .toLowerCase();\n",
    "}\n",
    "\n",
    "var winterComing = urlSlug(globalTitle); // Should be \"winter-is-coming\""
   ]
  },
  {
   "cell_type": "markdown",
   "metadata": {},
   "source": [
    "#### Solution 2:"
   ]
  },
  {
   "cell_type": "code",
   "execution_count": null,
   "metadata": {},
   "outputs": [],
   "source": [
    "// the global variable\n",
    "var globalTitle = \"Winter Is Coming\";\n",
    "\n",
    "function urlSlug(title) {\n",
    "  return title\n",
    "    .toLowerCase()\n",
    "    .trim()\n",
    "    .split(/\\s+/)\n",
    "    .join(\"-\");\n",
    "}\n",
    "\n",
    "var winterComing = urlSlug(globalTitle); // Should be \"winter-is-coming\""
   ]
  },
  {
   "cell_type": "markdown",
   "metadata": {},
   "source": [
    "### Functional Programming: Use the every Method to Check that Every Element in an Array Meets a Criteria"
   ]
  },
  {
   "cell_type": "markdown",
   "metadata": {},
   "source": [
    "- The `every` method works with arrays to check if every element passes a particular test. It returns a Boolean value - `true` if all values meet the criteria, `false` if not.\n",
    "- For example, the following code would check if every element in the `numbers` array is less than 10:"
   ]
  },
  {
   "cell_type": "code",
   "execution_count": null,
   "metadata": {},
   "outputs": [],
   "source": [
    "var numbers = [1, 5, 8, 0, 10, 11];\n",
    "numbers.every(function(currentValue) {\n",
    "  return currentValue < 10;\n",
    "});\n",
    "// Returns false"
   ]
  },
  {
   "cell_type": "markdown",
   "metadata": {},
   "source": [
    "- Example: Use the every method inside the checkPositive function to check if every element in arr is positive. The function should return a Boolean value."
   ]
  },
  {
   "cell_type": "markdown",
   "metadata": {},
   "source": [
    "#### Solution 1: "
   ]
  },
  {
   "cell_type": "code",
   "execution_count": null,
   "metadata": {},
   "outputs": [],
   "source": [
    "function checkPositive(arr) {\n",
    "  return arr.every(val => val > 0);\n",
    "}\n",
    "\n",
    "checkPositive([1, 2, 3, -4, 5]);"
   ]
  },
  {
   "cell_type": "markdown",
   "metadata": {},
   "source": [
    "#### Solution 2:"
   ]
  },
  {
   "cell_type": "code",
   "execution_count": null,
   "metadata": {},
   "outputs": [],
   "source": [
    "function checkPositive(arr) {\n",
    "  return arr.every(function(value) {\n",
    "    return value > 0;\n",
    "  });\n",
    "}\n",
    "\n",
    "checkPositive([1, 2, 3, -4, 5]);"
   ]
  },
  {
   "cell_type": "markdown",
   "metadata": {},
   "source": [
    "### Functional Programming: Use the some Method to Check that Any Elements in an Array Meet a Criteria"
   ]
  },
  {
   "cell_type": "markdown",
   "metadata": {},
   "source": [
    "- The `some` method works with arrays to check if any element passes a particular test. It returns a Boolean value - `true` if any of the values meet the criteria, `false` if not.\n",
    "\n",
    "- For example, the following code would check if any element in the `numbers` array is less than 10:"
   ]
  },
  {
   "cell_type": "code",
   "execution_count": null,
   "metadata": {},
   "outputs": [],
   "source": [
    "var numbers = [10, 50, 8, 220, 110, 11];\n",
    "numbers.some(function(currentValue) {\n",
    "  return currentValue < 10;\n",
    "});\n",
    "// Returns true"
   ]
  },
  {
   "cell_type": "markdown",
   "metadata": {},
   "source": [
    "- Example: Use the `some` method inside the `checkPositive` function to check if any element in `arr` is positive. The function should return a Boolean value."
   ]
  },
  {
   "cell_type": "code",
   "execution_count": null,
   "metadata": {},
   "outputs": [],
   "source": [
    "function checkPositive(arr) {\n",
    "  return arr.some(elem => elem > 0);\n",
    "}\n",
    "checkPositive([1, 2, 3, -4, 5]);"
   ]
  },
  {
   "cell_type": "markdown",
   "metadata": {},
   "source": [
    "### Functional Programming: Introduction to Currying and Partial Application"
   ]
  },
  {
   "cell_type": "markdown",
   "metadata": {},
   "source": [
    "- The ___arity___ of a function is the number of arguments it requires. ___Currying___ a function means to convert a function of N arity into N functions of arity 1.\n",
    "\n",
    "- In other words, it restructures a function so it takes one argument, then returns another function that takes the next argument, and so on.\n",
    "\n",
    "- Here's an example:"
   ]
  },
  {
   "cell_type": "code",
   "execution_count": null,
   "metadata": {},
   "outputs": [],
   "source": [
    "//Un-curried function\n",
    "function unCurried(x, y) {\n",
    "  return x + y;\n",
    "}\n",
    "\n",
    "//Curried function\n",
    "function curried(x) {\n",
    "  return function(y) {\n",
    "    return x + y;\n",
    "  }\n",
    "}\n",
    "//Alternative using ES6\n",
    "const curried = x => y => x + y\n",
    "\n",
    "curried(1)(2) // Returns 3"
   ]
  },
  {
   "cell_type": "markdown",
   "metadata": {},
   "source": [
    "- This is useful in your program if you can't supply all the arguments to a function at one time. \n",
    "- You can save each function call into a variable, which will hold the returned function reference that takes the next argument when it's available. \n",
    "- Here's an example using the curried function in the example above:"
   ]
  },
  {
   "cell_type": "code",
   "execution_count": null,
   "metadata": {},
   "outputs": [],
   "source": [
    "// Call a curried function in parts:\n",
    "var funcForY = curried(1);\n",
    "console.log(funcForY(2)); // Prints 3"
   ]
  },
  {
   "cell_type": "markdown",
   "metadata": {},
   "source": [
    "- Similarly, ___partial application___ can be described as applying a few arguments to a function at a time and returning another function that is applied to more arguments. \n",
    "- Here's an example:"
   ]
  },
  {
   "cell_type": "code",
   "execution_count": null,
   "metadata": {},
   "outputs": [],
   "source": [
    "//Impartial function\n",
    "function impartial(x, y, z) {\n",
    "  return x + y + z;\n",
    "}\n",
    "var partialFn = impartial.bind(this, 1, 2);\n",
    "partialFn(10); // Returns 13"
   ]
  }
 ],
 "metadata": {
  "kernelspec": {
   "display_name": "Python 3",
   "language": "python",
   "name": "python3"
  },
  "language_info": {
   "codemirror_mode": {
    "name": "ipython",
    "version": 3
   },
   "file_extension": ".py",
   "mimetype": "text/x-python",
   "name": "python",
   "nbconvert_exporter": "python",
   "pygments_lexer": "ipython3",
   "version": "3.7.4"
  }
 },
 "nbformat": 4,
 "nbformat_minor": 2
}
