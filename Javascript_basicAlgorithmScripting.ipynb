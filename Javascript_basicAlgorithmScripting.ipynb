{
 "cells": [
  {
   "cell_type": "markdown",
   "metadata": {},
   "source": [
    "### Introduction to Basic Algorithm Scripting"
   ]
  },
  {
   "cell_type": "markdown",
   "metadata": {},
   "source": [
    "- To make solving problems easier, it can be helpful to break them down into many chunks. Then, each chunk can be solved one by one. \n",
    "- For example, if you are building a calculator, don't try to solve the problem as a whole. First, consider how to get inputs. Then, determine each arithmetic operation one by one. Finally, display the results."
   ]
  },
  {
   "cell_type": "markdown",
   "metadata": {},
   "source": [
    "### Basic Algorithm Scripting: Convert Celsius to Fahrenheit"
   ]
  },
  {
   "cell_type": "code",
   "execution_count": null,
   "metadata": {},
   "outputs": [],
   "source": [
    "function convertToF(celsius) {\n",
    "  let fahrenheit;\n",
    "  fahrenheit = celsius * 9/5 + 32;\n",
    "  return fahrenheit;\n",
    "}\n",
    "\n",
    "console.log(convertToF(30));"
   ]
  },
  {
   "cell_type": "markdown",
   "metadata": {},
   "source": [
    "### Basic Algorithm Scripting: Reverse a String\n",
    "- Reverse the provided string.\n",
    "\n",
    "- You may need to turn the string into an array before you can reverse it.\n",
    "\n",
    "- Your result must be a string."
   ]
  },
  {
   "cell_type": "markdown",
   "metadata": {},
   "source": [
    "#### My solution"
   ]
  },
  {
   "cell_type": "code",
   "execution_count": null,
   "metadata": {},
   "outputs": [],
   "source": [
    "function reverseString(str) {\n",
    "  let temp =\"\";\n",
    "  for (let i=0;i<str.length; i++){\n",
    "    temp = str[i]+ temp;\n",
    "  }\n",
    "  str = temp;\n",
    "  return str;\n",
    "}\n",
    "\n",
    "console.log(reverseString(\"hello\"));"
   ]
  },
  {
   "cell_type": "markdown",
   "metadata": {},
   "source": [
    "#### Solution 1"
   ]
  },
  {
   "cell_type": "code",
   "execution_count": null,
   "metadata": {},
   "outputs": [],
   "source": [
    "function reverseString(str) {\n",
    "  for (var reversedStr = \"\", i = str.length - 1; i >= 0; i--) {\n",
    "    reversedStr += str[i];\n",
    "  }\n",
    "  return reversedStr;\n",
    "}"
   ]
  },
  {
   "cell_type": "markdown",
   "metadata": {},
   "source": [
    "#### Solution 1, Code Explanation"
   ]
  },
  {
   "cell_type": "markdown",
   "metadata": {},
   "source": [
    "- Starting at the last character of the string passed to the function, you build a new string `reversedStr` from `str`.\n",
    "\n",
    "- During each iteration of the `for` loop, `reversedStr` gets concatenated with itself and the current character.\n",
    "\n",
    "- Finally, you return the final value of `reversedStr`."
   ]
  },
  {
   "cell_type": "markdown",
   "metadata": {},
   "source": [
    "#### Solution 2:"
   ]
  },
  {
   "cell_type": "code",
   "execution_count": null,
   "metadata": {},
   "outputs": [],
   "source": [
    "function reverseString(str) {\n",
    "  return str\n",
    "    .split(\"\")\n",
    "    .reverse()\n",
    "    .join(\"\");\n",
    "}"
   ]
  },
  {
   "cell_type": "markdown",
   "metadata": {},
   "source": [
    "#### Solution 2 , Code Explanation"
   ]
  },
  {
   "cell_type": "markdown",
   "metadata": {},
   "source": [
    "- Our goal is to take the input, `str`, and return it in reverse. Our first step is to split the string by characters using `split('')`. Notice that we don’t leave anything in between the single quotes, this tells the function to split the string by each character.\n",
    "\n",
    "- Using the `split()` function will turn our string into an array of characters, keep that in mind as we move forward.\n",
    "\n",
    "- Next we chain the `reverse()` function, which takes our array of characters and reverses them.\n",
    "\n",
    "- Finally, we chain `join('')` to put our characters back together into a string. Notice once again that we left no spaces in the argument for join, this makes sure that the array of characters is joined back together by each character."
   ]
  },
  {
   "cell_type": "markdown",
   "metadata": {},
   "source": [
    "### Basic Algorithm Scripting: Factorialize a Number"
   ]
  },
  {
   "cell_type": "markdown",
   "metadata": {},
   "source": [
    "- Return the factorial of the provided integer.\n",
    "\n",
    "- If the integer is represented with the letter n, a factorial is the product of all positive integers less than or equal to n.\n",
    "\n",
    "- Factorials are often represented with the shorthand notation `n!`\n",
    "\n",
    "- For example: `5! = 1 * 2 * 3 * 4 * 5 = 120`\n",
    "\n",
    "- Only integers greater than or equal to zero will be supplied to the function."
   ]
  },
  {
   "cell_type": "markdown",
   "metadata": {},
   "source": [
    "#### My solution"
   ]
  },
  {
   "cell_type": "code",
   "execution_count": null,
   "metadata": {},
   "outputs": [],
   "source": [
    "function factorialize(num) {\n",
    "  if (num > 0) {\n",
    "    let sum =1;\n",
    "    for (let i = 1; i <= num; i++) {\n",
    "      sum = sum * i;\n",
    "    }\n",
    "    num = sum;\n",
    "    return num;\n",
    "  } else {\n",
    "    return 1;\n",
    "  }\n",
    "}\n",
    "factorialize(5);"
   ]
  },
  {
   "cell_type": "markdown",
   "metadata": {},
   "source": [
    "#### Solution 1:"
   ]
  },
  {
   "cell_type": "code",
   "execution_count": null,
   "metadata": {},
   "outputs": [],
   "source": [
    "function factorialize(num) {\n",
    "  for (var product = 1; num > 0; num--) {\n",
    "    product *= num;\n",
    "  }\n",
    "  return product;\n",
    "}\n",
    "\n",
    "factorialize(5);"
   ]
  },
  {
   "cell_type": "markdown",
   "metadata": {},
   "source": [
    "#### Solution 1, Code Explanation"
   ]
  },
  {
   "cell_type": "markdown",
   "metadata": {},
   "source": [
    "- Since the return values for the function will always be greater than or equal to 1, `product` is initialized at one. For the case where the number is 0, the for loop condition will be false, but since `product` is initialized as 1, it will have the correct value when the `return` statement is executed.\n",
    "\n",
    "- For all numbers passed to the function which are greater than one, the simple `for` loop will decrement `num` by one each iteration and recalculate `product` down to the value `1`."
   ]
  },
  {
   "cell_type": "markdown",
   "metadata": {},
   "source": [
    "#### Solution 2:"
   ]
  },
  {
   "cell_type": "code",
   "execution_count": null,
   "metadata": {},
   "outputs": [],
   "source": [
    "function factorialize(num) {\n",
    "  if (num === 0) {\n",
    "    return 1;\n",
    "  }\n",
    "  return num * factorialize(num - 1);\n",
    "}\n",
    "\n",
    "factorialize(5);"
   ]
  },
  {
   "cell_type": "markdown",
   "metadata": {},
   "source": [
    "#### Solution 2, Code Explanation"
   ]
  },
  {
   "cell_type": "markdown",
   "metadata": {},
   "source": [
    "- Notice at the first line we have the terminal condition, i.e a condition to check the end of the recursion. If `num == 0`, then we return 1, i.e. effectively ending the recursion and informing the stack to propagate this value to the upper levels. \n",
    "- If we do not have this condition, the recursion would go on until the stack space gets consumed, thereby resulting in a [Stack Overflow](https://en.wikipedia.org/wiki/Stack_overflow)"
   ]
  },
  {
   "cell_type": "markdown",
   "metadata": {},
   "source": [
    "#### Solution 3:"
   ]
  },
  {
   "cell_type": "code",
   "execution_count": null,
   "metadata": {},
   "outputs": [],
   "source": [
    "function factorialize(num, factorial = 1) {\n",
    "  if (num == 0) {\n",
    "    return factorial;\n",
    "  } else {\n",
    "    return factorialize(num - 1, factorial * num);\n",
    "  }\n",
    "}\n",
    "\n",
    "factorialize(5);"
   ]
  },
  {
   "cell_type": "markdown",
   "metadata": {},
   "source": [
    "#### Solution 3, Code Explanation"
   ]
  },
  {
   "cell_type": "markdown",
   "metadata": {},
   "source": [
    "- In this solution, we use [Tail Recursion](https://stackoverflow.com/questions/33923/what-is-tail-recursion) to optimize the the memory use.\n",
    "\n",
    "- In traditional head recursion, the typical model is that you perform your recursive calls first, and then you take the return value of the recursive call and calculate the result. In this manner, you don’t get the result of your calculation until you have returned from every recursive call.\n",
    "\n",
    "- In tail recursion, you perform your calculations first, and then you execute the recursive call, passing the results of your current step to the next recursive step. This results in the last statement being in the form of (return (recursive-function params)).\n",
    "\n",
    "- In this solution, with each evaluation of the recursive call, the factorial is updated. This is different from the head-recursive solution where all evaluation calculations are stored on the stack until the base case is reached."
   ]
  },
  {
   "cell_type": "markdown",
   "metadata": {},
   "source": [
    "#### Solution 4:"
   ]
  },
  {
   "cell_type": "code",
   "execution_count": null,
   "metadata": {},
   "outputs": [],
   "source": [
    "function factorialize(num, factorial = 1) {\n",
    "  return num < 0 ? 1 : (\n",
    "    new Array(num)\n",
    "      .fill(undefined)\n",
    "      .reduce((product, val, index) => product * (index + 1), 1)\n",
    "  );\n",
    "}\n",
    "factorialize(5);"
   ]
  },
  {
   "cell_type": "markdown",
   "metadata": {},
   "source": [
    "#### Solution 4, Code Explanation"
   ]
  },
  {
   "cell_type": "markdown",
   "metadata": {},
   "source": [
    "- In this solution, we used “reduce” function to find the factorial value of the number.\n",
    "- We have created an array which has length `num`. And we filled all elements of the array as `undefined`. In this case, we have to do this because empty arrays couldn’t reducible. You can fill the array as your wish by the way. This depends on your engineering sight completely.\n",
    "- In `reduce` function’s accumulator is calling `product` this is also our final value. We are multiplying our index value with the product to find `factorial` value.\n",
    "- We’re setting product’s initial value to 1 because if it was zero products gets zero always.\n",
    "- Also the factorial value can’t calculate for negative numbers, first of all, we’re testing this."
   ]
  },
  {
   "cell_type": "markdown",
   "metadata": {},
   "source": [
    "### Basic Algorithm Scripting: Find the Longest Word in a String"
   ]
  },
  {
   "cell_type": "markdown",
   "metadata": {},
   "source": [
    "- Return the length of the longest word in the provided sentence. Your response should be a number."
   ]
  },
  {
   "cell_type": "markdown",
   "metadata": {},
   "source": [
    "#### Solution 1:"
   ]
  },
  {
   "cell_type": "code",
   "execution_count": null,
   "metadata": {},
   "outputs": [],
   "source": [
    "function findLongestWordLength(str) {\n",
    "  var words = str.split(' ');\n",
    "  var maxLength = 0;\n",
    "\n",
    "  for (var i = 0; i < words.length; i++) {\n",
    "    if (words[i].length > maxLength) {\n",
    "      maxLength = words[i].length;\n",
    "    }\n",
    "  }\n",
    "  return maxLength;\n",
    "}\n",
    "\n",
    "findLongestWordLength(\"The quick brown fox jumped over the lazy dog\");\n"
   ]
  },
  {
   "cell_type": "markdown",
   "metadata": {},
   "source": [
    "#### Solution 1, Code Explanation"
   ]
  },
  {
   "cell_type": "markdown",
   "metadata": {},
   "source": [
    "- Take the string and convert it into an array of words. Declare a variable to keep track of the maximum length and loop from 0 to the length of the array of words.\n",
    "\n",
    "- Then check for the longest word by comparing the current word to the previous one and storing the new longest word. At the end of the loop just return the number value of the variable maxLength."
   ]
  },
  {
   "cell_type": "markdown",
   "metadata": {},
   "source": [
    "#### Solution 2:"
   ]
  },
  {
   "cell_type": "code",
   "execution_count": null,
   "metadata": {},
   "outputs": [],
   "source": [
    "function findLongestWordLength(s) {\n",
    "  return s.split(' ')\n",
    "    .reduce(function(x, y) {\n",
    "      return Math.max(x, y.length)\n",
    "    }, 0);\n",
    "}"
   ]
  },
  {
   "cell_type": "markdown",
   "metadata": {},
   "source": [
    "#### Solution 2, Code Explanation"
   ]
  },
  {
   "cell_type": "markdown",
   "metadata": {},
   "source": [
    "- For more information on reduce click [here](https://developer.mozilla.org/en-US/docs/Web/JavaScript/Reference/Global_Objects/Array/Reduce). \n",
    "- In case you’re wondering about that 0 after the callback function, it is used to give an initial value to the x, so that Math.max will know where to start."
   ]
  },
  {
   "cell_type": "markdown",
   "metadata": {},
   "source": [
    "#### Solution 3:"
   ]
  },
  {
   "cell_type": "code",
   "execution_count": null,
   "metadata": {},
   "outputs": [],
   "source": [
    "function findLongestWordLength(str) {\n",
    "  return Math.max(...str.split(\" \").map(word => word.length));\n",
    "}"
   ]
  },
  {
   "cell_type": "markdown",
   "metadata": {},
   "source": [
    "#### Solution 3, Code Explanation"
   ]
  },
  {
   "cell_type": "markdown",
   "metadata": {},
   "source": [
    "- We provide `Math.max` with the length of each word as argument, and it will simply return the highest of all.\n",
    "\n",
    "- Let’s analyze everything inside the `Math.max` parenthesees to understand how we do that.\n",
    "\n",
    "- `str.split(\" \")` splits the string into an array, taking spaces as separators. It returns this array: [“The”,\"quick,“brown”,“fox”,“jumped”,“over”,“the”,“lazy”,“dog”].\n",
    "\n",
    "- Then, we will make another array, made from the lengths of each element of the `str.split(\" \")` array with `map()`.\n",
    "\n",
    "- `str.split(\" \").map(word => word.length)` returns [3, 5, 5, 3, 6, 4, 3, 4, 3]\n",
    "\n",
    "- Finally, we pass the array as argument for the Math.max function with the spread operator `...`\n",
    "\n",
    "- For more information on map click [here](https://developer.mozilla.org/en-US/docs/Web/JavaScript/Reference/Global_Objects/Array/map)."
   ]
  },
  {
   "cell_type": "markdown",
   "metadata": {},
   "source": [
    "#### Solution 4:"
   ]
  },
  {
   "cell_type": "code",
   "execution_count": null,
   "metadata": {},
   "outputs": [],
   "source": [
    "function findLongestWordLength(str) {\n",
    "  //split the string into individual words\n",
    "  //(important!!, you'll see why later)\n",
    "  str = str.split(\" \");\n",
    "\n",
    "  //str only has 1 element left that is the longest element,\n",
    "  //return the length of that element\n",
    "  if (str.length == 1) {\n",
    "    return str[0].length;\n",
    "  }\n",
    "\n",
    "  //if the first element's length is greater than the second element's (or equal)\n",
    "  //remove the second element and recursively call the function)\n",
    "  if (str[0].length >= str[1].length) {\n",
    "    str.splice(1, 1);\n",
    "    return findLongestWordLength(str.join(\" \"));\n",
    "  }\n",
    "\n",
    "  //if the second element's length is greater thant the first element's start\n",
    "  //call the function past the first element\n",
    "  if (str[0].length <= str[1].length) {\n",
    "    // from the first element to the last element inclusive.\n",
    "    return findLongestWordLength(str.slice(1, str.length).join(\" \"));\n",
    "  }\n",
    "}"
   ]
  },
  {
   "cell_type": "markdown",
   "metadata": {},
   "source": [
    "### Basic Algorithm Scripting: Return Largest Numbers in Arrays"
   ]
  },
  {
   "cell_type": "markdown",
   "metadata": {},
   "source": [
    "- Return an array consisting of the largest number from each provided sub-array. For simplicity, the provided array will contain exactly 4 sub-arrays.\n",
    "- Remember, you can iterate through an array with a simple for loop, and access each member with array syntax `arr[i]`.\n",
    "- largestOfFour([[13, 27, 18, 26], [4, 5, 1, 3], [32, 35, 37, 39], [1000, 1001, 857, 1]]) should return [27, 5, 39, 1001]."
   ]
  },
  {
   "cell_type": "markdown",
   "metadata": {},
   "source": [
    "#### Solution 1:"
   ]
  },
  {
   "cell_type": "code",
   "execution_count": null,
   "metadata": {},
   "outputs": [],
   "source": [
    "function largestOfFour(arr) {\n",
    "  var results = [];\n",
    "  for (var n = 0; n < arr.length; n++) {\n",
    "    var largestNumber = arr[n][0];\n",
    "    for (var sb = 1; sb < arr[n].length; sb++) {\n",
    "      if (arr[n][sb] > largestNumber) {\n",
    "        largestNumber = arr[n][sb];\n",
    "      }\n",
    "    }\n",
    "\n",
    "    results[n] = largestNumber;\n",
    "  }\n",
    "\n",
    "  return results;\n",
    "}"
   ]
  },
  {
   "cell_type": "markdown",
   "metadata": {},
   "source": [
    "#### Solution 1, Code Explanation"
   ]
  },
  {
   "cell_type": "markdown",
   "metadata": {},
   "source": [
    "- Create a variable to store the results as an array.\n",
    "- Create an outer loop to iterate through the outer array.\n",
    "- Create a second variable to hold the largest number and initialise it with the first number. This must be outside an inner loop so it won’t be reassigned until we find a larger number.\n",
    "- Create said inner loop to work with the sub-arrays.\n",
    "- Check if the element of the sub array is larger than the currently stored largest number. If so, then update the number in the variable.\n",
    "- After the inner loop, save the largest number in the corresponding position inside of the results array.\n",
    "- And finally return said array."
   ]
  },
  {
   "cell_type": "markdown",
   "metadata": {},
   "source": [
    "#### Solution 2:"
   ]
  },
  {
   "cell_type": "code",
   "execution_count": null,
   "metadata": {},
   "outputs": [],
   "source": [
    "function largestOfFour(arr) {\n",
    "  return arr.map(function(group) {\n",
    "    return group.reduce(function(prev, current) {\n",
    "      return current > prev ? current : prev;\n",
    "    });\n",
    "  });\n",
    "}"
   ]
  },
  {
   "cell_type": "markdown",
   "metadata": {},
   "source": [
    "#### Solution 2, Code Explanation"
   ]
  },
  {
   "cell_type": "markdown",
   "metadata": {},
   "source": [
    "- we map all items within the main array to a new array using `Array.prototype.map()` and return this array as the final result\n",
    "- within each inner array, we reduce its contents down to a single value using `Array.prototype.reduce()`\n",
    "- the callback function passed to the reduce method takes the previous value and the current value and compares the two values\n",
    "- if the current value is higher than the previous value we set it as the new previous value for comparison with the next item within the array or returns it to the map method callback if it’s the last item"
   ]
  },
  {
   "cell_type": "markdown",
   "metadata": {},
   "source": [
    "#### Solution 3:"
   ]
  },
  {
   "cell_type": "code",
   "execution_count": null,
   "metadata": {},
   "outputs": [],
   "source": [
    "function largestOfFour(arr) {\n",
    "  return arr.map(Function.apply.bind(Math.max, null));\n",
    "}"
   ]
  },
  {
   "cell_type": "markdown",
   "metadata": {},
   "source": [
    "#### Solution 3, Code Explanation"
   ]
  },
  {
   "cell_type": "markdown",
   "metadata": {},
   "source": [
    "- TL;DR: We build a special callback function (using the `Function.bind` method), that works just like `Math.max` but also has `Function.prototype.apply`'s ability to take arrays as its arguments.\n",
    "    - We start by mapping through the elements inside the main array. Meaning each one of the inner arrays.\n",
    "    - Now the need a callback function to find the max of each inner array provided by the map.\n",
    "- So we want to create a function that does the work of `Math.max` and accepts input as an array (which by it doesn’t by default).\n",
    "- In other words, it would be really nice and simple if this worked by itself: `Math.max([9, 43, 20, 6]); // Resulting in 43`\n",
    "- Alas, it doesn’t.\n",
    "    - To do the work of accepting arguments in the shape of an array, there is this `Function.prototype.apply` method, but it complicates things a bit by invoking the context function.\n",
    "- i.e. `Math.max.apply(null, [9, 43, 20, 6])`; would invoke something like a `Max.max` method. What we’re looking for… almost.\n",
    "\n",
    "- Here we’re passing `null` as the context of the `Function.prototype.apply` method as `Math.max` doesn’t need any context.\n",
    "\n",
    "    - Since `arr.map` expects a callback function, not just an expression, we create a function out of the previous expression by using the `Function.bind` method.\n",
    "    - Since, `Function.prototype.apply` is a static method of the same `Function` object, we can call `Function.prototype.bind` on `Function.prototype.apply` i.e. `Function.prototype.apply.bind`.\n",
    "    - Now we pass the context for the `Function.prototype.apply.bind` call (in this case we want `Math.max` so we can gain its functionality).\n",
    "    - Since the embedded `Function.prototype.apply` method will also require a context as it’s 1st argument, we need to pass it a bogus context.\n",
    "        - So, we pass `null` as the 2nd param to `Function.prototype.apply.bind` which gives a context to the `Math.max` method.\n",
    "\n",
    "        - Since, `Math.max` is independent of any context, hence, it ignores the bogus context given by `Function.prototype.apply` method call.\n",
    "\n",
    "        - Thus, our `Function.prototype.apply.bind(Math.max, null)` makes a new function accepting the arr.map values i.e. the inner arrays.\n",
    "- Relevant Links\n",
    "    - [Math.max](https://developer.mozilla.org/en-US/docs/Web/JavaScript/Reference/Global_Objects/Math/max)\n",
    "    - [Function.prototype.apply on DevDocs](https://devdocs.io/javascript/global_objects/function/apply)\n",
    "    - [Function.bind on DevDocs](https://devdocs.io/javascript/global_objects/function/bind)"
   ]
  },
  {
   "cell_type": "markdown",
   "metadata": {},
   "source": [
    "#### Solution 4:"
   ]
  },
  {
   "cell_type": "code",
   "execution_count": null,
   "metadata": {},
   "outputs": [],
   "source": [
    "function largestOfFour(arr, finalArr = []) {\n",
    "  return !arr.length\n",
    "    ? finalArr\n",
    "    : largestOfFour(arr.slice(1), finalArr.concat(Math.max(...arr[0])))\n",
    "}"
   ]
  },
  {
   "cell_type": "markdown",
   "metadata": {},
   "source": [
    "### Basic Algorithm Scripting: Confirm the Ending"
   ]
  },
  {
   "cell_type": "markdown",
   "metadata": {},
   "source": [
    "- Check if a string (first argument, `str`) ends with the given target string (second argument, `target`).\n",
    "\n",
    "- This challenge can be solved with the `.endsWith()` method, which was introduced in ES2015. But for the purpose of this challenge, we would like you to use one of the JavaScript substring methods instead."
   ]
  },
  {
   "cell_type": "markdown",
   "metadata": {},
   "source": [
    "#### Solution 1:"
   ]
  },
  {
   "cell_type": "code",
   "execution_count": null,
   "metadata": {},
   "outputs": [],
   "source": [
    "function confirmEnding(str, target) {\n",
    "  return str.slice(str.length - target.length)=== target;\n",
    "}\n",
    "\n",
    "confirmEnding(\"Bastian\", \"n\");"
   ]
  },
  {
   "cell_type": "markdown",
   "metadata": {},
   "source": [
    "#### Solution 1, Code Explanation"
   ]
  },
  {
   "cell_type": "markdown",
   "metadata": {},
   "source": [
    "- First we use the `slice` method copy the string.\n",
    "- In order to get the last characters in `str` equivalent to the `target`'s length we use the `slice` method.\n",
    "- The first parameter inside the `slice` method is the starting index and the second parameter would be the ending index.\n",
    "- For example `str.slice(10, 17)` would return `give me`.\n",
    "- In this case we only include one parameter which it will copy everything from the starting index.\n",
    "- We substract the length of `str` and the length of `target`, that way, we shall get the last remaining characters equivalent to the `target`'s length.\n",
    "- Finally we compare the return result of slice to `target` and check if they have the same characters."
   ]
  },
  {
   "cell_type": "markdown",
   "metadata": {},
   "source": [
    "#### Solution 2:"
   ]
  },
  {
   "cell_type": "code",
   "execution_count": null,
   "metadata": {},
   "outputs": [],
   "source": [
    "function confirmEnding(str, target) {\n",
    "  let re = new RegExp(target + \"$\", \"i\");\n",
    "  return re.test(str);\n",
    "}\n",
    "\n",
    "console.log(confirmEnding(\"Bastian\", \"n\"));"
   ]
  },
  {
   "cell_type": "markdown",
   "metadata": {},
   "source": [
    "#### Solution 2, Code Explanation"
   ]
  },
  {
   "cell_type": "markdown",
   "metadata": {},
   "source": [
    "- We need to make a pattern from the `target` variable that exists at the end of the string `str`.\n",
    "- Since we will use a variable that will change the pattern each time the function is called, we will use the constructor of the regular expression object `new RegExp(pattern[, flags])`, so we start with: `new RegExp(target)`.\n",
    "- Then we have to check at the end of the string, so we concatenate to the `target` variable the `$` character to match the end: `new RegExp(target+'$')`.\n",
    "- We use the flag `i` to ignore the case of the pattern and we have our completed RegExp: `new RegExp(target+'$','i')`, or we can ommit the flag entirely.\n",
    "- Finally, we are using our regular expression with the `test` method to the given string, to check if the string ends with the pattern and return true or false accordingly."
   ]
  },
  {
   "cell_type": "markdown",
   "metadata": {},
   "source": [
    "### Basic Algorithm Scripting: Repeat a String"
   ]
  },
  {
   "cell_type": "markdown",
   "metadata": {},
   "source": [
    "- Repeat a given string `str` (first argument) for `num` times (second argument). Return an empty string if `num` is not a positive number."
   ]
  },
  {
   "cell_type": "markdown",
   "metadata": {},
   "source": [
    "#### My Solution:"
   ]
  },
  {
   "cell_type": "code",
   "execution_count": null,
   "metadata": {},
   "outputs": [],
   "source": [
    "function repeatStringNumTimes(str, num) {\n",
    "  let arr = \"\"\n",
    "  if (num > 0) {\n",
    "    for (let i = 0; i < num; i++ ) {\n",
    "    arr += str;\n",
    "    }\n",
    "  } else {\n",
    "    arr =\"\";\n",
    "  }\n",
    "  return arr;\n",
    "}\n",
    "\n",
    "repeatStringNumTimes(\"abc\", 3);"
   ]
  },
  {
   "cell_type": "markdown",
   "metadata": {},
   "source": [
    "#### Solution 1:"
   ]
  },
  {
   "cell_type": "code",
   "execution_count": null,
   "metadata": {},
   "outputs": [],
   "source": [
    "function repeatStringNumTimes(str, num) {\n",
    "  var accumulatedStr = \"\";\n",
    "\n",
    "  while (num > 0) {\n",
    "    accumulatedStr += str;\n",
    "    num--;\n",
    "  }\n",
    "\n",
    "  return accumulatedStr;\n",
    "}"
   ]
  },
  {
   "cell_type": "markdown",
   "metadata": {},
   "source": [
    "#### Solution 2:"
   ]
  },
  {
   "cell_type": "code",
   "execution_count": null,
   "metadata": {},
   "outputs": [],
   "source": [
    "function repeatStringNumTimes(str, num) {\n",
    "  if (num < 1) {\n",
    "    return \"\";\n",
    "  } else if (num === 1) {\n",
    "    return str;\n",
    "  } else {\n",
    "    return str + repeatStringNumTimes(str, num - 1);\n",
    "  }\n",
    "}"
   ]
  },
  {
   "cell_type": "markdown",
   "metadata": {},
   "source": [
    "#### Solution 2, Code Explanation"
   ]
  },
  {
   "cell_type": "markdown",
   "metadata": {},
   "source": [
    "- This solution uses recursion.\n",
    "- We check if `num` is negative and return an empty string if true.\n",
    "- Then we check if it’s equal to 1 and in that case we return the string itself.\n",
    "- If not, we add the string to a call of our function with `num` being decreased by 1, which will add another `str` and another… until eventually `num` is 1. And return that whole process."
   ]
  },
  {
   "cell_type": "markdown",
   "metadata": {},
   "source": [
    "#### Solution 3:"
   ]
  },
  {
   "cell_type": "code",
   "execution_count": null,
   "metadata": {},
   "outputs": [],
   "source": [
    "function repeatStringNumTimes(str, num) {\n",
    "  return num > 0 ? str.repeat(num) : \"\";\n",
    "}\n",
    "\n",
    "repeatStringNumTimes(\"abc\", 3);"
   ]
  },
  {
   "cell_type": "markdown",
   "metadata": {},
   "source": [
    "#### Solution 4:"
   ]
  },
  {
   "cell_type": "code",
   "execution_count": null,
   "metadata": {},
   "outputs": [],
   "source": [
    "function repeatStringNumTimes(str, num) {\n",
    "  return num > 0 ? str + repeatStringNumTimes(str, num - 1) : '';\n",
    "}"
   ]
  }
 ],
 "metadata": {
  "kernelspec": {
   "display_name": "Python 3",
   "language": "python",
   "name": "python3"
  },
  "language_info": {
   "codemirror_mode": {
    "name": "ipython",
    "version": 3
   },
   "file_extension": ".py",
   "mimetype": "text/x-python",
   "name": "python",
   "nbconvert_exporter": "python",
   "pygments_lexer": "ipython3",
   "version": "3.7.4"
  }
 },
 "nbformat": 4,
 "nbformat_minor": 2
}
