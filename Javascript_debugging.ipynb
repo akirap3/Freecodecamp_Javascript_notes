{
 "cells": [
  {
   "cell_type": "markdown",
   "metadata": {},
   "source": [
    "### Introduction to the Debugging Challenges"
   ]
  },
  {
   "cell_type": "markdown",
   "metadata": {},
   "source": [
    "- Debugging is the process of finding exactly what isn't working and fixing it\n",
    "- These issues generally come in three forms:\n",
    "    1. syntax errors that prevent a program from running\n",
    "    2. runtime errors when code fails to execute or has unexpected behavior\n",
    "    3. semantic (or logical) errors when code doesn't do what it's meant to."
   ]
  },
  {
   "cell_type": "markdown",
   "metadata": {},
   "source": [
    "- Example of a syntax error - often detected by the code editor:"
   ]
  },
  {
   "cell_type": "code",
   "execution_count": null,
   "metadata": {},
   "outputs": [],
   "source": [
    "funtcion willNotWork( \n",
    "  console.log(\"Yuck\");\n",
    "}\n",
    "// \"function\" keyword is misspelled and there's a missing parenthesis"
   ]
  },
  {
   "cell_type": "markdown",
   "metadata": {},
   "source": [
    "- Here's an example of a runtime error - often detected while the program executes:"
   ]
  },
  {
   "cell_type": "code",
   "execution_count": null,
   "metadata": {},
   "outputs": [],
   "source": [
    "function loopy() {\n",
    "  while(true) {\n",
    "    console.log(\"Hello, world!\");\n",
    "  }\n",
    "}\n",
    "// Calling loopy starts an infinite loop, which may crash your browser"
   ]
  },
  {
   "cell_type": "markdown",
   "metadata": {},
   "source": [
    "- Example of a semantic error - often detected after testing code output:"
   ]
  },
  {
   "cell_type": "code",
   "execution_count": null,
   "metadata": {},
   "outputs": [],
   "source": [
    "function calcAreaOfRect(w, h) {\n",
    "  return w + h; // This should be w * h\n",
    "}\n",
    "let myRectArea = calcAreaOfRect(2, 3);\n",
    "// Correct syntax and the program executes, but this gives the wrong answer"
   ]
  },
  {
   "cell_type": "markdown",
   "metadata": {},
   "source": [
    "### Debugging: Use the JavaScript Console to Check the Value of a Variable"
   ]
  },
  {
   "cell_type": "markdown",
   "metadata": {},
   "source": [
    "- The `console.log()` method, which \"prints\" the output of what's within its parentheses to the console, will likely be the most helpful debugging tool. "
   ]
  },
  {
   "cell_type": "markdown",
   "metadata": {},
   "source": [
    "### Debugging: Understanding the Differences between the freeCodeCamp and Browser Console"
   ]
  },
  {
   "cell_type": "markdown",
   "metadata": {},
   "source": [
    "- `console.clear()` to clear the browser console"
   ]
  },
  {
   "cell_type": "markdown",
   "metadata": {},
   "source": [
    "### Debugging: Use typeof to Check the Type of a Variable"
   ]
  },
  {
   "cell_type": "markdown",
   "metadata": {},
   "source": [
    "- You can use `typeof` to check the data structure, or type, of a variable. This is useful in debugging when working with multiple data types. \n",
    "- Type errors can lurk in calculations or function calls. Be careful especially when you're accessing and working with external data in the form of a JavaScript Object Notation (JSON) object.\n",
    "- JavaScript recognizes six primitive (immutable) data types: `Boolean`, `Null`, `Undefined`, `Number`, `String`, and `Symbol` (new with ES6) and one type for mutable items: `Object`. Note that in JavaScript, arrays are technically a type of object."
   ]
  },
  {
   "cell_type": "code",
   "execution_count": null,
   "metadata": {},
   "outputs": [],
   "source": []
  }
 ],
 "metadata": {
  "kernelspec": {
   "display_name": "Python 3",
   "language": "python",
   "name": "python3"
  },
  "language_info": {
   "codemirror_mode": {
    "name": "ipython",
    "version": 3
   },
   "file_extension": ".py",
   "mimetype": "text/x-python",
   "name": "python",
   "nbconvert_exporter": "python",
   "pygments_lexer": "ipython3",
   "version": "3.7.4"
  }
 },
 "nbformat": 4,
 "nbformat_minor": 2
}
