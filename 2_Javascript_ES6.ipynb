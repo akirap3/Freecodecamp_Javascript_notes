{
 "cells": [
  {
   "cell_type": "markdown",
   "metadata": {},
   "source": [
    "### _Introduction to the ES6 Challenges_"
   ]
  },
  {
   "cell_type": "markdown",
   "metadata": {},
   "source": [
    "- ECMAScript is a standardized version of JavaScript with the goal of unifying the language's specifications and features. As all major browsers and JavaScript-runtimes follow this specification, the term _ECMAScript_ is interchangeable with the term _JavaScript_.\n",
    "\n",
    "- Most of the challenges on freeCodeCamp use the ECMAScript 5 (ES5) specification of the language, finalized in 2009. \n",
    "\n",
    "- The most recent standardized version is called ECMAScript 6 (ES6), released in 2015.This new version of the language adds some powerful features that will be covered in this section of challenges, including:\n",
    "\n",
    "  - Arrow functions\n",
    "  - Classes\n",
    "  - Modules\n",
    "  - Promises\n",
    "  - Generators\n",
    "  - `let` and `const`\n",
    "  \n",
    "- Note: Not all browsers support ES6 features. If you use ES6 in your own projects, you may need to use a program (transpiler) to convert your ES6 code into ES5 until browsers support ES6."
   ]
  },
  {
   "cell_type": "markdown",
   "metadata": {},
   "source": [
    "### _ES6: Explore Differences Between the var and let Keywords_"
   ]
  },
  {
   "cell_type": "markdown",
   "metadata": {},
   "source": [
    "- One of the biggest problems with declaring variables with the `var` keyword is that you can overwrite variable declarations without an error."
   ]
  },
  {
   "cell_type": "code",
   "execution_count": null,
   "metadata": {},
   "outputs": [],
   "source": [
    "var camper = 'James';\n",
    "var camper = 'David';\n",
    "console.log(camper);\n",
    "// logs 'David"
   ]
  },
  {
   "cell_type": "markdown",
   "metadata": {},
   "source": [
    "- In a small application, you might not run into this type of problem, but when your code becomes larger, you might accidentally overwrite a variable that you did not intend to overwrite. \n",
    "- Because this behavior does not throw an error, searching and fixing bugs becomes more difficult.\n",
    "- A new keyword called `let` was introduced in ES6 to solve this potential issue with the `var` keyword. - - If you were to replace `var` with `let` in the variable declarations of the code above, the result would be an error."
   ]
  },
  {
   "cell_type": "code",
   "execution_count": null,
   "metadata": {},
   "outputs": [],
   "source": [
    "let camper = 'James';\n",
    "let camper = 'David'; // throws an error"
   ]
  },
  {
   "cell_type": "markdown",
   "metadata": {},
   "source": [
    "- When using `let`, a variable with the same name can only be declared once.\n",
    "- Note the `\"use strict\"`. This enables Strict Mode, which catches common coding mistakes and \"unsafe\" actions. For instance:"
   ]
  },
  {
   "cell_type": "code",
   "execution_count": null,
   "metadata": {},
   "outputs": [],
   "source": [
    "\"use strict\";\n",
    "x = 3.14; // throws an error because x is not declared"
   ]
  },
  {
   "cell_type": "markdown",
   "metadata": {},
   "source": [
    "### _ES6: Compare Scopes of the var and let Keywords_"
   ]
  },
  {
   "cell_type": "markdown",
   "metadata": {},
   "source": [
    "- When you declare a variable with the `var` keyword, it is declared globally, or locally if declared inside a function.\n",
    "- When you declare a variable with the `let` keyword inside a block, statement, or expression, its scope is limited to that block, statement, or expression."
   ]
  },
  {
   "cell_type": "markdown",
   "metadata": {},
   "source": [
    "- Example: "
   ]
  },
  {
   "cell_type": "code",
   "execution_count": null,
   "metadata": {},
   "outputs": [],
   "source": [
    "var numArray = [];\n",
    "for (var i = 0; i < 3; i++) {\n",
    "  numArray.push(i);\n",
    "}\n",
    "console.log(numArray);\n",
    "// returns [0, 1, 2]\n",
    "console.log(i);\n",
    "// returns 3"
   ]
  },
  {
   "cell_type": "markdown",
   "metadata": {},
   "source": [
    "- With the `var` keyword, `i` is declared globally. So when `i++` is executed, it updates the global variable. This code is similar to the following:"
   ]
  },
  {
   "cell_type": "code",
   "execution_count": null,
   "metadata": {},
   "outputs": [],
   "source": [
    "var numArray = [];\n",
    "var i;\n",
    "for (i = 0; i < 3; i++) {\n",
    "  numArray.push(i);\n",
    "}\n",
    "console.log(numArray);\n",
    "// returns [0, 1, 2]\n",
    "console.log(i);\n",
    "// returns 3"
   ]
  },
  {
   "cell_type": "markdown",
   "metadata": {},
   "source": [
    "- This behavior will cause problems if you were to create a function and store it for later use inside a for loop that uses the `i` variable. \n",
    "- This is because the stored function will always refer to the value of the updated global `i` variable."
   ]
  },
  {
   "cell_type": "code",
   "execution_count": null,
   "metadata": {},
   "outputs": [],
   "source": [
    "var printNumTwo;\n",
    "for (var i = 0; i < 3; i++) {\n",
    "  if (i === 2) {\n",
    "    printNumTwo = function() {\n",
    "      return i;\n",
    "    };\n",
    "  }\n",
    "}\n",
    "console.log(printNumTwo());\n",
    "// returns 3"
   ]
  },
  {
   "cell_type": "markdown",
   "metadata": {},
   "source": [
    "- The `let` keyword does not follow this behavior:"
   ]
  },
  {
   "cell_type": "code",
   "execution_count": null,
   "metadata": {},
   "outputs": [],
   "source": [
    "'use strict';\n",
    "let printNumTwo;\n",
    "for (let i = 0; i < 3; i++) {\n",
    "  if (i === 2) {\n",
    "    printNumTwo = function() {\n",
    "      return i;\n",
    "    };\n",
    "  }\n",
    "}\n",
    "console.log(printNumTwo());\n",
    "// returns 2\n",
    "console.log(i);\n",
    "// returns \"i is not defined\""
   ]
  },
  {
   "cell_type": "markdown",
   "metadata": {},
   "source": [
    "### _ES6: Declare a Read-Only Variable with the const Keyword_"
   ]
  },
  {
   "cell_type": "markdown",
   "metadata": {},
   "source": [
    "- `const` has all the awesome features that `let` has, with the added bonus that variables declared using `const` are __read-only__. They are a constant value, which means that once a variable is assigned with const, it cannot be reassigned.\n",
    "- You should always name variables you don't want to reassign using the `const` keyword. This helps when you accidentally attempt to reassign a variable that is meant to stay constant. \n",
    "- A common practice when naming constants is to use all uppercase letters, with words separated by an underscore.\n",
    "- Note: It is common for developers to use _uppercase_ variable identifiers for _immutable_ values and _lowercase_ or _camelCase_ for _mutable_ values (objects and arrays). "
   ]
  },
  {
   "cell_type": "code",
   "execution_count": null,
   "metadata": {},
   "outputs": [],
   "source": [
    "\"use strict\";\n",
    "const FAV_PET = \"Cats\";\n",
    "FAV_PET = \"Dogs\"; // returns error"
   ]
  },
  {
   "cell_type": "markdown",
   "metadata": {},
   "source": [
    "### _ES6: Mutate an Array Declared with const_"
   ]
  },
  {
   "cell_type": "markdown",
   "metadata": {},
   "source": [
    "- Some developers prefer to assign all their variables using `const` by default, unless they know they will need to reassign the value. Only in that case, they use `let`.\n",
    "\n",
    "- However, it is important to understand that objects (including arrays and functions) assigned to a variable using `const` are still _mutable_. Using the `const` declaration only prevents reassignment of the variable identifier."
   ]
  },
  {
   "cell_type": "code",
   "execution_count": null,
   "metadata": {},
   "outputs": [],
   "source": [
    "\"use strict\";\n",
    "const s = [5, 6, 7];\n",
    "s = [1, 2, 3]; // throws error, trying to assign a const\n",
    "s[2] = 45; // works just as it would with an array declared with var or let\n",
    "console.log(s); // returns [5, 6, 45]"
   ]
  },
  {
   "cell_type": "markdown",
   "metadata": {},
   "source": [
    "### _ES6: Prevent Object Mutation_"
   ]
  },
  {
   "cell_type": "markdown",
   "metadata": {},
   "source": [
    "- `const` declaration alone doesn't really protect your data from mutation. To ensure your data doesn't change, JavaScript provides a function `Object.freeze` to prevent data mutation.\n",
    "- Once the object is frozen, you can no longer add, update, or delete properties from it. Any attempt at changing the object will be rejected without an error."
   ]
  },
  {
   "cell_type": "code",
   "execution_count": null,
   "metadata": {},
   "outputs": [],
   "source": [
    "let obj = {\n",
    "  name:\"FreeCodeCamp\",\n",
    "  review:\"Awesome\"\n",
    "};\n",
    "Object.freeze(obj);\n",
    "obj.review = \"bad\"; // will be ignored. Mutation not allowed\n",
    "obj.newProp = \"Test\"; // will be ignored. Mutation not allowed\n",
    "console.log(obj); \n",
    "// { name: \"FreeCodeCamp\", review:\"Awesome\"}"
   ]
  },
  {
   "cell_type": "markdown",
   "metadata": {},
   "source": [
    "- Example: Use `Object.freeze()` to prevent mathematical constants from changing."
   ]
  },
  {
   "cell_type": "code",
   "execution_count": null,
   "metadata": {},
   "outputs": [],
   "source": [
    "function freezeObj() {\n",
    "  \"use strict\";\n",
    "  const MATH_CONSTANTS = {\n",
    "    PI: 3.14\n",
    "  };\n",
    "\n",
    "  Object.freeze(MATH_CONSTANTS);\n",
    "\n",
    "  try {\n",
    "    MATH_CONSTANTS.PI = 99;\n",
    "  } catch (ex) {\n",
    "    console.log(ex);\n",
    "  }\n",
    "  return MATH_CONSTANTS.PI;\n",
    "}\n",
    "\n",
    "const PI = freezeObj();"
   ]
  },
  {
   "cell_type": "markdown",
   "metadata": {},
   "source": [
    "### _ES6: Use Arrow Functions to Write Concise Anonymous Functions_"
   ]
  },
  {
   "cell_type": "markdown",
   "metadata": {},
   "source": [
    "- In JavaScript, we often don't need to name our functions, especially when passing a function as an argument to another function. Instead, we create inline functions. We don't need to name these functions because we do not reuse them anywhere else.\n",
    "- To achieve this, we often use the following syntax:"
   ]
  },
  {
   "cell_type": "code",
   "execution_count": null,
   "metadata": {},
   "outputs": [],
   "source": [
    "const myFunc = function() {\n",
    "  const myVar = \"value\";\n",
    "  return myVar;\n",
    "}"
   ]
  },
  {
   "cell_type": "markdown",
   "metadata": {},
   "source": [
    "- ES6 provides us with the syntactic sugar to not have to write anonymous functions this way. Instead, you can use arrow function syntax:"
   ]
  },
  {
   "cell_type": "code",
   "execution_count": null,
   "metadata": {},
   "outputs": [],
   "source": [
    "const myFunc = () => {\n",
    "  const myVar = \"value\";\n",
    "  return myVar;\n",
    "}"
   ]
  },
  {
   "cell_type": "markdown",
   "metadata": {},
   "source": [
    "- When there is no function body, and only a return value, arrow function syntax allows you to omit the keyword return as well as the brackets surrounding the code. This helps simplify smaller functions into one-line statements:\n",
    "- This code will still return value by default."
   ]
  },
  {
   "cell_type": "code",
   "execution_count": null,
   "metadata": {},
   "outputs": [],
   "source": [
    "const myFunc = () => \"value\";"
   ]
  },
  {
   "cell_type": "markdown",
   "metadata": {},
   "source": [
    "### _ES6: Write Arrow Functions with Parameters_"
   ]
  },
  {
   "cell_type": "code",
   "execution_count": null,
   "metadata": {},
   "outputs": [],
   "source": [
    "// doubles input value and returns it\n",
    "const doubler = (item) => item * 2;"
   ]
  },
  {
   "cell_type": "markdown",
   "metadata": {},
   "source": [
    "- If an arrow function has a single argument, the parentheses enclosing the argument may be omitted."
   ]
  },
  {
   "cell_type": "code",
   "execution_count": null,
   "metadata": {},
   "outputs": [],
   "source": [
    "// the same function, without the argument parentheses\n",
    "const doubler = item => item * 2;"
   ]
  },
  {
   "cell_type": "markdown",
   "metadata": {},
   "source": [
    "- It is possible to pass more than one argument into an arrow function."
   ]
  },
  {
   "cell_type": "code",
   "execution_count": null,
   "metadata": {},
   "outputs": [],
   "source": [
    "// multiplies the first input value by the second and returns it\n",
    "const multiplier = (item, multi) => item * multi;"
   ]
  },
  {
   "cell_type": "markdown",
   "metadata": {},
   "source": [
    "- Example:"
   ]
  },
  {
   "cell_type": "code",
   "execution_count": null,
   "metadata": {},
   "outputs": [],
   "source": [
    "const myConcat = (arr1, arr2) => {\n",
    "  \"use strict\";\n",
    "  return arr1.concat(arr2);\n",
    "};\n",
    "// test your code\n",
    "console.log(myConcat([1, 2], [3, 4, 5]));"
   ]
  },
  {
   "cell_type": "markdown",
   "metadata": {},
   "source": [
    "### _ES6: Set Default Parameters for Your Functions_"
   ]
  },
  {
   "cell_type": "markdown",
   "metadata": {},
   "source": [
    "- In order to help us create more flexible functions, ES6 introduces default parameters for functions."
   ]
  },
  {
   "cell_type": "code",
   "execution_count": null,
   "metadata": {},
   "outputs": [],
   "source": [
    "const greeting = (name = \"Anonymous\") => \"Hello \" + name;\n",
    "\n",
    "console.log(greeting(\"John\")); // Hello John\n",
    "console.log(greeting()); // Hello Anonymous"
   ]
  },
  {
   "cell_type": "markdown",
   "metadata": {},
   "source": [
    "### _ES6: Use the Rest Parameter with Function Parameters_"
   ]
  },
  {
   "cell_type": "markdown",
   "metadata": {},
   "source": [
    "- In order to help us create more flexible functions, ES6 introduces the rest parameter for function parameters. \n",
    "- With the rest parameter, you can create functions that take a variable number of arguments. \n",
    "- These arguments are stored in an array that can be accessed later from inside the function.\n",
    "- The rest parameter eliminates the need to check the args array and allows us to apply `map()`, `filter()` and `reduce()` on the parameters array.\n",
    "- Relevant LInks\n",
    "    - [Rest parameter explanation](https://developer.mozilla.org/en-US/docs/Web/JavaScript/Reference/Functions/rest_parameters)\n",
    "    - [Spread operator compared to rest parameter](https://stackoverflow.com/questions/33898512/spread-syntax-vs-rest-parameter-in-es2015-es6)\n",
    "\n",
    "[![Video explaining spread and rest](./spread_operator_and_rest_operator.png)](https://youtu.be/iLx4ma8ZqvQ)"
   ]
  },
  {
   "cell_type": "code",
   "execution_count": null,
   "metadata": {},
   "outputs": [],
   "source": [
    "function howMany(...args) {\n",
    "  return \"You have passed \" + args.length + \" arguments.\";\n",
    "}\n",
    "console.log(howMany(0, 1, 2)); // You have passed 3 arguments.\n",
    "console.log(howMany(\"string\", null, [1, 2, 3], { })); // You have passed 4 arguments."
   ]
  },
  {
   "cell_type": "markdown",
   "metadata": {},
   "source": [
    "- Example: Modify the function `sum` using the rest parameter in such a way that the function `sum` is able to take any number of arguments and return their sum."
   ]
  },
  {
   "cell_type": "code",
   "execution_count": null,
   "metadata": {},
   "outputs": [],
   "source": [
    "const sum = (...args) => {\n",
    "  return args.reduce((a, b) => a + b, 0);\n",
    "}\n",
    "console.log(sum(1, 2, 3)); // 6"
   ]
  },
  {
   "cell_type": "markdown",
   "metadata": {},
   "source": [
    "### _ES6: Use the Spread Operator to Evaluate Arrays In-Place_"
   ]
  },
  {
   "cell_type": "markdown",
   "metadata": {},
   "source": [
    "- ES6 introduces the spread operator, which allows us to expand arrays and other expressions in places where multiple parameters or elements are expected.\n",
    "\n",
    "- The ES5 code below uses `apply()` to compute the maximum value in an array:"
   ]
  },
  {
   "cell_type": "code",
   "execution_count": null,
   "metadata": {},
   "outputs": [],
   "source": [
    "var arr = [6, 89, 3, 45];\n",
    "var maximus = Math.max.apply(null, arr); // returns 89"
   ]
  },
  {
   "cell_type": "markdown",
   "metadata": {},
   "source": [
    "- We had to use `Math.max.apply(null, arr)` because `Math.max(arr)` returns `NaN`. __`Math.max()` expects comma-separated arguments, but not an array__. The spread operator makes this syntax much better to read and maintain.\n",
    "- __`...arr` returns an unpacked array__. In other words, it spreads the array."
   ]
  },
  {
   "cell_type": "code",
   "execution_count": null,
   "metadata": {},
   "outputs": [],
   "source": [
    "const arr = [6, 89, 3, 45];\n",
    "const maximus = Math.max(...arr); // returns 89"
   ]
  },
  {
   "cell_type": "markdown",
   "metadata": {},
   "source": [
    "- However, the spread operator only works in-place, _like in an argument to a function or in an array literal_. The following code will not work:"
   ]
  },
  {
   "cell_type": "code",
   "execution_count": null,
   "metadata": {},
   "outputs": [],
   "source": [
    "const spreaded = ...arr; // will throw a syntax error"
   ]
  },
  {
   "cell_type": "markdown",
   "metadata": {},
   "source": [
    "- Example: Copy all contents of `arr1` into another array `arr2` using the spread operator."
   ]
  },
  {
   "cell_type": "code",
   "execution_count": null,
   "metadata": {},
   "outputs": [],
   "source": [
    "const arr1 = [\"JAN\", \"FEB\", \"MAR\", \"APR\", \"MAY\"];\n",
    "let arr2;\n",
    "(function() {\n",
    "  \"use strict\";\n",
    "  arr2 = [...arr1]; \n",
    "})();\n",
    "console.log(arr2);"
   ]
  },
  {
   "cell_type": "markdown",
   "metadata": {},
   "source": [
    "### _ES6: Use Destructuring Assignment to Extract Values from Objects_"
   ]
  },
  {
   "cell_type": "markdown",
   "metadata": {},
   "source": [
    "- __Destructuring assignment__ is special syntax introduced in ES6, for neatly assigning values taken directly from an object.\n",
    "\n",
    "- Consider the following ES5 code:"
   ]
  },
  {
   "cell_type": "code",
   "execution_count": null,
   "metadata": {},
   "outputs": [],
   "source": [
    "const user = { name: 'John Doe', age: 34 };\n",
    "\n",
    "const name = user.name; // name = 'John Doe'\n",
    "const age = user.age; // age = 34"
   ]
  },
  {
   "cell_type": "markdown",
   "metadata": {},
   "source": [
    "- Here's an equivalent assignment statement using the ES6 destructuring syntax:\n",
    "- You can extract as many or few values from the object as you want."
   ]
  },
  {
   "cell_type": "code",
   "execution_count": null,
   "metadata": {},
   "outputs": [],
   "source": [
    "const { name, age } = user;\n",
    "// name = 'John Doe', age = 34"
   ]
  },
  {
   "cell_type": "markdown",
   "metadata": {},
   "source": [
    "- Example: Replace the two assignments with an equivalent destructuring assignment. It should still assign the variables `today` and `tomorrow` the values of today and tomorrow from the `HIGH_TEMPERATURES` object."
   ]
  },
  {
   "cell_type": "code",
   "execution_count": null,
   "metadata": {},
   "outputs": [],
   "source": [
    "const HIGH_TEMPERATURES = {\n",
    "  yesterday: 75,\n",
    "  today: 77,\n",
    "  tomorrow: 80\n",
    "};\n",
    "\n",
    "// change code below this line\n",
    "\n",
    "const { today, tomorrow } = HIGH_TEMPERATURES;\n",
    "\n",
    "// change code above this line\n",
    "\n",
    "console.log(yesterday) // should be not defined\n",
    "console.log(today); // should be 77\n",
    "console.log(tomorrow); // should be 80"
   ]
  },
  {
   "cell_type": "markdown",
   "metadata": {},
   "source": [
    "### _ES6: Use Destructuring Assignment to Assign Variables from Objects_"
   ]
  },
  {
   "cell_type": "markdown",
   "metadata": {},
   "source": [
    "- Destructuring allows you to assign a new variable name when extracting values. You can do this by putting the new name after a colon when assigning the value.\n",
    "\n",
    "- Using the same object from the last example:"
   ]
  },
  {
   "cell_type": "code",
   "execution_count": null,
   "metadata": {},
   "outputs": [],
   "source": [
    "const user = { name: 'John Doe', age: 34 };"
   ]
  },
  {
   "cell_type": "markdown",
   "metadata": {},
   "source": [
    "- Here's how you can give new variable names in the assignment:\n",
    "- You may read it as \"get the value of `user.name` and assign it to a new variable named `userName`\" and so on."
   ]
  },
  {
   "cell_type": "code",
   "execution_count": null,
   "metadata": {},
   "outputs": [],
   "source": [
    "const { name: userName, age: userAge } = user;\n",
    "// userName = 'John Doe', userAge = 34"
   ]
  },
  {
   "cell_type": "markdown",
   "metadata": {},
   "source": [
    "### _ES6: Use Destructuring Assignment to Assign Variables from Nested Objects_"
   ]
  },
  {
   "cell_type": "markdown",
   "metadata": {},
   "source": [
    "- Using an object similar to previous examples:"
   ]
  },
  {
   "cell_type": "code",
   "execution_count": null,
   "metadata": {},
   "outputs": [],
   "source": [
    "const user = {\n",
    "  johnDoe: { \n",
    "    age: 34,\n",
    "    email: 'johnDoe@freeCodeCamp.com'\n",
    "  }\n",
    "};"
   ]
  },
  {
   "cell_type": "markdown",
   "metadata": {},
   "source": [
    "- Here's how to extract the values of object properties and assign them to variables with the same name:"
   ]
  },
  {
   "cell_type": "code",
   "execution_count": null,
   "metadata": {},
   "outputs": [],
   "source": [
    "const { johnDoe: { age, email }} = user;"
   ]
  },
  {
   "cell_type": "markdown",
   "metadata": {},
   "source": [
    "- And here's how you can assign an object properties' values to variables with different names:"
   ]
  },
  {
   "cell_type": "code",
   "execution_count": null,
   "metadata": {},
   "outputs": [],
   "source": [
    "const { johnDoe: { age: userAge, email: userEmail }} = user;"
   ]
  },
  {
   "cell_type": "markdown",
   "metadata": {},
   "source": [
    "### _ES6: Use Destructuring Assignment to Assign Variables from Arrays_"
   ]
  },
  {
   "cell_type": "markdown",
   "metadata": {},
   "source": [
    "- Destructuring an array lets us do exactly that:"
   ]
  },
  {
   "cell_type": "code",
   "execution_count": null,
   "metadata": {},
   "outputs": [],
   "source": [
    "const [a, b] = [1, 2, 3, 4, 5, 6];\n",
    "console.log(a, b); // 1, 2"
   ]
  },
  {
   "cell_type": "markdown",
   "metadata": {},
   "source": [
    "- We can also access the value at any index in an array with destructuring by using commas to reach the desired index:"
   ]
  },
  {
   "cell_type": "code",
   "execution_count": null,
   "metadata": {},
   "outputs": [],
   "source": [
    "const [a, b,,, c] = [1, 2, 3, 4, 5, 6];\n",
    "console.log(a, b, c); // 1, 2, 5"
   ]
  },
  {
   "cell_type": "markdown",
   "metadata": {},
   "source": [
    "- Example: Use destructuring assignment to swap the values of `a` and `b` so that a receives the value stored in `b`, and `b` receives the value stored in `a`."
   ]
  },
  {
   "cell_type": "code",
   "execution_count": null,
   "metadata": {},
   "outputs": [],
   "source": [
    "let a = 8, b = 6;\n",
    "[a, b] = [b, a];"
   ]
  },
  {
   "cell_type": "markdown",
   "metadata": {},
   "source": [
    "### _ES6: Use Destructuring Assignment with the Rest Parameter to Reassign Array Elements_"
   ]
  },
  {
   "cell_type": "markdown",
   "metadata": {},
   "source": [
    "- The result is similar to Array.prototype.slice(), as shown below:\n",
    "- As in, you cannot use the rest parameter to catch a subarray that leaves out the last element of the original array."
   ]
  },
  {
   "cell_type": "code",
   "execution_count": null,
   "metadata": {},
   "outputs": [],
   "source": [
    "const [a, b, ...arr] = [1, 2, 3, 4, 5, 7];\n",
    "console.log(a, b); // 1, 2\n",
    "console.log(arr); // [3, 4, 5, 7]"
   ]
  },
  {
   "cell_type": "markdown",
   "metadata": {},
   "source": [
    "### _ES6: Use Destructuring Assignment to Pass an Object as a Function's Parameters_"
   ]
  },
  {
   "cell_type": "markdown",
   "metadata": {},
   "source": [
    "- Consider the code below:"
   ]
  },
  {
   "cell_type": "code",
   "execution_count": null,
   "metadata": {},
   "outputs": [],
   "source": [
    "const profileUpdate = (profileData) => {\n",
    "  const { name, age, nationality, location } = profileData;\n",
    "  // do something with these variables\n",
    "}"
   ]
  },
  {
   "cell_type": "markdown",
   "metadata": {},
   "source": [
    "- This effectively destructures the object sent into the function. This can also be done in-place:"
   ]
  },
  {
   "cell_type": "code",
   "execution_count": null,
   "metadata": {},
   "outputs": [],
   "source": [
    "const profileUpdate = ({ name, age, nationality, location }) => {\n",
    "  /* do something with these fields */\n",
    "}"
   ]
  },
  {
   "cell_type": "markdown",
   "metadata": {},
   "source": [
    "- This removes some extra lines and makes our code look neat. \n",
    "- This has the added benefit of not having to manipulate an entire object in a function — only the fields that are needed are copied inside the function."
   ]
  },
  {
   "cell_type": "markdown",
   "metadata": {},
   "source": [
    "- Example: Use destructuring assignment within the argument to the function half to send only max and min inside the function."
   ]
  },
  {
   "cell_type": "markdown",
   "metadata": {},
   "source": [
    "#### Solution: "
   ]
  },
  {
   "cell_type": "code",
   "execution_count": null,
   "metadata": {},
   "outputs": [],
   "source": [
    "const stats = {\n",
    "  max: 56.78,\n",
    "  standard_deviation: 4.34,\n",
    "  median: 34.54,\n",
    "  mode: 23.87,\n",
    "  min: -0.75,\n",
    "  average: 35.85\n",
    "};\n",
    "\n",
    "const half = ({ max, min }) => (max + min) / 2.0;"
   ]
  },
  {
   "cell_type": "markdown",
   "metadata": {},
   "source": [
    "### _ES6: Create Strings using Template Literals_"
   ]
  },
  {
   "cell_type": "markdown",
   "metadata": {},
   "source": [
    "- Template literals allow you to create multi-line strings and to use string interpolation features to create strings.\n",
    "- Consider the code below:"
   ]
  },
  {
   "cell_type": "code",
   "execution_count": null,
   "metadata": {},
   "outputs": [],
   "source": [
    "const person = {\n",
    "  name: \"Zodiac Hasbro\",\n",
    "  age: 56\n",
    "};\n",
    "\n",
    "// Template literal with multi-line and string interpolation\n",
    "const greeting = `Hello, my name is ${person.name}!\n",
    "I am ${person.age} years old.`;\n",
    "\n",
    "console.log(greeting); // prints\n",
    "// Hello, my name is Zodiac Hasbro!\n",
    "// I am 56 years old."
   ]
  },
  {
   "cell_type": "markdown",
   "metadata": {},
   "source": [
    "- Firstly, the example uses backticks (\\`), not quotes (`'` or `\"`), to wrap the string.\n",
    "- Secondly, notice that the string is multi-line, both in the code and the output. This saves inserting `\\n` within strings. \n",
    "- The `${variable}` syntax used above is a placeholder.\n",
    "- Similarly, you can include other expressions in your string literal, for example `${a + b}`."
   ]
  },
  {
   "cell_type": "markdown",
   "metadata": {},
   "source": [
    "- Example: \n",
    "    - Use template literal syntax with backticks to display each entry of the result object's failure array. Each entry should be wrapped inside an li element with the class attribute text-warning, and listed within the resultDisplayArray.\n",
    "\n",
    "    - Use an iterator method (any kind of loop) to get the desired output (shown below).\n",
    "        \n",
    "        `\n",
    "[\n",
    "      '<li class=\"text-warning\">no-var</li>',\n",
    "      '<li class=\"text-warning\">var-on-top</li>',\n",
    "      '<li class=\"text-warning\">linebreak</li>'\n",
    "]\n",
    "        `"
   ]
  },
  {
   "cell_type": "markdown",
   "metadata": {},
   "source": [
    "#### Solution 1:"
   ]
  },
  {
   "cell_type": "code",
   "execution_count": null,
   "metadata": {},
   "outputs": [],
   "source": [
    "const result = {\n",
    "  success: [\"max-length\", \"no-amd\", \"prefer-arrow-functions\"],\n",
    "  failure: [\"no-var\", \"var-on-top\", \"linebreak\"],\n",
    "  skipped: [\"id-blacklist\", \"no-dup-keys\"]\n",
    "};\n",
    "function makeList(arr) {\n",
    "  \"use strict\";\n",
    "  const resultDisplayArray = [];\n",
    "  for (let i = 0; i < arr.length; i++) {\n",
    "    resultDisplayArray.push(`<li class=\"text-warning\">${arr[i]}</li>`);\n",
    "  }\n",
    "  return resultDisplayArray;\n",
    "}\n",
    "/**\n",
    " * makeList(result.failure) should return:\n",
    " * [ `<li class=\"text-warning\">no-var</li>`,\n",
    " *   `<li class=\"text-warning\">var-on-top</li>`,\n",
    " *   `<li class=\"text-warning\">linebreak</li>` ]\n",
    " **/\n",
    "const resultDisplayArray = makeList(result.failure);"
   ]
  },
  {
   "cell_type": "markdown",
   "metadata": {},
   "source": [
    "#### Solution 2:"
   ]
  },
  {
   "cell_type": "code",
   "execution_count": null,
   "metadata": {},
   "outputs": [],
   "source": [
    "const result = {\n",
    "  success: [\"max-length\", \"no-amd\", \"prefer-arrow-functions\"],\n",
    "  failure: [\"no-var\", \"var-on-top\", \"linebreak\"],\n",
    "  skipped: [\"id-blacklist\", \"no-dup-keys\"]\n",
    "};\n",
    "function makeList(arr) {\n",
    "  \"use strict\";\n",
    "  // change code below this line\n",
    "  const resultDisplayArray = arr.map(item => `<li class=\"text-warning\">${item}</li>`);\n",
    "  // change code above this line\n",
    "  return resultDisplayArray;\n",
    "}\n",
    "/**\n",
    " * makeList(result.failure) should return:\n",
    " * [ `<li class=\"text-warning\">no-var</li>`,\n",
    " *   `<li class=\"text-warning\">var-on-top</li>`,\n",
    " *   `<li class=\"text-warning\">linebreak</li>` ]\n",
    " **/\n",
    "const resultDisplayArray = makeList(result.failure);"
   ]
  },
  {
   "cell_type": "markdown",
   "metadata": {},
   "source": [
    "### _ES6: Write Concise Object Literal Declarations Using Object Property Shorthand_"
   ]
  },
  {
   "cell_type": "markdown",
   "metadata": {},
   "source": [
    "- Consider the following code:"
   ]
  },
  {
   "cell_type": "code",
   "execution_count": null,
   "metadata": {},
   "outputs": [],
   "source": [
    "const getMousePosition = (x, y) => ({\n",
    "  x: x,\n",
    "  y: y\n",
    "});"
   ]
  },
  {
   "cell_type": "markdown",
   "metadata": {},
   "source": [
    "- You can simply write x once, and it will be converted tox: x (or something equivalent) under the hood. \n",
    "- Here is the same function from above rewritten to use this new syntax:"
   ]
  },
  {
   "cell_type": "code",
   "execution_count": null,
   "metadata": {},
   "outputs": [],
   "source": [
    "const getMousePosition = (x, y) => ({ x, y });"
   ]
  },
  {
   "cell_type": "markdown",
   "metadata": {},
   "source": [
    "- Example: Use object property shorthand with object literals to create and return an object with name, age and gender properties."
   ]
  },
  {
   "cell_type": "code",
   "execution_count": null,
   "metadata": {},
   "outputs": [],
   "source": [
    "const createPerson = (name, age, gender) => {\n",
    "  \"use strict\";\n",
    "  // change code below this line\n",
    "  return {\n",
    "    name,\n",
    "    age,\n",
    "    gender\n",
    "  };\n",
    "  // change code above this line\n",
    "};"
   ]
  },
  {
   "cell_type": "markdown",
   "metadata": {},
   "source": [
    "### _ES6: Write Concise Declarative Functions with ES6_"
   ]
  },
  {
   "cell_type": "markdown",
   "metadata": {},
   "source": [
    "-  When defining functions within objects in ES5, we have to use the keyword `function` as follows:"
   ]
  },
  {
   "cell_type": "code",
   "execution_count": null,
   "metadata": {},
   "outputs": [],
   "source": [
    "const person = {\n",
    "  name: \"Taylor\",\n",
    "  sayHello: function() {\n",
    "    return `Hello! My name is ${this.name}.`;\n",
    "  }\n",
    "};"
   ]
  },
  {
   "cell_type": "markdown",
   "metadata": {},
   "source": [
    "- With ES6, You can remove the `function` keyword and colon altogether when defining functions in objects. Here's an example of this syntax:"
   ]
  },
  {
   "cell_type": "code",
   "execution_count": null,
   "metadata": {},
   "outputs": [],
   "source": [
    "const person = {\n",
    "  name: \"Taylor\",\n",
    "  sayHello() {\n",
    "    return `Hello! My name is ${this.name}.`;\n",
    "  }\n",
    "};"
   ]
  },
  {
   "cell_type": "markdown",
   "metadata": {},
   "source": [
    "### _ES6: Use class Syntax to Define a Constructor Function_"
   ]
  },
  {
   "cell_type": "markdown",
   "metadata": {},
   "source": [
    "- It should be noted that the `class` syntax is just syntax, and not a full-fledged class-based implementation of an object-oriented paradigm, unlike in languages such as Java, Python, Ruby, etc."
   ]
  },
  {
   "cell_type": "markdown",
   "metadata": {},
   "source": [
    "- In ES5, we usually define a constructor function and use the `new` keyword to instantiate an object."
   ]
  },
  {
   "cell_type": "code",
   "execution_count": null,
   "metadata": {},
   "outputs": [],
   "source": [
    "var SpaceShuttle = function(targetPlanet){\n",
    "  this.targetPlanet = targetPlanet;\n",
    "}\n",
    "var zeus = new SpaceShuttle('Jupiter');"
   ]
  },
  {
   "cell_type": "markdown",
   "metadata": {},
   "source": [
    "- The `class` syntax simply replaces the constructor function creation:"
   ]
  },
  {
   "cell_type": "code",
   "execution_count": null,
   "metadata": {},
   "outputs": [],
   "source": [
    "class SpaceShuttle {\n",
    "  constructor(targetPlanet) {\n",
    "    this.targetPlanet = targetPlanet;\n",
    "  }\n",
    "}\n",
    "const zeus = new SpaceShuttle('Jupiter');"
   ]
  },
  {
   "cell_type": "markdown",
   "metadata": {},
   "source": [
    "- It should be noted that the `class` keyword declares a new function, to which a constructor is added. This constructor is invoked when `new` is called to create a new object.\n",
    "- Notes:\n",
    "    - UpperCamelCase should be used by convention for ES6 class names, as in `SpaceShuttle` used above.\n",
    "    - The constructor method is a special method for creating and initializing an object created with a class. You will learn more about it in the Object Oriented Programming section of the JavaScript Algorithms And Data Structures Certification."
   ]
  },
  {
   "cell_type": "markdown",
   "metadata": {},
   "source": [
    "### _ES6: Use getters and setters to Control Access to an Object_"
   ]
  },
  {
   "cell_type": "markdown",
   "metadata": {},
   "source": [
    "- You can obtain values from an object and set the value of a property within an object.\n",
    "\n",
    "- These are classically called _getters_ and _setters_.\n",
    "\n",
    "- Getter functions are meant to simply return (get) the value of an object's private variable to the user without the user directly accessing the private variable.\n",
    "\n",
    "- Setter functions are meant to modify (set) the value of an object's private variable based on the value passed into the setter function. This change could involve calculations, or even overwriting the previous value completely."
   ]
  },
  {
   "cell_type": "code",
   "execution_count": null,
   "metadata": {},
   "outputs": [],
   "source": [
    "class Book {\n",
    "  constructor(author) {\n",
    "    this._author = author;\n",
    "  }\n",
    "  // getter\n",
    "  get writer() {\n",
    "    return this._author;\n",
    "  }\n",
    "  // setter\n",
    "  set writer(updatedAuthor) {\n",
    "    this._author = updatedAuthor;\n",
    "  }\n",
    "}\n",
    "const lol = new Book('anonymous');\n",
    "console.log(lol.writer);  // anonymous\n",
    "lol.writer = 'wut';\n",
    "console.log(lol.writer);  // wut"
   ]
  },
  {
   "cell_type": "markdown",
   "metadata": {},
   "source": [
    "- Notice the syntax used to invoke the getter and setter. They do not even look like functions. Getters and setters are important because they hide internal implementation details.\n",
    "- Note: It is convention to precede the name of a private variable with an underscore (`_`). However, the practice itself does not make a variable private."
   ]
  },
  {
   "cell_type": "markdown",
   "metadata": {},
   "source": [
    "- Example:"
   ]
  },
  {
   "cell_type": "code",
   "execution_count": null,
   "metadata": {},
   "outputs": [],
   "source": [
    "class Thermostat {\n",
    "  constructor(fahrenheit) {\n",
    "    this.fahrenheit = fahrenheit;\n",
    "  }\n",
    "  \n",
    "  get temperature() {\n",
    "    return (5 / 9) * (this.fahrenheit - 32);\n",
    "  }\n",
    "  \n",
    "  set temperature(celsius) {\n",
    "    this.fahrenheit = (celsius * 9.0) / 5 + 32;\n",
    "  }\n",
    "}"
   ]
  },
  {
   "cell_type": "markdown",
   "metadata": {},
   "source": [
    "### _ES6: Create a Module Script_"
   ]
  },
  {
   "cell_type": "markdown",
   "metadata": {},
   "source": [
    "- ES6 introduced a way to easily share code among JavaScript files. This involves exporting parts of a file for use in one or more other files, and importing the parts you need, where you need them. In order to take advantage of this functionality, you need to create a script in your HTML document with a type of `module`. Here’s an example:\n",
    "\n",
    "    `<script type=\"module\" src=\"filename.js\"></script>`"
   ]
  },
  {
   "cell_type": "markdown",
   "metadata": {},
   "source": [
    "- Example:"
   ]
  },
  {
   "cell_type": "code",
   "execution_count": null,
   "metadata": {},
   "outputs": [],
   "source": [
    "<html>\n",
    "  <body>\n",
    "    <!-- add your code below -->\n",
    "    <script type=\"module\" src=\"index.js\"></script>\n",
    "    <!-- add your code above -->\n",
    "  </body>\n",
    "</html>"
   ]
  },
  {
   "cell_type": "markdown",
   "metadata": {},
   "source": [
    "### _ES6: Use export to Share a Code Block_"
   ]
  },
  {
   "cell_type": "markdown",
   "metadata": {},
   "source": [
    "- Imagine a file called `math_functions.js` that contains several functions related to mathematical operations. One of them is stored in a variable, `add`, that takes in two numbers and returns their sum. You want to use this function in several different JavaScript files. In order to share it with these other files, you first need to `export` it."
   ]
  },
  {
   "cell_type": "code",
   "execution_count": null,
   "metadata": {},
   "outputs": [],
   "source": [
    "export const add = (x, y) => {\n",
    "  return x + y;\n",
    "}"
   ]
  },
  {
   "cell_type": "markdown",
   "metadata": {},
   "source": [
    "- The above is a common way to export a single function, but you can achieve the same thing like this:"
   ]
  },
  {
   "cell_type": "code",
   "execution_count": null,
   "metadata": {},
   "outputs": [],
   "source": [
    "const add = (x, y) => {\n",
    "  return x + y;\n",
    "}\n",
    "\n",
    "export { add };"
   ]
  },
  {
   "cell_type": "markdown",
   "metadata": {},
   "source": [
    "- When you export a variable or function, you can import it in another file and use it without having to rewrite the code. \n",
    "- You can export multiple things by repeating the first example for each thing you want to export, or by placing them all in the export statement of the second example, like this:"
   ]
  },
  {
   "cell_type": "code",
   "execution_count": null,
   "metadata": {},
   "outputs": [],
   "source": [
    "export { add, subtract };"
   ]
  },
  {
   "cell_type": "markdown",
   "metadata": {},
   "source": [
    "### _ES6: Reuse JavaScript Code Using import_"
   ]
  },
  {
   "cell_type": "markdown",
   "metadata": {},
   "source": [
    "- `import` allows you to choose which parts of a file or module to load. In the previous lesson, the examples exported `add` from the `math_functions.js` file. Here's how you can import it to use in another file:"
   ]
  },
  {
   "cell_type": "code",
   "execution_count": null,
   "metadata": {},
   "outputs": [],
   "source": [
    "import { add } from './math_functions.js';"
   ]
  },
  {
   "cell_type": "markdown",
   "metadata": {},
   "source": [
    "- You can import more than one item from the file by adding them in the `import` statement like this:"
   ]
  },
  {
   "cell_type": "code",
   "execution_count": null,
   "metadata": {},
   "outputs": [],
   "source": [
    "import { add, subtract } from './math_functions.js';"
   ]
  },
  {
   "cell_type": "markdown",
   "metadata": {},
   "source": [
    "### _ES6: Use * to Import Everything from a File_"
   ]
  },
  {
   "cell_type": "markdown",
   "metadata": {},
   "source": [
    "- This can be done with the `import * as` syntax. Here's an example where the contents of a file named `math_functions.js` are imported into a file in the same directory:"
   ]
  },
  {
   "cell_type": "code",
   "execution_count": null,
   "metadata": {},
   "outputs": [],
   "source": [
    "import * as myMathModule from \"./math_functions.js\";"
   ]
  },
  {
   "cell_type": "markdown",
   "metadata": {},
   "source": [
    "- The above `import` statement will create an object called `myMathModule`. This is just a variable name, you can name it anything. \n",
    "- The object will contain all of the exports from `math_functions.js` in it, so you can access the functions like you would any other object property.\n",
    "- Here's how you can use the `add` and `subtract` functions that were imported:"
   ]
  },
  {
   "cell_type": "code",
   "execution_count": null,
   "metadata": {},
   "outputs": [],
   "source": [
    "myMathModule.add(2,3);\n",
    "myMathModule.subtract(5,3);"
   ]
  },
  {
   "cell_type": "markdown",
   "metadata": {},
   "source": [
    "### _ES6: Create an Export Fallback with export default_"
   ]
  },
  {
   "cell_type": "markdown",
   "metadata": {},
   "source": [
    "- In the `export` lesson, you learned about the syntax referred to as a _named export_. This allowed you to make multiple functions and variables available for use in other files.\n",
    "\n",
    "- There is another `export` syntax you need to know, known as _export default_. Usually you will use this syntax if only one value is being exported from a file. It is also used to create a fallback value for a file or module.\n",
    "\n",
    "- Below are examples using `export default`:"
   ]
  },
  {
   "cell_type": "code",
   "execution_count": null,
   "metadata": {},
   "outputs": [],
   "source": [
    "// named function\n",
    "export default function add(x, y) {\n",
    "  return x + y;\n",
    "}\n",
    "\n",
    "// anonymous function\n",
    "export default function(x, y) {\n",
    "  return x + y;\n",
    "}"
   ]
  },
  {
   "cell_type": "markdown",
   "metadata": {},
   "source": [
    "- Since `export default` is used to declare a fallback value for a module or file, you can only have one value be a default export in each module or file. \n",
    "- Additionally, you __cannot__ use `export default` with `var`, `let`, or `const`."
   ]
  },
  {
   "cell_type": "markdown",
   "metadata": {},
   "source": [
    "### _ES6: Import a Default Export_"
   ]
  },
  {
   "cell_type": "markdown",
   "metadata": {},
   "source": [
    "- To import a default export, you need to use a different `import` syntax. In the following example, `add` is the default export of the` math_functions.js` file. Here is how to import it:"
   ]
  },
  {
   "cell_type": "code",
   "execution_count": null,
   "metadata": {},
   "outputs": [],
   "source": [
    "import add from \"./math_functions.js\";"
   ]
  },
  {
   "cell_type": "markdown",
   "metadata": {},
   "source": [
    "- The syntax differs in one key place. The imported value, `add`, is not surrounded by curly braces (`{}`). `add` here is simply a variable name for whatever the default export of the `math_functions.js` file is. You can use any name here when importing a default."
   ]
  },
  {
   "cell_type": "markdown",
   "metadata": {},
   "source": [
    "### _ES6: Create a JavaScript Promise_"
   ]
  },
  {
   "cell_type": "markdown",
   "metadata": {},
   "source": [
    "- A promise in JavaScript is exactly what it sounds like - you use it to make a promise to do something, usually asynchronously. \n",
    "- When the task completes, you either fulfill your promise or fail to do so. \n",
    "- `Promise` is a constructor function, so you need to use the `new` keyword to create one. \n",
    "- It takes a function, as its argument, with two parameters - `resolve` and `reject`. These are methods used to determine the outcome of the promise. The syntax looks like this:"
   ]
  },
  {
   "cell_type": "code",
   "execution_count": null,
   "metadata": {},
   "outputs": [],
   "source": [
    "const myPromise = new Promise((resolve, reject) => {\n",
    "\n",
    "});"
   ]
  },
  {
   "cell_type": "markdown",
   "metadata": {},
   "source": [
    "### _ES6: Complete a Promise with resolve and reject_"
   ]
  },
  {
   "cell_type": "markdown",
   "metadata": {},
   "source": [
    "- A promise has three states: `pending`, `fulfilled`, and `rejected`. \n",
    "- The promise you created in the last challenge is forever stuck in the `pending` state because you did not add a way to complete the promise. \n",
    "- The `resolve` and `reject` parameters given to the promise argument are used to do this. \n",
    "- `resolve` is used when you want your promise to succeed, and `reject` is used when you want it to fail. \n",
    "- These are methods that take an argument, as seen below."
   ]
  },
  {
   "cell_type": "code",
   "execution_count": null,
   "metadata": {},
   "outputs": [],
   "source": [
    "const myPromise = new Promise((resolve, reject) => {\n",
    "  if(condition here) {\n",
    "    resolve(\"Promise was fulfilled\");\n",
    "  } else {\n",
    "    reject(\"Promise was rejected\");\n",
    "  }\n",
    "});"
   ]
  },
  {
   "cell_type": "markdown",
   "metadata": {},
   "source": [
    "- The example above uses strings for the argument of these functions, but it can really be anything.\n",
    "- Often, it might be an object, that you would use data from, to put on your website or elsewhere."
   ]
  },
  {
   "cell_type": "markdown",
   "metadata": {},
   "source": [
    "- Example:"
   ]
  },
  {
   "cell_type": "code",
   "execution_count": null,
   "metadata": {},
   "outputs": [],
   "source": [
    "const makeServerRequest = new Promise((resolve, reject) => {\n",
    "  // responseFromServer represents a response from a server\n",
    "  let responseFromServer;\n",
    "\n",
    "  if(responseFromServer) {\n",
    "    resolve(\"We got the data\");\n",
    "  } else {\t\n",
    "    reject(\"Data not received\");\n",
    "  }\n",
    "});"
   ]
  },
  {
   "cell_type": "markdown",
   "metadata": {},
   "source": [
    "### _ES6: Handle a Fulfilled Promise with then_"
   ]
  },
  {
   "cell_type": "markdown",
   "metadata": {},
   "source": [
    "- Promises are most useful when you have a process that takes an unknown amount of time in your code (i.e. something asynchronous), often a server request. \n",
    "- When you make a server request it takes some amount of time, and after it completes you usually want to do something with the response from the server. \n",
    "- This can be achieved by using the `then` method. The `then` method is executed immediately after your promise is fulfilled with `resolve`. Here’s an example:"
   ]
  },
  {
   "cell_type": "code",
   "execution_count": null,
   "metadata": {},
   "outputs": [],
   "source": [
    "myPromise.then(result => {\n",
    "  // do something with the result.\n",
    "});"
   ]
  },
  {
   "cell_type": "markdown",
   "metadata": {},
   "source": [
    "- Example:"
   ]
  },
  {
   "cell_type": "code",
   "execution_count": null,
   "metadata": {},
   "outputs": [],
   "source": [
    "const makeServerRequest = new Promise((resolve, reject) => {\n",
    "  // responseFromServer is set to true to represent a successful response from a server\n",
    "  let responseFromServer = true;\n",
    "\n",
    "  if(responseFromServer) {\n",
    "    resolve(\"We got the data\");\n",
    "  } else {\t\n",
    "    reject(\"Data not received\");\n",
    "  }\n",
    "});\n",
    "\n",
    "makeServerRequest.then(result => {\n",
    "  console.log(result);\n",
    "});"
   ]
  },
  {
   "cell_type": "markdown",
   "metadata": {},
   "source": [
    "### _ES6: Handle a Rejected Promise with catch_"
   ]
  },
  {
   "cell_type": "markdown",
   "metadata": {},
   "source": [
    "- `catch` is the method used when your promise has been rejected. It is executed immediately after a promise's `reject` method is called. Here’s the syntax:\n",
    "- `error` is the argument passed in to the `reject` method.\n",
    "- Note: the `then` and `catch` methods can be chained to the promise declaration if you choose."
   ]
  },
  {
   "cell_type": "code",
   "execution_count": null,
   "metadata": {},
   "outputs": [],
   "source": [
    "myPromise.catch(error => {\n",
    "  // do something with the error.\n",
    "});"
   ]
  },
  {
   "cell_type": "markdown",
   "metadata": {},
   "source": [
    "- Example:"
   ]
  },
  {
   "cell_type": "code",
   "execution_count": null,
   "metadata": {},
   "outputs": [],
   "source": [
    "const makeServerRequest = new Promise((resolve, reject) => {\n",
    "  // responseFromServer is set to false to represent an unsuccessful response from a server\n",
    "  let responseFromServer = false;\n",
    "\t\n",
    "  if(responseFromServer) {\n",
    "    resolve(\"We got the data\");\n",
    "  } else {\t\n",
    "    reject(\"Data not received\");\n",
    "  }\n",
    "});\n",
    "\n",
    "makeServerRequest.then(result => {\n",
    "  console.log(result);\n",
    "});\n",
    "\n",
    "makeServerRequest.catch(error => {\n",
    "  console.log(error);\n",
    "});"
   ]
  }
 ],
 "metadata": {
  "kernelspec": {
   "display_name": "Python 3",
   "language": "python",
   "name": "python3"
  },
  "language_info": {
   "codemirror_mode": {
    "name": "ipython",
    "version": 3
   },
   "file_extension": ".py",
   "mimetype": "text/x-python",
   "name": "python",
   "nbconvert_exporter": "python",
   "pygments_lexer": "ipython3",
   "version": "3.7.4"
  }
 },
 "nbformat": 4,
 "nbformat_minor": 2
}
