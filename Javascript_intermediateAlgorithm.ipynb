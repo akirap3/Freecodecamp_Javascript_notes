{
 "cells": [
  {
   "cell_type": "markdown",
   "metadata": {},
   "source": [
    "### Intermediate Algorithm Scripting: Sum All Numbers in a Range"
   ]
  },
  {
   "cell_type": "markdown",
   "metadata": {},
   "source": [
    "#### Practice: \n",
    "- You need to create a program that will take an array of two numbers who are not necessarily in order, and then add not just those numbers but any numbers in between. For example, [3,1] will be the same as `1+2+3` and not just `3+1`"
   ]
  },
  {
   "cell_type": "markdown",
   "metadata": {},
   "source": [
    "#### My Solution:"
   ]
  },
  {
   "cell_type": "code",
   "execution_count": null,
   "metadata": {},
   "outputs": [],
   "source": [
    "function sumAll(arr) {\n",
    "  var newArray = [];\n",
    "  newArray = arr.sort(function(a,b) {\n",
    "    return a-b;\n",
    "  })\n",
    "  \n",
    "  for (var sum = 0,i = newArray[0]; i <= newArray[1]; i++) {\n",
    "    sum +=i;\n",
    "  }\n",
    "  return sum;\n",
    "}\n",
    "\n",
    "sumAll([1, 4]);\n"
   ]
  },
  {
   "cell_type": "markdown",
   "metadata": {},
   "source": [
    "#### Solution 1:"
   ]
  },
  {
   "cell_type": "code",
   "execution_count": null,
   "metadata": {},
   "outputs": [],
   "source": [
    "function sumAll(arr) {\n",
    "  var max = Math.max(arr[0], arr[1]);\n",
    "  var min = Math.min(arr[0], arr[1]);\n",
    "  var temp = 0;\n",
    "  for (var i = min; i <= max; i++) {\n",
    "    temp += i;\n",
    "  }\n",
    "  return temp;\n",
    "}\n",
    "\n",
    "sumAll([1, 4]);"
   ]
  },
  {
   "cell_type": "markdown",
   "metadata": {},
   "source": [
    "#### Solution 2:"
   ]
  },
  {
   "cell_type": "code",
   "execution_count": null,
   "metadata": {},
   "outputs": [],
   "source": [
    "const sumAll = arr => {\n",
    "  // Buckle up everything to one!\n",
    "  const startNum = arr[0];\n",
    "  const endNum = arr[1];\n",
    "\n",
    "  // Get the count of numbers between the two numbers by subtracting them and add 1 to the absolute value.\n",
    "  // ex. There are |1-4| + 1 = 4, (1, 2, 3, 4), 4 numbers between 1 and 4.\n",
    "  const numCount = Math.abs(startNum - endNum) + 1;\n",
    "\n",
    "  // Using Arithmetic Progression summing formula\n",
    "  const sum = ((startNum + endNum) * numCount) / 2;\n",
    "  return sum;\n",
    "};"
   ]
  },
  {
   "cell_type": "markdown",
   "metadata": {},
   "source": [
    "#### Solution 2, Code Explanation"
   ]
  },
  {
   "cell_type": "markdown",
   "metadata": {},
   "source": [
    "- Code Explanation\n",
    "    - The formula for calculating the sum of a continuous range is “`(startNum + endNum) * numCount / 2`”.\n",
    "    - `arr[0]` and `arr[1]` can either be `startNum` or `endNum`, order doesn’t matter.\n",
    "    - We can get the count of numbers in range by “`Math.abs(arr[0] - arr[1]) + 1`”.\n",
    "    - Applying the formula by plugging in the numbers."
   ]
  },
  {
   "cell_type": "markdown",
   "metadata": {},
   "source": [
    "#### Solution 3:"
   ]
  },
  {
   "cell_type": "code",
   "execution_count": null,
   "metadata": {},
   "outputs": [],
   "source": [
    "function sumAll(arr) {\n",
    "  var sum = 0;\n",
    "  for (var i = Math.min(...arr); i <= Math.max(...arr); i++) {\n",
    "    sum += i;\n",
    "  }\n",
    "  return sum;\n",
    "}\n",
    "\n",
    "sumAll([1, 4]);"
   ]
  },
  {
   "cell_type": "markdown",
   "metadata": {},
   "source": [
    "#### Solution 3, Code Explanation"
   ]
  },
  {
   "cell_type": "markdown",
   "metadata": {},
   "source": [
    "- Creating a variable sum to store the sum of the elements.\n",
    "- Starting iteration of the loop from min element of given array and stopping when it reaches the max element.\n",
    "- Using a spread operator `(…arr)` allows passing the actual array to the function instead of one-by-one elements."
   ]
  },
  {
   "cell_type": "markdown",
   "metadata": {},
   "source": [
    "#### Solution 4:"
   ]
  },
  {
   "cell_type": "code",
   "execution_count": null,
   "metadata": {},
   "outputs": [],
   "source": [
    "function sumAll([ first, last ] ) {\n",
    " const step = first - last < 0 ? 1 : -1;\n",
    " return first !== last\n",
    "   ? first + sumAll([ first + step, last ])\n",
    "   : first;\n",
    "}"
   ]
  },
  {
   "cell_type": "markdown",
   "metadata": {},
   "source": [
    "### Intermediate Algorithm Scripting: Diff Two Arrays"
   ]
  },
  {
   "cell_type": "markdown",
   "metadata": {},
   "source": [
    "#### Practice: Check two arrays and return a new array that contains only the items that are not in either of the original arrays."
   ]
  },
  {
   "cell_type": "markdown",
   "metadata": {},
   "source": [
    "#### Solution 1:"
   ]
  },
  {
   "cell_type": "code",
   "execution_count": null,
   "metadata": {},
   "outputs": [],
   "source": [
    "function diffArray(arr1, arr2) {\n",
    "  var newArr = [];\n",
    "\n",
    "  function onlyInFirst(first, second) {\n",
    "    // Looping through an array to find elements that don't exist in another array\n",
    "    for (var i = 0; i < first.length; i++) {\n",
    "      if (second.indexOf(first[i]) === -1) {\n",
    "        // Pushing the elements unique to first to newArr\n",
    "        newArr.push(first[i]);\n",
    "      }\n",
    "    }\n",
    "  }\n",
    "\n",
    "  onlyInFirst(arr1, arr2);\n",
    "  onlyInFirst(arr2, arr1);\n",
    "\n",
    "  return newArr;\n",
    "}\n",
    "\n",
    "diffArray([1, 2, 3, 5], [1, 2, 3, 4, 5]);"
   ]
  },
  {
   "cell_type": "markdown",
   "metadata": {},
   "source": [
    "#### Solution 2:"
   ]
  },
  {
   "cell_type": "code",
   "execution_count": null,
   "metadata": {},
   "outputs": [],
   "source": [
    "function diffArray(arr1, arr2) {\n",
    "  return arr1\n",
    "    .concat(arr2)\n",
    "    .filter(item => !arr1.includes(item) || !arr2.includes(item));\n",
    "}\n",
    "\n",
    "diffArray([1, 2, 3, 5], [1, 2, 3, 4, 5]);"
   ]
  },
  {
   "cell_type": "markdown",
   "metadata": {},
   "source": [
    "#### Solution 3:"
   ]
  },
  {
   "cell_type": "code",
   "execution_count": null,
   "metadata": {},
   "outputs": [],
   "source": [
    "function diffArray(arr1, arr2) {\n",
    "  return [...diff(arr1, arr2), ...diff(arr2, arr1)];\n",
    "\n",
    "  function diff(a, b) {\n",
    "    return a.filter(item => b.indexOf(item) === -1);\n",
    "  }\n",
    "}"
   ]
  },
  {
   "cell_type": "markdown",
   "metadata": {},
   "source": [
    "### Intermediate Algorithm Scripting: Seek and Destroy"
   ]
  },
  {
   "cell_type": "markdown",
   "metadata": {},
   "source": [
    "- You will be provided with an initial array (the first argument in the destroyer function), followed by one or more arguments. Remove all elements from the initial array that are of the same value as these arguments.\n",
    "- Note: You have to use the [arguments object](https://www.freecodecamp.org/forum/t/how-arguments-work-in-javascript-javascript-arguments-guide/14283)."
   ]
  },
  {
   "cell_type": "markdown",
   "metadata": {},
   "source": [
    "#### Solution 1:"
   ]
  },
  {
   "cell_type": "code",
   "execution_count": null,
   "metadata": {},
   "outputs": [],
   "source": [
    "function destroyer(arr) {\n",
    "  var args = Array.prototype.slice.call(arguments);\n",
    "\n",
    "  for (var i = 0; i < arr.length; i++) {\n",
    "    for (var j = 0; j < args.length; j++) {\n",
    "      if (arr[i] === args[j]) {\n",
    "        delete arr[i];\n",
    "      }\n",
    "    }\n",
    "  }\n",
    "  return arr.filter(Boolean);\n",
    "}"
   ]
  },
  {
   "cell_type": "markdown",
   "metadata": {},
   "source": [
    "#### Solution 1, Code Explanatin:"
   ]
  },
  {
   "cell_type": "markdown",
   "metadata": {},
   "source": [
    "1. Create an array of `arguments` using `Array.prototype.slice.call()` and store it in the variable `args`. We’ll use this to check against `arr`.\n",
    "\n",
    "2. Start a basic `for` loop to iterate through `arr`. Nest another `for` loop inside the first, changing the integer variable `j` and arr to args. This second loop will iterate through `args` .\n",
    "\n",
    "    - Within the second loop create an `if` statement, checking strictly `===` that the current val of `arr[i]` is equal to `args[j]`.\n",
    "\n",
    "    - If the value at the current index is equal in both arrays, use `delete` to remove it from `arr`.\n",
    "\n",
    "3. Outside of the nested loops: return the modified array using the `Boolean` object as a filter for any `null`'s created by the `delete` operator."
   ]
  },
  {
   "cell_type": "markdown",
   "metadata": {},
   "source": [
    "#### Solution 2:"
   ]
  },
  {
   "cell_type": "code",
   "execution_count": null,
   "metadata": {},
   "outputs": [],
   "source": [
    "function destroyer(arr) {\n",
    "  var args = Array.from(arguments).slice(1);\n",
    "  return arr.filter(function(val) {\n",
    "    return !args.includes(val);\n",
    "  });\n",
    "}"
   ]
  },
  {
   "cell_type": "markdown",
   "metadata": {},
   "source": [
    "#### Solution 2, Code Explanation:"
   ]
  },
  {
   "cell_type": "markdown",
   "metadata": {},
   "source": [
    "1. Declare a variable named `args` and set it equal to a new `Array` object `from()` the `arguments` passed into the function. On the same or next line, use the `slice()` method on `args` starting from the second index, 1. This separates the arguments used for filtering into their own array of `args`.\n",
    "\n",
    "2. Return the filtered array, using `includes()` in the callback function to check if `val` is not in `args`; returning `true` to keep the value in the original array or `false` to remove it."
   ]
  },
  {
   "cell_type": "markdown",
   "metadata": {},
   "source": [
    "#### Solution 3:"
   ]
  },
  {
   "cell_type": "code",
   "execution_count": null,
   "metadata": {},
   "outputs": [],
   "source": [
    "const destroyer = (arr, ...valsToRemove) => arr.filter(elem => !valsToRemove.includes(elem));"
   ]
  },
  {
   "cell_type": "markdown",
   "metadata": {},
   "source": [
    "### Intermediate Algorithm Scripting: Wherefore art thou"
   ]
  },
  {
   "cell_type": "code",
   "execution_count": 1,
   "metadata": {},
   "outputs": [],
   "source": [
    "#### Practice:"
   ]
  },
  {
   "cell_type": "markdown",
   "metadata": {},
   "source": [
    "- Write an algorithm that will take an array for the first argument and return an array with all the objects that matches all the properties and values in the Object passed as second parameter.\n",
    "- `whatIsInAName([{ \"apple\": 1, \"bat\": 2 }, { \"apple\": 1 }, { \"apple\": 1, \"bat\": 2, \"cookie\": 2 }], { \"apple\": 1, \"cookie\": 2 })` should return `[{ \"apple\": 1, \"bat\": 2, \"cookie\": 2 }]`.\n",
    "- `whatIsInAName([{\"a\": 1, \"b\": 2, \"c\": 3}], {\"a\": 1, \"b\": 9999, \"c\": 3})` should return `[]`"
   ]
  },
  {
   "cell_type": "markdown",
   "metadata": {},
   "source": [
    "Solution 1:"
   ]
  },
  {
   "cell_type": "code",
   "execution_count": null,
   "metadata": {},
   "outputs": [],
   "source": [
    "function whatIsInAName(collection, source) {\n",
    "  var srcKeys = Object.keys(source);\n",
    "\n",
    "  // filter the collection\n",
    "  return collection.filter(function(obj) {\n",
    "    for (var i = 0; i < srcKeys.length; i++) {\n",
    "      if (\n",
    "        !obj.hasOwnProperty(srcKeys[i]) ||\n",
    "        obj[srcKeys[i]] !== source[srcKeys[i]]\n",
    "      ) {\n",
    "        return false;\n",
    "      }\n",
    "    }\n",
    "    return true;\n",
    "  });\n",
    "}\n",
    "\n",
    "// test here\n",
    "whatIsInAName(\n",
    "  [\n",
    "    { first: \"Romeo\", last: \"Montague\" },\n",
    "    { first: \"Mercutio\", last: null },\n",
    "    { first: \"Tybalt\", last: \"Capulet\" }\n",
    "  ],\n",
    "  { last: \"Capulet\" }\n",
    ");"
   ]
  },
  {
   "cell_type": "markdown",
   "metadata": {},
   "source": [
    "Solution 1, Code Explanation:"
   ]
  },
  {
   "cell_type": "markdown",
   "metadata": {},
   "source": [
    "- We filter through the array using `.filter()`.\n",
    "- Using a `for loop` we loop through each item in the object.\n",
    "- We use a `if statement` to check if the object in the collection doesn’t have the key and the property value doesn’t match the value in source.\n",
    "- We return `false` if the above `if statement` is correct. Otherwise, we return true;"
   ]
  },
  {
   "cell_type": "markdown",
   "metadata": {},
   "source": [
    "#### Solution 2:"
   ]
  },
  {
   "cell_type": "code",
   "execution_count": null,
   "metadata": {},
   "outputs": [],
   "source": [
    "function whatIsInAName(collection, source) {\n",
    "  var srcKeys = Object.keys(source);\n",
    "\n",
    "  return collection.filter(function(obj) {\n",
    "    return srcKeys.every(function(key) {\n",
    "      return obj.hasOwnProperty(key) && obj[key] === source[key];\n",
    "    });\n",
    "  });\n",
    "}\n",
    "\n",
    "// test here\n",
    "whatIsInAName(\n",
    "  [\n",
    "    { first: \"Romeo\", last: \"Montague\" },\n",
    "    { first: \"Mercutio\", last: null },\n",
    "    { first: \"Tybalt\", last: \"Capulet\" }\n",
    "  ],\n",
    "  { last: \"Capulet\" }\n",
    ");"
   ]
  },
  {
   "cell_type": "markdown",
   "metadata": {},
   "source": [
    "#### Solution 3"
   ]
  },
  {
   "cell_type": "code",
   "execution_count": null,
   "metadata": {},
   "outputs": [],
   "source": [
    "function whatIsInAName(collection, source) {\n",
    "\n",
    "  var srcKeys = Object.keys(source);\n",
    "\n",
    "  // filter the collection\n",
    "  return collection.filter(function(obj) {\n",
    "    return srcKeys\n",
    "      .map(function(key) {\n",
    "        return obj.hasOwnProperty(key) && obj[key] === source[key];\n",
    "      })\n",
    "      .reduce(function(a, b) {\n",
    "        return a && b;\n",
    "      });\n",
    "  });\n",
    "}\n",
    "\n",
    "// test here\n",
    "whatIsInAName(\n",
    "  [\n",
    "    { first: \"Romeo\", last: \"Montague\" },\n",
    "    { first: \"Mercutio\", last: null },\n",
    "    { first: \"Tybalt\", last: \"Capulet\" }\n",
    "  ],\n",
    "  { last: \"Capulet\" }\n",
    ");"
   ]
  },
  {
   "cell_type": "markdown",
   "metadata": {},
   "source": [
    "#### Solution 3, Code Explanation"
   ]
  },
  {
   "cell_type": "markdown",
   "metadata": {},
   "source": [
    "- We start by filtering through `collection` using `Array.filter()`.\n",
    "- Next, we map through all keys and return Boolean values based on the check conditions: both the key and its corresponding value must exist within the object we are filtering through.\n",
    "- Then we reduce the mapped Boolean values to a single Boolean that indicates whether all srcKeys pass the conditions checked above.\n",
    "- This single Boolean will be used to filter through the collection."
   ]
  },
  {
   "cell_type": "markdown",
   "metadata": {},
   "source": [
    "### Intermediate Algorithm Scripting: Spinal Tap Case"
   ]
  },
  {
   "cell_type": "markdown",
   "metadata": {},
   "source": [
    "- Convert the given string to a lowercase sentence with words joined by dashes.\n",
    "- `spinalCase(\"thisIsSpinalTap\")` should return `\"this-is-spinal-tap\"`.\n",
    "- `spinalCase(\"AllThe-small Things\")` should return `\"all-the-small-things\"`.\n",
    "- `spinalCase(\"The_Andy_Griffith_Show\")` should return `\"the-andy-griffith-show\"`."
   ]
  },
  {
   "cell_type": "markdown",
   "metadata": {},
   "source": [
    "#### Solution 1:"
   ]
  },
  {
   "cell_type": "code",
   "execution_count": null,
   "metadata": {},
   "outputs": [],
   "source": [
    "function spinalCase(str) {\n",
    "  // Create a variable for the white space and underscores.\n",
    "  var regex = /\\s+|_+/g;\n",
    "\n",
    "  // Replace low-upper case to low-space-uppercase\n",
    "  str = str.replace(/([a-z])([A-Z])/g, \"$1 $2\");\n",
    "\n",
    "  // Replace space and underscore with -\n",
    "  return str.replace(regex, \"-\").toLowerCase();\n",
    "}\n",
    "\n",
    "// test here\n",
    "spinalCase(\"This Is Spinal Tap\");"
   ]
  },
  {
   "cell_type": "markdown",
   "metadata": {},
   "source": [
    "#### Solution 1, Code Explanation:"
   ]
  },
  {
   "cell_type": "markdown",
   "metadata": {},
   "source": [
    "- regex contains the regular expression `/\\s+|_+/g`, which will select all white spaces and underscores.\n",
    "- The first `replace()` puts a space before any encountered uppercase characters in the string str so that the spaces can be replaced by dashes later on.\n",
    "- While returning the string, another `replace()` replaces spaces and underscores with dashes using regex."
   ]
  },
  {
   "cell_type": "markdown",
   "metadata": {},
   "source": [
    "#### Solution 2:"
   ]
  },
  {
   "cell_type": "code",
   "execution_count": null,
   "metadata": {},
   "outputs": [],
   "source": [
    "function spinalCase(str) {\n",
    "  // Replace low-upper case to low-space-uppercase\n",
    "  str = str.replace(/([a-z])([A-Z])/g, \"$1 $2\");\n",
    "  // Split on whitespace and underscores and join with dash\n",
    "  return str\n",
    "    .toLowerCase()\n",
    "    .split(/(?:_| )+/)\n",
    "    .join(\"-\");\n",
    "}\n",
    "\n",
    "// test here\n",
    "spinalCase(\"This Is Spinal Tap\");"
   ]
  },
  {
   "cell_type": "markdown",
   "metadata": {},
   "source": [
    "#### Solution 2, Code Explanation:"
   ]
  },
  {
   "cell_type": "markdown",
   "metadata": {},
   "source": [
    "- Similar to the first solution, the first `replace()` puts a space before any encountered uppercase characters in the string str so that the spaces can be replaced by dashes later on.\n",
    "- Instead of using `replace()` here to replace whitespace and underscores with dashes, the string is `split()` on the regular expression `/(?:_| )+/` and `join()`-ed on `-`."
   ]
  },
  {
   "cell_type": "markdown",
   "metadata": {},
   "source": [
    "#### Solution 3:"
   ]
  },
  {
   "cell_type": "code",
   "execution_count": null,
   "metadata": {},
   "outputs": [],
   "source": [
    "function spinalCase(str) {\n",
    "  return str\n",
    "    .split(/\\s|_|(?=[A-Z])/)\n",
    "    .join(\"-\")\n",
    "    .toLowerCase();\n",
    "}"
   ]
  },
  {
   "cell_type": "markdown",
   "metadata": {},
   "source": [
    "#### Solution 3, Code Explanation:"
   ]
  },
  {
   "cell_type": "markdown",
   "metadata": {},
   "source": [
    "- Split the string at one of the following conditions (converted to an array)\n",
    "    - a whitespace character `[\\s]` is encountered\n",
    "    - underscore character `[_]` is encountered\n",
    "    - or is followed by an uppercase letter `[(?=[A-Z])]`\n",
    "- Join the array using a hyphen (`-`)\n",
    "- Lowercase the whole resulting string"
   ]
  },
  {
   "cell_type": "markdown",
   "metadata": {},
   "source": [
    "### Intermediate Algorithm Scripting: Pig Latin"
   ]
  },
  {
   "cell_type": "markdown",
   "metadata": {},
   "source": [
    "- Pig Latin is a way of altering English Words. The rules are as follows:\n",
    "    - If a word begins with a consonant, take the first consonant or consonant cluster, move it to the end of the word, and add \"ay\" to it.\n",
    "    - If a word begins with a vowel, just add \"way\" at the end.\n",
    "    - `translatePigLatin(\"california\")` should return \"aliforniacay\".\n",
    "    - `translatePigLatin(\"glove\")` should return \"oveglay\".\n",
    "    - `translatePigLatin(\"eight\")` should return \"eightway\".\n",
    "    - Should handle words without vowels. `translatePigLatin(\"rhythm\")` should return \"rhythmay\"."
   ]
  },
  {
   "cell_type": "markdown",
   "metadata": {},
   "source": [
    "#### Solution 1:"
   ]
  },
  {
   "cell_type": "code",
   "execution_count": null,
   "metadata": {},
   "outputs": [],
   "source": [
    "function translatePigLatin(str) {\n",
    "  let consonantRegex = /^[^aeiou]+/;\n",
    "  let myConsonants = str.match(consonantRegex);\n",
    "  return myConsonants !== null\n",
    "    ? str\n",
    "        .replace(consonantRegex, \"\")\n",
    "        .concat(myConsonants)\n",
    "        .concat(\"ay\")\n",
    "    : str.concat(\"way\");\n",
    "}\n",
    "\n",
    "translatePigLatin(\"consonant\");"
   ]
  },
  {
   "cell_type": "markdown",
   "metadata": {},
   "source": [
    "#### Solution 1, Code EXplanation:"
   ]
  },
  {
   "cell_type": "markdown",
   "metadata": {},
   "source": [
    "- start at beginning and get longest match of everything not a vowel (consonants)\n",
    "\n",
    "- if regex pattern found, it saves the match; else, it returns null\n",
    "\n",
    "- if regex pattern found (starts with consonants), it deletes match, adds the match to the end, and adds “ay” to the end\n",
    "\n",
    "- if regex pattern not found (starts with vowels), it just adds “way” to the ending"
   ]
  },
  {
   "cell_type": "markdown",
   "metadata": {},
   "source": [
    "#### Solution 2:"
   ]
  },
  {
   "cell_type": "code",
   "execution_count": null,
   "metadata": {},
   "outputs": [],
   "source": [
    "function translatePigLatin(str) {\n",
    "  // Create variables to be used\n",
    "  var pigLatin = \"\";\n",
    "  var regex = /[aeiou]/gi;\n",
    "\n",
    "  // Check if the first character is a vowel\n",
    "  if (str[0].match(regex)) {\n",
    "    pigLatin = str + \"way\";\n",
    "  } else if (str.match(regex) === null) {\n",
    "    // Check if the string contains only consonants\n",
    "    pigLatin = str + \"ay\";\n",
    "  } else {\n",
    "    // Find how many consonants before the first vowel.\n",
    "    var vowelIndice = str.indexOf(str.match(regex)[0]);\n",
    "\n",
    "    // Take the string from the first vowel to the last char\n",
    "    // then add the consonants that were previously omitted and add the ending.\n",
    "    pigLatin = str.substr(vowelIndice) + str.substr(0, vowelIndice) + \"ay\";\n",
    "  }\n",
    "\n",
    "  return pigLatin;\n",
    "}\n",
    "\n",
    "// test here\n",
    "translatePigLatin(\"consonant\");"
   ]
  },
  {
   "cell_type": "markdown",
   "metadata": {},
   "source": [
    "#### Solotion 2, Code Explanation:"
   ]
  },
  {
   "cell_type": "markdown",
   "metadata": {},
   "source": [
    "- Make an empty string to hold your Pig Latin word.\n",
    "- Assign your appropriate regular expression to a variable.\n",
    "- If the first character is a vowel, just add way to end of string and return it.\n",
    "- If the first character is not a vowel:\n",
    "    - Find number of consonants before first vowel with help of `indexOf()`, `match()` and regex.\n",
    "    - Start Pig Latin string with first vowel till the end.\n",
    "    - Add letters before first vowel to end of string.\n",
    "    - `substr()` is used for string manipulation here.\n",
    "    - Add ay to end of string and return it."
   ]
  },
  {
   "cell_type": "markdown",
   "metadata": {},
   "source": [
    "#### Solution 3:"
   ]
  },
  {
   "cell_type": "code",
   "execution_count": null,
   "metadata": {},
   "outputs": [],
   "source": [
    "function translatePigLatin(str) {\n",
    "  if (str.match(/^[aeiou]/)) return str + \"way\";\n",
    "\n",
    "  const consonantCluster = str.match(/^[^aeiou]+/)[0];\n",
    "  return str.substring(consonantCluster.length) + consonantCluster + \"ay\";\n",
    "}\n",
    "\n",
    "// test here\n",
    "translatePigLatin(\"consonant\");"
   ]
  },
  {
   "cell_type": "markdown",
   "metadata": {},
   "source": [
    "#### Solution 3, Code Explanation:"
   ]
  },
  {
   "cell_type": "markdown",
   "metadata": {},
   "source": [
    "- First, check to see if the string begins with a vowel.\n",
    "    - The regex looks at the beginning of the string ^ for one of the specified characters `[aeiou]`\n",
    "    - If it does, you only need to return the original string with “way” appended on the end.\n",
    "- If the string does not start with a vowel, we want to build a string which contains every consonant before the first vowel in the provided string.\n",
    "    - To do this, look at the beginning of a string ^ for one or more characters + NOT specified `[^aeiou]`.\n",
    "    - If there is a match (and in this case, there always will be), `match()` returns an Array with the matched string as the first element, which is all we want. Grab it with `[0]`.\n",
    "- Now, we can start building our Pig Latin string to return. This can be built in three parts:\n",
    "    - The first part contains all of the characters in the original string, starting from the first vowel. We can easily get these characters by creating a substring of the original string, with its starting index being the first vowel.\n",
    "    - The second part contains the consonant string we just built. (If you add the second and first parts of this string together, you will get the original string.)\n",
    "    - The final part contains “ay”."
   ]
  },
  {
   "cell_type": "markdown",
   "metadata": {},
   "source": [
    "#### Solution 4:"
   ]
  },
  {
   "cell_type": "code",
   "execution_count": null,
   "metadata": {},
   "outputs": [],
   "source": [
    "function translatePigLatin(str) {\n",
    "  return str\n",
    "    .replace(/^[aeiou]\\w*/, \"$&way\")\n",
    "    .replace(/(^[^aeiou]+)(\\w*)/, \"$2$1ay\");\n",
    "}\n",
    "\n",
    "// test here\n",
    "translatePigLatin(\"consonant\");"
   ]
  },
  {
   "cell_type": "markdown",
   "metadata": {},
   "source": [
    "#### Solution 5:"
   ]
  },
  {
   "cell_type": "code",
   "execution_count": null,
   "metadata": {},
   "outputs": [],
   "source": [
    "function translatePigLatin(str, charPos = 0) {\n",
    "  return ['a', 'e', 'i', 'o', 'u'].includes(str[0])\n",
    "    ? str + (charPos === 0 ? 'way' : 'ay')\n",
    "    : charPos === str.length\n",
    "      ? str + 'ay'\n",
    "      : translatePigLatin(str.slice(1) + str[0], charPos + 1);\n",
    "}"
   ]
  },
  {
   "cell_type": "markdown",
   "metadata": {},
   "source": [
    "### Intermediate Algorithm Scripting: Search and Replace"
   ]
  },
  {
   "cell_type": "markdown",
   "metadata": {},
   "source": [
    "- `myReplace(\"Let us go to the store\", \"store\", \"mall\")` should return \"Let us go to the mall\".\n",
    "- `myReplace(\"He is Sleeping on the couch\", \"Sleeping\", \"sitting\")` should return \"He is Sitting on the couch\".\n",
    "Passed\n",
    "- `myReplace(\"This has a spellngi error\", \"spellngi\", \"spelling\")` should return \"This has a spelling error\"."
   ]
  },
  {
   "cell_type": "markdown",
   "metadata": {},
   "source": [
    "#### My Solution:"
   ]
  },
  {
   "cell_type": "code",
   "execution_count": null,
   "metadata": {},
   "outputs": [],
   "source": [
    "function myReplace(str, before, after) {\n",
    "  var regex = /^[A-Z]/;\n",
    "  if (regex.test(before) == true) { \n",
    "    var after = after.replace(after[0], after[0].toUpperCase());\n",
    "  }\n",
    "  return str.replace(before, after);\n",
    "}\n",
    "\n",
    "console.log(myReplace(\"A quick brown fox Jumped over the lazy dog\", \"Jumped\", \"leaped\"));"
   ]
  },
  {
   "cell_type": "markdown",
   "metadata": {},
   "source": [
    "#### Solution 1:"
   ]
  },
  {
   "cell_type": "code",
   "execution_count": null,
   "metadata": {},
   "outputs": [],
   "source": [
    "function myReplace(str, before, after) {\n",
    "  // Find index where before is on string\n",
    "  var index = str.indexOf(before);\n",
    "  // Check to see if the first letter is uppercase or not\n",
    "  if (str[index] === str[index].toUpperCase()) {\n",
    "    // Change the after word to be capitalized before we use it.\n",
    "    after = after.charAt(0).toUpperCase() + after.slice(1);\n",
    "  }\n",
    "  // Now replace the original str with the edited one.\n",
    "  str = str.replace(before, after);\n",
    "\n",
    "  return str;\n",
    "}\n",
    "\n",
    "// test here\n",
    "myReplace(\"A quick brown fox jumped over the lazy dog\", \"jumped\", \"leaped\");"
   ]
  },
  {
   "cell_type": "markdown",
   "metadata": {},
   "source": [
    "#### Solution 1, Code Explanation:"
   ]
  },
  {
   "cell_type": "markdown",
   "metadata": {},
   "source": [
    "- Use `indexOf()` to find location of before in string.\n",
    "- If first letter of before is capitalized, change first letter of after to uppercase.\n",
    "- Replace before in the string with after.\n",
    "- Return the new string."
   ]
  },
  {
   "cell_type": "markdown",
   "metadata": {},
   "source": [
    "#### Solution 2:"
   ]
  },
  {
   "cell_type": "code",
   "execution_count": null,
   "metadata": {},
   "outputs": [],
   "source": [
    "function myReplace(str, before, after) {\n",
    "  // Check if first character of argument \"before\" is a capital or lowercase letter and change the first character of argument \"after\" to match the case\n",
    "  if (/^[A-Z]/.test(before)) {\n",
    "    after = after[0].toUpperCase() + after.substring(1)\n",
    "  } else {\n",
    "    after = after[0].toLowerCase() + after.substring(1)\n",
    "  }\n",
    "\n",
    "  // return string with argument \"before\" replaced by argument \"after\" (with correct case)\n",
    "  return str.replace(before, after);\n",
    "}\n",
    "\n",
    "// test here\n",
    "myReplace(\"A quick brown fox jumped over the lazy dog\", \"jumped\", \"leaped\");"
   ]
  },
  {
   "cell_type": "markdown",
   "metadata": {},
   "source": [
    "#### Solution 2, Code Explanation:"
   ]
  },
  {
   "cell_type": "markdown",
   "metadata": {},
   "source": [
    "- In this solution, regular expression `^[A-Z]` is used to check (test) if the first character of before is uppercase.\n",
    "- If first letter of before is capitalized, change the first letter of after to uppercase.\n",
    "- Else: If first letter of before is lowercase, change the first letter of after to lowercase\n",
    "- Return the new string replacing before with after."
   ]
  },
  {
   "cell_type": "markdown",
   "metadata": {},
   "source": [
    "#### Solution 3:"
   ]
  },
  {
   "cell_type": "code",
   "execution_count": null,
   "metadata": {},
   "outputs": [],
   "source": [
    "function myReplace(str, before, after) {\n",
    "  // create a function that will change the casing of any number of letter in parameter \"target\"\n",
    "  // matching parameter \"source\"\n",
    "  function applyCasing(source, target) {\n",
    "    // split the source and target strings to array of letters\n",
    "    var targetArr = target.split(\"\");\n",
    "    var sourceArr = source.split(\"\");\n",
    "    // iterate through all the items of sourceArr and targetArr arrays till loop hits the end of shortest array\n",
    "    for (var i = 0; i < Math.min(targetArr.length, sourceArr.length); i++) {\n",
    "      // find out the casing of every letter from sourceArr using regular expression\n",
    "      // if sourceArr[i] is upper case then convert targetArr[i] to upper case\n",
    "      if (/[A-Z]/.test(sourceArr[i])) {\n",
    "        targetArr[i] = targetArr[i].toUpperCase();\n",
    "      }\n",
    "      // if sourceArr[i] is not upper case then convert targetArr[i] to lower case\n",
    "      else targetArr[i] = targetArr[i].toLowerCase();\n",
    "    }\n",
    "    // join modified targetArr to string and return\n",
    "    return targetArr.join(\"\");\n",
    "  }\n",
    "\n",
    "  // replace \"before\" with \"after\" with \"before\"-casing\n",
    "  return str.replace(before, applyCasing(before, after));\n",
    "}\n",
    "\n",
    "// test here\n",
    "myReplace(\"A quick brown fox jumped over the lazy dog\", \"jumped\", \"leaped\");"
   ]
  },
  {
   "cell_type": "markdown",
   "metadata": {},
   "source": [
    "#### Solution 3, Code Explanation:"
   ]
  },
  {
   "cell_type": "markdown",
   "metadata": {},
   "source": [
    "- Both the before and after are passed as arguments to `applyCasing()`.\n",
    "- The function `applyCasing()` is used to change the case of respective characters in targetArr i.e., after in accordance with that of characters in sourceArr i.e., before.\n",
    "- `replace()` is used to replace before with after, whose casing is same as before."
   ]
  },
  {
   "cell_type": "markdown",
   "metadata": {},
   "source": [
    "#### Solution 4:"
   ]
  },
  {
   "cell_type": "code",
   "execution_count": null,
   "metadata": {},
   "outputs": [],
   "source": [
    "// Add new method to the String object, not overriding it if one exists already\n",
    "String.prototype.capitalize =\n",
    "  String.prototype.capitalize ||\n",
    "  function() {\n",
    "    return this[0].toUpperCase() + this.slice(1);\n",
    "  };\n",
    "\n",
    "const Util = (function() {\n",
    "  // Create utility module to hold helper functions\n",
    "  function textCase(str, tCase) {\n",
    "    // Depending if the tCase argument is passed we either set the case of the\n",
    "    // given string or we get it.\n",
    "    // Those functions can be expanded for other text cases.\n",
    "\n",
    "    if (tCase) {\n",
    "      return setCase(str, tCase);\n",
    "    } else {\n",
    "      return getCase(str);\n",
    "    }\n",
    "\n",
    "    function setCase(str, tCase) {\n",
    "      switch (tCase) {\n",
    "        case \"uppercase\":\n",
    "          return str.toUpperCase();\n",
    "        case \"lowercase\":\n",
    "          return str.toLowerCase();\n",
    "        case \"capitalized\":\n",
    "          return str.capitalize();\n",
    "        default:\n",
    "          return str;\n",
    "      }\n",
    "    }\n",
    "\n",
    "    function getCase(str) {\n",
    "      if (str === str.toUpperCase()) {\n",
    "        return \"uppercase\";\n",
    "      }\n",
    "      if (str === str.toLowerCase()) {\n",
    "        return \"lowercase\";\n",
    "      }\n",
    "      if (str === str.capitalize()) {\n",
    "        return \"capitalized\";\n",
    "      }\n",
    "      return \"normal\";\n",
    "    }\n",
    "  }\n",
    "\n",
    "  return {\n",
    "    textCase\n",
    "  };\n",
    "})();\n",
    "\n",
    "function myReplace(str, before, after) {\n",
    "  const { textCase } = Util;\n",
    "  const regex = new RegExp(before, \"gi\");\n",
    "  const replacingStr = textCase(after, textCase(before));\n",
    "\n",
    "  return str.replace(regex, replacingStr);\n",
    "}"
   ]
  },
  {
   "cell_type": "markdown",
   "metadata": {},
   "source": [
    "#### Solution 5:"
   ]
  },
  {
   "cell_type": "code",
   "execution_count": null,
   "metadata": {},
   "outputs": [],
   "source": [
    "function myReplace(str, before, after) {\n",
    "  const myArr = str.split(\" \");\n",
    "  const [wordToReplace] = myArr.filter(item => item === before);\n",
    "  return wordToReplace[0].toUpperCase() !== wordToReplace[0]\n",
    "    ? myArr.map(item => (item === before ? after : item)).join(\" \")\n",
    "    : myArr\n",
    "        .map(item =>\n",
    "          item === before ? after[0].toUpperCase() + after.slice(1) : item\n",
    "        )\n",
    "        .join(\" \");\n",
    "}\n",
    "\n",
    "// test:\n",
    "myReplace(\"A quick brown fox jumped over the lazy dog\", \"jumped\", \"leaped\");"
   ]
  },
  {
   "cell_type": "markdown",
   "metadata": {},
   "source": [
    "#### Intermediate Algorithm Scripting: DNA Pairing"
   ]
  },
  {
   "cell_type": "markdown",
   "metadata": {},
   "source": [
    "- Base pairs are a pair of AT and CG. Match the missing element to the provided character.\n",
    "- For example, for the input GCG, return `[[\"G\", \"C\"], [\"C\",\"G\"],[\"G\", \"C\"]]`"
   ]
  },
  {
   "cell_type": "markdown",
   "metadata": {},
   "source": [
    "#### My Solution:"
   ]
  },
  {
   "cell_type": "code",
   "execution_count": null,
   "metadata": {},
   "outputs": [],
   "source": [
    "function pairElement(str) {\n",
    "  var newArr = str.split(\"\");\n",
    "  var newerArr = [];\n",
    "  var newestArr = [];\n",
    "\n",
    "  for (var i = 0; i < newArr.length; i++) {\n",
    "    switch (newArr[i]) {\n",
    "      case \"A\":\n",
    "        newerArr.push(\"A\",\"T\");\n",
    "        break;\n",
    "      case \"T\":\n",
    "        newerArr.push(\"T\",\"A\");\n",
    "        break;\n",
    "      case \"C\":\n",
    "        newerArr.push(\"C\",\"G\");\n",
    "        break;\n",
    "      case \"G\":\n",
    "        newerArr.push(\"G\",\"C\");\n",
    "        break;\n",
    "    }\n",
    "    newestArr[i] = newerArr;\n",
    "    newerArr = [];\n",
    "  }\n",
    "  return newestArr;\n",
    "}\n",
    "\n",
    "console.log(pairElement(\"GCGAT\"));"
   ]
  },
  {
   "cell_type": "markdown",
   "metadata": {},
   "source": [
    "#### Solution 1:"
   ]
  },
  {
   "cell_type": "code",
   "execution_count": null,
   "metadata": {},
   "outputs": [],
   "source": [
    "function pairElement(str) {\n",
    "  // Return each strand as an array of two elements, the original and the pair.\n",
    "  var paired = [];\n",
    "\n",
    "  // Function to check with strand to pair.\n",
    "  var search = function(char) {\n",
    "    switch (char) {\n",
    "      case \"A\":\n",
    "        paired.push([\"A\", \"T\"]);\n",
    "        break;\n",
    "      case \"T\":\n",
    "        paired.push([\"T\", \"A\"]);\n",
    "        break;\n",
    "      case \"C\":\n",
    "        paired.push([\"C\", \"G\"]);\n",
    "        break;\n",
    "      case \"G\":\n",
    "        paired.push([\"G\", \"C\"]);\n",
    "        break;\n",
    "    }\n",
    "  };\n",
    "\n",
    "  // Loops through the input and pair.\n",
    "  for (var i = 0; i < str.length; i++) {\n",
    "    search(str[i]);\n",
    "  }\n",
    "\n",
    "  return paired;\n",
    "}\n",
    "\n",
    "// test here\n",
    "pairElement(\"GCG\");"
   ]
  },
  {
   "cell_type": "markdown",
   "metadata": {},
   "source": [
    "#### Solution 2:"
   ]
  },
  {
   "cell_type": "code",
   "execution_count": null,
   "metadata": {},
   "outputs": [],
   "source": [
    "function pairElement(str) {\n",
    "  //create object for pair lookup\n",
    "  var pairs = {\n",
    "    A: \"T\",\n",
    "    T: \"A\",\n",
    "    C: \"G\",\n",
    "    G: \"C\"\n",
    "  };\n",
    "  //split string into array of characters\n",
    "  var arr = str.split(\"\");\n",
    "  //map character to array of character and matching pair\n",
    "  return arr.map(x => [x, pairs[x]]);\n",
    "}\n",
    "\n",
    "//test here\n",
    "pairElement(\"GCG\");"
   ]
  },
  {
   "cell_type": "markdown",
   "metadata": {},
   "source": [
    "### Intermediate Algorithm Scripting: Missing letters"
   ]
  },
  {
   "cell_type": "markdown",
   "metadata": {},
   "source": [
    "- Find the missing letter in the passed letter range and return it.\n",
    "- If all letters are present in the range, return undefined.\n",
    "- `fearNotLetter(\"stvwx\")` should return \"u\".\n",
    "- `fearNotLetter(\"abcdefghijklmnopqrstuvwxyz\")` should return undefined."
   ]
  },
  {
   "cell_type": "markdown",
   "metadata": {},
   "source": [
    "#### My Solution:"
   ]
  },
  {
   "cell_type": "code",
   "execution_count": null,
   "metadata": {},
   "outputs": [],
   "source": [
    "function fearNotLetter(str) {\n",
    "  for (var i = 0; i < str.length - 1; i++) {\n",
    "    if ((str.charCodeAt(i+1) - str.charCodeAt(i)) == 2) {\n",
    "        return String.fromCharCode(str.charCodeAt(i) + 1);\n",
    "    }\n",
    "  }\n",
    "}\n",
    "\n",
    "console.log(fearNotLetter(\"abcdefghijklmnopqrstuvwxyz\"));\n",
    "console.log(fearNotLetter(\"bcdf\"));"
   ]
  },
  {
   "cell_type": "markdown",
   "metadata": {},
   "source": [
    "#### Solution 1:"
   ]
  },
  {
   "cell_type": "code",
   "execution_count": null,
   "metadata": {},
   "outputs": [],
   "source": [
    "function fearNotLetter(str) {\n",
    "  for (var i = 0; i < str.length; i++) {\n",
    "    /* code of current character */\n",
    "    var code = str.charCodeAt(i);\n",
    "\n",
    "    /* if code of current character is not equal to first character + no of iteration\n",
    "        hence character has been escaped */\n",
    "    if (code !== str.charCodeAt(0) + i) {\n",
    "      /* if current character has escaped one character find previous char and return */\n",
    "      return String.fromCharCode(code - 1);\n",
    "    }\n",
    "  }\n",
    "  return undefined;\n",
    "}\n",
    "\n",
    "// test here\n",
    "fearNotLetter(\"abce\");"
   ]
  },
  {
   "cell_type": "markdown",
   "metadata": {},
   "source": [
    "#### Solution 1, Code Explanation:"
   ]
  },
  {
   "cell_type": "markdown",
   "metadata": {},
   "source": [
    "- This solutions makes use of a `for` loop.\n",
    "- Code of encountered character is stored in code.\n",
    "- It is checked if code of current character is the expected one (no characters are skipped) by using the logic - `code of current character = code of first character + number of iterations`.\n",
    "- If a character is missing, the missing character is found and the final string is returned.\n",
    "- `undefined` is returned if there is no missing character in the string."
   ]
  },
  {
   "cell_type": "markdown",
   "metadata": {},
   "source": [
    "#### Solution 2"
   ]
  },
  {
   "cell_type": "code",
   "execution_count": null,
   "metadata": {},
   "outputs": [],
   "source": [
    "// Adding this solution for the sake of avoiding using 'for' and 'while' loops.\n",
    "// See the explanation for reference as to why. It's worth the effort.\n",
    "\n",
    "function fearNotLetter(str) {\n",
    "  var compare = str.charCodeAt(0),\n",
    "    missing;\n",
    "\n",
    "  str.split(\"\").map(function(letter, index) {\n",
    "    if (str.charCodeAt(index) == compare) {\n",
    "      ++compare;\n",
    "    } else {\n",
    "      missing = String.fromCharCode(compare);\n",
    "    }\n",
    "  });\n",
    "\n",
    "  return missing;\n",
    "}\n",
    "\n",
    "// test here\n",
    "fearNotLetter(\"abce\");"
   ]
  },
  {
   "cell_type": "markdown",
   "metadata": {},
   "source": [
    "#### Solution 2, Code Explanation:"
   ]
  },
  {
   "cell_type": "markdown",
   "metadata": {},
   "source": [
    "- First we define variables to store the character code for the first letter in the string, and to store whatever missing letters we may find.\n",
    "- We turn the string to an array in order to map through it instead of using `for` and `while` loops.\n",
    "- As we `map` through our letters’ character codes, we go comparing with the one that should be in that position.\n",
    "- If the current letter matches, we move the comparison variable to its next position so we can compare on the next cycle.\n",
    "- If not, the missing letter will be assigned to the `missing` variable, which will be returned after the map is finished.\n",
    "- If there are no missing characters, return `undefined`."
   ]
  },
  {
   "cell_type": "markdown",
   "metadata": {},
   "source": [
    "#### Solution 3:"
   ]
  },
  {
   "cell_type": "code",
   "execution_count": null,
   "metadata": {},
   "outputs": [],
   "source": [
    "function fearNotLetter(str) {\n",
    "  for (let i = 1; i < str.length; ++i) {\n",
    "    if (str.charCodeAt(i) - str.charCodeAt(i - 1) > 1) {\n",
    "      return String.fromCharCode(str.charCodeAt(i - 1) + 1);\n",
    "    }\n",
    "  }\n",
    "}"
   ]
  },
  {
   "cell_type": "markdown",
   "metadata": {},
   "source": [
    "#### Solution 3, Code Explanation:"
   ]
  },
  {
   "cell_type": "markdown",
   "metadata": {},
   "source": [
    "- Loop over the string\n",
    "- Check if the difference in char codes between adjacent characters in the string is more than 1 (check ASCII table)\n",
    "- Return the missing character ( +1 from where the gap was detected)"
   ]
  },
  {
   "cell_type": "markdown",
   "metadata": {},
   "source": [
    "#### Solution 4:"
   ]
  },
  {
   "cell_type": "code",
   "execution_count": null,
   "metadata": {},
   "outputs": [],
   "source": [
    "function fearNotLetter(str) {\n",
    "  var allChars = \"\";\n",
    "  var notChars = new RegExp(\"[^\" + str + \"]\", \"g\");\n",
    "\n",
    "  for (var i = 0; allChars[allChars.length - 1] !== str[str.length - 1]; i++)\n",
    "    allChars += String.fromCharCode(str[0].charCodeAt(0) + i);\n",
    "\n",
    "  return allChars.match(notChars)\n",
    "    ? allChars.match(notChars).join(\"\")\n",
    "    : undefined;\n",
    "}\n",
    "\n",
    "// test here\n",
    "fearNotLetter(\"abce\");"
   ]
  },
  {
   "cell_type": "markdown",
   "metadata": {},
   "source": [
    "#### Solution 4, Code Explanation:"
   ]
  },
  {
   "cell_type": "markdown",
   "metadata": {},
   "source": [
    "- A new string allChars is created.\n",
    "- Create a regular expression notChars which selects everything except str.\n",
    "- The `for` loop is used to add all the letters in the range to allChars.\n",
    "- `match()` is used to strip off the str letters from the newly created string and it is returned.\n",
    "- If there are no missing characters, return `undefined`."
   ]
  },
  {
   "cell_type": "markdown",
   "metadata": {},
   "source": [
    "### Intermediate Algorithm Scripting: Sorted Union"
   ]
  },
  {
   "cell_type": "markdown",
   "metadata": {},
   "source": [
    "- The program has to return a new array of unique values from two original arrays in the order they show up. So there is not sorting required, and there shouldn’t be any duplicates.\n",
    "- `uniteUnique([1, 2, 3], [5, 2, 1])` should return `[1, 2, 3, 5]`.\n",
    "- `uniteUnique([1, 2, 3], [5, 2, 1, 4], [2, 1], [6, 7, 8])` should return `[1, 2, 3, 5, 4, 6, 7, 8]`."
   ]
  },
  {
   "cell_type": "markdown",
   "metadata": {},
   "source": [
    "#### Solution 1:"
   ]
  },
  {
   "cell_type": "code",
   "execution_count": null,
   "metadata": {},
   "outputs": [],
   "source": [
    "function uniteUnique(arr1, arr2, arr3) {\n",
    "  // Creates an empty array to store our final result.\n",
    "  var finalArray = [];\n",
    "\n",
    "  // Loop through the arguments object to truly make the program work with two or more arrays\n",
    "  // instead of 3.\n",
    "  for (var i = 0; i < arguments.length; i++) {\n",
    "    var arrayArguments = arguments[i];\n",
    "\n",
    "    // Loops through the array at hand\n",
    "    for (var j = 0; j < arrayArguments.length; j++) {\n",
    "      var indexValue = arrayArguments[j];\n",
    "\n",
    "      // Checks if the value is already on the final array.\n",
    "      if (finalArray.indexOf(indexValue) < 0) {\n",
    "        finalArray.push(indexValue);\n",
    "      }\n",
    "    }\n",
    "  }\n",
    "\n",
    "  return finalArray;\n",
    "}\n",
    "\n",
    "// test here\n",
    "uniteUnique([1, 3, 2], [5, 2, 1, 4], [2, 1]);"
   ]
  },
  {
   "cell_type": "markdown",
   "metadata": {},
   "source": [
    "#### Solution 1, Code Explanation:"
   ]
  },
  {
   "cell_type": "markdown",
   "metadata": {},
   "source": [
    "- Create empty array `finalResult` to store the final result.\n",
    "- Loop through the `arguments` object in the outer loop and store it in `arrayArguments`.\n",
    "- The inner loop is used to loop through individual array elements.\n",
    "- If the element doesn’t already exist in `finalArray`, add it.\n",
    "- Return `finalArray`."
   ]
  },
  {
   "cell_type": "markdown",
   "metadata": {},
   "source": [
    "#### Solution 2:"
   ]
  },
  {
   "cell_type": "code",
   "execution_count": null,
   "metadata": {},
   "outputs": [],
   "source": [
    "function uniteUnique(arr) {\n",
    "  var args = [...arguments];\n",
    "  var result = [];\n",
    "  for (var i = 0; i < args.length; i++) {\n",
    "    for (var j = 0; j < args[i].length; j++) {\n",
    "      if (!result.includes(args[i][j])) {\n",
    "        result.push(args[i][j]);\n",
    "      }\n",
    "    }\n",
    "  }\n",
    "  return result;\n",
    "}\n",
    "\n",
    "uniteUnique([1, 3, 2], [5, 2, 1, 4], [2, 1]);"
   ]
  },
  {
   "cell_type": "markdown",
   "metadata": {},
   "source": [
    "#### Solution 3:"
   ]
  },
  {
   "cell_type": "code",
   "execution_count": null,
   "metadata": {},
   "outputs": [],
   "source": [
    "function uniteUnique(arr1, arr2, arr3) {\n",
    "  var newArr;\n",
    "  //Convert the arguments object into an array\n",
    "  var args = Array.prototype.slice.call(arguments);\n",
    "  //Use reduce function to flatten the array\n",
    "  newArr = args.reduce(function(arrA, arrB) {\n",
    "    //Apply filter to remove the duplicate elements in the array\n",
    "    return arrA.concat(\n",
    "      arrB.filter(function(i) {\n",
    "        return arrA.indexOf(i) === -1;\n",
    "      })\n",
    "    );\n",
    "  });\n",
    "\n",
    "  return newArr;\n",
    "}\n",
    "\n",
    "// test here\n",
    "uniteUnique([1, 3, 2], [5, 2, 1, 4], [2, 1]);"
   ]
  },
  {
   "cell_type": "markdown",
   "metadata": {},
   "source": [
    "#### Solution 3, Code Explanation:"
   ]
  },
  {
   "cell_type": "markdown",
   "metadata": {},
   "source": [
    "- arguments object is converted into an array using `slice()`.\n",
    "- `reduce()` function is used to flatten the array i.e., for every element that is in the array (or nested arrays), extract it’s elements into one-dimensional array.\n",
    "- After flattening the array, `filter()` is used to remove duplicate elements from newArr."
   ]
  },
  {
   "cell_type": "markdown",
   "metadata": {},
   "source": [
    "#### Solution 4:"
   ]
  },
  {
   "cell_type": "code",
   "execution_count": null,
   "metadata": {},
   "outputs": [],
   "source": [
    "function uniteUnique() {\n",
    "  var concatArr = [];\n",
    "  var i = 0;\n",
    "  while (arguments[i]) {\n",
    "    concatArr = concatArr.concat(arguments[i]);\n",
    "    i++;\n",
    "  }\n",
    "  uniqueArray = concatArr.filter(function(item, pos) {\n",
    "    return concatArr.indexOf(item) == pos;\n",
    "  });\n",
    "  return uniqueArray;\n",
    "}\n",
    "\n",
    "// test here\n",
    "uniteUnique([1, 3, 2], [5, 2, 1, 4], [2, 1]);"
   ]
  },
  {
   "cell_type": "markdown",
   "metadata": {},
   "source": [
    "#### Solution 4, Code Explanation:"
   ]
  },
  {
   "cell_type": "markdown",
   "metadata": {},
   "source": [
    "- Number of arguments can change dynamically, so we don’t need to bother providing our function `uniteUnique()` with arguments at all.\n",
    "- We use a `while` loop to concatenate all the arguments into one array called concatArr.\n",
    "- We use `filter()` to remove the duplicate elements by checking the index of each element and removing same elements with different positions.\n",
    "- Ordering will be preserved here."
   ]
  },
  {
   "cell_type": "markdown",
   "metadata": {},
   "source": [
    "#### Solution 5:"
   ]
  },
  {
   "cell_type": "code",
   "execution_count": null,
   "metadata": {},
   "outputs": [],
   "source": [
    "//jshint esversion:6\n",
    "\n",
    "function uniteUnique(...arrays) {\n",
    "  //make an array out of the given arrays and flatten it (using the spread operator)\n",
    "  const flatArray = [].concat(...arrays);\n",
    "\n",
    "  // create a Set which clears any duplicates since it's a regulat set and not a multiset\n",
    "  return [...new Set(flatArray)];\n",
    "}\n",
    "\n",
    "// test here\n",
    "uniteUnique([1, 3, 2], [5, 2, 1, 4], [2, 1]);"
   ]
  },
  {
   "cell_type": "markdown",
   "metadata": {},
   "source": [
    "#### Solution 5, Code Explanation:"
   ]
  },
  {
   "cell_type": "markdown",
   "metadata": {},
   "source": [
    "- We first use `concat()` with an empty array as a starting point and the spread operator `...` to create an array out of the Arguments object and to flatten it at the same time\n",
    "- then we use the new ES2015 Set object to store only unique values\n",
    "- [Set](https://developer.mozilla.org/en-US/docs/Web/JavaScript/Reference/Global_Objects/Set)"
   ]
  },
  {
   "cell_type": "markdown",
   "metadata": {},
   "source": [
    "### Intermediate Algorithm Scripting: Convert HTML Entities"
   ]
  },
  {
   "cell_type": "markdown",
   "metadata": {},
   "source": [
    "- You have to create a program that will convert HTML entities from string to their corresponding HTML entities. There are only a few so you can use different methods."
   ]
  },
  {
   "cell_type": "markdown",
   "metadata": {},
   "source": [
    "#### Solution 1:"
   ]
  },
  {
   "cell_type": "code",
   "execution_count": null,
   "metadata": {},
   "outputs": [],
   "source": [
    "function convertHTML(str) {\n",
    "  // Split by character to avoid problems.\n",
    "\n",
    "  var temp = str.split(\"\");\n",
    "\n",
    "  // Since we are only checking for a few HTML elements, use a switch\n",
    "\n",
    "  for (var i = 0; i < temp.length; i++) {\n",
    "    switch (temp[i]) {\n",
    "      case \"<\":\n",
    "        temp[i] = \"&lt;\";\n",
    "        break;\n",
    "      case \"&\":\n",
    "        temp[i] = \"&amp;\";\n",
    "        break;\n",
    "      case \">\":\n",
    "        temp[i] = \"&gt;\";\n",
    "        break;\n",
    "      case '\"':\n",
    "        temp[i] = \"&quot;\";\n",
    "        break;\n",
    "      case \"'\":\n",
    "        temp[i] = \"&apos;\";\n",
    "        break;\n",
    "    }\n",
    "  }\n",
    "\n",
    "  temp = temp.join(\"\");\n",
    "  return temp;\n",
    "}\n",
    "\n",
    "//test here\n",
    "convertHTML(\"Dolce & Gabbana\");"
   ]
  },
  {
   "cell_type": "markdown",
   "metadata": {},
   "source": [
    "#### Solution 1, Code Explanation:"
   ]
  },
  {
   "cell_type": "markdown",
   "metadata": {},
   "source": [
    "- Assign temp to `str.split('')`, which creates an array containing each individual character in the passed in string.\n",
    "- Pass each character in the newly created array into a `switch()` statement.\n",
    "- Replace the HTML entities with their corresponding HTML entity string (i.e. `'&'` becomes `'&amp;'` in line 51)\n",
    "- `temp.join('')` converts the array of characters into a string to be returned."
   ]
  },
  {
   "cell_type": "markdown",
   "metadata": {},
   "source": [
    "#### Solution 2:"
   ]
  },
  {
   "cell_type": "code",
   "execution_count": null,
   "metadata": {},
   "outputs": [],
   "source": [
    "function convertHTML(str) {\n",
    "  // Use Object Lookup to declare as many HTML entities as needed.\n",
    "  const htmlEntities = {\n",
    "    \"&\": \"&amp;\",\n",
    "    \"<\": \"&lt;\",\n",
    "    \">\": \"&gt;\",\n",
    "    '\"': \"&quot;\",\n",
    "    \"'\": \"&apos;\"\n",
    "  };\n",
    "  // Using a regex, replace characters with it's corresponding html entity\n",
    "  return str.replace(/([&<>\\\"'])/g, match => htmlEntities[match]);\n",
    "}\n",
    "\n",
    "// test here\n",
    "convertHTML(\"Dolce & Gabbana\");"
   ]
  },
  {
   "cell_type": "markdown",
   "metadata": {},
   "source": [
    "#### Solution 2, Code Explanation:"
   ]
  },
  {
   "cell_type": "markdown",
   "metadata": {},
   "source": [
    "- Create an object to use the Lookup functionality and easily find the characters.\n",
    "- Use `replace()` to replace characters with regex.\n",
    "- The first argument for `replace()` is a regex that catches all the target characters and puts them into a capturing group.\n",
    "- The second arguments for `replace()` is a function with the matched character as a parameter. It returns the correspondant entity from `htmlEntities`."
   ]
  },
  {
   "cell_type": "markdown",
   "metadata": {},
   "source": [
    "#### Solution 3:"
   ]
  },
  {
   "cell_type": "code",
   "execution_count": null,
   "metadata": {},
   "outputs": [],
   "source": [
    "function convertHTML(str) {\n",
    "  // Use Object Lookup to declare as many HTML entities as needed.\n",
    "  const htmlEntities = {\n",
    "    \"&\": \"&amp;\",\n",
    "    \"<\": \"&lt;\",\n",
    "    \">\": \"&gt;\",\n",
    "    '\"': \"&quot;\",\n",
    "    \"'\": \"&apos;\"\n",
    "  };\n",
    "  //Use map function to return a filtered str with all entities changed automatically.\n",
    "  return str\n",
    "    .split(\"\")\n",
    "    .map(entity => htmlEntities[entity] || entity)\n",
    "    .join(\"\");\n",
    "}\n",
    "\n",
    "// test here\n",
    "convertHTML(\"Dolce & Gabbana\");"
   ]
  },
  {
   "cell_type": "markdown",
   "metadata": {},
   "source": [
    "#### Solution 3, Code Explanation:"
   ]
  },
  {
   "cell_type": "markdown",
   "metadata": {},
   "source": [
    "- Create an object to use the Lookup functionality and easily find the characters.\n",
    "- Split the original string by characters and use map to check for the changed html entity or use the same one.\n",
    "- The a function is added which is what returns the converted entity or the original one if there is no conversion.\n",
    "- Lastly we join all the characters once again."
   ]
  },
  {
   "cell_type": "markdown",
   "metadata": {},
   "source": [
    "### Intermediate Algorithm Scripting: Sum All Odd Fibonacci Numbers"
   ]
  },
  {
   "cell_type": "markdown",
   "metadata": {},
   "source": [
    "- You will need to gather all the Fibonacci numbers and then check for the odd ones. Once you get the odd ones then you will add them all. The last number should be the number given as a parameter if it actually happens to be an off Fibonacci number."
   ]
  },
  {
   "cell_type": "markdown",
   "metadata": {},
   "source": [
    "#### Solution 1:"
   ]
  },
  {
   "cell_type": "code",
   "execution_count": null,
   "metadata": {},
   "outputs": [],
   "source": [
    "function sumFibs(num) {\n",
    "  var prevNumber = 0;\n",
    "  var currNumber = 1;\n",
    "  var result = 0;\n",
    "  while (currNumber <= num) {\n",
    "    if (currNumber % 2 !== 0) {\n",
    "      result += currNumber;\n",
    "    }\n",
    "\n",
    "    currNumber += prevNumber;\n",
    "    prevNumber = currNumber - prevNumber;\n",
    "  }\n",
    "\n",
    "  return result;\n",
    "}\n",
    "\n",
    "// test here\n",
    "sumFibs(4);"
   ]
  },
  {
   "cell_type": "markdown",
   "metadata": {},
   "source": [
    "#### Solution 1, Code Explanation:"
   ]
  },
  {
   "cell_type": "markdown",
   "metadata": {},
   "source": [
    "- Create a variable to keep record of the current and previous numbers along with the result that will be returned.\n",
    "- Use a while loop to make sure we do not go over the number given as parameter.\n",
    "- We use the modulo operand to check if the current number is odd or even. If it is odd, add it to the result.\n",
    "- Complete the Fibonacci circle by rotating getting the next number and swapping values after.\n",
    "Return the result."
   ]
  },
  {
   "cell_type": "markdown",
   "metadata": {},
   "source": [
    "#### Solution 2:"
   ]
  },
  {
   "cell_type": "code",
   "execution_count": null,
   "metadata": {},
   "outputs": [],
   "source": [
    "function sumFibs(num) {\n",
    "  // Perform checks for the validity of the input\n",
    "  if (num <= 0) return 0;\n",
    "\n",
    "  // Create an array of fib numbers till num\n",
    "  const arrFib = [1, 1];\n",
    "  let nextFib = 0;\n",
    "\n",
    "  // We put the new Fibonacci numbers to the front so we\n",
    "  // don't need to calculate the length of the array on each\n",
    "  // iteration\n",
    "  while ((nextFib = arrFib[0] + arrFib[1]) <= num) {\n",
    "    arrFib.unshift(nextFib);\n",
    "  }\n",
    "\n",
    "  // We filter the array to get the odd numbers and reduce them to get their sum.\n",
    "  return arrFib.filter(x => x % 2 != 0).reduce((a, b) => a + b);\n",
    "}\n",
    "\n",
    "// test here\n",
    "sumFibs(4);"
   ]
  },
  {
   "cell_type": "markdown",
   "metadata": {},
   "source": [
    "#### Solution 2, Code Explanation:"
   ]
  },
  {
   "cell_type": "markdown",
   "metadata": {},
   "source": [
    "- Create an array of fibonacci numbers till num.\n",
    "- Use `filter()` method to filter out even numbers.\n",
    "- Use `reduce()` method to sum the remaining (odd) values.\n",
    "- Return the sum."
   ]
  },
  {
   "cell_type": "markdown",
   "metadata": {},
   "source": [
    "### Intermediate Algorithm Scripting: Sum All Primes"
   ]
  },
  {
   "cell_type": "markdown",
   "metadata": {},
   "source": [
    "- A prime number is a whole number greater than 1 with exactly two divisors: 1 and itself. For example, 2 is a prime number because it is only divisible by 1 and 2. In contrast, 4 is not prime since it is divisible by 1, 2 and 4.\n",
    "\n",
    "- Rewrite sumPrimes so it returns the sum of all prime numbers that are less than or equal to num."
   ]
  },
  {
   "cell_type": "markdown",
   "metadata": {},
   "source": [
    "#### My Solution:"
   ]
  },
  {
   "cell_type": "code",
   "execution_count": null,
   "metadata": {},
   "outputs": [],
   "source": [
    "function sumPrimes(num) {\n",
    "  var prime = 0;\n",
    "  var flag = true;\n",
    "  \n",
    "  for(var testNumber = 2; testNumber <= num; testNumber++) {\n",
    "    for (var base = 2; base < testNumber; base++) {\n",
    "      if ((testNumber % base) == 0) {\n",
    "        flag = false;\n",
    "      }\n",
    "    }\n",
    "    if (flag == true) {\n",
    "      prime += testNumber;\n",
    "    };\n",
    "    flag = true;\n",
    "  }\n",
    "  return prime;\n",
    "}\n",
    "\n",
    "console.log(sumPrimes(977));"
   ]
  },
  {
   "cell_type": "markdown",
   "metadata": {},
   "source": [
    "#### Solution 1:"
   ]
  },
  {
   "cell_type": "code",
   "execution_count": null,
   "metadata": {},
   "outputs": [],
   "source": [
    "function sumPrimes(num) {\n",
    "  var res = 0;\n",
    "\n",
    "  // Function to get the primes up to max in an array\n",
    "  function getPrimes(max) {\n",
    "    var sieve = [];\n",
    "    var i;\n",
    "    var j;\n",
    "    var primes = [];\n",
    "    for (i = 2; i <= max; ++i) {\n",
    "      if (!sieve[i]) {\n",
    "        // i has not been marked -- it is prime\n",
    "        primes.push(i);\n",
    "        for (j = i << 1; j <= max; j += i) {\n",
    "          sieve[j] = true;\n",
    "        }\n",
    "      }\n",
    "    }\n",
    "\n",
    "    return primes;\n",
    "  }\n",
    "\n",
    "  // Add the primes\n",
    "  var primes = getPrimes(num);\n",
    "  for (var p = 0; p < primes.length; p++) {\n",
    "    res += primes[p];\n",
    "  }\n",
    "\n",
    "  return res;\n",
    "}\n",
    "\n",
    "// test here\n",
    "sumPrimes(10);"
   ]
  },
  {
   "cell_type": "markdown",
   "metadata": {},
   "source": [
    "#### Solution 1, Code Explanation:"
   ]
  },
  {
   "cell_type": "markdown",
   "metadata": {},
   "source": [
    "- Create a function that generates the numbers from 1 to num and check if they are prime along the way.\n",
    "- Declare the variables that will be needed.\n",
    "- Start with 2, if it has not been marked and added to the sieve array then it is a prime and we add it to the prime array.\n",
    "- Add the others to the sieve array.\n",
    "- Return the primes\n",
    "- Loop through the returned array and add all the elements to then return the final value."
   ]
  },
  {
   "cell_type": "markdown",
   "metadata": {},
   "source": [
    "#### Solution 2:"
   ]
  },
  {
   "cell_type": "code",
   "execution_count": null,
   "metadata": {},
   "outputs": [],
   "source": [
    "function sumPrimes(num) {\n",
    "  let i = 1;\n",
    "  let sum = 0;\n",
    "  while (i <= num) {\n",
    "    if (isPrime(i)) {\n",
    "      sum += i;\n",
    "    }\n",
    "    i++;\n",
    "  }\n",
    "  return sum;\n",
    "}\n",
    "//function to check if a number is prime or not\n",
    "function isPrime(x) {\n",
    "  for (let i = 2; i < x; i++) {\n",
    "    if (x % i === 0) return false;\n",
    "  }\n",
    "  return x !== 1 && x !== 0;\n",
    "}\n",
    "//test here\n",
    "sumPrimes(10);"
   ]
  },
  {
   "cell_type": "markdown",
   "metadata": {},
   "source": [
    "#### Solution 2, Code Explanation:"
   ]
  },
  {
   "cell_type": "markdown",
   "metadata": {},
   "source": [
    "- Create a function to check if a number is prime or not.\n",
    "- Declare two variables. One to keep us within the limit of the given number and the other to store the sum of numbers to be returned.\n",
    "- Create a loop to check all numbers lesser than or equal to the given number.\n",
    "- Check if a number is prime and add it to the value of sum.\n",
    "- Return the value of sum once the loop exits."
   ]
  },
  {
   "cell_type": "markdown",
   "metadata": {},
   "source": [
    "#### Solution 3:"
   ]
  },
  {
   "cell_type": "code",
   "execution_count": null,
   "metadata": {},
   "outputs": [],
   "source": [
    "function sumPrimes(num) {\n",
    "  // function to check if the number presented is prime\n",
    "  function isPrime(number) {\n",
    "    for (i = 2; i <= number; i++) {\n",
    "      if (number % i === 0 && number != i) {\n",
    "        // return true if it is divisible by any number that is not itself.\n",
    "        return false;\n",
    "      }\n",
    "    }\n",
    "    // if it passes the for loops conditions it is a prime\n",
    "    return true;\n",
    "  }\n",
    "  // 1 is not a prime, so return nothing, also stops the recursive calls.\n",
    "  if (num === 1) {\n",
    "    return 0;\n",
    "  }\n",
    "  // Check if your number is not prime\n",
    "  if (isPrime(num) === false) {\n",
    "    // for non primes check the next number down from your maximum number, do not add anything to your answer\n",
    "    return sumPrimes(num - 1);\n",
    "  }\n",
    "\n",
    "  // Check if your number is prime\n",
    "  if (isPrime(num) === true) {\n",
    "    // for primes add that number to the next number in the sequence through a recursive call to our sumPrimes function.\n",
    "    return num + sumPrimes(num - 1);\n",
    "  }\n",
    "}\n",
    "// test here\n",
    "sumPrimes(10);"
   ]
  },
  {
   "cell_type": "markdown",
   "metadata": {},
   "source": [
    "#### Solution 3, Code Explanation:"
   ]
  },
  {
   "cell_type": "markdown",
   "metadata": {},
   "source": [
    "- The function `isPrime` checks if a particular number is prime or not.\n",
    "- If `num` is 1, return 0 since 1 is not a prime number.\n",
    "- If num is not prime, check next number down from maximum number.\n",
    "- If num is prime, add it to next number in the sequence through recursion to `sumPrimes` function."
   ]
  },
  {
   "cell_type": "markdown",
   "metadata": {},
   "source": [
    "#### Solution 4:"
   ]
  },
  {
   "cell_type": "code",
   "execution_count": null,
   "metadata": {},
   "outputs": [],
   "source": [
    "function sumPrimes(num) {\n",
    "  let nums = Array.from({ length: num + 1 })\n",
    "    .map((_, i) => i)\n",
    "    .slice(2);\n",
    "  for (let n in nums) {\n",
    "    nums = nums.filter(val => val == nums[n] || val % nums[n] != 0);\n",
    "  }\n",
    "  return nums.reduce((prevSum, cur) => prevSum + cur);\n",
    "}\n",
    "// test here\n",
    "sumPrimes(13);"
   ]
  },
  {
   "cell_type": "markdown",
   "metadata": {},
   "source": [
    "#### Solution 4, Code Explanation:"
   ]
  },
  {
   "cell_type": "markdown",
   "metadata": {},
   "source": [
    "- Use `Array.from()` to generate a sequence of numbers up to and including `num`. Combine with `.slice()` to slice off first two indices `[0, 1]` since all prime numbers must be greater than 1.\n",
    "- If a number is not prime, it is divided by number > 1 other smaller than himself."
   ]
  },
  {
   "cell_type": "markdown",
   "metadata": {},
   "source": [
    "#### Solution 5:"
   ]
  },
  {
   "cell_type": "code",
   "execution_count": null,
   "metadata": {},
   "outputs": [],
   "source": [
    "function sumPrimes(num) {\n",
    "  // step 1\n",
    "  let arr = Array.from({ length: num + 1 }, (v, k) => k).slice(2);\n",
    "  // step 2\n",
    "  let onlyPrimes = arr.filter(n => {\n",
    "    let m = n - 1;\n",
    "    while (m > 1 && m >= Math.sqrt(n)) {\n",
    "      if (n % m === 0) return false;\n",
    "      m--;\n",
    "    }\n",
    "    return true;\n",
    "  });\n",
    "  // step 3\n",
    "  return onlyPrimes.reduce((a, b) => a + b);\n",
    "}\n",
    "// test here\n",
    "sumPrimes(977);"
   ]
  },
  {
   "cell_type": "markdown",
   "metadata": {},
   "source": [
    "#### Solution 5, Code Explanation:"
   ]
  },
  {
   "cell_type": "markdown",
   "metadata": {},
   "source": [
    "- __Step 1__: Use `Array.from()` to generate a sequence of numbers up to and including `num`. Combine with `.slice()` to slice off first two indices `[0, 1]` since all prime numbers must be greater than 1.\n",
    "- __Step 2__: Filter all numbers off of `arr` that are not prime by subjecting each element to the “trial division test” which “consists of dividing n by each integer m that is greater than 1 and less than or equal to the square root of n”. This test returns `false` if any number less than the element being operated on (m) produces no remainder when said element (n) is divided by it. See link below for more on this.\n",
    "- __Step 3__: Return the sum of all remaining elements of arr using `.reduce()`.\n",
    "- [Array.filter()](https://developer.mozilla.org/en-US/docs/Web/JavaScript/Reference/Global_Objects/Array/from#Examples)"
   ]
  },
  {
   "cell_type": "markdown",
   "metadata": {},
   "source": [
    "### Intermediate Algorithm Scripting: Smallest Common Multiple"
   ]
  },
  {
   "cell_type": "markdown",
   "metadata": {},
   "source": [
    "- The smallest common multiple between two numbers is the smallest number that both numbers can divide into. This concept can be extended to more than two numbers as well.\n",
    "\n",
    "- We can first start with just finding the smallest common multiple between two numbers. Naively, you can start writing out multiple of each number until you write a multiple that exists from both numbers.\n",
    "\n",
    "- An example would be the numbers `3` and `4`. The multiples of `3` are `3, 6, 9, 12, 15, 18`, ... and the multiples of `4` are `4, 8, 12, 16, 20`, .... The first smallest number we run into in both lists is `12` so this is the smallest common multiple between `3` and `4`.\n",
    "\n",
    "- This problem can be confusing because most people look for the smallest common multiple of just the two numbers but forget the keyword range. However, this means that if you are given `[1,5]`, then you have to check for the smallest common multiple for all the numbers `[1,2,3,4,5]` that is evenly divisible by all of them."
   ]
  },
  {
   "cell_type": "markdown",
   "metadata": {},
   "source": [
    "#### Solution 1:"
   ]
  },
  {
   "cell_type": "code",
   "execution_count": null,
   "metadata": {},
   "outputs": [],
   "source": [
    "function smallestCommons(arr) {\n",
    "  // Sort array from greater to lowest\n",
    "  // This line of code was from Adam Doyle (http://github.com/Adoyle2014)\n",
    "  arr.sort(function(a, b) {\n",
    "    return b - a;\n",
    "  });\n",
    "\n",
    "  // Create new array and add all values from greater to smaller from the\n",
    "  // original array.\n",
    "  var newArr = [];\n",
    "  for (var i = arr[0]; i >= arr[1]; i--) {\n",
    "    newArr.push(i);\n",
    "  }\n",
    "\n",
    "  // Variables needed declared outside the loops.\n",
    "  var quot = 0;\n",
    "  var loop = 1;\n",
    "  var n;\n",
    "\n",
    "  // Run code while n is not the same as the array length.\n",
    "  do {\n",
    "    quot = newArr[0] * loop * newArr[1];\n",
    "    for (n = 2; n < newArr.length; n++) {\n",
    "      if (quot % newArr[n] !== 0) {\n",
    "        break;\n",
    "      }\n",
    "    }\n",
    "\n",
    "    loop++;\n",
    "  } while (n !== newArr.length);\n",
    "\n",
    "  return quot;\n",
    "}\n",
    "\n",
    "// test here\n",
    "smallestCommons([1, 5]);"
   ]
  },
  {
   "cell_type": "markdown",
   "metadata": {},
   "source": [
    "#### Solution 1, Code Explanation:"
   ]
  },
  {
   "cell_type": "markdown",
   "metadata": {},
   "source": [
    "- Because of the possibility of the smallest common denominator being among the two biggest numbers, it makes sense to check those first, so sort the array.\n",
    "- Create a new array to sort all the numbers, `newArr`.\n",
    "- Use a descending `for` loop (`var i = arr[0]; i >= arr[1]; i--`) to add the numbers from the biggest to the smallest in the new array.\n",
    "- Declare the variables for the quotient so we can access them outside the loop:\n",
    "    - the quotient that’ll be our smallest common multiple (`quot`)\n",
    "    - the loop number we’re checking (`loop`)\n",
    "    - the index of the array of numbers (`n`)\n",
    "- Use a `do` `while` loop to check what we need whilen is not the same length as the new array.\n",
    "- In the `do` part, we are going to multiply the very first number, times the number of loops, times the second number (`quot = newArr[0] * loop * newArr[1];`).\n",
    "- The `loop` part will allows us to increase the number we’re checking beyond the greatest number we have without having to change the algorithm.\n",
    "- We enter a `for` loop that will go from n being 2 and going up by one (`loop++`) while it is smaller than the array with all the numbers (`n < newArr.length`).\n",
    "- If the quotient does not divide evenly (`quot % newArr[n] !== 0`), then stop the loop (`break;`). If it is even, then check for the next elements (`n++`) in the array until it is not even or we find our answer.\n",
    "- Outside the loop, increase the value of loop (`loop++`).\n",
    "- At the end of the loop return the quotient (`return quot;`).\n",
    "- Note: If the array only has two elements, then the `for` loop never gets used and the return value is the product of said numbers."
   ]
  },
  {
   "cell_type": "markdown",
   "metadata": {},
   "source": [
    "#### Solution 2:"
   ]
  },
  {
   "cell_type": "code",
   "execution_count": null,
   "metadata": {},
   "outputs": [],
   "source": [
    "function smallestCommons(arr) {\n",
    "  var range = [];\n",
    "  for (var i = Math.max(arr[0], arr[1]); i >= Math.min(arr[0], arr[1]); i--) {\n",
    "    range.push(i);\n",
    "  }\n",
    "\n",
    "  // can use reduce() in place of this block\n",
    "  var lcm = range[0];\n",
    "  for (i = 1; i < range.length; i++) {\n",
    "    var GCD = gcd(lcm, range[i]);\n",
    "    lcm = (lcm * range[i]) / GCD;\n",
    "  }\n",
    "  return lcm;\n",
    "\n",
    "  function gcd(x, y) {\n",
    "    // Implements the Euclidean Algorithm\n",
    "    if (y === 0) return x;\n",
    "    else return gcd(y, x % y);\n",
    "  }\n",
    "}\n",
    "\n",
    "// test here\n",
    "smallestCommons([1, 5]);"
   ]
  },
  {
   "cell_type": "markdown",
   "metadata": {},
   "source": [
    "#### Solution 2, Code Explanation:"
   ]
  },
  {
   "cell_type": "markdown",
   "metadata": {},
   "source": [
    "- The first, basic solution requires over 2,000 loops to calculate the test case `smallestCommons([1,13])`, and over 4 million loops to calculate `smallestCommons([1,25])`. This solution evaluates `smallestCommons([1,13])` in around 20 loops and `smallestCommons([1,25])` in 40, by using a more efficient algorithm.\n",
    "- Make an empty array range.\n",
    "- All numbers between the given range are pushed to range using a `for` loop.\n",
    "- The next block of code implements the Euclidean algorithm, which is used for finding smallest common multiples."
   ]
  },
  {
   "cell_type": "markdown",
   "metadata": {},
   "source": [
    "#### Solution 3:"
   ]
  },
  {
   "cell_type": "code",
   "execution_count": null,
   "metadata": {},
   "outputs": [],
   "source": [
    "function smallestCommons(arr) {\n",
    "  // Euclidean algorithm for the greatest common divisor.\n",
    "  // ref: https://en.wikipedia.org/wiki/Euclidean_algorithm\n",
    "  const gcd = (a, b) => (b === 0 ? a : gcd(b, a % b));\n",
    "\n",
    "  // Least Common Multiple for two numbers based on GCD\n",
    "  const lcm = (a, b) => (a * b) / gcd(a, b);\n",
    "\n",
    "  // range\n",
    "  let [min, max] = arr.sort((a, b) => a - b);\n",
    "  let currentLCM = min;\n",
    "\n",
    "  while (min < max) {\n",
    "    currentLCM = lcm(currentLCM, ++min);\n",
    "  }\n",
    "\n",
    "  return currentLCM;\n",
    "}\n",
    "\n",
    "// test here\n",
    "smallestCommons([1, 5]);"
   ]
  },
  {
   "cell_type": "markdown",
   "metadata": {},
   "source": [
    "#### Solution 3, Code Explanation:"
   ]
  },
  {
   "cell_type": "markdown",
   "metadata": {},
   "source": [
    "- Extract minimum and maximum from provided arr by sorting and grabbing the first and last values.\n",
    "- Initialise smallestCommon with the LCM of first two numbers.\n",
    "- Loop through range computing LCM of current LCM and next number in range lcm(a, b, c) = lcm(lcm(a, b), c).\n",
    "- [Prefix increment operator ++](https://developer.mozilla.org/en-US/docs/Web/JavaScript/Reference/Operators/Arithmetic_Operators#Increment)"
   ]
  },
  {
   "cell_type": "markdown",
   "metadata": {},
   "source": [
    "#### Solution 4:"
   ]
  },
  {
   "cell_type": "code",
   "execution_count": null,
   "metadata": {},
   "outputs": [],
   "source": [
    "const smallestCommons = arr => {\n",
    "  let max = Math.max(...arr);\n",
    "  let min = Math.min(...arr);\n",
    "  // Initially the solution is assigned to the highest value of the array\n",
    "  let sol = max;\n",
    "\n",
    "  for (let i = max - 1; i >= min; i--) {\n",
    "    // Each time the solution checks (i.e. sol%i===0) it won't be necessary\n",
    "    // to increment 'max' to our solution and restart the loop\n",
    "    if (sol % i) {\n",
    "      sol += max;\n",
    "      i = max;\n",
    "    }\n",
    "  }\n",
    "  return sol;\n",
    "};\n",
    "\n",
    "// test here\n",
    "smallestCommons([1, 5]);"
   ]
  },
  {
   "cell_type": "markdown",
   "metadata": {},
   "source": [
    "#### Solution 4, Code Explanation:"
   ]
  },
  {
   "cell_type": "markdown",
   "metadata": {},
   "source": [
    "- Extract `min` and `max` from `arr` using `Math.min()` and `Math.max()`, respectively. As the arguments to these functions are integers, it is necessary to spread `...` the array.\n",
    "- As a first guess, let’s say that the solution is `max`. (we will increment this value later on if it is not the solution)\n",
    "- Confirm that our solution is a multiple of all the values between `max` and `min` using a `for` loop.\n",
    "- In case it isn’t a solution, increment `max` to our solution (i.e. get the next multiple of the `arr` highest value) and restart the loop `i = max`. Note that it isn’t `i = max - 1` since the `for` loop hasn’t finished yet. Once it is finished, the loop itself will execute `i--`. It is also worth mentioning now that we started the loop at `i = max` and decremented `i` throughout instead of starting at `i = min` and then increment it in order to minimize the number of iterations.\n",
    "- The `if` statement never being true means that all numbers between `min` and `max` are divisible by our solution"
   ]
  },
  {
   "cell_type": "markdown",
   "metadata": {},
   "source": [
    "### Intermediate Algorithm Scripting: Drop it"
   ]
  },
  {
   "cell_type": "markdown",
   "metadata": {},
   "source": [
    "- Given the array `arr`, iterate through and remove each element starting from the first element (the 0 index) until the function `func` returns true when the iterated element is passed through it.\n",
    "\n",
    "- Then return the rest of the array once the condition is satisfied, otherwise, `arr` should be returned as an empty array.\n",
    "- `dropElements([1, 2, 3, 4], function(n) {return n >= 3;})` should return `[3, 4]`.\n",
    "- `dropElements([0, 1, 0, 1], function(n) {return n === 1;})` should return `[1, 0, 1]`.\n",
    "- `dropElements([1, 2, 3, 4], function(n) {return n > 5;})` should return `[]`.\n",
    "- `dropElements([1, 2, 3, 7, 4], function(n) {return n > 3;})` should return `[7, 4]`."
   ]
  },
  {
   "cell_type": "markdown",
   "metadata": {},
   "source": [
    "#### My Solution:"
   ]
  },
  {
   "cell_type": "code",
   "execution_count": null,
   "metadata": {},
   "outputs": [],
   "source": [
    "function dropElements(arr, func) {\n",
    "  var newArr = [];\n",
    "  \n",
    "  for (var i = 0; i<= arr.length; i++) {\n",
    "    if (func(arr[i]) == true) {\n",
    "      var index = i;\n",
    "      break;\n",
    "    } \n",
    "  }\n",
    "\n",
    "  if (i == arr.length+1) {\n",
    "    return newArr;\n",
    "  };\n",
    "\n",
    "  return arr.slice(index);\n",
    "}\n",
    "\n",
    "console.log(dropElements([1, 2, 3,4], function(n) {return n > 5; }));"
   ]
  },
  {
   "cell_type": "markdown",
   "metadata": {},
   "source": [
    "#### Solution 1:"
   ]
  },
  {
   "cell_type": "code",
   "execution_count": null,
   "metadata": {},
   "outputs": [],
   "source": [
    "function dropElements(arr, func) {\n",
    "  // drop them elements.\n",
    "  var times = arr.length;\n",
    "  for (var i = 0; i < times; i++) {\n",
    "    if (func(arr[0])) {\n",
    "      break;\n",
    "    } else {\n",
    "      arr.shift();\n",
    "    }\n",
    "  }\n",
    "  return arr;\n",
    "}\n",
    "\n",
    "// test here\n",
    "dropElements([1, 2, 3, 4], function(n) {\n",
    "  return n >= 3;\n",
    "});"
   ]
  },
  {
   "cell_type": "markdown",
   "metadata": {},
   "source": [
    "#### Solution 1, Code Explanation:"
   ]
  },
  {
   "cell_type": "markdown",
   "metadata": {},
   "source": [
    "- Create a for loop to check each element.\n",
    "- Then check for the function given if true then stop, otherwise remove that element.\n",
    "- return the array."
   ]
  },
  {
   "cell_type": "markdown",
   "metadata": {},
   "source": [
    "#### Solution 2:"
   ]
  },
  {
   "cell_type": "code",
   "execution_count": null,
   "metadata": {},
   "outputs": [],
   "source": [
    "function dropElements(arr, func) {\n",
    "  return arr.slice(arr.findIndex(func) >= 0 ? arr.findIndex(func) : arr.length);\n",
    "}\n",
    "\n",
    "// test here\n",
    "dropElements([1, 2, 3, 4], function(n) {\n",
    "  return n >= 3;\n",
    "});"
   ]
  },
  {
   "cell_type": "markdown",
   "metadata": {},
   "source": [
    "#### Solution 2, Code Explanation:"
   ]
  },
  {
   "cell_type": "markdown",
   "metadata": {},
   "source": [
    "- Use ES6 `findIndex()` function to find the index of the element that passes the condition\n",
    "- Slice the array from the found index until the end\n",
    "- There is one edge case! if the condition is not met against any of the elements ‘findIndex’ will return `-1` which messes up the input to `slice()`. In this case use a simple conditional operator to return `false` instead of `-1`. And the ternary operator returns the found index of required elements when the condition is `true`, and the length of the array otherwise so that the return value is an empty array as is instructed."
   ]
  },
  {
   "cell_type": "markdown",
   "metadata": {},
   "source": [
    "#### Solution 3:"
   ]
  },
  {
   "cell_type": "code",
   "execution_count": null,
   "metadata": {},
   "outputs": [],
   "source": [
    "function dropElements(arr, func) {\n",
    "  while (arr.length > 0 && !func(arr[0])) {\n",
    "    arr.shift();\n",
    "  }\n",
    "  return arr;\n",
    "}\n",
    "\n",
    "// test here\n",
    "dropElements([1, 2, 3, 4], function(n) {\n",
    "  return n >= 3;\n",
    "});"
   ]
  },
  {
   "cell_type": "markdown",
   "metadata": {},
   "source": [
    "#### Solution 3, Code Explanation:"
   ]
  },
  {
   "cell_type": "markdown",
   "metadata": {},
   "source": [
    "- Use a while loop with `Array.prototype.shift()` to continue checking and dropping the first element of the array until the function returns true. It also makes sure the array is not empty first to avoid infinite loops.\n",
    "- Return the filtered array."
   ]
  },
  {
   "cell_type": "markdown",
   "metadata": {},
   "source": [
    "#### Solution 4:"
   ]
  },
  {
   "cell_type": "code",
   "execution_count": null,
   "metadata": {},
   "outputs": [],
   "source": [
    "function dropElements(arr, func, i = 0) {\n",
    "  return i < arr.length && !func(arr[i])\n",
    "    ? (dropElements(arr.slice(i + 1), func, i))\n",
    "    : arr;\n",
    "}\n",
    "\n",
    "// test here\n",
    "dropElements([1, 2, 3, 4], function(n) {\n",
    "  return n >= 3;\n",
    "});"
   ]
  },
  {
   "cell_type": "markdown",
   "metadata": {},
   "source": [
    "### Intermediate Algorithm Scripting: Steamroller"
   ]
  },
  {
   "cell_type": "markdown",
   "metadata": {},
   "source": [
    "- Flatten a nested array. You must account for varying levels of nesting.\n",
    "- `steamrollArray([1, [2], [3, [[4]]]])` should return `[1, 2, 3, 4]`.\n",
    "- `steamrollArray([1, [], [3, [[4]]]])` should return `[1, 3, 4]`.\n",
    "- `steamrollArray([1, {}, [3, [[4]]]])` should return `[1, {}, 3, 4]`.\n",
    "- Your solution should not use the Array.prototype.flat() or Array.prototype.flatMap() methods."
   ]
  },
  {
   "cell_type": "markdown",
   "metadata": {},
   "source": [
    "#### Solution 1:"
   ]
  },
  {
   "cell_type": "code",
   "execution_count": null,
   "metadata": {},
   "outputs": [],
   "source": [
    "function steamrollArray(arr) {\n",
    "  var flattenedArray = [];\n",
    "\n",
    "  // Create function that adds an element if it is not an array.\n",
    "  // If it is an array, then loops through it and uses recursion on that array.\n",
    "  var flatten = function(arg) {\n",
    "    if (!Array.isArray(arg)) {\n",
    "      flattenedArray.push(arg);\n",
    "    } else {\n",
    "      for (var a in arg) {\n",
    "        flatten(arg[a]);\n",
    "      }\n",
    "    }\n",
    "  };\n",
    "\n",
    "  // Call the function for each element in the array\n",
    "  arr.forEach(flatten);\n",
    "  return flattenedArray;\n",
    "}\n",
    "\n",
    "// test here\n",
    "steamrollArray([1, [2], [3, [[4]]]]);"
   ]
  },
  {
   "cell_type": "markdown",
   "metadata": {},
   "source": [
    "#### Solution 1, Code Explanation:"
   ]
  },
  {
   "cell_type": "markdown",
   "metadata": {},
   "source": [
    "- Create a new variable to keep flattened arrays.\n",
    "- Create a function that will add non-array elements to the new variable, and for the ones that are array, loop through them to get the element.\n",
    "- It does that by using recursion, if the element is an array then call the function again with a layer of array deeper to check if it is an array or not. If it is not then push that non-array element to the variable that gets returned. Otherwise, keep going deeper.\n",
    "- Invoke the function, the first time you will always pass it an array, so it always falls into the isArray branch\n",
    "- Return the flattened array.\n",
    "- [Array.isArray()](https://www.freecodecamp.org/forum/t/how-to-use-javascript-array-isarray-explained-with-examples/14284)"
   ]
  },
  {
   "cell_type": "markdown",
   "metadata": {},
   "source": [
    "#### Solution 2:"
   ]
  },
  {
   "cell_type": "code",
   "execution_count": null,
   "metadata": {},
   "outputs": [],
   "source": [
    "function steamrollArray(arr) {\n",
    "  let flat = [].concat(...arr);\n",
    "  return flat.some(Array.isArray) ? steamrollArray(flat) : flat;\n",
    "}\n",
    "\n",
    "steamrollArray([1, [2], [3, [[4]]]]);"
   ]
  },
  {
   "cell_type": "markdown",
   "metadata": {},
   "source": [
    "#### Solution 2,Code Explanation:"
   ]
  },
  {
   "cell_type": "markdown",
   "metadata": {},
   "source": [
    "- Use spread operator to concatenate each element of `arr` with an empty array\n",
    "- Use `Array.some()` method to find out if the new array contains an array still\n",
    "- If it does, use recursion to call `steamrollArray` again, passing in the new array to repeat the process on the arrays that were deeply nested\n",
    "- If it does not, return the flattened array\n",
    "- [Array.some](https://developer.mozilla.org/en-US/docs/Web/JavaScript/Reference/Global_Objects/Array/some)"
   ]
  },
  {
   "cell_type": "markdown",
   "metadata": {},
   "source": [
    "#### Solution 3:"
   ]
  },
  {
   "cell_type": "code",
   "execution_count": null,
   "metadata": {},
   "outputs": [],
   "source": [
    "function steamrollArray(arr) {\n",
    "  return arr\n",
    "    .toString()\n",
    "    .replace(\",,\", \",\") // \"1,2,,3\" => \"1,2,3\"\n",
    "    .split(\",\") // ['1','2','3']\n",
    "    .map(function(v) {\n",
    "      if (v == \"[object Object]\") {\n",
    "        // bring back empty objects\n",
    "        return {};\n",
    "      } else if (isNaN(v)) {\n",
    "        // if not a number (string)\n",
    "        return v;\n",
    "      } else {\n",
    "        return parseInt(v); // if a number in a string, convert it\n",
    "      }\n",
    "    });\n",
    "}"
   ]
  },
  {
   "cell_type": "markdown",
   "metadata": {},
   "source": [
    "#### Solution 3, Code Explanation:"
   ]
  },
  {
   "cell_type": "markdown",
   "metadata": {},
   "source": [
    "- First we turn the array to a string, which will give us a string of numbers separated by a comma, double comma if there was an empty array and literal object text if there was an object, which we can fix later in our if statement.\n",
    "- We replace the double comma with one, then split it back into an array.\n",
    "- map through the array and fix object values and convert string numbers to regular numbers."
   ]
  },
  {
   "cell_type": "markdown",
   "metadata": {},
   "source": [
    "#### Solution 4:"
   ]
  },
  {
   "cell_type": "code",
   "execution_count": null,
   "metadata": {},
   "outputs": [],
   "source": [
    "function steamrollArray(val,flatArr=[]) {\n",
    "  val.forEach(item => {\n",
    "    if (Array.isArray(item)) steamrollArray(item, flatArr);\n",
    "    else flatArr.push(item);\n",
    "  });\n",
    "  return flatArr;\n",
    "}"
   ]
  },
  {
   "cell_type": "markdown",
   "metadata": {},
   "source": [
    "#### Solution 5:"
   ]
  },
  {
   "cell_type": "code",
   "execution_count": null,
   "metadata": {},
   "outputs": [],
   "source": [
    "function steamrollArray(arr, flatArr = []) {\n",
    "  const elem = arr.pop();\n",
    "  return elem\n",
    "    ? !Array.isArray(elem)\n",
    "      ? steamrollArray(arr, [elem, ...flatArr])\n",
    "      : steamrollArray(arr.concat(elem), flatArr)\n",
    "    : flatArr;\n",
    "}"
   ]
  },
  {
   "cell_type": "markdown",
   "metadata": {},
   "source": [
    "### Intermediate Algorithm Scripting: Binary Agents"
   ]
  },
  {
   "cell_type": "markdown",
   "metadata": {},
   "source": [
    "- Return an English translated sentence of the passed binary string.\n",
    "- The binary string will be space separated."
   ]
  },
  {
   "cell_type": "markdown",
   "metadata": {},
   "source": [
    "#### Solution 1:"
   ]
  },
  {
   "cell_type": "code",
   "execution_count": null,
   "metadata": {},
   "outputs": [],
   "source": [
    "function binaryAgent(str) {\n",
    "  var biString = str.split(\" \");\n",
    "  var uniString = [];\n",
    "\n",
    "  /*using the radix (or base) parameter in parseInt, we can convert the binary\n",
    "      number to a decimal number while simultaneously converting to a char*/\n",
    "\n",
    "  for (var i = 0; i < biString.length; i++) {\n",
    "    uniString.push(String.fromCharCode(parseInt(biString[i], 2)));\n",
    "  }\n",
    "\n",
    "  // we then simply join the string\n",
    "  return uniString.join(\"\");\n",
    "}\n",
    "\n",
    "// test here\n",
    "binaryAgent(\n",
    "  \"01000001 01110010 01100101 01101110 00100111 01110100 00100000 01100010 01101111 01101110 01100110 01101001 01110010 01100101 01110011 00100000 01100110 01110101 01101110 00100001 00111111\"\n",
    ");"
   ]
  },
  {
   "cell_type": "markdown",
   "metadata": {},
   "source": [
    "#### Solution 2:"
   ]
  },
  {
   "cell_type": "code",
   "execution_count": null,
   "metadata": {},
   "outputs": [],
   "source": [
    "function binaryAgent(str) {\n",
    "  // Separate the binary code by space.\n",
    "  str = str.split(\" \");\n",
    "  var power;\n",
    "  var decValue = 0;\n",
    "  var sentence = \"\";\n",
    "\n",
    "  // Check each binary number from the array.\n",
    "  for (var s = 0; s < str.length; s++) {\n",
    "    // Check each bit from binary number\n",
    "    for (var t = 0; t < str[s].length; t++) {\n",
    "      // This only takes into consideration the active ones.\n",
    "      if (str[s][t] == 1) {\n",
    "        // This is quivalent to 2 ** position\n",
    "        power = Math.pow(2, +str[s].length - t - 1);\n",
    "        decValue += power;\n",
    "\n",
    "        // Record the decimal value by adding the number to the previous one.\n",
    "      }\n",
    "    }\n",
    "\n",
    "    // After the binary number is converted to decimal, convert it to string and store\n",
    "    sentence += String.fromCharCode(decValue);\n",
    "\n",
    "    // Reset decimal value for next binary number.\n",
    "    decValue = 0;\n",
    "  }\n",
    "\n",
    "  return sentence;\n",
    "}\n",
    "\n",
    "// test here\n",
    "binaryAgent(\n",
    "  \"01000001 01110010 01100101 01101110 00100111 01110100 00100000 01100010 01101111 01101110 01100110 01101001 01110010 01100101 01110011 00100000 01100110 01110101 01101110 00100001 00111111\"\n",
    ");"
   ]
  },
  {
   "cell_type": "markdown",
   "metadata": {},
   "source": [
    "#### Solution 2, Code Explanation:"
   ]
  },
  {
   "cell_type": "markdown",
   "metadata": {},
   "source": [
    "- For each of these binary strings, check for the ones and ignore the zeroes.\n",
    "- For those that are one or active then convert them to decimal, this takes into account the position and the right power it needs to be raised to.\n",
    "- Store the power into the power variable by adding it to any previous ones on the variable decValue. This variable will add and add the powers of the active ones until the end of the loop and then return the decimal number.\n",
    "- Convert the final decimal outside of the inner loop and then convert it to ASCII and saving it to sentence along with any other text string already converted and stored.\n",
    "- Reset the variable decValue to avoid getting wrong decimals before continuing to the outer loop."
   ]
  },
  {
   "cell_type": "markdown",
   "metadata": {},
   "source": [
    "#### Solution 3:"
   ]
  },
  {
   "cell_type": "code",
   "execution_count": null,
   "metadata": {},
   "outputs": [],
   "source": [
    "function binaryAgent(str) {\n",
    "  return String.fromCharCode(\n",
    "    ...str.split(\" \").map(function(char) {\n",
    "      return parseInt(char, 2);\n",
    "    })\n",
    "  );\n",
    "}\n",
    "\n",
    "// test here\n",
    "binaryAgent(\n",
    "  \"01000001 01110010 01100101 01101110 00100111 01110100 00100000 01100010 01101111 01101110 01100110 01101001 01110010 01100101 01110011 00100000 01100110 01110101 01101110 00100001 00111111\"\n",
    ");"
   ]
  },
  {
   "cell_type": "markdown",
   "metadata": {},
   "source": [
    "#### Solution 3, Code Explanation:"
   ]
  },
  {
   "cell_type": "markdown",
   "metadata": {},
   "source": [
    "- First we use `split()` to be able to work on each character as an Array element\n",
    "- Then use `map()` to process each element from binary to decimal using `pareseInt()`\n",
    "- Last we can use `String.fromCharCode()` to convert each ASCII number into the corresponding character\n",
    "- However `fromCharCode()` expects a series of numbers rather than an Array! We can use ES6 Spread Operator to pass in an Array of numbers as individual numbers."
   ]
  },
  {
   "cell_type": "markdown",
   "metadata": {},
   "source": [
    "#### Solution 4:"
   ]
  },
  {
   "cell_type": "code",
   "execution_count": null,
   "metadata": {},
   "outputs": [],
   "source": [
    "const binaryAgent = str => str.replace(/\\d+./g, char => String.fromCharCode(`0b${char}`));\n",
    "       \n",
    "  binaryAgent(\"01000001 01110010 01100101 01101110 00100111 01110100 00100000 01100010 01101111 01101110 01100110 01101001 01110010 01100101 01110011 00100000 01100110 01110101 01101110 00100001 00111111\");"
   ]
  },
  {
   "cell_type": "markdown",
   "metadata": {},
   "source": [
    "- Find all groups of one or more digits followed by one other character\n",
    "- Replace with a string created from the specified sequence of UTF-16 code units\n",
    "- Use `0b` to lead the code unit to express that a binary integer literal is being converted.\n",
    "- [String.fromCharCode()](https://developer.mozilla.org/en-US/docs/Web/JavaScript/Reference/Global_Objects/String/fromCharCode)\n",
    "- [Convert a string of binary characters to the ASCII equivalents](https://codegolf.stackexchange.com/questions/35096/convert-a-string-of-binary-characters-to-the-ascii-equivalents)\n",
    "- [Grammar and types/Numeric Literals](https://developer.mozilla.org/en-US/docs/Web/JavaScript/Guide/Grammar_and_types#Numeric_literals)"
   ]
  },
  {
   "cell_type": "code",
   "execution_count": null,
   "metadata": {},
   "outputs": [],
   "source": []
  },
  {
   "cell_type": "code",
   "execution_count": null,
   "metadata": {},
   "outputs": [],
   "source": []
  },
  {
   "cell_type": "code",
   "execution_count": null,
   "metadata": {},
   "outputs": [],
   "source": []
  },
  {
   "cell_type": "code",
   "execution_count": null,
   "metadata": {},
   "outputs": [],
   "source": []
  }
 ],
 "metadata": {
  "kernelspec": {
   "display_name": "Python 3",
   "language": "python",
   "name": "python3"
  },
  "language_info": {
   "codemirror_mode": {
    "name": "ipython",
    "version": 3
   },
   "file_extension": ".py",
   "mimetype": "text/x-python",
   "name": "python",
   "nbconvert_exporter": "python",
   "pygments_lexer": "ipython3",
   "version": "3.7.4"
  }
 },
 "nbformat": 4,
 "nbformat_minor": 2
}
