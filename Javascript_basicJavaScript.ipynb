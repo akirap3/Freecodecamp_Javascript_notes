{
 "cells": [
  {
   "cell_type": "markdown",
   "metadata": {},
   "source": [
    "### _Basic JavaScript: Comment Your JavaScript Code_"
   ]
  },
  {
   "cell_type": "markdown",
   "metadata": {},
   "source": [
    "#### Best Practice\n",
    "- As you write code, you should regularly add comments to clarify the function of parts of your code. Good commenting can help communicate the intent of your code—both for others and for your future self.\n",
    "\n",
    "#### There are two ways to write comments in JavaScript:"
   ]
  },
  {
   "cell_type": "markdown",
   "metadata": {},
   "source": [
    "- Using `//` will tell JavaScript to ignore the remainder of the text on the current line:"
   ]
  },
  {
   "cell_type": "code",
   "execution_count": null,
   "metadata": {},
   "outputs": [],
   "source": [
    "// This is an in-line comment."
   ]
  },
  {
   "cell_type": "markdown",
   "metadata": {},
   "source": [
    "- You can make a multi-line comment beginning with `/*` and ending with `*/`:"
   ]
  },
  {
   "cell_type": "code",
   "execution_count": null,
   "metadata": {},
   "outputs": [],
   "source": [
    "/* This is a\n",
    "multi-line comment */"
   ]
  },
  {
   "cell_type": "markdown",
   "metadata": {},
   "source": [
    "### _Basic JavaScript: Declare JavaScript Variables_"
   ]
  },
  {
   "cell_type": "markdown",
   "metadata": {},
   "source": [
    "- JavaScript provides seven different data types which are `undefined`, `null`, `boolean`, `string`, `symbol`, `number`, and `object`.\n",
    "- __Variables__ allow computers to store and manipulate data in a dynamic fashion. They do this by using a \"label\" to point to the data rather than using the data itself. Any of the seven data types may be stored in a variable.\n",
    "- We tell JavaScript to create or declare a variable by putting the keyword `var` in front of it, like so:"
   ]
  },
  {
   "cell_type": "code",
   "execution_count": null,
   "metadata": {},
   "outputs": [],
   "source": [
    "var ourName;"
   ]
  },
  {
   "cell_type": "markdown",
   "metadata": {},
   "source": [
    "creates a `variable` called `ourName`. In JavaScript we end statements with semicolons. `Variable` names can be made up of numbers, letters, and `$` or`_`, but may not contain spaces or start with a number."
   ]
  },
  {
   "cell_type": "markdown",
   "metadata": {},
   "source": [
    "### _Basic JavaScript: Storing Values with the Assignment Operator_"
   ]
  },
  {
   "cell_type": "markdown",
   "metadata": {},
   "source": [
    "- Assignment always goes from right to left. Everything to the right of the `=` operator is resolved before the value is assigned to the variable to the left of the operator.\n",
    "- This assigns `5` to `myVar` and then resolves `myVar` to `5` again and assigns it to `myNum`."
   ]
  },
  {
   "cell_type": "code",
   "execution_count": null,
   "metadata": {},
   "outputs": [],
   "source": [
    "myVar = 5;\n",
    "myNum = myVar;"
   ]
  },
  {
   "cell_type": "markdown",
   "metadata": {},
   "source": [
    "### _Basic JavaScript: Initializing Variables with the Assignment Operator_"
   ]
  },
  {
   "cell_type": "markdown",
   "metadata": {},
   "source": [
    "#### It is common to initialize a variable to an initial value in the same line as it is declared.\n",
    "#### `var myVar = 0;`"
   ]
  },
  {
   "cell_type": "markdown",
   "metadata": {},
   "source": [
    "### _Basic JavaScript: Understanding Uninitialized Variables_"
   ]
  },
  {
   "cell_type": "markdown",
   "metadata": {},
   "source": [
    "- When JavaScript variables are declared, they have an initial value of `undefined`. If you do a mathematical operation on an `undefined` variable your result will be `NaN` which means \"Not a Number\". If you concatenate a string with an `undefined` variable, you will get a literal string of `\"undefined\"`."
   ]
  },
  {
   "cell_type": "markdown",
   "metadata": {},
   "source": [
    "### _Basic JavaScript: Understanding Case Sensitivity in Variables_"
   ]
  },
  {
   "cell_type": "markdown",
   "metadata": {},
   "source": [
    "- In JavaScript all variables and function names are case sensitive. This means that capitalization matters.\n",
    "- Best Practice\n",
    "    - Write variable names in JavaScript in __camelCase__. In camelCase, multi-word variable names have the first word in lowercase and the first letter of each subsequent word is capitalized.\n",
    "- Examples:"
   ]
  },
  {
   "cell_type": "code",
   "execution_count": null,
   "metadata": {},
   "outputs": [],
   "source": [
    "var someVariable;\n",
    "var anotherVariableName;\n",
    "var thisVariableNameIsSoLong;"
   ]
  },
  {
   "cell_type": "markdown",
   "metadata": {},
   "source": [
    "### _Basic JavaScript: Increment a Number with JavaScript_"
   ]
  },
  {
   "cell_type": "markdown",
   "metadata": {},
   "source": [
    "#### You can easily increment or add one to a variable with the ++ operator.\n",
    "\n",
    "#### `i++;`\n",
    "\n",
    "#### is the equivalent of\n",
    "\n",
    "#### `i = i + 1;`"
   ]
  },
  {
   "cell_type": "markdown",
   "metadata": {},
   "source": [
    "### _Basic JavaScript: Decrement a Number with JavaScript_"
   ]
  },
  {
   "cell_type": "markdown",
   "metadata": {},
   "source": [
    "#### You can easily decrement or decrease a variable by one with the -- operator.\n",
    "\n",
    "#### `i--;`\n",
    "\n",
    "#### `is the equivalent of`\n",
    "\n",
    "#### `i = i - 1;`"
   ]
  },
  {
   "cell_type": "markdown",
   "metadata": {},
   "source": [
    "### _Basic JavaScript: Create Decimal Numbers with JavaScript_"
   ]
  },
  {
   "cell_type": "markdown",
   "metadata": {},
   "source": [
    "- We can store decimal numbers in variables tmoo. Decimal numbers are sometimes referred to as _floating point_ numbers or _floats_.\n",
    "- Not all real numbers can accurately be represented in floating point. This can lead to rounding errors. [Details Here.](https://en.wikipedia.org/wiki/Floating-point_arithmetic#Accuracy_problems)"
   ]
  },
  {
   "cell_type": "markdown",
   "metadata": {},
   "source": [
    "### _Basic JavaScript: Finding a Remainder in JavaScript_"
   ]
  },
  {
   "cell_type": "markdown",
   "metadata": {},
   "source": [
    "- The remainder operator `%` gives the remainder of the division of two numbers.\n",
    "- Note: The remainder operator is sometimes incorrectly referred to as the \"modulus\" operator. It is very similar to modulus, but does not work properly with negative numbers.\n",
    "- Example:"
   ]
  },
  {
   "cell_type": "code",
   "execution_count": null,
   "metadata": {},
   "outputs": [],
   "source": [
    "5 % 2 = 1 because\n",
    "Math.floor(5 / 2) = 2 (Quotient)\n",
    "2 * 2 = 4\n",
    "5 - 4 = 1 (Remainder)"
   ]
  },
  {
   "cell_type": "markdown",
   "metadata": {},
   "source": [
    "- Usage:\n",
    "    - In mathematics, a number can be checked to be even or odd by checking the remainder of the division of the number by `2`."
   ]
  },
  {
   "cell_type": "code",
   "execution_count": null,
   "metadata": {},
   "outputs": [],
   "source": [
    "17 % 2 = 1 (17 is Odd)\n",
    "48 % 2 = 0 (48 is Even)"
   ]
  },
  {
   "cell_type": "markdown",
   "metadata": {},
   "source": [
    "### _Basic JavaScript: Compound Assignment With Augmented Addition/ Subtraction/ Multiplication/  Division_"
   ]
  },
  {
   "cell_type": "markdown",
   "metadata": {},
   "source": [
    "- In programming, it is common to use assignments to modify the contents of a variable. Remember that everything to the right of the equals sign is evaluated first, so we can say:\n",
    "\n",
    "- `myVar = myVar + 5;`\n",
    "\n",
    "- to add `5` to `myVar`. Since this is such a common pattern, there are operators which do both a mathematical operation and assignment in one step.\n",
    "\n",
    "- One such operator is the `+=` operator."
   ]
  },
  {
   "cell_type": "code",
   "execution_count": null,
   "metadata": {},
   "outputs": [],
   "source": [
    "var myVar = 1;\n",
    "myVar += 5;\n",
    "console.log(myVar); // Returns 6"
   ]
  },
  {
   "cell_type": "markdown",
   "metadata": {},
   "source": [
    "### _Basic JavaScript: Declare String Variables_"
   ]
  },
  {
   "cell_type": "code",
   "execution_count": null,
   "metadata": {},
   "outputs": [],
   "source": [
    "var myName = \"your name\";"
   ]
  },
  {
   "cell_type": "markdown",
   "metadata": {},
   "source": [
    "- `\"your name\"` is called a _string literal_. It is a string because it is a series of zero or more characters enclosed in single or double quotes."
   ]
  },
  {
   "cell_type": "markdown",
   "metadata": {},
   "source": [
    "### _Basic JavaScript: Escaping Literal Quotes in Strings_"
   ]
  },
  {
   "cell_type": "markdown",
   "metadata": {},
   "source": [
    "- In JavaScript, you can escape a quote from considering it as an end of string quote by placing a _backslash_ (`\\`) in front of the quote."
   ]
  },
  {
   "cell_type": "code",
   "execution_count": null,
   "metadata": {},
   "outputs": [],
   "source": [
    "var sampleStr = \"Alan said, \\\"Peter is learning JavaScript\\\".\";\n",
    "// Alan said, \"Peter is learning JavaScript\"."
   ]
  },
  {
   "cell_type": "markdown",
   "metadata": {},
   "source": [
    "### _Basic JavaScript: Quoting Strings with Single Quotes_"
   ]
  },
  {
   "cell_type": "markdown",
   "metadata": {},
   "source": [
    "- String values in JavaScript may be written with single or double quotes, as long as you start and end with the same type of quote. "
   ]
  },
  {
   "cell_type": "markdown",
   "metadata": {},
   "source": [
    "### _Basic JavaScript: Escape Sequences in Strings_"
   ]
  },
  {
   "cell_type": "markdown",
   "metadata": {},
   "source": [
    "- Quotes are not the only characters that can be escaped inside a string. There are two reasons to use escaping characters:\n",
    "    1. To allow you to use characters you may not otherwise be able to type out, such as a carriage return.\n",
    "    2. To allow you to represent multiple quotes in a string without JavaScript misinterpreting what you mean."
   ]
  },
  {
   "cell_type": "markdown",
   "metadata": {},
   "source": [
    "#### `\\'`    single quote\n",
    "\n",
    "#### `\\\"`\tdouble quote\n",
    "\n",
    "#### `\\\\`\tbackslash\n",
    "\n",
    "#### `\\n`\tnewline\n",
    "\n",
    "#### `\\r`\tcarriage return\n",
    "\n",
    "#### `\\t`\ttab\n",
    "\n",
    "#### `\\b`\tword boundary\n",
    "\n",
    "#### `\\f`\tform feed\n"
   ]
  },
  {
   "cell_type": "markdown",
   "metadata": {},
   "source": [
    "### _Basic JavaScript: Concatenating Strings with Plus Operator_"
   ]
  },
  {
   "cell_type": "markdown",
   "metadata": {},
   "source": [
    "- In JavaScript, when the `+` operator is used with a `String value`, it is called the concatenation operator. You can build a new string out of other strings by concatenating them together.\n",
    "- Example:"
   ]
  },
  {
   "cell_type": "code",
   "execution_count": null,
   "metadata": {},
   "outputs": [],
   "source": [
    "var ourStr = \"I come first. \" + \"I come second.\";\n",
    "// ourStr is \"I come first.  I come second.\""
   ]
  },
  {
   "cell_type": "markdown",
   "metadata": {},
   "source": [
    "### _Basic JavaScript: Concatenating Strings with the Plus Equals Operator_"
   ]
  },
  {
   "cell_type": "markdown",
   "metadata": {},
   "source": [
    "- We can also use the += operator to concatenate a string onto the end of an existing string variable. This can be very helpful to break a long string over several lines.\n",
    "- Note: Watch out for spaces. Concatenation does not add spaces between concatenated strings, so you'll need to add them yourself.\n",
    "- Example:"
   ]
  },
  {
   "cell_type": "code",
   "execution_count": null,
   "metadata": {},
   "outputs": [],
   "source": [
    "var ourStr = \"I come first. \";\n",
    "ourStr += \"I come second.\";\n",
    "// ourStr is now \"I come first. I come second.\""
   ]
  },
  {
   "cell_type": "markdown",
   "metadata": {},
   "source": [
    "### _Basic JavaScript: Constructing Strings with Variablesc_"
   ]
  },
  {
   "cell_type": "markdown",
   "metadata": {},
   "source": [
    "- By using the concatenation operator (+), you can insert one or more variables into a string you're building.\n",
    "- Example:"
   ]
  },
  {
   "cell_type": "code",
   "execution_count": null,
   "metadata": {},
   "outputs": [],
   "source": [
    "var ourName = \"freeCodeCamp\";\n",
    "var ourStr = \"Hello, our name is \" + ourName + \", how are you?\";\n",
    "// ourStr is now \"Hello, our name is freeCodeCamp, how are you?\""
   ]
  },
  {
   "cell_type": "markdown",
   "metadata": {},
   "source": [
    "### _Basic JavaScript: Appending Variables to Strings_"
   ]
  },
  {
   "cell_type": "markdown",
   "metadata": {},
   "source": [
    "- Just as we can build a string over multiple lines out of string literals, we can also append variables to a string using the plus equals (+=) operator.\n",
    "\n",
    "- Example:"
   ]
  },
  {
   "cell_type": "code",
   "execution_count": null,
   "metadata": {},
   "outputs": [],
   "source": [
    "var anAdjective = \"awesome!\";\n",
    "var ourStr = \"freeCodeCamp is \";\n",
    "ourStr += anAdjective;\n",
    "// ourStr is now \"freeCodeCamp is awesome!\""
   ]
  },
  {
   "cell_type": "markdown",
   "metadata": {},
   "source": [
    "### _Basic JavaScript: Find the Length of a String_"
   ]
  },
  {
   "cell_type": "markdown",
   "metadata": {},
   "source": [
    "- You can find the length of a String value by writing .length after the string variable or string literal.\n",
    "    -  `\"Alan Peter\".length; // 10`"
   ]
  },
  {
   "cell_type": "markdown",
   "metadata": {},
   "source": [
    "### _Basic JavaScript: Use Bracket Notation to Find the First Character in a String_"
   ]
  },
  {
   "cell_type": "markdown",
   "metadata": {},
   "source": [
    "- Bracket notation is a way to get a character at a specific `index` within a string.\n",
    "\n",
    "- Most modern programming languages, like JavaScript, don't start counting at 1 like humans do. They start at 0. This is referred to as _Zero-based_ indexing.\n",
    "- Example:"
   ]
  },
  {
   "cell_type": "code",
   "execution_count": null,
   "metadata": {},
   "outputs": [],
   "source": [
    "var firstName = \"Charles\";\n",
    "var firstLetter = firstName[0]; // firstLetter is \"C\""
   ]
  },
  {
   "cell_type": "markdown",
   "metadata": {},
   "source": [
    "### _Basic JavaScript: Understand String Immutability_"
   ]
  },
  {
   "cell_type": "markdown",
   "metadata": {},
   "source": [
    "- In JavaScript, `String` values are _immutable_, which means that they cannot be altered once created.\n",
    "- For example, the following code:"
   ]
  },
  {
   "cell_type": "code",
   "execution_count": null,
   "metadata": {},
   "outputs": [],
   "source": [
    "var myStr = \"Bob\";\n",
    "myStr[0] = \"J\";"
   ]
  },
  {
   "cell_type": "markdown",
   "metadata": {},
   "source": [
    "- cannot change the value of `myStr` to \"Job\", because the contents of `myStr` cannot be altered.\n",
    "- The only way to change myStr would be to assign it with a new string, like this:"
   ]
  },
  {
   "cell_type": "code",
   "execution_count": null,
   "metadata": {},
   "outputs": [],
   "source": [
    "var myStr = \"Bob\";\n",
    "myStr = \"Job\";"
   ]
  },
  {
   "cell_type": "markdown",
   "metadata": {},
   "source": [
    "### _Basic JavaScript: Use Bracket Notation to Find the Last Character in a String_"
   ]
  },
  {
   "cell_type": "markdown",
   "metadata": {},
   "source": [
    "- In order to get the last letter of a string, you can subtract one from the string's length.\n",
    "- Example:"
   ]
  },
  {
   "cell_type": "code",
   "execution_count": null,
   "metadata": {},
   "outputs": [],
   "source": [
    "var firstName = \"Charles\";\n",
    "var lastLetter = firstName[firstName.length - 1]; // lastLetter is \"s\""
   ]
  },
  {
   "cell_type": "markdown",
   "metadata": {},
   "source": [
    "### _Basic JavaScript: Use Bracket Notation to Find the Nth-to-Last Character in a String_"
   ]
  },
  {
   "cell_type": "markdown",
   "metadata": {},
   "source": [
    "- You can use the same principle we just used to retrieve the last character in a string to retrieve the Nth-to-last character.\n",
    "- Example:"
   ]
  },
  {
   "cell_type": "code",
   "execution_count": null,
   "metadata": {},
   "outputs": [],
   "source": [
    "var firstName = \"Charles\";\n",
    "var thirdToLastLetter = firstName[firstName.length - 3]; // thirdToLastLetter is \"l\""
   ]
  },
  {
   "cell_type": "markdown",
   "metadata": {},
   "source": [
    "### _Basic JavaScript: Store Multiple Values in one Variable using JavaScript Arrays_"
   ]
  },
  {
   "cell_type": "markdown",
   "metadata": {},
   "source": [
    "- You start an array declaration with an opening square bracket, end it with a closing square bracket, and put a comma between each entry, like this:"
   ]
  },
  {
   "cell_type": "code",
   "execution_count": null,
   "metadata": {},
   "outputs": [],
   "source": [
    "var sandwich = [\"peanut butter\", \"jelly\", \"bread\"]."
   ]
  },
  {
   "cell_type": "markdown",
   "metadata": {},
   "source": [
    "### _Basic JavaScript: Nest one Array within Another Array_"
   ]
  },
  {
   "cell_type": "code",
   "execution_count": null,
   "metadata": {},
   "outputs": [],
   "source": [
    "[[\"Bulls\", 23], [\"White Sox\", 45]]"
   ]
  },
  {
   "cell_type": "markdown",
   "metadata": {},
   "source": [
    "### _Basic JavaScript: Access Array Data with Indexes_"
   ]
  },
  {
   "cell_type": "markdown",
   "metadata": {},
   "source": [
    "- arrays use _zero-based_ indexing, so the first element in an array has an index of `0`.\n",
    "- Example:"
   ]
  },
  {
   "cell_type": "code",
   "execution_count": null,
   "metadata": {},
   "outputs": [],
   "source": [
    "var array = [50,60,70];\n",
    "array[0]; // equals 50\n",
    "var data = array[1];  // equals 60"
   ]
  },
  {
   "cell_type": "markdown",
   "metadata": {},
   "source": [
    "### _Basic JavaScript: Modify Array Data With Indexes_"
   ]
  },
  {
   "cell_type": "markdown",
   "metadata": {},
   "source": [
    "- Unlike strings, the entries of arrays are _mutable_ and can be changed freely.\n",
    "- Note: There shouldn't be any spaces between the array name and the square brackets, like `array [0]`. Although JavaScript is able to process this correctly, this may confuse other programmers reading your code.\n",
    "- Example:"
   ]
  },
  {
   "cell_type": "code",
   "execution_count": null,
   "metadata": {},
   "outputs": [],
   "source": [
    "var ourArray = [50,40,30];\n",
    "ourArray[0] = 15; // equals [15,40,30]"
   ]
  },
  {
   "cell_type": "markdown",
   "metadata": {},
   "source": [
    "### _Basic JavaScript: Access Multi-Dimensional Arrays With Indexes_"
   ]
  },
  {
   "cell_type": "markdown",
   "metadata": {},
   "source": [
    "- Example:"
   ]
  },
  {
   "cell_type": "code",
   "execution_count": null,
   "metadata": {},
   "outputs": [],
   "source": [
    "var arr = [\n",
    "  [1,2,3],\n",
    "  [4,5,6],\n",
    "  [7,8,9],\n",
    "  [[10,11,12], 13, 14]\n",
    "];\n",
    "arr[3]; // equals [[10,11,12], 13, 14]\n",
    "arr[3][0]; // equals [10,11,12]\n",
    "arr[3][0][1]; // equals 11"
   ]
  },
  {
   "cell_type": "markdown",
   "metadata": {},
   "source": [
    "### _Basic JavaScript: Manipulate Arrays With push()_"
   ]
  },
  {
   "cell_type": "markdown",
   "metadata": {},
   "source": [
    "- `.push()` takes one or more parameters and \"pushes\" them onto the end of the array.\n",
    "- Example:"
   ]
  },
  {
   "cell_type": "code",
   "execution_count": null,
   "metadata": {},
   "outputs": [],
   "source": [
    "var arr1 = [1,2,3];\n",
    "arr1.push(4);\n",
    "// arr1 is now [1,2,3,4]\n",
    "\n",
    "var arr2 = [\"Stimpson\", \"J\", \"cat\"];\n",
    "arr2.push([\"happy\", \"joy\"]);\n",
    "// arr2 now equals [\"Stimpson\", \"J\", \"cat\", [\"happy\", \"joy\"]]"
   ]
  },
  {
   "cell_type": "markdown",
   "metadata": {},
   "source": [
    "### _Basic JavaScript: Manipulate Arrays With pop()_"
   ]
  },
  {
   "cell_type": "markdown",
   "metadata": {},
   "source": [
    "- `.pop()` is used to \"pop\" a value off of the end of an array. We can store this \"popped off\" value by assigning it to a variable. \n",
    "- In other words, `.pop()` removes the last element from an array and returns that element.\n",
    "- Example:"
   ]
  },
  {
   "cell_type": "code",
   "execution_count": null,
   "metadata": {},
   "outputs": [],
   "source": [
    "var threeArr = [1, 4, 6];\n",
    "var oneDown = threeArr.pop();\n",
    "console.log(oneDown); // Returns 6\n",
    "console.log(threeArr); // Returns [1, 4]"
   ]
  },
  {
   "cell_type": "markdown",
   "metadata": {},
   "source": [
    "### _Basic JavaScript: Manipulate Arrays With shift()_"
   ]
  },
  {
   "cell_type": "markdown",
   "metadata": {},
   "source": [
    "- it removes the first element instead of the last.\n",
    "- Example:"
   ]
  },
  {
   "cell_type": "code",
   "execution_count": null,
   "metadata": {},
   "outputs": [],
   "source": [
    "var ourArray = [\"Stimpson\", \"J\", [\"cat\"]];\n",
    "var removedFromOurArray = ourArray.shift();\n",
    "// removedFromOurArray now equals \"Stimpson\" and ourArray now equals [\"J\", [\"cat\"]]."
   ]
  },
  {
   "cell_type": "markdown",
   "metadata": {},
   "source": [
    "### _Basic JavaScript: Manipulate Arrays With unshift()_"
   ]
  },
  {
   "cell_type": "markdown",
   "metadata": {},
   "source": [
    "- `unshift()` adds the element at the beginning of the array.\n",
    "- Example:"
   ]
  },
  {
   "cell_type": "code",
   "execution_count": null,
   "metadata": {},
   "outputs": [],
   "source": [
    "var ourArray = [\"Stimpson\", \"J\", \"cat\"];\n",
    "ourArray.shift(); // ourArray now equals [\"J\", \"cat\"]\n",
    "ourArray.unshift(\"Happy\");\n",
    "// ourArray now equals [\"Happy\", \"J\", \"cat\"]"
   ]
  },
  {
   "cell_type": "markdown",
   "metadata": {},
   "source": [
    "### _Basic JavaScript: Write Reusable JavaScript with Functions_"
   ]
  },
  {
   "cell_type": "markdown",
   "metadata": {},
   "source": [
    "- In JavaScript, we can divide up our code into reusable parts called functions.\n",
    "- You can call or invoke this function by using its name followed by parentheses, like this: `functionName()`; "
   ]
  },
  {
   "cell_type": "code",
   "execution_count": null,
   "metadata": {},
   "outputs": [],
   "source": [
    "function functionName() {\n",
    "  console.log(\"Hello World\");\n",
    "}"
   ]
  },
  {
   "cell_type": "markdown",
   "metadata": {},
   "source": [
    "### _Basic JavaScript: Passing Values to Functions with Arguments_"
   ]
  },
  {
   "cell_type": "markdown",
   "metadata": {},
   "source": [
    "- Parameters are variables that act as placeholders for the values that are to be input to a function when it is called.\n",
    "- When a function is defined, it is typically defined along with one or more parameters. The actual values that are input (or \"passed\") into a function when it is called are known as _arguments_.\n",
    "- Example:"
   ]
  },
  {
   "cell_type": "code",
   "execution_count": null,
   "metadata": {},
   "outputs": [],
   "source": [
    "function testFun(param1, param2) {\n",
    "  console.log(param1, param2);\n",
    "}"
   ]
  },
  {
   "cell_type": "markdown",
   "metadata": {},
   "source": [
    "### _Basic JavaScript: Global Scope and Functions_"
   ]
  },
  {
   "cell_type": "markdown",
   "metadata": {},
   "source": [
    "- In JavaScript, scope refers to the visibility of variables. \n",
    "- Variables which are defined outside of a function block have __Global__ scope. This means, they can be seen everywhere in your JavaScript code.\n",
    "- Variables which are used without the `var` keyword are automatically created in the `global` scope. This can create unintended consequences elsewhere in your code or when running a function again. You should always declare your variables with var."
   ]
  },
  {
   "cell_type": "markdown",
   "metadata": {},
   "source": [
    "### _Basic JavaScript: Local Scope and Functions_"
   ]
  },
  {
   "cell_type": "markdown",
   "metadata": {},
   "source": [
    "- Variables which are declared within a function, as well as the function parameters have _local_ scope. That means, they are only visible within that function.\n",
    "- Example:"
   ]
  },
  {
   "cell_type": "code",
   "execution_count": null,
   "metadata": {},
   "outputs": [],
   "source": [
    "function myTest() {\n",
    "  var loc = \"foo\";\n",
    "  console.log(loc);\n",
    "}\n",
    "myTest(); // logs \"foo\"\n",
    "console.log(loc); // loc is not defined"
   ]
  },
  {
   "cell_type": "markdown",
   "metadata": {},
   "source": [
    "### _Basic JavaScript: Global vs. Local Scope in Functions_"
   ]
  },
  {
   "cell_type": "markdown",
   "metadata": {},
   "source": [
    "- It is possible to have both local and global variables with the same name. \n",
    "- When you do this, the local variable takes precedence over the global variable.\n",
    "- Example: The function `myFun` will return `\"Head\"` because the `local` version of the variable is present."
   ]
  },
  {
   "cell_type": "code",
   "execution_count": null,
   "metadata": {},
   "outputs": [],
   "source": [
    "var someVar = \"Hat\";\n",
    "function myFun() {\n",
    "  var someVar = \"Head\";\n",
    "  return someVar;\n",
    "}"
   ]
  },
  {
   "cell_type": "markdown",
   "metadata": {},
   "source": [
    "### _Basic JavaScript: Return a Value from a Function with Return_"
   ]
  },
  {
   "cell_type": "markdown",
   "metadata": {},
   "source": [
    "- We can pass values into a function with arguments. You can use a return statement to send a value back out of a function.\n",
    "\n",
    "- Example:"
   ]
  },
  {
   "cell_type": "code",
   "execution_count": null,
   "metadata": {},
   "outputs": [],
   "source": [
    "function plusThree(num) {\n",
    "  return num + 3;\n",
    "}\n",
    "var answer = plusThree(5); // 8"
   ]
  },
  {
   "cell_type": "markdown",
   "metadata": {},
   "source": [
    "### _Basic JavaScript: Understanding Undefined Value returned from a Function_"
   ]
  },
  {
   "cell_type": "markdown",
   "metadata": {},
   "source": [
    "- A function can include the `return` statement but it does not have to. In the case that the function doesn't have a `return` statement, when you call it, the function processes the inner code but the returned value is `undefined`."
   ]
  },
  {
   "cell_type": "code",
   "execution_count": null,
   "metadata": {},
   "outputs": [],
   "source": [
    "var sum = 0;\n",
    "function addSum(num) {\n",
    "  sum = sum + num;\n",
    "}\n",
    "addSum(3); // sum will be modified but returned value is undefined"
   ]
  },
  {
   "cell_type": "markdown",
   "metadata": {},
   "source": [
    "### _Basic JavaScript: Stand in Line_"
   ]
  },
  {
   "cell_type": "markdown",
   "metadata": {},
   "source": [
    "- In Computer Science a queue is an abstract Data Structure where items are kept in order. New items can be added at the back of the queue and old items are taken off from the front of the queue.\n",
    "\n",
    "- Write a function `nextInLine` which takes an array (`arr`) and a number (`item`) as arguments.\n",
    "\n",
    "- Add the number to the end of the array, then remove the first element of the array.\n",
    "\n",
    "- The `nextInLine` function should then return the element that was removed."
   ]
  },
  {
   "cell_type": "markdown",
   "metadata": {},
   "source": [
    "#### Solution:"
   ]
  },
  {
   "cell_type": "code",
   "execution_count": null,
   "metadata": {},
   "outputs": [],
   "source": [
    "function nextInLine(arr, item) {\n",
    "  arr.push(item);\n",
    "  var removed = arr.shift();\n",
    "  return removed; \n",
    "}\n",
    "\n",
    "// Setup\n",
    "var testArr = [1,2,3,4,5];\n",
    "\n",
    "// Display code\n",
    "console.log(\"Before: \" + JSON.stringify(testArr));\n",
    "console.log(nextInLine(testArr, 6));\n",
    "console.log(\"After: \" + JSON.stringify(testArr));"
   ]
  },
  {
   "cell_type": "markdown",
   "metadata": {},
   "source": [
    "#### Code, Explanation:"
   ]
  },
  {
   "cell_type": "markdown",
   "metadata": {},
   "source": [
    "- Push item at the end of arr.\n",
    "- Call the `shift()` method on arr to get the first item and store it in removed.\n",
    "- Return removed."
   ]
  },
  {
   "cell_type": "markdown",
   "metadata": {},
   "source": [
    "### _Basic JavaScript: Understanding Boolean Values_"
   ]
  },
  {
   "cell_type": "markdown",
   "metadata": {},
   "source": [
    "- Another data type is the _Boolean_. `Booleans` may only be one of two values: `true` or `false`. \n",
    "- `Boolean` values are never written with quotes. The `strings` `\"true\"` and `\"false\"` are not `Boolean` and have no special meaning in JavaScript."
   ]
  },
  {
   "cell_type": "markdown",
   "metadata": {},
   "source": [
    "### _Basic JavaScript: Use Conditional Logic with If Statements_"
   ]
  },
  {
   "cell_type": "markdown",
   "metadata": {},
   "source": [
    "- Pseudocode"
   ]
  },
  {
   "cell_type": "code",
   "execution_count": null,
   "metadata": {},
   "outputs": [],
   "source": [
    "if (condition is true) {\n",
    "  statement is executed\n",
    "}"
   ]
  },
  {
   "cell_type": "markdown",
   "metadata": {},
   "source": [
    "- Example:"
   ]
  },
  {
   "cell_type": "code",
   "execution_count": null,
   "metadata": {},
   "outputs": [],
   "source": [
    "function test (myCondition) {\n",
    "  if (myCondition) {\n",
    "     return \"It was true\";\n",
    "  }\n",
    "  return \"It was false\";\n",
    "}\n",
    "test(true);  // returns \"It was true\"\n",
    "test(false); // returns \"It was false\""
   ]
  },
  {
   "cell_type": "markdown",
   "metadata": {},
   "source": [
    "### _Basic JavaScript: Comparison with the Equality Operator_"
   ]
  },
  {
   "cell_type": "markdown",
   "metadata": {},
   "source": [
    "- The most basic operator is the equality operator `==`. The equality operator compares two values and returns `true` if they're equivalent or `false` if they are not.\n",
    "- Example:"
   ]
  },
  {
   "cell_type": "code",
   "execution_count": null,
   "metadata": {},
   "outputs": [],
   "source": [
    "function equalityTest(myVal) {\n",
    "  if (myVal == 10) {\n",
    "     return \"Equal\";\n",
    "  }\n",
    "  return \"Not Equal\";\n",
    "}"
   ]
  },
  {
   "cell_type": "markdown",
   "metadata": {},
   "source": [
    "- In order for JavaScript to compare two different _data types_ (for example, numbers and strings), it must convert one type to another. This is known as __\"Type Coercion\"__. Once it does, however, it can compare terms as follows:"
   ]
  },
  {
   "cell_type": "code",
   "execution_count": null,
   "metadata": {},
   "outputs": [],
   "source": [
    "1   ==  1   // true\n",
    "1   ==  2   // false\n",
    "1   == '1'  // true\n",
    "\"3\" ==  3   // true"
   ]
  },
  {
   "cell_type": "markdown",
   "metadata": {},
   "source": [
    "### _Basic JavaScript: Comparison with the Strict Equality Operator_"
   ]
  },
  {
   "cell_type": "markdown",
   "metadata": {},
   "source": [
    "- Strict equality (`===`) is the counterpart to the equality operator (`==`). \n",
    "- However, unlike the equality operator, which attempts to convert both values being compared to a common type, the strict equality operator does not perform a type conversion.\n",
    "- Example:"
   ]
  },
  {
   "cell_type": "code",
   "execution_count": null,
   "metadata": {},
   "outputs": [],
   "source": [
    "3 ===  3   // true\n",
    "3 === '3'  // false"
   ]
  },
  {
   "cell_type": "markdown",
   "metadata": {},
   "source": [
    "### _Basic JavaScript: Practice comparing different values_"
   ]
  },
  {
   "cell_type": "markdown",
   "metadata": {},
   "source": [
    "- Note: In JavaScript, you can determine the type of a variable or a value with the `typeof` operator, as follows:"
   ]
  },
  {
   "cell_type": "code",
   "execution_count": null,
   "metadata": {},
   "outputs": [],
   "source": [
    "typeof 3   // returns 'number'\n",
    "typeof '3' // returns 'string'"
   ]
  },
  {
   "cell_type": "markdown",
   "metadata": {},
   "source": [
    "### _Basic JavaScript: Comparison with the Inequality Operator_"
   ]
  },
  {
   "cell_type": "markdown",
   "metadata": {},
   "source": [
    "- The inequality operator (`!=`) is the opposite of the equality operator. \n",
    "- It means \"Not Equal\" and returns `false` where equality would return `true` and vice versa. \n",
    "- Like the equality operator, the inequality operator will convert data types of values while comparing.\n",
    "- Example:"
   ]
  },
  {
   "cell_type": "code",
   "execution_count": null,
   "metadata": {},
   "outputs": [],
   "source": [
    "1 !=  2     // true\n",
    "1 != \"1\"    // false\n",
    "1 != '1'    // false\n",
    "1 != true   // false\n",
    "0 != false  // false"
   ]
  },
  {
   "cell_type": "markdown",
   "metadata": {},
   "source": [
    "### _Basic JavaScript: Comparison with the Strict Inequality Operator_"
   ]
  },
  {
   "cell_type": "markdown",
   "metadata": {},
   "source": [
    "- The strict inequality operator (`!==`) is the logical opposite of the strict equality operator. \n",
    "- It means \"Strictly Not Equal\" and returns`false` where strict equality would return `true` and vice versa. \n",
    "- Strict inequality will not convert data types."
   ]
  },
  {
   "cell_type": "code",
   "execution_count": null,
   "metadata": {},
   "outputs": [],
   "source": [
    "3 !==  3   // false\n",
    "3 !== '3'  // true\n",
    "4 !==  3   // true"
   ]
  },
  {
   "cell_type": "markdown",
   "metadata": {},
   "source": [
    "### _Basic JavaScript: Comparison with the Greater Than(>)/  Greater Than Or Equal To(>=)/  Less Than(<)/ Less Than Or Equal To(<=) Operator_"
   ]
  },
  {
   "cell_type": "markdown",
   "metadata": {},
   "source": [
    "- Greater Than(>)/  Greater Than Or Equal To(>=)/  Less Than(<)/ Less Than Or Equal To(<=) operator will convert data types while comparing."
   ]
  },
  {
   "cell_type": "markdown",
   "metadata": {},
   "source": [
    "### _Basic JavaScript: Comparisons with the Logical And Operator_"
   ]
  },
  {
   "cell_type": "markdown",
   "metadata": {},
   "source": [
    "- The logical and operator (`&&`) returns `true` if and only if the operands to the left and right of it are true.\n",
    "- Example:"
   ]
  },
  {
   "cell_type": "code",
   "execution_count": null,
   "metadata": {},
   "outputs": [],
   "source": [
    "if (num > 5 && num < 10) {\n",
    "  return \"Yes\";\n",
    "}\n",
    "return \"No\";"
   ]
  },
  {
   "cell_type": "markdown",
   "metadata": {},
   "source": [
    "### _Basic JavaScript: Comparisons with the Logical Or Operator_"
   ]
  },
  {
   "cell_type": "markdown",
   "metadata": {},
   "source": [
    "- The logical or operator (`||`) returns `true` if either of the operands is `true`. Otherwise, it returns `false`.\n",
    "\n",
    "- The logical or operator is composed of two pipe symbols: (`||`)."
   ]
  },
  {
   "cell_type": "markdown",
   "metadata": {},
   "source": [
    "### _Basic JavaScript: Introducing Else Statements_"
   ]
  },
  {
   "cell_type": "markdown",
   "metadata": {},
   "source": [
    "- Example:"
   ]
  },
  {
   "cell_type": "code",
   "execution_count": null,
   "metadata": {},
   "outputs": [],
   "source": [
    "if (num > 10) {\n",
    "  return \"Bigger than 10\";\n",
    "} else {\n",
    "  return \"10 or Less\";\n",
    "}"
   ]
  },
  {
   "cell_type": "markdown",
   "metadata": {},
   "source": [
    "### _Basic JavaScript: Introducing Else If Statements_"
   ]
  },
  {
   "cell_type": "markdown",
   "metadata": {},
   "source": [
    "- Example:"
   ]
  },
  {
   "cell_type": "code",
   "execution_count": null,
   "metadata": {},
   "outputs": [],
   "source": [
    "if (num > 15) {\n",
    "  return \"Bigger than 15\";\n",
    "} else if (num < 5) {\n",
    "  return \"Smaller than 5\";\n",
    "} else {\n",
    "  return \"Between 5 and 15\";\n",
    "}"
   ]
  },
  {
   "cell_type": "markdown",
   "metadata": {},
   "source": [
    "### _Basic JavaScript: Logical Order in If Else Statements_"
   ]
  },
  {
   "cell_type": "markdown",
   "metadata": {},
   "source": [
    "- Order is important in `if`, `else if` statements.\n",
    "\n",
    "- The function is executed from top to bottom so you will want to be careful of what statement comes first."
   ]
  },
  {
   "cell_type": "markdown",
   "metadata": {},
   "source": [
    "### _Basic JavaScript: Golf Code_"
   ]
  },
  {
   "cell_type": "markdown",
   "metadata": {},
   "source": [
    "- In the game of golf each hole has a `par` meaning the average number of `strokes` a golfer is expected to make in order to sink the ball in a hole to complete the play. Depending on how far above or below `par` your `strokes` are, there is a different nickname.\n",
    "\n",
    "- Your function will be passed `par` and `strokes` arguments. Return the correct string according to this table which lists the strokes in order of priority; top (highest) to bottom (lowest):\n",
    "\n",
    "| Strokes   | Return        |\n",
    "| :--------:| :------------:|\n",
    "| 1\t        | \"Hole-in-one!\"|\n",
    "| <= par - 2| \"Eagle\"       |\n",
    "| par - 1\t| \"Birdie\"      |\n",
    "| par\t    | \"Par\"         |\n",
    "| par + 1   | \"Bogey\"       |\n",
    "| par + 2   | \"Double Bogey\"|\n",
    "| >= par + 3| \"Go Home!\"    |"
   ]
  },
  {
   "cell_type": "markdown",
   "metadata": {},
   "source": [
    "#### Solution 1:"
   ]
  },
  {
   "cell_type": "code",
   "execution_count": null,
   "metadata": {},
   "outputs": [],
   "source": [
    "function golfScore(par, strokes) {\n",
    "  \n",
    "  if (strokes == 1) {\n",
    "    return \"Hole-in-one!\";\n",
    "  } else if (strokes <= par - 2) {\n",
    "    return \"Eagle\";\n",
    "  } else if (strokes == par - 1) {\n",
    "    return \"Birdie\";\n",
    "  } else if (strokes == par) {\n",
    "    return \"Par\";\n",
    "  } else if (strokes == par + 1) {\n",
    "    return \"Bogey\";\n",
    "  } else if (strokes == par + 2) {\n",
    "    return \"Double Bogey\";\n",
    "  } else {\n",
    "    return \"Go Home!\";\n",
    "  }\n",
    "  \n",
    "}\n",
    "// Change these values to test\n",
    "golfScore(5, 4);"
   ]
  },
  {
   "cell_type": "markdown",
   "metadata": {},
   "source": [
    "#### Solution 2:"
   ]
  },
  {
   "cell_type": "code",
   "execution_count": null,
   "metadata": {},
   "outputs": [],
   "source": [
    "var names = [\n",
    "  \"Hole-in-one!\",\n",
    "  \"Eagle\",\n",
    "  \"Birdie\",\n",
    "  \"Par\",\n",
    "  \"Bogey\",\n",
    "  \"Double Bogey\",\n",
    "  \"Go Home!\"\n",
    "];\n",
    "function golfScore(par, strokes) {\n",
    "  \n",
    "  if (strokes == 1) {\n",
    "    return names[0];\n",
    "  } else if (strokes <= par - 2) {\n",
    "    return names[1];\n",
    "  } else if (strokes == par - 1) {\n",
    "    return names[2];\n",
    "  } else if (strokes == par) {\n",
    "    return names[3];\n",
    "  } else if (strokes == par + 1) {\n",
    "    return names[4];\n",
    "  } else if (strokes == par + 2) {\n",
    "    return names[5];\n",
    "  } else {\n",
    "    return names[6];\n",
    "  }\n",
    "  \n",
    "}\n",
    "\n",
    "// Change these values to test\n",
    "golfScore(5, 4);"
   ]
  },
  {
   "cell_type": "markdown",
   "metadata": {},
   "source": [
    "#### Solution 3:"
   ]
  },
  {
   "cell_type": "code",
   "execution_count": null,
   "metadata": {},
   "outputs": [],
   "source": [
    "function golfScore(par, strokes) {\n",
    "  return strokes == 1\n",
    "    ? names[0]\n",
    "    : strokes <= par - 2\n",
    "    ? names[1]\n",
    "    : strokes == par - 1\n",
    "    ? names[2]\n",
    "    : strokes == par\n",
    "    ? names[3]\n",
    "    : strokes == par + 1\n",
    "    ? names[4]\n",
    "    : strokes == par + 2\n",
    "    ? names[5]\n",
    "    : strokes >= par + 3\n",
    "    ? names[6]\n",
    "    : \"Change Me\";\n",
    "}"
   ]
  },
  {
   "cell_type": "markdown",
   "metadata": {},
   "source": [
    "### _Basic JavaScript: Selecting from Many Options with Switch Statements_"
   ]
  },
  {
   "cell_type": "markdown",
   "metadata": {},
   "source": [
    "- If you have many options to choose from, use a switch statement. \n",
    "- A `switch` statement tests a value and can have many case statements which define various possible values. \n",
    "- Statements are executed from the first matched `case` value until a `break` is encountered.\n",
    "- `case` values are tested with strict equality (`===`). The `break` tells JavaScript to stop executing statements. If the `break` is omitted, the next statement will be executed.\n",
    "- Example:"
   ]
  },
  {
   "cell_type": "code",
   "execution_count": null,
   "metadata": {},
   "outputs": [],
   "source": [
    "switch(lowercaseLetter) {\n",
    "  case \"a\":\n",
    "    console.log(\"A\");\n",
    "    break;\n",
    "  case \"b\":\n",
    "    console.log(\"B\");\n",
    "    break;\n",
    "}"
   ]
  },
  {
   "cell_type": "markdown",
   "metadata": {},
   "source": [
    "### _Basic JavaScript: Adding a Default Option in Switch Statements_"
   ]
  },
  {
   "cell_type": "markdown",
   "metadata": {},
   "source": [
    "- You can add the `default` statement which will be executed if no matching `case` statements are found. Think of it like the final `else` statement in an `if/else` chain.\n",
    "\n",
    "- A `default` statement should be the last case."
   ]
  },
  {
   "cell_type": "code",
   "execution_count": null,
   "metadata": {},
   "outputs": [],
   "source": [
    "switch (num) {\n",
    "  case value1:\n",
    "    statement1;\n",
    "    break;\n",
    "  case value2:\n",
    "    statement2;\n",
    "    break;\n",
    "...\n",
    "  default:\n",
    "    defaultStatement;\n",
    "    break;\n",
    "}"
   ]
  },
  {
   "cell_type": "markdown",
   "metadata": {},
   "source": [
    "### _Basic JavaScript: Multiple Identical Options in Switch Statements_"
   ]
  },
  {
   "cell_type": "markdown",
   "metadata": {},
   "source": [
    "- If you have multiple inputs with the same output, you can represent them in a `switch` statement like this:"
   ]
  },
  {
   "cell_type": "code",
   "execution_count": null,
   "metadata": {},
   "outputs": [],
   "source": [
    "switch(val) {\n",
    "  case 1:\n",
    "  case 2:\n",
    "  case 3:\n",
    "    result = \"1, 2, or 3\";\n",
    "    break;\n",
    "  case 4:\n",
    "    result = \"4 alone\";\n",
    "}"
   ]
  },
  {
   "cell_type": "markdown",
   "metadata": {},
   "source": [
    "### _Basic JavaScript: Replacing If Else Chains with Switch_"
   ]
  },
  {
   "cell_type": "markdown",
   "metadata": {},
   "source": [
    "- If you have many options to choose from, a `switch` statement can be easier to write than many chained `if/else if` statements. The following:"
   ]
  },
  {
   "cell_type": "code",
   "execution_count": null,
   "metadata": {},
   "outputs": [],
   "source": [
    "if (val === 1) {\n",
    "  answer = \"a\";\n",
    "} else if (val === 2) {\n",
    "  answer = \"b\";\n",
    "} else {\n",
    "  answer = \"c\";\n",
    "}"
   ]
  },
  {
   "cell_type": "markdown",
   "metadata": {},
   "source": [
    "- can be replaced with:"
   ]
  },
  {
   "cell_type": "code",
   "execution_count": null,
   "metadata": {},
   "outputs": [],
   "source": [
    "switch(val) {\n",
    "  case 1:\n",
    "    answer = \"a\";\n",
    "    break;\n",
    "  case 2:\n",
    "    answer = \"b\";\n",
    "    break;\n",
    "  default:\n",
    "    answer = \"c\";\n",
    "}"
   ]
  },
  {
   "cell_type": "markdown",
   "metadata": {},
   "source": [
    "### _Basic JavaScript: Returning Boolean Values from Functions_"
   ]
  },
  {
   "cell_type": "markdown",
   "metadata": {},
   "source": [
    "- Sometimes people use an if/else statement to do a comparison, like this:"
   ]
  },
  {
   "cell_type": "code",
   "execution_count": null,
   "metadata": {},
   "outputs": [],
   "source": [
    "function isEqual(a,b) {\n",
    "  if (a === b) {\n",
    "    return true;\n",
    "  } else {\n",
    "    return false;\n",
    "  }\n",
    "}"
   ]
  },
  {
   "cell_type": "markdown",
   "metadata": {},
   "source": [
    "- But there's a better way to do this. Since `===` returns `true` or `false`, we can return the result of the comparison:"
   ]
  },
  {
   "cell_type": "code",
   "execution_count": null,
   "metadata": {},
   "outputs": [],
   "source": [
    "function isEqual(a,b) {\n",
    "  return a === b;\n",
    "}"
   ]
  },
  {
   "cell_type": "markdown",
   "metadata": {},
   "source": [
    "### _Basic JavaScript: Return Early Pattern for Functions_"
   ]
  },
  {
   "cell_type": "markdown",
   "metadata": {},
   "source": [
    "- When a `return` statement is reached, the execution of the current function stops and control returns to the calling location.\n",
    "- Example:"
   ]
  },
  {
   "cell_type": "code",
   "execution_count": null,
   "metadata": {},
   "outputs": [],
   "source": [
    "function myFun() {\n",
    "  console.log(\"Hello\");\n",
    "  return \"World\";\n",
    "  console.log(\"byebye\")\n",
    "}\n",
    "myFun();"
   ]
  },
  {
   "cell_type": "markdown",
   "metadata": {},
   "source": [
    "- The above outputs \"Hello\" to the console, returns \"World\", but `\"byebye\"` is never output, because the function exits at the `return` statement."
   ]
  },
  {
   "cell_type": "code",
   "execution_count": null,
   "metadata": {},
   "outputs": [],
   "source": []
  },
  {
   "cell_type": "code",
   "execution_count": null,
   "metadata": {},
   "outputs": [],
   "source": []
  },
  {
   "cell_type": "code",
   "execution_count": null,
   "metadata": {},
   "outputs": [],
   "source": []
  },
  {
   "cell_type": "code",
   "execution_count": null,
   "metadata": {},
   "outputs": [],
   "source": []
  },
  {
   "cell_type": "code",
   "execution_count": null,
   "metadata": {},
   "outputs": [],
   "source": []
  },
  {
   "cell_type": "code",
   "execution_count": null,
   "metadata": {},
   "outputs": [],
   "source": []
  },
  {
   "cell_type": "code",
   "execution_count": null,
   "metadata": {},
   "outputs": [],
   "source": []
  },
  {
   "cell_type": "code",
   "execution_count": null,
   "metadata": {},
   "outputs": [],
   "source": []
  },
  {
   "cell_type": "code",
   "execution_count": null,
   "metadata": {},
   "outputs": [],
   "source": []
  },
  {
   "cell_type": "code",
   "execution_count": null,
   "metadata": {},
   "outputs": [],
   "source": []
  },
  {
   "cell_type": "code",
   "execution_count": null,
   "metadata": {},
   "outputs": [],
   "source": []
  },
  {
   "cell_type": "code",
   "execution_count": null,
   "metadata": {},
   "outputs": [],
   "source": []
  }
 ],
 "metadata": {
  "kernelspec": {
   "display_name": "Python 3",
   "language": "python",
   "name": "python3"
  },
  "language_info": {
   "codemirror_mode": {
    "name": "ipython",
    "version": 3
   },
   "file_extension": ".py",
   "mimetype": "text/x-python",
   "name": "python",
   "nbconvert_exporter": "python",
   "pygments_lexer": "ipython3",
   "version": "3.7.4"
  }
 },
 "nbformat": 4,
 "nbformat_minor": 2
}
