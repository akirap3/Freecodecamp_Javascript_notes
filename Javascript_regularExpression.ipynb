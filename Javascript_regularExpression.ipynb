{
 "cells": [
  {
   "cell_type": "markdown",
   "metadata": {},
   "source": [
    "## _Introduction to the Regular Expression Challenges_\n",
    "### _This is note of regular expression from freecodecamp_"
   ]
  },
  {
   "cell_type": "markdown",
   "metadata": {},
   "source": [
    "- Regular expressions are special strings that represent a search pattern. Also known as \"regex\" or \"regexp\", they help programmers match, search, and replace text. \n",
    "- Regular expressions can appear cryptic because a few characters have special meaning. \n",
    "- The goal is to combine the symbols and text into a pattern that matches what you want, but only what you want. "
   ]
  },
  {
   "cell_type": "markdown",
   "metadata": {},
   "source": [
    "### _Regular Expressions: Using the Test Method_"
   ]
  },
  {
   "cell_type": "markdown",
   "metadata": {},
   "source": [
    "- JavaScript has multiple ways to use regexes. One way to test a regex is using the `.test()` method. The `.test()` method takes the regex, applies it to a string (which is placed inside the parentheses), and returns `true` or `false` if your pattern finds something or not."
   ]
  },
  {
   "cell_type": "code",
   "execution_count": null,
   "metadata": {},
   "outputs": [],
   "source": [
    "let testStr = \"freeCodeCamp\";\n",
    "let testRegex = /Code/;\n",
    "testRegex.test(testStr);\n",
    "// Returns true"
   ]
  },
  {
   "cell_type": "markdown",
   "metadata": {},
   "source": [
    "### _Regular Expressions: Match a Literal String with Different Possibilities_"
   ]
  },
  {
   "cell_type": "markdown",
   "metadata": {},
   "source": [
    "- You can search for multiple patterns using the `alternation` or `OR` operator: `|`.\n",
    "- Example:"
   ]
  },
  {
   "cell_type": "code",
   "execution_count": null,
   "metadata": {},
   "outputs": [],
   "source": [
    "let petString = \"James has a pet cat.\";\n",
    "let petRegex = /dog|cat|bird|fish/;\n",
    "let result = petRegex.test(petString);"
   ]
  },
  {
   "cell_type": "markdown",
   "metadata": {},
   "source": [
    "### _Regular Expressions: Ignore Case While Matching_"
   ]
  },
  {
   "cell_type": "markdown",
   "metadata": {},
   "source": [
    "- You can match both cases using what is called a flag. \n",
    "- There are other flags but here you'll focus on the flag that ignores case - the `i` flag.\n",
    "- You can use it by appending it to the regex. An example of using this flag is `/ignorecase/i`. This regex can match the strings `\"ignorecase\"`, `\"igNoreCase\"`, and `\"IgnoreCase\"`.\n",
    "- Example: Write a regex fccRegex to match \"freeCodeCamp\", no matter its case. "
   ]
  },
  {
   "cell_type": "code",
   "execution_count": null,
   "metadata": {},
   "outputs": [],
   "source": [
    "let myString = \"freeCodeCamp\";\n",
    "let fccRegex = /freeCodeCamp/i;\n",
    "let result = fccRegex.test(myString);"
   ]
  },
  {
   "cell_type": "markdown",
   "metadata": {},
   "source": [
    "### _Regular Expressions: Extract Matches_"
   ]
  },
  {
   "cell_type": "markdown",
   "metadata": {},
   "source": [
    "- To use the .match() method, apply the method on a string and pass in the regex inside the parentheses.\n",
    "- Example:"
   ]
  },
  {
   "cell_type": "code",
   "execution_count": null,
   "metadata": {},
   "outputs": [],
   "source": [
    "\"Hello, World!\".match(/Hello/);\n",
    "// Returns [\"Hello\"]\n",
    "let ourStr = \"Regular expressions\";\n",
    "let ourRegex = /expressions/;\n",
    "ourStr.match(ourRegex);\n",
    "// Returns [\"expressions\"]"
   ]
  },
  {
   "cell_type": "markdown",
   "metadata": {},
   "source": [
    "### _Regular Expressions: Find More Than the First Match_"
   ]
  },
  {
   "cell_type": "markdown",
   "metadata": {},
   "source": [
    "- To search or extract a pattern more than once, you can use the `g` flag.\n",
    "- Example:"
   ]
  },
  {
   "cell_type": "code",
   "execution_count": null,
   "metadata": {},
   "outputs": [],
   "source": [
    "let testStr = \"Repeat, Repeat, Repeat\";\n",
    "let repeatRegex = /Repeat/g;\n",
    "testStr.match(repeatRegex);\n",
    "// Returns [\"Repeat\", \"Repeat\", \"Repeat\"]"
   ]
  },
  {
   "cell_type": "markdown",
   "metadata": {},
   "source": [
    "### _Regular Expressions: Match Anything with Wildcard Period_"
   ]
  },
  {
   "cell_type": "markdown",
   "metadata": {},
   "source": [
    "- The wildcard character `.` will match any one character. The wildcard is also called `dot` and `period`. \n",
    "- You can use the wildcard character just like any other character in the regex. For example, if you wanted to match `\"hug\"`, `\"huh\"`, `\"hut\"`, and `\"hum\"`, you can use the regex `/hu./` to match all four words.\n",
    "- Example:"
   ]
  },
  {
   "cell_type": "code",
   "execution_count": null,
   "metadata": {},
   "outputs": [],
   "source": [
    "let humStr = \"I'll hum a song\";\n",
    "let hugStr = \"Bear hug\";\n",
    "let huRegex = /hu./;\n",
    "huRegex.test(humStr); // Returns true\n",
    "huRegex.test(hugStr); // Returns true"
   ]
  },
  {
   "cell_type": "markdown",
   "metadata": {},
   "source": [
    "### _Regular Expressions: Match Single Character with Multiple Possibilities_"
   ]
  },
  {
   "cell_type": "markdown",
   "metadata": {},
   "source": [
    "- You can search for a literal pattern with some flexibility with character classes. Character classes allow you to define a group of characters you wish to match by placing them inside square ([ and ]) brackets.\n",
    "- Example: "
   ]
  },
  {
   "cell_type": "code",
   "execution_count": null,
   "metadata": {},
   "outputs": [],
   "source": [
    "let bigStr = \"big\";\n",
    "let bagStr = \"bag\";\n",
    "let bugStr = \"bug\";\n",
    "let bogStr = \"bog\";\n",
    "let bgRegex = /b[aiu]g/;\n",
    "bigStr.match(bgRegex); // Returns [\"big\"]\n",
    "bagStr.match(bgRegex); // Returns [\"bag\"]\n",
    "bugStr.match(bgRegex); // Returns [\"bug\"]\n",
    "bogStr.match(bgRegex); // Returns null"
   ]
  },
  {
   "cell_type": "markdown",
   "metadata": {},
   "source": [
    "### _Regular Expressions: Match Letters of the Alphabet_"
   ]
  },
  {
   "cell_type": "markdown",
   "metadata": {},
   "source": [
    "- Inside a character set, you can define a range of characters to match using a hyphen character: `-`.\n",
    "- Example:"
   ]
  },
  {
   "cell_type": "code",
   "execution_count": null,
   "metadata": {},
   "outputs": [],
   "source": [
    "let catStr = \"cat\";\n",
    "let batStr = \"bat\";\n",
    "let matStr = \"mat\";\n",
    "let bgRegex = /[a-e]at/;\n",
    "catStr.match(bgRegex); // Returns [\"cat\"]\n",
    "batStr.match(bgRegex); // Returns [\"bat\"]\n",
    "matStr.match(bgRegex); // Returns null"
   ]
  },
  {
   "cell_type": "markdown",
   "metadata": {},
   "source": [
    "### _Regular Expressions: Match Numbers and Letters of the Alphabet_"
   ]
  },
  {
   "cell_type": "markdown",
   "metadata": {},
   "source": [
    "-  it is possible to combine a range of letters and numbers in a single character set.\n",
    "- Example: "
   ]
  },
  {
   "cell_type": "code",
   "execution_count": null,
   "metadata": {},
   "outputs": [],
   "source": [
    "let jennyStr = \"Jenny8675309\";\n",
    "let myRegex = /[a-z0-9]/ig;\n",
    "// matches all letters and numbers in jennyStr\n",
    "jennyStr.match(myRegex);"
   ]
  },
  {
   "cell_type": "markdown",
   "metadata": {},
   "source": [
    "### _Regular Expressions: Match Single Characters Not Specified_"
   ]
  },
  {
   "cell_type": "markdown",
   "metadata": {},
   "source": [
    "- These types of character sets are called negated character sets.\n",
    "- To create a negated character set, you place a caret character (`^`) after the opening bracket and before the characters you do not want to match.\n",
    "- For example, `/[^aeiou]/gi` matches all characters that are not a vowel. Note that characters like `.`, `!`, `[`, `@`, `/` and white space are matched - the negated vowel character set only excludes the vowel characters.\n",
    "- Example: Create a single regex that matches all characters that are not a number or a vowel."
   ]
  },
  {
   "cell_type": "code",
   "execution_count": null,
   "metadata": {},
   "outputs": [],
   "source": [
    "let quoteSample = \"3 blind mice.\";\n",
    "let myRegex = /[^aeiou^0-9]/gi; // Change this line\n",
    "let result = quoteSample.match(myRegex); // Change this line"
   ]
  },
  {
   "cell_type": "markdown",
   "metadata": {},
   "source": [
    "### _Regular Expressions: Match Characters that Occur One or More Times_"
   ]
  },
  {
   "cell_type": "markdown",
   "metadata": {},
   "source": [
    "- Sometimes, you need to match a character (or group of characters) that appears one or more times in a row.\n",
    "- You can use the + character to check if that is the case. Remember, the character or pattern has to be present consecutively. \n",
    "- For example, `/a+/g` would find one match in `\"abc\"` and return `[\"a\"]`. Because of the `+`, it would also find a single match in `\"aabc\"`and return `[\"aa\"]`.\n",
    "- Example: You want to find matches when the letter `s` occurs one or more times in `\"Mississippi\"`. Write a regex that uses the `+` sign."
   ]
  },
  {
   "cell_type": "code",
   "execution_count": null,
   "metadata": {},
   "outputs": [],
   "source": [
    "let difficultSpelling = \"Mississippi\";\n",
    "let myRegex = /s+/g; // this is the solution\n",
    "let result = difficultSpelling.match(myRegex);"
   ]
  },
  {
   "cell_type": "markdown",
   "metadata": {},
   "source": [
    "### _Regular Expressions: Match Characters that Occur Zero or More Times_"
   ]
  },
  {
   "cell_type": "markdown",
   "metadata": {},
   "source": [
    "- The character to do this is the asterisk or star: `*`."
   ]
  },
  {
   "cell_type": "code",
   "execution_count": null,
   "metadata": {},
   "outputs": [],
   "source": [
    "let soccerWord = \"gooooooooal!\";\n",
    "let gPhrase = \"gut feeling\";\n",
    "let oPhrase = \"over the moon\";\n",
    "let goRegex = /go*/;\n",
    "soccerWord.match(goRegex); // Returns [\"goooooooo\"]\n",
    "gPhrase.match(goRegex); // Returns [\"g\"]\n",
    "oPhrase.match(goRegex); // Returns null"
   ]
  },
  {
   "cell_type": "markdown",
   "metadata": {},
   "source": [
    "### _Regular Expressions: Find Characters with Lazy Matching_"
   ]
  },
  {
   "cell_type": "markdown",
   "metadata": {},
   "source": [
    "- In regular expressions, a greedy match finds the longest possible part of a string that fits the regex pattern and returns it as a match. The alternative is called a lazy match, which finds the smallest possible part of the string that satisfies the regex pattern.\n",
    "- you can use the `?` character to change it to lazy matching. `\"titanic\"` matched against the adjusted regex of `/t[a-z]*?i/` returns `[\"ti\"]`.\n",
    "- Note: Parsing HTML with regular expressions should be avoided, but pattern matching an HTML string with regular expressions is completely fine.\n",
    "\n",
    "- Example: Fix the regex `/<.*>/` to return the HTML tag `<h1>` and not the text `\"<h1>Winter is coming</h1>\"`. Remember the wildcard `.` in a regular expression matches any character."
   ]
  },
  {
   "cell_type": "code",
   "execution_count": null,
   "metadata": {},
   "outputs": [],
   "source": [
    "let text = \"<h1>Winter is coming</h1>\";\n",
    "let myRegex = /<.*?>/; // it's the answer!\n",
    "let result = text.match(myRegex);"
   ]
  },
  {
   "cell_type": "markdown",
   "metadata": {},
   "source": [
    "### _Regular Expressions: Match Beginning String Patterns_"
   ]
  },
  {
   "cell_type": "markdown",
   "metadata": {},
   "source": [
    "- you used the caret character (`^`) inside a character set to create a negated character set in the form `[^thingsThatWillNotBeMatched]`. Outside of a character set, the caret is used to search for patterns at the beginning of strings.\n",
    "- Example: "
   ]
  },
  {
   "cell_type": "code",
   "execution_count": null,
   "metadata": {},
   "outputs": [],
   "source": [
    "let firstString = \"Ricky is first and can be found.\";\n",
    "let firstRegex = /^Ricky/;\n",
    "firstRegex.test(firstString);\n",
    "// Returns true\n",
    "let notFirst = \"You can't find Ricky now.\";\n",
    "firstRegex.test(notFirst);\n",
    "// Returns false"
   ]
  },
  {
   "cell_type": "markdown",
   "metadata": {},
   "source": [
    "### _Regular Expressions: Match Ending String Patterns_"
   ]
  },
  {
   "cell_type": "markdown",
   "metadata": {},
   "source": [
    "- You can search the end of strings using the dollar sign character `$` at the end of the regex.\n",
    "- Example: "
   ]
  },
  {
   "cell_type": "code",
   "execution_count": null,
   "metadata": {},
   "outputs": [],
   "source": [
    "let theEnding = \"This is a never ending story\";\n",
    "let storyRegex = /story$/;\n",
    "storyRegex.test(theEnding);\n",
    "// Returns true\n",
    "let noEnding = \"Sometimes a story will have to end\";\n",
    "storyRegex.test(noEnding);\n",
    "// Returns false"
   ]
  },
  {
   "cell_type": "markdown",
   "metadata": {},
   "source": [
    "### _Regular Expressions: Match All Letters and Numbers_"
   ]
  },
  {
   "cell_type": "markdown",
   "metadata": {},
   "source": [
    "- The closest character class in JavaScript to match the alphabet is `\\w`. This shortcut is equal to `[A-Za-z0-9_]`. This character class matches upper and lowercase letters plus numbers. Note, this character class also includes the underscore character (`_`).\n",
    "- Example: "
   ]
  },
  {
   "cell_type": "code",
   "execution_count": null,
   "metadata": {},
   "outputs": [],
   "source": [
    "let longHand = /[A-Za-z0-9_]+/;\n",
    "let shortHand = /\\w+/;\n",
    "let numbers = \"42\";\n",
    "let varNames = \"important_var\";\n",
    "longHand.test(numbers); // Returns true\n",
    "shortHand.test(numbers); // Returns true\n",
    "longHand.test(varNames); // Returns true\n",
    "shortHand.test(varNames); // Returns true"
   ]
  },
  {
   "cell_type": "markdown",
   "metadata": {},
   "source": [
    "### _Regular Expressions: Match Everything But Letters and Numbers_"
   ]
  },
  {
   "cell_type": "markdown",
   "metadata": {},
   "source": [
    "- You can search for the opposite of the `\\w` with `\\W`. Note, the opposite pattern uses a capital letter. This shortcut is the same as `[^A-Za-z0-9_]`."
   ]
  },
  {
   "cell_type": "code",
   "execution_count": null,
   "metadata": {},
   "outputs": [],
   "source": [
    "let shortHand = /\\W/;\n",
    "let numbers = \"42%\";\n",
    "let sentence = \"Coding!\";\n",
    "numbers.match(shortHand); // Returns [\"%\"]\n",
    "sentence.match(shortHand); // Returns [\"!\"]"
   ]
  },
  {
   "cell_type": "markdown",
   "metadata": {},
   "source": [
    "### _Regular Expressions: Match All Numbers_"
   ]
  },
  {
   "cell_type": "markdown",
   "metadata": {},
   "source": [
    "- The shortcut to look for digit characters is `\\d`, with a lowercase d. This is equal to the character class `[0-9]`, which looks for a single character of any number between zero and nine."
   ]
  },
  {
   "cell_type": "markdown",
   "metadata": {},
   "source": [
    "### _Regular Expressions: Match All Non-Numbers_"
   ]
  },
  {
   "cell_type": "markdown",
   "metadata": {},
   "source": [
    "- `\\D` is equal to `[^0-9]`, which look for a single character that is not a number between zero and nine\n",
    "- Example : Use the shorthand character class for non-digits `\\D` to count how many non-digits are in movie titles."
   ]
  },
  {
   "cell_type": "code",
   "execution_count": null,
   "metadata": {},
   "outputs": [],
   "source": [
    "let movieName = \"2001: A Space Odyssey\";\n",
    "let noNumRegex = /\\D/g;\n",
    "let result = movieName.match(noNumRegex).length;"
   ]
  },
  {
   "cell_type": "markdown",
   "metadata": {},
   "source": [
    "### <i>Regaular Expressions: Restrict Possible Usernames</i>"
   ]
  },
  {
   "cell_type": "markdown",
   "metadata": {},
   "source": [
    "- some simple rules that users have to follow when creating their username"
   ]
  },
  {
   "cell_type": "markdown",
   "metadata": {},
   "source": [
    "1. Usernames can only use alpha-numeric characters\n",
    "2. The only numbers in the username have to be at the end. There can be zero or more of them at the end. Username cannot start with the number.\n",
    "3. Username letters can be lowercase and uppercase.\n",
    "4. Usernames have to be at least two characters long. A two-character username can only use alphabet letters as characters."
   ]
  },
  {
   "cell_type": "markdown",
   "metadata": {},
   "source": [
    "- Example: Change the regex userCheck to fit the constraints listed above."
   ]
  },
  {
   "cell_type": "markdown",
   "metadata": {},
   "source": [
    "##### Solution 1"
   ]
  },
  {
   "cell_type": "markdown",
   "metadata": {},
   "source": [
    "1. ^ - start of input\n",
    "2. [a-z] - first character is a letter\n",
    "3. [0-9][0-9]+ - ends with two or more numbers\n",
    "4. | - or\n",
    "5. [a-z]+ - has one or more letters next\n",
    "6. \\d* - and ends with zero or more numbers\n",
    "7. $ - end of input\n",
    "8. i - ignore case of input"
   ]
  },
  {
   "cell_type": "code",
   "execution_count": null,
   "metadata": {},
   "outputs": [],
   "source": [
    "let username = \"JackOfAllTrades\";\n",
    "let userCheck = /^[a-z]([0-9][0-9]+|[a-z]+\\d*)$/i;\n",
    "let result = userCheck.test(username);"
   ]
  },
  {
   "cell_type": "markdown",
   "metadata": {},
   "source": [
    "##### Solution 2"
   ]
  },
  {
   "cell_type": "markdown",
   "metadata": {},
   "source": [
    "1. ^ - start of input\n",
    "2. [a-z] - first character is a letter\n",
    "3. [0-9]{2,0} - ends with two or more numbers\n",
    "4. | - or\n",
    "5. [a-z]+ - has one or more letters next\n",
    "6. \\d* - and ends with zero or more numbers\n",
    "7. $ - end of input\n",
    "8. i - ignore case of input"
   ]
  },
  {
   "cell_type": "code",
   "execution_count": null,
   "metadata": {},
   "outputs": [],
   "source": [
    "let username = \"JackOfAllTrades\";\n",
    "const userCheck = /^[a-z]([0-9]{2,}|[a-z]+\\d*)$/i;\n",
    "let result = userCheck.test(username);"
   ]
  },
  {
   "cell_type": "markdown",
   "metadata": {},
   "source": [
    "### <i>Regular Expressions: Match Whitespace</i>"
   ]
  },
  {
   "cell_type": "markdown",
   "metadata": {},
   "source": [
    "- You can search for whitespace using `\\s`, which is a lowercase `s`. This pattern not only matches whitespace, but also carriage return, tab, form feed, and new line characters. You can think of it as similar to the character class` [ \\r\\t\\f\\n\\v]`."
   ]
  },
  {
   "cell_type": "markdown",
   "metadata": {},
   "source": [
    "#### Example: Change the regex `countWhiteSpace` to look for multiple whitespace characters in a string.\n"
   ]
  },
  {
   "cell_type": "code",
   "execution_count": null,
   "metadata": {},
   "outputs": [],
   "source": [
    "let sample = \"Whitespace is important in separating words\";\n",
    "let countWhiteSpace = /\\s/g; \n",
    "let result = sample.match(countWhiteSpace);"
   ]
  },
  {
   "cell_type": "markdown",
   "metadata": {},
   "source": [
    "### _Regular Expressions: Match Non-Whitespace Characters_"
   ]
  },
  {
   "cell_type": "markdown",
   "metadata": {},
   "source": [
    "- Search for non-whitespace using `\\S`, which is an uppercase `s`."
   ]
  },
  {
   "cell_type": "markdown",
   "metadata": {},
   "source": [
    "- Example: Change the regex countNonWhiteSpace to look for multiple non-whitespace characters in a string."
   ]
  },
  {
   "cell_type": "code",
   "execution_count": null,
   "metadata": {},
   "outputs": [],
   "source": [
    "let sample = \"Whitespace is important in separating words\";\n",
    "let countNonWhiteSpace = /\\S/g; \n",
    "let result = sample.match(countNonWhiteSpace);"
   ]
  },
  {
   "cell_type": "markdown",
   "metadata": {},
   "source": [
    "### _Regular Expressions: Specify Upper and Lower Number of Matches_"
   ]
  },
  {
   "cell_type": "markdown",
   "metadata": {},
   "source": [
    "- You can specify the lower and upper number of patterns with quantity specifiers. Quantity specifiers are used with curly brackets (`{` and `}`). You put two numbers between the curly brackets - for the lower and upper number of patterns."
   ]
  },
  {
   "cell_type": "markdown",
   "metadata": {},
   "source": [
    "- Example: Change the regex `ohRegex` to match the entire phrase `\"Oh no\"` only when it has `3` to `6` letter `h`'s."
   ]
  },
  {
   "cell_type": "code",
   "execution_count": null,
   "metadata": {},
   "outputs": [],
   "source": [
    "let ohStr = \"Ohhh no\";\n",
    "let ohRegex = /Oh{3,6}\\sno/; \n",
    "let result = ohRegex.test(ohStr);"
   ]
  },
  {
   "cell_type": "markdown",
   "metadata": {},
   "source": [
    "### _Regular Expressions: Specify Only the Lower Number of Matches_"
   ]
  },
  {
   "cell_type": "markdown",
   "metadata": {},
   "source": [
    "- Sometimes you only want to specify the lower number of patterns with no upper limit.\n",
    "- To only specify the lower number of patterns, keep the first number followed by a comma.\n",
    "- For example, to match only the string `\"hah\"` with the letter `a` appearing at least `3` times, your regex would be `/ha{3,}h/`."
   ]
  },
  {
   "cell_type": "code",
   "execution_count": null,
   "metadata": {},
   "outputs": [],
   "source": [
    "let A4 = \"haaaah\";\n",
    "let A2 = \"haah\";\n",
    "let A100 = \"h\" + \"a\".repeat(100) + \"h\";\n",
    "let multipleA = /ha{3,}h/;\n",
    "multipleA.test(A4); // Returns true\n",
    "multipleA.test(A2); // Returns false\n",
    "multipleA.test(A100); // Returns true"
   ]
  },
  {
   "cell_type": "markdown",
   "metadata": {},
   "source": [
    "### _Regular Expressions: Specify Exact Number of Matches_"
   ]
  },
  {
   "cell_type": "markdown",
   "metadata": {},
   "source": [
    "- Sometimes you only want a specific number of matches.\n",
    "- Example: Change the regex `timRegex` to match the word `\"Timber\"` only when it has four letter `m`'s."
   ]
  },
  {
   "cell_type": "code",
   "execution_count": null,
   "metadata": {},
   "outputs": [],
   "source": [
    "let timStr = \"Timmmmber\";\n",
    "let timRegex = /Tim{4}ber/;\n",
    "let result = timRegex.test(timStr);"
   ]
  },
  {
   "cell_type": "markdown",
   "metadata": {},
   "source": [
    "### _Regular Expressions: Check for All or None_"
   ]
  },
  {
   "cell_type": "markdown",
   "metadata": {},
   "source": [
    "- You can specify the possible existence of an element with a question mark, `?`. This checks for zero or one of the preceding element. You can think of this symbol as saying the previous element is optional.\n",
    "- Example: there are slight differences in American and British English and you can use the question mark to match both spellings."
   ]
  },
  {
   "cell_type": "code",
   "execution_count": null,
   "metadata": {},
   "outputs": [],
   "source": [
    "let american = \"color\";\n",
    "let british = \"colour\";\n",
    "let rainbowRegex= /colou?r/;\n",
    "rainbowRegex.test(american); // Returns true\n",
    "rainbowRegex.test(british); // Returns true"
   ]
  },
  {
   "cell_type": "markdown",
   "metadata": {},
   "source": [
    "### _Regular Expressions: Positive and Negative Lookahead_"
   ]
  },
  {
   "cell_type": "markdown",
   "metadata": {},
   "source": [
    "- Lookaheads are patterns that tell JavaScript to look-ahead in your string to check for patterns further along. This can be useful when you want to search for multiple patterns over the same string.\n",
    "- A positive lookahead will look to make sure the element in the search pattern is there, but won't actually match it. A positive lookahead is used as `(?=...)` where the `...` is the required part that is not matched.\n",
    "- On the other hand, a negative lookahead will look to make sure the element in the search pattern is not there. A negative lookahead is used as `(?!...)` where the `...` is the pattern that you do not want to be there. The rest of the pattern is returned if the negative lookahead part is not present.\n",
    "- Example 1:"
   ]
  },
  {
   "cell_type": "code",
   "execution_count": null,
   "metadata": {},
   "outputs": [],
   "source": [
    "let quit = \"qu\";\n",
    "let noquit = \"qt\";\n",
    "let quRegex= /q(?=u)/;\n",
    "let qRegex = /q(?!u)/;\n",
    "quit.match(quRegex); // Returns [\"q\"]\n",
    "noquit.match(qRegex); // Returns [\"q\"]"
   ]
  },
  {
   "cell_type": "markdown",
   "metadata": {},
   "source": [
    "- Example 2: A more practical use of lookaheads is to check two or more patterns in one string. Here is a (naively) simple password checker that looks for between 3 and 6 characters and at least one number:"
   ]
  },
  {
   "cell_type": "code",
   "execution_count": null,
   "metadata": {},
   "outputs": [],
   "source": [
    "let password = \"abc123\";\n",
    "let checkPass = /(?=\\w{3,6})(?=\\D*\\d)/;\n",
    "checkPass.test(password); // Returns true"
   ]
  },
  {
   "cell_type": "markdown",
   "metadata": {},
   "source": [
    "- Example 3: Use lookaheads in the pwRegex to match passwords that are greater than 5 characters long, do not begin with numbers, and have two consecutive digits."
   ]
  },
  {
   "cell_type": "code",
   "execution_count": null,
   "metadata": {},
   "outputs": [],
   "source": [
    "let sampleWord = \"astronaut\";\n",
    "var pwRegex =  /^\\D(?=\\w{5})(?=\\w*\\d{2})/;\n",
    "let result = pwRegex.test(sampleWord);"
   ]
  },
  {
   "cell_type": "markdown",
   "metadata": {},
   "source": [
    "### _Regular Expressions: Check For Mixed Grouping of Characters_"
   ]
  },
  {
   "cell_type": "markdown",
   "metadata": {},
   "source": [
    "- Sometimes we want to check for groups of characters using a Regular Expression and to achieve that we use parentheses ().\n",
    "- Example: \n",
    "    + Fix the regex so that it checks for the names of `Franklin Roosevelt` or `leanor Roosevelt` in a case sensitive manner and it should make concessions for middle names.\n",
    "    + Then fix the code so that the regex that you have created is checked against `myString` and either `true` or `false` is returned depending on whether the regex matches."
   ]
  },
  {
   "cell_type": "code",
   "execution_count": null,
   "metadata": {},
   "outputs": [],
   "source": [
    "let myString = \"Eleanor Roosevelt\";\n",
    "let myRegex = /(Franklin|Eleanor).*Roosevelt/;\n",
    "let result = myRegex.test(myString);"
   ]
  },
  {
   "cell_type": "markdown",
   "metadata": {},
   "source": [
    "### _Regular Expressions: Reuse Patterns Using Capture Groups_"
   ]
  },
  {
   "cell_type": "markdown",
   "metadata": {},
   "source": [
    "- Some patterns you search for will occur multiple times in a string. It is wasteful to manually repeat that regex. There is a better way to specify when you have multiple repeat substrings in your string.\n",
    "- You can search for repeat substrings using capture groups. Parentheses, `(` and `)`, are used to find repeat substrings. You put the regex of the pattern that will repeat in between the parentheses.\n",
    "- To specify where that repeat string will appear, you use a backslash (`\\`) and then a number. This number starts at 1 and increases with each additional capture group you use. An example would be `\\1` to match the first group."
   ]
  },
  {
   "cell_type": "markdown",
   "metadata": {},
   "source": [
    "#### Note: `\\1` stand for the first capture group `( )`, `\\2` stand for the second capture group `( )`"
   ]
  },
  {
   "cell_type": "markdown",
   "metadata": {},
   "source": [
    "- Example: Use capture groups in reRegex to match numbers that are repeated only three times in a string, each separated by a space."
   ]
  },
  {
   "cell_type": "code",
   "execution_count": null,
   "metadata": {},
   "outputs": [],
   "source": [
    "let repeatNum = \"42 42 42\";\n",
    "let reRegex = /^(\\d+)\\s\\1\\s\\1$/; \n",
    "\n",
    "// this is equal to /^(\\d+)\\s(\\d+)\\s(\\d+)$/\n",
    "\n",
    "let result = reRegex.test(repeatNum);"
   ]
  },
  {
   "cell_type": "markdown",
   "metadata": {},
   "source": [
    "### _Regular Expressions: Use Capture Groups to Search and Replace_"
   ]
  },
  {
   "cell_type": "markdown",
   "metadata": {},
   "source": [
    "- You can search and replace text in a string using `.replace()` on a string. The inputs for `.replace()` is first the regex pattern you want to search for. The second parameter is the string to replace the match or a function to do something."
   ]
  },
  {
   "cell_type": "markdown",
   "metadata": {},
   "source": [
    "- Example 1: "
   ]
  },
  {
   "cell_type": "code",
   "execution_count": null,
   "metadata": {},
   "outputs": [],
   "source": [
    "let wrongText = \"The sky is silver.\";\n",
    "let silverRegex = /silver/;\n",
    "wrongText.replace(silverRegex, \"blue\");\n",
    "// Returns \"The sky is blue.\""
   ]
  },
  {
   "cell_type": "markdown",
   "metadata": {},
   "source": [
    "- Example 2: You can also access capture groups in the replacement string with dollar signs (`$`).m"
   ]
  },
  {
   "cell_type": "code",
   "execution_count": null,
   "metadata": {},
   "outputs": [],
   "source": [
    "\"Code Camp\".replace(/(\\w+)\\s(\\w+)/, '$2 $1');\n",
    "// Returns \"Camp Code\""
   ]
  },
  {
   "cell_type": "markdown",
   "metadata": {},
   "source": [
    "- Example 3: Your regex should change \"one two three\" to \"three two one\""
   ]
  },
  {
   "cell_type": "code",
   "execution_count": null,
   "metadata": {},
   "outputs": [],
   "source": [
    "let str = \"one two three\";\n",
    "let fixRegex = /(\\w+)\\s(\\w+)\\s(\\w+)/; \n",
    "let replaceText = \"$3 $2 $1\"; \n",
    "let result = str.replace(fixRegex, replaceText);"
   ]
  },
  {
   "cell_type": "markdown",
   "metadata": {},
   "source": [
    "### _Regular Expressions: Remove Whitespace from Start and End_"
   ]
  },
  {
   "cell_type": "markdown",
   "metadata": {},
   "source": [
    "- Typical processing of strings is to remove the whitespace at the start and end of it.\n",
    "- Example :\n",
    "    - Write a regex and use the appropriate string methods to remove whitespace at the beginning and end of strings.\n",
    "    - Note: The `String.prototype.trim()` method would work here, but you'll need to complete this challenge using regular expressions."
   ]
  },
  {
   "cell_type": "code",
   "execution_count": null,
   "metadata": {},
   "outputs": [],
   "source": [
    "let hello = \"   Hello, World!  \";\n",
    "let wsRegex = /^\\s+|\\s+$/g; \n",
    "let result = hello.replace(wsRegex, \"\"); \n",
    "console.log(result);"
   ]
  }
 ],
 "metadata": {
  "kernelspec": {
   "display_name": "Python 3",
   "language": "python",
   "name": "python3"
  },
  "language_info": {
   "codemirror_mode": {
    "name": "ipython",
    "version": 3
   },
   "file_extension": ".py",
   "mimetype": "text/x-python",
   "name": "python",
   "nbconvert_exporter": "python",
   "pygments_lexer": "ipython3",
   "version": "3.7.4"
  }
 },
 "nbformat": 4,
 "nbformat_minor": 2
}
